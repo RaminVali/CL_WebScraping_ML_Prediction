{
 "cells": [
  {
   "cell_type": "code",
   "execution_count": 227,
   "metadata": {},
   "outputs": [],
   "source": [
    "import pandas as pd\n",
    "import matplotlib.pyplot as plt"
   ]
  },
  {
   "attachments": {},
   "cell_type": "markdown",
   "metadata": {},
   "source": [
    "# Data Cleaning\n",
    "\n",
    "Need to remove the unusable and redundant columns"
   ]
  },
  {
   "cell_type": "code",
   "execution_count": 228,
   "metadata": {},
   "outputs": [
    {
     "data": {
      "text/html": [
       "<div>\n",
       "<style scoped>\n",
       "    .dataframe tbody tr th:only-of-type {\n",
       "        vertical-align: middle;\n",
       "    }\n",
       "\n",
       "    .dataframe tbody tr th {\n",
       "        vertical-align: top;\n",
       "    }\n",
       "\n",
       "    .dataframe thead th {\n",
       "        text-align: right;\n",
       "    }\n",
       "</style>\n",
       "<table border=\"1\" class=\"dataframe\">\n",
       "  <thead>\n",
       "    <tr style=\"text-align: right;\">\n",
       "      <th></th>\n",
       "      <th>date</th>\n",
       "      <th>time</th>\n",
       "      <th>comp</th>\n",
       "      <th>round</th>\n",
       "      <th>day</th>\n",
       "      <th>venue</th>\n",
       "      <th>result</th>\n",
       "      <th>gf</th>\n",
       "      <th>ga</th>\n",
       "      <th>opponent</th>\n",
       "      <th>...</th>\n",
       "      <th>poss_y</th>\n",
       "      <th>attendance</th>\n",
       "      <th>captain</th>\n",
       "      <th>formation</th>\n",
       "      <th>referee</th>\n",
       "      <th>match report_y</th>\n",
       "      <th>notes</th>\n",
       "      <th>team</th>\n",
       "      <th>season</th>\n",
       "      <th>xg</th>\n",
       "    </tr>\n",
       "  </thead>\n",
       "  <tbody>\n",
       "    <tr>\n",
       "      <th>0</th>\n",
       "      <td>14/09/2020</td>\n",
       "      <td>20:15</td>\n",
       "      <td>Premier League</td>\n",
       "      <td>Matchweek 1</td>\n",
       "      <td>Mon</td>\n",
       "      <td>Away</td>\n",
       "      <td>W</td>\n",
       "      <td>3</td>\n",
       "      <td>1</td>\n",
       "      <td>Brighton</td>\n",
       "      <td>...</td>\n",
       "      <td>48.0</td>\n",
       "      <td>NaN</td>\n",
       "      <td>Jorginho</td>\n",
       "      <td>4-2-2-2</td>\n",
       "      <td>Craig Pawson</td>\n",
       "      <td>Match Report</td>\n",
       "      <td>NaN</td>\n",
       "      <td>Chelsea</td>\n",
       "      <td>2020-2021</td>\n",
       "      <td>NaN</td>\n",
       "    </tr>\n",
       "    <tr>\n",
       "      <th>1</th>\n",
       "      <td>20/09/2020</td>\n",
       "      <td>16:30</td>\n",
       "      <td>Premier League</td>\n",
       "      <td>Matchweek 2</td>\n",
       "      <td>Sun</td>\n",
       "      <td>Home</td>\n",
       "      <td>L</td>\n",
       "      <td>0</td>\n",
       "      <td>2</td>\n",
       "      <td>Liverpool</td>\n",
       "      <td>...</td>\n",
       "      <td>39.0</td>\n",
       "      <td>NaN</td>\n",
       "      <td>Jorginho</td>\n",
       "      <td>4/03/2003</td>\n",
       "      <td>Paul Tierney</td>\n",
       "      <td>Match Report</td>\n",
       "      <td>NaN</td>\n",
       "      <td>Chelsea</td>\n",
       "      <td>2020-2021</td>\n",
       "      <td>NaN</td>\n",
       "    </tr>\n",
       "    <tr>\n",
       "      <th>2</th>\n",
       "      <td>23/09/2020</td>\n",
       "      <td>19:45</td>\n",
       "      <td>EFL Cup</td>\n",
       "      <td>Third round</td>\n",
       "      <td>Wed</td>\n",
       "      <td>Home</td>\n",
       "      <td>W</td>\n",
       "      <td>6</td>\n",
       "      <td>0</td>\n",
       "      <td>Barnsley</td>\n",
       "      <td>...</td>\n",
       "      <td>69.0</td>\n",
       "      <td>NaN</td>\n",
       "      <td>César Azpilicueta</td>\n",
       "      <td>4-2-3-1</td>\n",
       "      <td>Darren Bond</td>\n",
       "      <td>Match Report</td>\n",
       "      <td>NaN</td>\n",
       "      <td>Chelsea</td>\n",
       "      <td>2020-2021</td>\n",
       "      <td>NaN</td>\n",
       "    </tr>\n",
       "    <tr>\n",
       "      <th>3</th>\n",
       "      <td>26/09/2020</td>\n",
       "      <td>17:30</td>\n",
       "      <td>Premier League</td>\n",
       "      <td>Matchweek 3</td>\n",
       "      <td>Sat</td>\n",
       "      <td>Away</td>\n",
       "      <td>D</td>\n",
       "      <td>3</td>\n",
       "      <td>3</td>\n",
       "      <td>West Brom</td>\n",
       "      <td>...</td>\n",
       "      <td>75.0</td>\n",
       "      <td>NaN</td>\n",
       "      <td>Thiago Silva</td>\n",
       "      <td>4-2-3-1</td>\n",
       "      <td>Jonathan Moss</td>\n",
       "      <td>Match Report</td>\n",
       "      <td>NaN</td>\n",
       "      <td>Chelsea</td>\n",
       "      <td>2020-2021</td>\n",
       "      <td>NaN</td>\n",
       "    </tr>\n",
       "    <tr>\n",
       "      <th>4</th>\n",
       "      <td>29/09/2020</td>\n",
       "      <td>19:45</td>\n",
       "      <td>EFL Cup</td>\n",
       "      <td>Fourth round</td>\n",
       "      <td>Tue</td>\n",
       "      <td>Away</td>\n",
       "      <td>D</td>\n",
       "      <td>1 (4)</td>\n",
       "      <td>1 (5)</td>\n",
       "      <td>Tottenham</td>\n",
       "      <td>...</td>\n",
       "      <td>63.0</td>\n",
       "      <td>NaN</td>\n",
       "      <td>César Azpilicueta</td>\n",
       "      <td>4-2-3-1</td>\n",
       "      <td>Lee Mason</td>\n",
       "      <td>Match Report</td>\n",
       "      <td>Tottenham won on penalty kicks following extra...</td>\n",
       "      <td>Chelsea</td>\n",
       "      <td>2020-2021</td>\n",
       "      <td>NaN</td>\n",
       "    </tr>\n",
       "    <tr>\n",
       "      <th>...</th>\n",
       "      <td>...</td>\n",
       "      <td>...</td>\n",
       "      <td>...</td>\n",
       "      <td>...</td>\n",
       "      <td>...</td>\n",
       "      <td>...</td>\n",
       "      <td>...</td>\n",
       "      <td>...</td>\n",
       "      <td>...</td>\n",
       "      <td>...</td>\n",
       "      <td>...</td>\n",
       "      <td>...</td>\n",
       "      <td>...</td>\n",
       "      <td>...</td>\n",
       "      <td>...</td>\n",
       "      <td>...</td>\n",
       "      <td>...</td>\n",
       "      <td>...</td>\n",
       "      <td>...</td>\n",
       "      <td>...</td>\n",
       "      <td>...</td>\n",
       "    </tr>\n",
       "    <tr>\n",
       "      <th>4020</th>\n",
       "      <td>18/01/2023</td>\n",
       "      <td>20:00</td>\n",
       "      <td>Premiership</td>\n",
       "      <td>Regular season</td>\n",
       "      <td>Wed</td>\n",
       "      <td>Away</td>\n",
       "      <td>W</td>\n",
       "      <td>3</td>\n",
       "      <td>2</td>\n",
       "      <td>Kilmarnock</td>\n",
       "      <td>...</td>\n",
       "      <td>78.0</td>\n",
       "      <td>8461.0</td>\n",
       "      <td>James Tavernier</td>\n",
       "      <td>4-2-3-1</td>\n",
       "      <td>Kevin Clancy</td>\n",
       "      <td>Match Report</td>\n",
       "      <td>NaN</td>\n",
       "      <td>Rangers</td>\n",
       "      <td>2022-2023</td>\n",
       "      <td>NaN</td>\n",
       "    </tr>\n",
       "    <tr>\n",
       "      <th>4021</th>\n",
       "      <td>28/01/2023</td>\n",
       "      <td>15:00</td>\n",
       "      <td>Premiership</td>\n",
       "      <td>Regular season</td>\n",
       "      <td>Sat</td>\n",
       "      <td>Home</td>\n",
       "      <td>W</td>\n",
       "      <td>2</td>\n",
       "      <td>0</td>\n",
       "      <td>St Johnstone</td>\n",
       "      <td>...</td>\n",
       "      <td>69.0</td>\n",
       "      <td>49672.0</td>\n",
       "      <td>James Tavernier</td>\n",
       "      <td>4-2-3-1</td>\n",
       "      <td>William Collum</td>\n",
       "      <td>Match Report</td>\n",
       "      <td>NaN</td>\n",
       "      <td>Rangers</td>\n",
       "      <td>2022-2023</td>\n",
       "      <td>NaN</td>\n",
       "    </tr>\n",
       "    <tr>\n",
       "      <th>4022</th>\n",
       "      <td>1/02/2023</td>\n",
       "      <td>19:45</td>\n",
       "      <td>Premiership</td>\n",
       "      <td>Regular season</td>\n",
       "      <td>Wed</td>\n",
       "      <td>Away</td>\n",
       "      <td>W</td>\n",
       "      <td>3</td>\n",
       "      <td>0</td>\n",
       "      <td>Hearts</td>\n",
       "      <td>...</td>\n",
       "      <td>51.0</td>\n",
       "      <td>18330.0</td>\n",
       "      <td>James Tavernier</td>\n",
       "      <td>4-2-3-1</td>\n",
       "      <td>John Beaton</td>\n",
       "      <td>Match Report</td>\n",
       "      <td>NaN</td>\n",
       "      <td>Rangers</td>\n",
       "      <td>2022-2023</td>\n",
       "      <td>NaN</td>\n",
       "    </tr>\n",
       "    <tr>\n",
       "      <th>4023</th>\n",
       "      <td>4/02/2023</td>\n",
       "      <td>15:00</td>\n",
       "      <td>Premiership</td>\n",
       "      <td>Regular season</td>\n",
       "      <td>Sat</td>\n",
       "      <td>Home</td>\n",
       "      <td>W</td>\n",
       "      <td>2</td>\n",
       "      <td>1</td>\n",
       "      <td>Ross County</td>\n",
       "      <td>...</td>\n",
       "      <td>70.0</td>\n",
       "      <td>49115.0</td>\n",
       "      <td>James Tavernier</td>\n",
       "      <td>4-2-3-1</td>\n",
       "      <td>Euan Anderson</td>\n",
       "      <td>Match Report</td>\n",
       "      <td>NaN</td>\n",
       "      <td>Rangers</td>\n",
       "      <td>2022-2023</td>\n",
       "      <td>NaN</td>\n",
       "    </tr>\n",
       "    <tr>\n",
       "      <th>4024</th>\n",
       "      <td>18/02/2023</td>\n",
       "      <td>15:00</td>\n",
       "      <td>Premiership</td>\n",
       "      <td>Regular season</td>\n",
       "      <td>Sat</td>\n",
       "      <td>Away</td>\n",
       "      <td>W</td>\n",
       "      <td>3</td>\n",
       "      <td>0</td>\n",
       "      <td>Livingston</td>\n",
       "      <td>...</td>\n",
       "      <td>65.0</td>\n",
       "      <td>8752.0</td>\n",
       "      <td>James Tavernier</td>\n",
       "      <td>4-2-3-1</td>\n",
       "      <td>David Dickinson</td>\n",
       "      <td>Match Report</td>\n",
       "      <td>NaN</td>\n",
       "      <td>Rangers</td>\n",
       "      <td>2022-2023</td>\n",
       "      <td>NaN</td>\n",
       "    </tr>\n",
       "  </tbody>\n",
       "</table>\n",
       "<p>4025 rows × 236 columns</p>\n",
       "</div>"
      ],
      "text/plain": [
       "            date   time            comp           round  day venue result  \\\n",
       "0     14/09/2020  20:15  Premier League     Matchweek 1  Mon  Away      W   \n",
       "1     20/09/2020  16:30  Premier League     Matchweek 2  Sun  Home      L   \n",
       "2     23/09/2020  19:45         EFL Cup     Third round  Wed  Home      W   \n",
       "3     26/09/2020  17:30  Premier League     Matchweek 3  Sat  Away      D   \n",
       "4     29/09/2020  19:45         EFL Cup    Fourth round  Tue  Away      D   \n",
       "...          ...    ...             ...             ...  ...   ...    ...   \n",
       "4020  18/01/2023  20:00     Premiership  Regular season  Wed  Away      W   \n",
       "4021  28/01/2023  15:00     Premiership  Regular season  Sat  Home      W   \n",
       "4022   1/02/2023  19:45     Premiership  Regular season  Wed  Away      W   \n",
       "4023   4/02/2023  15:00     Premiership  Regular season  Sat  Home      W   \n",
       "4024  18/02/2023  15:00     Premiership  Regular season  Sat  Away      W   \n",
       "\n",
       "         gf     ga      opponent  ...  poss_y  attendance            captain  \\\n",
       "0         3      1      Brighton  ...    48.0         NaN           Jorginho   \n",
       "1         0      2     Liverpool  ...    39.0         NaN           Jorginho   \n",
       "2         6      0      Barnsley  ...    69.0         NaN  César Azpilicueta   \n",
       "3         3      3     West Brom  ...    75.0         NaN       Thiago Silva   \n",
       "4     1 (4)  1 (5)     Tottenham  ...    63.0         NaN  César Azpilicueta   \n",
       "...     ...    ...           ...  ...     ...         ...                ...   \n",
       "4020      3      2    Kilmarnock  ...    78.0      8461.0    James Tavernier   \n",
       "4021      2      0  St Johnstone  ...    69.0     49672.0    James Tavernier   \n",
       "4022      3      0        Hearts  ...    51.0     18330.0    James Tavernier   \n",
       "4023      2      1   Ross County  ...    70.0     49115.0    James Tavernier   \n",
       "4024      3      0    Livingston  ...    65.0      8752.0    James Tavernier   \n",
       "\n",
       "      formation          referee  match report_y  \\\n",
       "0       4-2-2-2     Craig Pawson    Match Report   \n",
       "1     4/03/2003     Paul Tierney    Match Report   \n",
       "2       4-2-3-1      Darren Bond    Match Report   \n",
       "3       4-2-3-1    Jonathan Moss    Match Report   \n",
       "4       4-2-3-1        Lee Mason    Match Report   \n",
       "...         ...              ...             ...   \n",
       "4020    4-2-3-1     Kevin Clancy    Match Report   \n",
       "4021    4-2-3-1   William Collum    Match Report   \n",
       "4022    4-2-3-1      John Beaton    Match Report   \n",
       "4023    4-2-3-1    Euan Anderson    Match Report   \n",
       "4024    4-2-3-1  David Dickinson    Match Report   \n",
       "\n",
       "                                                  notes     team     season  \\\n",
       "0                                                   NaN  Chelsea  2020-2021   \n",
       "1                                                   NaN  Chelsea  2020-2021   \n",
       "2                                                   NaN  Chelsea  2020-2021   \n",
       "3                                                   NaN  Chelsea  2020-2021   \n",
       "4     Tottenham won on penalty kicks following extra...  Chelsea  2020-2021   \n",
       "...                                                 ...      ...        ...   \n",
       "4020                                                NaN  Rangers  2022-2023   \n",
       "4021                                                NaN  Rangers  2022-2023   \n",
       "4022                                                NaN  Rangers  2022-2023   \n",
       "4023                                                NaN  Rangers  2022-2023   \n",
       "4024                                                NaN  Rangers  2022-2023   \n",
       "\n",
       "      xg  \n",
       "0    NaN  \n",
       "1    NaN  \n",
       "2    NaN  \n",
       "3    NaN  \n",
       "4    NaN  \n",
       "...   ..  \n",
       "4020 NaN  \n",
       "4021 NaN  \n",
       "4022 NaN  \n",
       "4023 NaN  \n",
       "4024 NaN  \n",
       "\n",
       "[4025 rows x 236 columns]"
      ]
     },
     "execution_count": 228,
     "metadata": {},
     "output_type": "execute_result"
    }
   ],
   "source": [
    "df = pd.read_csv('all_seasons.csv', index_col=0)\n",
    "df.reset_index(inplace=True, drop = True)\n",
    "df"
   ]
  },
  {
   "cell_type": "code",
   "execution_count": 229,
   "metadata": {},
   "outputs": [
    {
     "data": {
      "text/plain": [
       "(4025, 215)"
      ]
     },
     "execution_count": 229,
     "metadata": {},
     "output_type": "execute_result"
    }
   ],
   "source": [
    "cols_todel = ['ga','match report_x','match report_y','date_opp','time_opp','comp_opp','round_opp','day_opp','venue_opp','result_opp','ga_opp','opponent_opp','xg', 'match report_opp','poss_y', 'comp', 'captain','referee','notes', 'attendance','formation']\n",
    "df.drop(cols_todel, axis=1, inplace=True)\n",
    "df.shape"
   ]
  },
  {
   "attachments": {},
   "cell_type": "markdown",
   "metadata": {},
   "source": [
    "gf = gols for\n",
    "ga = goals against\n",
    "gf_opp = goals or the opponent\n",
    "ga_opp = goals against the opponent. \n",
    "\n",
    "poss = possession, it has got x, y in the merging, will drop one and use the other. \n",
    "\n",
    "Will remove ga and ga_opp as the columns are redundant. \n",
    "\n",
    "Some gf and gf_opp parts have \"()\" in them for aggregate score. I will have to ensure they are processed correctly, I will take the value outside of the parenthesis, as that is the match sore."
   ]
  },
  {
   "cell_type": "code",
   "execution_count": 230,
   "metadata": {},
   "outputs": [
    {
     "data": {
      "text/html": [
       "<div>\n",
       "<style scoped>\n",
       "    .dataframe tbody tr th:only-of-type {\n",
       "        vertical-align: middle;\n",
       "    }\n",
       "\n",
       "    .dataframe tbody tr th {\n",
       "        vertical-align: top;\n",
       "    }\n",
       "\n",
       "    .dataframe thead th {\n",
       "        text-align: right;\n",
       "    }\n",
       "</style>\n",
       "<table border=\"1\" class=\"dataframe\">\n",
       "  <thead>\n",
       "    <tr style=\"text-align: right;\">\n",
       "      <th></th>\n",
       "      <th>date</th>\n",
       "      <th>time</th>\n",
       "      <th>round</th>\n",
       "      <th>day</th>\n",
       "      <th>venue</th>\n",
       "      <th>result</th>\n",
       "      <th>gf</th>\n",
       "      <th>opponent</th>\n",
       "      <th>gls</th>\n",
       "      <th>sh</th>\n",
       "      <th>...</th>\n",
       "      <th>pkwon_opp</th>\n",
       "      <th>pkcon_opp</th>\n",
       "      <th>og_opp</th>\n",
       "      <th>recov_opp</th>\n",
       "      <th>won_opp</th>\n",
       "      <th>won%_opp</th>\n",
       "      <th>xg_y</th>\n",
       "      <th>xga</th>\n",
       "      <th>team</th>\n",
       "      <th>season</th>\n",
       "    </tr>\n",
       "  </thead>\n",
       "  <tbody>\n",
       "    <tr>\n",
       "      <th>0</th>\n",
       "      <td>14/09/2020</td>\n",
       "      <td>20:15</td>\n",
       "      <td>Matchweek 1</td>\n",
       "      <td>Mon</td>\n",
       "      <td>Away</td>\n",
       "      <td>W</td>\n",
       "      <td>3</td>\n",
       "      <td>Brighton</td>\n",
       "      <td>3.0</td>\n",
       "      <td>9.0</td>\n",
       "      <td>...</td>\n",
       "      <td>0.0</td>\n",
       "      <td>1.0</td>\n",
       "      <td>0.0</td>\n",
       "      <td>54.0</td>\n",
       "      <td>10.0</td>\n",
       "      <td>43.5</td>\n",
       "      <td>1.2</td>\n",
       "      <td>1.1</td>\n",
       "      <td>Chelsea</td>\n",
       "      <td>2020-2021</td>\n",
       "    </tr>\n",
       "    <tr>\n",
       "      <th>1</th>\n",
       "      <td>20/09/2020</td>\n",
       "      <td>16:30</td>\n",
       "      <td>Matchweek 2</td>\n",
       "      <td>Sun</td>\n",
       "      <td>Home</td>\n",
       "      <td>L</td>\n",
       "      <td>0</td>\n",
       "      <td>Liverpool</td>\n",
       "      <td>0.0</td>\n",
       "      <td>4.0</td>\n",
       "      <td>...</td>\n",
       "      <td>0.0</td>\n",
       "      <td>1.0</td>\n",
       "      <td>0.0</td>\n",
       "      <td>53.0</td>\n",
       "      <td>3.0</td>\n",
       "      <td>21.4</td>\n",
       "      <td>0.9</td>\n",
       "      <td>2.1</td>\n",
       "      <td>Chelsea</td>\n",
       "      <td>2020-2021</td>\n",
       "    </tr>\n",
       "    <tr>\n",
       "      <th>2</th>\n",
       "      <td>23/09/2020</td>\n",
       "      <td>19:45</td>\n",
       "      <td>Third round</td>\n",
       "      <td>Wed</td>\n",
       "      <td>Home</td>\n",
       "      <td>W</td>\n",
       "      <td>6</td>\n",
       "      <td>Barnsley</td>\n",
       "      <td>6.0</td>\n",
       "      <td>17.0</td>\n",
       "      <td>...</td>\n",
       "      <td>NaN</td>\n",
       "      <td>NaN</td>\n",
       "      <td>0.0</td>\n",
       "      <td>NaN</td>\n",
       "      <td>NaN</td>\n",
       "      <td>NaN</td>\n",
       "      <td>NaN</td>\n",
       "      <td>NaN</td>\n",
       "      <td>Chelsea</td>\n",
       "      <td>2020-2021</td>\n",
       "    </tr>\n",
       "    <tr>\n",
       "      <th>3</th>\n",
       "      <td>26/09/2020</td>\n",
       "      <td>17:30</td>\n",
       "      <td>Matchweek 3</td>\n",
       "      <td>Sat</td>\n",
       "      <td>Away</td>\n",
       "      <td>D</td>\n",
       "      <td>3</td>\n",
       "      <td>West Brom</td>\n",
       "      <td>3.0</td>\n",
       "      <td>22.0</td>\n",
       "      <td>...</td>\n",
       "      <td>0.0</td>\n",
       "      <td>0.0</td>\n",
       "      <td>0.0</td>\n",
       "      <td>48.0</td>\n",
       "      <td>11.0</td>\n",
       "      <td>39.3</td>\n",
       "      <td>2.0</td>\n",
       "      <td>0.6</td>\n",
       "      <td>Chelsea</td>\n",
       "      <td>2020-2021</td>\n",
       "    </tr>\n",
       "    <tr>\n",
       "      <th>4</th>\n",
       "      <td>29/09/2020</td>\n",
       "      <td>19:45</td>\n",
       "      <td>Fourth round</td>\n",
       "      <td>Tue</td>\n",
       "      <td>Away</td>\n",
       "      <td>D</td>\n",
       "      <td>1</td>\n",
       "      <td>Tottenham</td>\n",
       "      <td>1.0</td>\n",
       "      <td>7.0</td>\n",
       "      <td>...</td>\n",
       "      <td>NaN</td>\n",
       "      <td>NaN</td>\n",
       "      <td>0.0</td>\n",
       "      <td>NaN</td>\n",
       "      <td>NaN</td>\n",
       "      <td>NaN</td>\n",
       "      <td>NaN</td>\n",
       "      <td>NaN</td>\n",
       "      <td>Chelsea</td>\n",
       "      <td>2020-2021</td>\n",
       "    </tr>\n",
       "  </tbody>\n",
       "</table>\n",
       "<p>5 rows × 215 columns</p>\n",
       "</div>"
      ],
      "text/plain": [
       "         date   time         round  day venue result gf   opponent  gls    sh  \\\n",
       "0  14/09/2020  20:15   Matchweek 1  Mon  Away      W  3   Brighton  3.0   9.0   \n",
       "1  20/09/2020  16:30   Matchweek 2  Sun  Home      L  0  Liverpool  0.0   4.0   \n",
       "2  23/09/2020  19:45   Third round  Wed  Home      W  6   Barnsley  6.0  17.0   \n",
       "3  26/09/2020  17:30   Matchweek 3  Sat  Away      D  3  West Brom  3.0  22.0   \n",
       "4  29/09/2020  19:45  Fourth round  Tue  Away      D  1  Tottenham  1.0   7.0   \n",
       "\n",
       "   ...  pkwon_opp  pkcon_opp  og_opp  recov_opp  won_opp  won%_opp  xg_y  xga  \\\n",
       "0  ...        0.0        1.0     0.0       54.0     10.0      43.5   1.2  1.1   \n",
       "1  ...        0.0        1.0     0.0       53.0      3.0      21.4   0.9  2.1   \n",
       "2  ...        NaN        NaN     0.0        NaN      NaN       NaN   NaN  NaN   \n",
       "3  ...        0.0        0.0     0.0       48.0     11.0      39.3   2.0  0.6   \n",
       "4  ...        NaN        NaN     0.0        NaN      NaN       NaN   NaN  NaN   \n",
       "\n",
       "      team     season  \n",
       "0  Chelsea  2020-2021  \n",
       "1  Chelsea  2020-2021  \n",
       "2  Chelsea  2020-2021  \n",
       "3  Chelsea  2020-2021  \n",
       "4  Chelsea  2020-2021  \n",
       "\n",
       "[5 rows x 215 columns]"
      ]
     },
     "execution_count": 230,
     "metadata": {},
     "output_type": "execute_result"
    }
   ],
   "source": [
    "df.loc[df[\"gf\"].str.contains(\" \"),'gf'] = df[\"gf\"].str[0] # if the Score column starts with \"(\", then grab the first from left char.\n",
    "df.loc[df[\"gf_opp\"].str.contains(\" \"),'gf_opp'] = df[\"gf_opp\"].str[0]\n",
    "\n",
    "df.head(5)"
   ]
  },
  {
   "attachments": {},
   "cell_type": "markdown",
   "metadata": {},
   "source": [
    "## Encoding string columns\n",
    "\n",
    "- First clean the opponent column before encoding it, the namings are not consistent\n"
   ]
  },
  {
   "cell_type": "code",
   "execution_count": 231,
   "metadata": {},
   "outputs": [
    {
     "data": {
      "text/plain": [
       "521"
      ]
     },
     "execution_count": 231,
     "metadata": {},
     "output_type": "execute_result"
    }
   ],
   "source": [
    "len(df['opponent'].unique())"
   ]
  },
  {
   "cell_type": "code",
   "execution_count": 232,
   "metadata": {},
   "outputs": [],
   "source": [
    "df['opponent'] = df['opponent'].apply(lambda x: x[3:].lstrip() if x[0].islower() else x)  # If the format of the name starts with small letters, that is the country code. "
   ]
  },
  {
   "cell_type": "code",
   "execution_count": 233,
   "metadata": {},
   "outputs": [
    {
     "data": {
      "text/plain": [
       "457"
      ]
     },
     "execution_count": 233,
     "metadata": {},
     "output_type": "execute_result"
    }
   ],
   "source": [
    "len(df['opponent'].unique())"
   ]
  },
  {
   "attachments": {},
   "cell_type": "markdown",
   "metadata": {},
   "source": [
    "Now encode the rest of the information rich categorical columns."
   ]
  },
  {
   "cell_type": "code",
   "execution_count": 234,
   "metadata": {},
   "outputs": [
    {
     "data": {
      "text/html": [
       "<div>\n",
       "<style scoped>\n",
       "    .dataframe tbody tr th:only-of-type {\n",
       "        vertical-align: middle;\n",
       "    }\n",
       "\n",
       "    .dataframe tbody tr th {\n",
       "        vertical-align: top;\n",
       "    }\n",
       "\n",
       "    .dataframe thead th {\n",
       "        text-align: right;\n",
       "    }\n",
       "</style>\n",
       "<table border=\"1\" class=\"dataframe\">\n",
       "  <thead>\n",
       "    <tr style=\"text-align: right;\">\n",
       "      <th></th>\n",
       "      <th>date</th>\n",
       "      <th>time</th>\n",
       "      <th>round</th>\n",
       "      <th>day</th>\n",
       "      <th>venue</th>\n",
       "      <th>result</th>\n",
       "      <th>gf</th>\n",
       "      <th>opponent</th>\n",
       "      <th>gls</th>\n",
       "      <th>sh</th>\n",
       "      <th>...</th>\n",
       "      <th>won_opp</th>\n",
       "      <th>won%_opp</th>\n",
       "      <th>xg_y</th>\n",
       "      <th>xga</th>\n",
       "      <th>team</th>\n",
       "      <th>season</th>\n",
       "      <th>venue_code</th>\n",
       "      <th>opp_code</th>\n",
       "      <th>hour</th>\n",
       "      <th>day_code</th>\n",
       "    </tr>\n",
       "  </thead>\n",
       "  <tbody>\n",
       "    <tr>\n",
       "      <th>0</th>\n",
       "      <td>2020-09-14</td>\n",
       "      <td>20:15</td>\n",
       "      <td>Matchweek 1</td>\n",
       "      <td>Mon</td>\n",
       "      <td>Away</td>\n",
       "      <td>W</td>\n",
       "      <td>3</td>\n",
       "      <td>Brighton</td>\n",
       "      <td>3.0</td>\n",
       "      <td>9.0</td>\n",
       "      <td>...</td>\n",
       "      <td>10.0</td>\n",
       "      <td>43.5</td>\n",
       "      <td>1.2</td>\n",
       "      <td>1.1</td>\n",
       "      <td>Chelsea</td>\n",
       "      <td>2020-2021</td>\n",
       "      <td>0</td>\n",
       "      <td>71</td>\n",
       "      <td>20</td>\n",
       "      <td>0</td>\n",
       "    </tr>\n",
       "    <tr>\n",
       "      <th>1</th>\n",
       "      <td>2020-09-20</td>\n",
       "      <td>16:30</td>\n",
       "      <td>Matchweek 2</td>\n",
       "      <td>Sun</td>\n",
       "      <td>Home</td>\n",
       "      <td>L</td>\n",
       "      <td>0</td>\n",
       "      <td>Liverpool</td>\n",
       "      <td>0.0</td>\n",
       "      <td>4.0</td>\n",
       "      <td>...</td>\n",
       "      <td>3.0</td>\n",
       "      <td>21.4</td>\n",
       "      <td>0.9</td>\n",
       "      <td>2.1</td>\n",
       "      <td>Chelsea</td>\n",
       "      <td>2020-2021</td>\n",
       "      <td>1</td>\n",
       "      <td>227</td>\n",
       "      <td>16</td>\n",
       "      <td>6</td>\n",
       "    </tr>\n",
       "    <tr>\n",
       "      <th>2</th>\n",
       "      <td>2020-09-23</td>\n",
       "      <td>19:45</td>\n",
       "      <td>Third round</td>\n",
       "      <td>Wed</td>\n",
       "      <td>Home</td>\n",
       "      <td>W</td>\n",
       "      <td>6</td>\n",
       "      <td>Barnsley</td>\n",
       "      <td>6.0</td>\n",
       "      <td>17.0</td>\n",
       "      <td>...</td>\n",
       "      <td>NaN</td>\n",
       "      <td>NaN</td>\n",
       "      <td>NaN</td>\n",
       "      <td>NaN</td>\n",
       "      <td>Chelsea</td>\n",
       "      <td>2020-2021</td>\n",
       "      <td>1</td>\n",
       "      <td>49</td>\n",
       "      <td>19</td>\n",
       "      <td>2</td>\n",
       "    </tr>\n",
       "    <tr>\n",
       "      <th>3</th>\n",
       "      <td>2020-09-26</td>\n",
       "      <td>17:30</td>\n",
       "      <td>Matchweek 3</td>\n",
       "      <td>Sat</td>\n",
       "      <td>Away</td>\n",
       "      <td>D</td>\n",
       "      <td>3</td>\n",
       "      <td>West Brom</td>\n",
       "      <td>3.0</td>\n",
       "      <td>22.0</td>\n",
       "      <td>...</td>\n",
       "      <td>11.0</td>\n",
       "      <td>39.3</td>\n",
       "      <td>2.0</td>\n",
       "      <td>0.6</td>\n",
       "      <td>Chelsea</td>\n",
       "      <td>2020-2021</td>\n",
       "      <td>0</td>\n",
       "      <td>433</td>\n",
       "      <td>17</td>\n",
       "      <td>5</td>\n",
       "    </tr>\n",
       "    <tr>\n",
       "      <th>4</th>\n",
       "      <td>2020-09-29</td>\n",
       "      <td>19:45</td>\n",
       "      <td>Fourth round</td>\n",
       "      <td>Tue</td>\n",
       "      <td>Away</td>\n",
       "      <td>D</td>\n",
       "      <td>1</td>\n",
       "      <td>Tottenham</td>\n",
       "      <td>1.0</td>\n",
       "      <td>7.0</td>\n",
       "      <td>...</td>\n",
       "      <td>NaN</td>\n",
       "      <td>NaN</td>\n",
       "      <td>NaN</td>\n",
       "      <td>NaN</td>\n",
       "      <td>Chelsea</td>\n",
       "      <td>2020-2021</td>\n",
       "      <td>0</td>\n",
       "      <td>393</td>\n",
       "      <td>19</td>\n",
       "      <td>1</td>\n",
       "    </tr>\n",
       "  </tbody>\n",
       "</table>\n",
       "<p>5 rows × 219 columns</p>\n",
       "</div>"
      ],
      "text/plain": [
       "        date   time         round  day venue result gf   opponent  gls    sh  \\\n",
       "0 2020-09-14  20:15   Matchweek 1  Mon  Away      W  3   Brighton  3.0   9.0   \n",
       "1 2020-09-20  16:30   Matchweek 2  Sun  Home      L  0  Liverpool  0.0   4.0   \n",
       "2 2020-09-23  19:45   Third round  Wed  Home      W  6   Barnsley  6.0  17.0   \n",
       "3 2020-09-26  17:30   Matchweek 3  Sat  Away      D  3  West Brom  3.0  22.0   \n",
       "4 2020-09-29  19:45  Fourth round  Tue  Away      D  1  Tottenham  1.0   7.0   \n",
       "\n",
       "   ...  won_opp  won%_opp  xg_y  xga     team     season  venue_code  \\\n",
       "0  ...     10.0      43.5   1.2  1.1  Chelsea  2020-2021           0   \n",
       "1  ...      3.0      21.4   0.9  2.1  Chelsea  2020-2021           1   \n",
       "2  ...      NaN       NaN   NaN  NaN  Chelsea  2020-2021           1   \n",
       "3  ...     11.0      39.3   2.0  0.6  Chelsea  2020-2021           0   \n",
       "4  ...      NaN       NaN   NaN  NaN  Chelsea  2020-2021           0   \n",
       "\n",
       "   opp_code  hour  day_code  \n",
       "0        71    20         0  \n",
       "1       227    16         6  \n",
       "2        49    19         2  \n",
       "3       433    17         5  \n",
       "4       393    19         1  \n",
       "\n",
       "[5 rows x 219 columns]"
      ]
     },
     "execution_count": 234,
     "metadata": {},
     "output_type": "execute_result"
    }
   ],
   "source": [
    "df['date'] = pd.to_datetime(df['date'],dayfirst=True)\n",
    "df[\"venue_code\"] = df[\"venue\"].astype(\"category\").cat.codes\n",
    "df[\"opp_code\"] = df[\"opponent\"].astype(\"category\").cat.codes #\n",
    "df[\"hour\"] = df[\"time\"].str.replace(\":.+\", \"\", regex=True).astype(\"int\")\n",
    "df[\"day_code\"] = df[\"date\"].dt.dayofweek\n",
    "df.head()"
   ]
  },
  {
   "attachments": {},
   "cell_type": "markdown",
   "metadata": {},
   "source": [
    "## Missing Data\n",
    "Deleting rows that are missing a lot of stats. Already have very high dimensionality, and not enough data or this many dimensions, so wil remove some of the stat columns. Let us have a visual on the missing values in all the columns. "
   ]
  },
  {
   "cell_type": "code",
   "execution_count": 235,
   "metadata": {},
   "outputs": [
    {
     "data": {
      "text/plain": [
       "(4025, 219)"
      ]
     },
     "execution_count": 235,
     "metadata": {},
     "output_type": "execute_result"
    },
    {
     "data": {
      "image/png": "[encoded data removed]",
      "text/plain": [
       "<Figure size 640x480 with 1 Axes>"
      ]
     },
     "metadata": {},
     "output_type": "display_data"
    }
   ],
   "source": [
    "missing = pd.DataFrame(df.isnull().sum().sort_values(ascending=False))\n",
    "missing.rename(columns={0:'missing_val'}, inplace=True)\n",
    "missing[missing['missing_val']>0].plot.bar()\n",
    "\n",
    "df.shape"
   ]
  },
  {
   "attachments": {},
   "cell_type": "markdown",
   "metadata": {},
   "source": [
    "We can see that the number of missing values drops down in a step function. So we delete the columns that have over 300 missing values and the rows for anything less than that. This is the sweet spot as deleting more columns or rows will impact the quality of our data. \n",
    "Also, the relationship between various features in football matches is highly (e.g the opponent team) so imputation is not the answer here as it may affect the quality of the data too much."
   ]
  },
  {
   "cell_type": "code",
   "execution_count": 236,
   "metadata": {},
   "outputs": [
    {
     "data": {
      "text/plain": [
       "(4025, 64)"
      ]
     },
     "execution_count": 236,
     "metadata": {},
     "output_type": "execute_result"
    }
   ],
   "source": [
    "cols_todel = missing[missing['missing_val']>300].index\n",
    "df.drop(list(cols_todel), axis=1, inplace=True)\n",
    "df.shape"
   ]
  },
  {
   "attachments": {},
   "cell_type": "markdown",
   "metadata": {},
   "source": [
    "Of course if one is interested, one can use these columns with the rows that have them, but I choose to have lower dimensionality and more data rows. "
   ]
  },
  {
   "cell_type": "code",
   "execution_count": 237,
   "metadata": {},
   "outputs": [
    {
     "data": {
      "text/plain": [
       "(3643, 64)"
      ]
     },
     "execution_count": 237,
     "metadata": {},
     "output_type": "execute_result"
    }
   ],
   "source": [
    "df = df.dropna(axis = 0) #drop rows with missing values\n",
    "# df = df.reset_index(drop=True)\n",
    "df.shape # and no missing values."
   ]
  },
  {
   "attachments": {},
   "cell_type": "markdown",
   "metadata": {},
   "source": [
    "Everything that has to be numeric is already numeric. Let us make a target variable first."
   ]
  },
  {
   "attachments": {},
   "cell_type": "markdown",
   "metadata": {},
   "source": [
    "## Setting up the target column"
   ]
  },
  {
   "cell_type": "code",
   "execution_count": 238,
   "metadata": {},
   "outputs": [
    {
     "data": {
      "text/plain": [
       "W    2089\n",
       "L     813\n",
       "D     741\n",
       "Name: result, dtype: int64"
      ]
     },
     "execution_count": 238,
     "metadata": {},
     "output_type": "execute_result"
    }
   ],
   "source": [
    "df['result'].value_counts()"
   ]
  },
  {
   "attachments": {},
   "cell_type": "markdown",
   "metadata": {},
   "source": [
    "As can be seen from above, the result column is not balanced. Also, according to our brief of predicting if the game is going ot be a win or \"not\", we will have a binary target column, the result is either a win or loss. Te reason the number of wins is a lot higher than the losses and draws is that these tea have qualified for the Champions League. The qualifying teams win the majority of their games in the domestic leagues as well. "
   ]
  },
  {
   "cell_type": "code",
   "execution_count": 239,
   "metadata": {},
   "outputs": [],
   "source": [
    "df = df.sort_values(\"date\")\n",
    "#df['season'] = df['season'].str[0:4].astype('int')\n",
    "#del df['index']\n",
    "df=df.reset_index(drop=True)"
   ]
  },
  {
   "cell_type": "code",
   "execution_count": 240,
   "metadata": {},
   "outputs": [
    {
     "data": {
      "text/plain": [
       "venue\n",
       "Away       0.526864\n",
       "Home       0.622284\n",
       "Neutral    0.458333\n",
       "dtype: float64"
      ]
     },
     "execution_count": 240,
     "metadata": {},
     "output_type": "execute_result"
    }
   ],
   "source": [
    "df.groupby([\"venue\"]).apply(lambda x: x[x[\"result\"] == 'W'].shape[0]/ x.shape[0])"
   ]
  },
  {
   "cell_type": "code",
   "execution_count": 241,
   "metadata": {},
   "outputs": [
    {
     "data": {
      "text/plain": [
       "Away       1824\n",
       "Home       1795\n",
       "Neutral      24\n",
       "Name: venue, dtype: int64"
      ]
     },
     "execution_count": 241,
     "metadata": {},
     "output_type": "execute_result"
    }
   ],
   "source": [
    "df.venue.value_counts() # this is not balanced. Have to drop the venues that are neutral. It is only 24 rows. "
   ]
  },
  {
   "cell_type": "code",
   "execution_count": 242,
   "metadata": {},
   "outputs": [],
   "source": [
    "df = df.loc[df['venue']!='Neutral'] # dropping venue = neutral. "
   ]
  },
  {
   "cell_type": "code",
   "execution_count": 243,
   "metadata": {},
   "outputs": [
    {
     "data": {
      "text/plain": [
       "venue\n",
       "Away    0.526864\n",
       "Home    0.622284\n",
       "dtype: float64"
      ]
     },
     "execution_count": 243,
     "metadata": {},
     "output_type": "execute_result"
    }
   ],
   "source": [
    "df.groupby([\"venue\"]).apply(lambda x: x[x[\"result\"] == 'W'].shape[0]/ x.shape[0]) # So in %62 of the cases, the team wins their home games, as opposed to onl 52% of their away games. \n",
    "# This is our benchmark."
   ]
  },
  {
   "cell_type": "code",
   "execution_count": 244,
   "metadata": {},
   "outputs": [],
   "source": [
    "df['target'] = (df['result'] == \"W\").astype(\"int\")"
   ]
  },
  {
   "attachments": {},
   "cell_type": "markdown",
   "metadata": {},
   "source": [
    "# Prediction Using Machine Learning"
   ]
  },
  {
   "cell_type": "code",
   "execution_count": 245,
   "metadata": {},
   "outputs": [],
   "source": [
    "from sklearn.ensemble import RandomForestClassifier\n",
    "from sklearn.metrics import accuracy_score"
   ]
  },
  {
   "cell_type": "code",
   "execution_count": 246,
   "metadata": {},
   "outputs": [],
   "source": [
    "predictors = [\"venue_code\", \"opp_code\", \"hour\", \"day_code\"] # initial predictors. "
   ]
  },
  {
   "cell_type": "code",
   "execution_count": 247,
   "metadata": {},
   "outputs": [
    {
     "name": "stdout",
     "output_type": "stream",
     "text": [
      "(2503, 65)\n",
      "(1105, 65)\n",
      "accuracy_score = 0.539366515837104\n"
     ]
    }
   ],
   "source": [
    "rf = RandomForestClassifier(n_estimators=500, min_samples_split=2, random_state=1, class_weight='balanced')\n",
    "\n",
    "train = df[df['date']< \"2022-04-16\"] # Using 70% of the rows for training and 30% for testing. cannot do splits since we cannot use future data to predict past games. \n",
    "test = df[df['date']> \"2022-04-16\"]\n",
    "\n",
    "rf.fit(train[predictors],train['target'])\n",
    "\n",
    "predictions = rf.predict(test[predictors])\n",
    "\n",
    "print(train.shape)\n",
    "print(test.shape)\n",
    "\n",
    "accuracy_score(test[\"target\"],predictions)\n",
    "\n",
    "print('accuracy_score =' ,accuracy_score(test[\"target\"],predictions))"
   ]
  },
  {
   "cell_type": "code",
   "execution_count": 248,
   "metadata": {},
   "outputs": [
    {
     "data": {
      "text/html": [
       "<div>\n",
       "<style scoped>\n",
       "    .dataframe tbody tr th:only-of-type {\n",
       "        vertical-align: middle;\n",
       "    }\n",
       "\n",
       "    .dataframe tbody tr th {\n",
       "        vertical-align: top;\n",
       "    }\n",
       "\n",
       "    .dataframe thead th {\n",
       "        text-align: right;\n",
       "    }\n",
       "</style>\n",
       "<table border=\"1\" class=\"dataframe\">\n",
       "  <thead>\n",
       "    <tr style=\"text-align: right;\">\n",
       "      <th>predicted</th>\n",
       "      <th>0</th>\n",
       "      <th>1</th>\n",
       "    </tr>\n",
       "    <tr>\n",
       "      <th>actual</th>\n",
       "      <th></th>\n",
       "      <th></th>\n",
       "    </tr>\n",
       "  </thead>\n",
       "  <tbody>\n",
       "    <tr>\n",
       "      <th>0</th>\n",
       "      <td>232</td>\n",
       "      <td>228</td>\n",
       "    </tr>\n",
       "    <tr>\n",
       "      <th>1</th>\n",
       "      <td>281</td>\n",
       "      <td>364</td>\n",
       "    </tr>\n",
       "  </tbody>\n",
       "</table>\n",
       "</div>"
      ],
      "text/plain": [
       "predicted    0    1\n",
       "actual             \n",
       "0          232  228\n",
       "1          281  364"
      ]
     },
     "execution_count": 248,
     "metadata": {},
     "output_type": "execute_result"
    }
   ],
   "source": [
    "combined = pd.DataFrame(dict(actual=test[\"target\"], predicted=predictions))\n",
    "pd.crosstab(index=combined[\"actual\"], columns=combined[\"predicted\"])"
   ]
  },
  {
   "attachments": {},
   "cell_type": "markdown",
   "metadata": {},
   "source": [
    "Accuracy score here is not a good measure, we use precision score as we have false positives and false negatives. 0 is a loss and 1 is a win. "
   ]
  },
  {
   "cell_type": "code",
   "execution_count": 249,
   "metadata": {},
   "outputs": [
    {
     "data": {
      "text/plain": [
       "array([0.45224172, 0.61486486])"
      ]
     },
     "execution_count": 249,
     "metadata": {},
     "output_type": "execute_result"
    }
   ],
   "source": [
    "from sklearn.metrics import precision_score\n",
    "\n",
    "precision_score(test[\"target\"], predictions, average = None) # this shows that we predict %46 for away games and %62 for home games. We need to improve on this."
   ]
  },
  {
   "cell_type": "code",
   "execution_count": 250,
   "metadata": {},
   "outputs": [
    {
     "data": {
      "text/plain": [
       "0.547166540200596"
      ]
     },
     "execution_count": 250,
     "metadata": {},
     "output_type": "execute_result"
    }
   ],
   "source": [
    "precision_score(test[\"target\"], predictions, average = 'weighted')"
   ]
  },
  {
   "attachments": {},
   "cell_type": "markdown",
   "metadata": {},
   "source": [
    "#### Feature engineering\n",
    "We need to use the rest of the statistics we have to see if we can improve our model. Hence we introduce rolling averages of statistics from previous games as prediction metrics. We have to be careful not to feed any information to the model for predicting a game when we won't have the information. Yu cannot have goals for in the predictors, as that information is known after the game! "
   ]
  },
  {
   "cell_type": "code",
   "execution_count": 251,
   "metadata": {},
   "outputs": [],
   "source": [
    "def rolling_averages(group, cols, new_cols):\n",
    "    group = group.sort_values(\"date\")\n",
    "    rolling_stats = group[cols].rolling(5,closed=\"left\").mean() # closed = left -> to avoid data leakage from future matches\n",
    "    group[new_cols] = rolling_stats\n",
    "    group = group.dropna(subset = new_cols)\n",
    "    return group"
   ]
  },
  {
   "cell_type": "code",
   "execution_count": 252,
   "metadata": {},
   "outputs": [],
   "source": [
    "def make_predictions(data, predictors):\n",
    "    rf = RandomForestClassifier(n_estimators=500, min_samples_split=2, random_state=1)\n",
    "\n",
    "    train = data[data['date']< \"2022-03-16\"] # Data in order of date use 70% for training\n",
    "    test = data[data['date']> \"2022-03-16\"]\n",
    "\n",
    "    rf.fit(train[predictors],train['target'])\n",
    "\n",
    "    predictions = rf.predict(test[predictors])\n",
    "\n",
    "    combined = pd.DataFrame(dict(actual=test[\"target\"], predicted=predictions))\n",
    "\n",
    "    precision_weight = precision_score(test[\"target\"], predictions, average = 'weighted')\n",
    "    precision_raw = precision_score(test[\"target\"], predictions, average = None)\n",
    "\n",
    "    return combined, precision_weight, precision_raw, rf.feature_importances_, rf"
   ]
  },
  {
   "attachments": {},
   "cell_type": "markdown",
   "metadata": {},
   "source": [
    "### Trying some features based on domain knowledge."
   ]
  },
  {
   "cell_type": "code",
   "execution_count": 253,
   "metadata": {},
   "outputs": [
    {
     "name": "stdout",
     "output_type": "stream",
     "text": [
      "The raw precision [Away, Home] is: [0.57236842 0.63428571]\n",
      "The weighted precision is: 0.6083424209378407\n"
     ]
    }
   ],
   "source": [
    "cols = ['gls','gls_opp','gf','gf_opp','sh', 'sot','g/sh','save%_opp','tkl+int','poss_x'] # Choosing based on domain knowledge.\n",
    "new_cols = [f\"{c}_rolling\" for c in cols] # add_rolling to column names\n",
    "\n",
    "df_rolling = df.groupby('team').apply(lambda x: rolling_averages(x,cols,new_cols))\n",
    "df_rolling = df_rolling.droplevel('team')\n",
    "\n",
    "combined, precision_weight, precision_raw, importances, rf = make_predictions (df_rolling, predictors+new_cols)\n",
    "\n",
    "print(\"The raw precision [Away, Home] is:\",precision_raw)\n",
    "print(\"The weighted precision is:\", precision_weight)"
   ]
  },
  {
   "cell_type": "code",
   "execution_count": 254,
   "metadata": {},
   "outputs": [
    {
     "data": {
      "text/plain": [
       "venue\n",
       "Away    0.526864\n",
       "Home    0.622284\n",
       "dtype: float64"
      ]
     },
     "execution_count": 254,
     "metadata": {},
     "output_type": "execute_result"
    }
   ],
   "source": [
    "df.groupby([\"venue\"]).apply(lambda x: x[x[\"result\"] == 'W'].shape[0]/ x.shape[0]) # What we get by predicting home wins, i.e. %62 of the home games are won and %52 of the away games. "
   ]
  },
  {
   "attachments": {},
   "cell_type": "markdown",
   "metadata": {},
   "source": [
    "We are already over the benchmark with the above stats, but we will try and improve. "
   ]
  },
  {
   "cell_type": "code",
   "execution_count": 255,
   "metadata": {},
   "outputs": [
    {
     "data": {
      "text/html": [
       "<div>\n",
       "<style scoped>\n",
       "    .dataframe tbody tr th:only-of-type {\n",
       "        vertical-align: middle;\n",
       "    }\n",
       "\n",
       "    .dataframe tbody tr th {\n",
       "        vertical-align: top;\n",
       "    }\n",
       "\n",
       "    .dataframe thead th {\n",
       "        text-align: right;\n",
       "    }\n",
       "</style>\n",
       "<table border=\"1\" class=\"dataframe\">\n",
       "  <thead>\n",
       "    <tr style=\"text-align: right;\">\n",
       "      <th>predicted</th>\n",
       "      <th>0</th>\n",
       "      <th>1</th>\n",
       "    </tr>\n",
       "    <tr>\n",
       "      <th>actual</th>\n",
       "      <th></th>\n",
       "      <th></th>\n",
       "    </tr>\n",
       "  </thead>\n",
       "  <tbody>\n",
       "    <tr>\n",
       "      <th>0</th>\n",
       "      <td>174</td>\n",
       "      <td>320</td>\n",
       "    </tr>\n",
       "    <tr>\n",
       "      <th>1</th>\n",
       "      <td>130</td>\n",
       "      <td>555</td>\n",
       "    </tr>\n",
       "  </tbody>\n",
       "</table>\n",
       "</div>"
      ],
      "text/plain": [
       "predicted    0    1\n",
       "actual             \n",
       "0          174  320\n",
       "1          130  555"
      ]
     },
     "execution_count": 255,
     "metadata": {},
     "output_type": "execute_result"
    }
   ],
   "source": [
    "pd.crosstab(index=combined[\"actual\"], columns=combined[\"predicted\"])"
   ]
  },
  {
   "cell_type": "code",
   "execution_count": 256,
   "metadata": {},
   "outputs": [
    {
     "data": {
      "image/png": "[encoded data removed]",
      "text/plain": [
       "<Figure size 640x480 with 1 Axes>"
      ]
     },
     "metadata": {},
     "output_type": "display_data"
    }
   ],
   "source": [
    "importance = pd.Series(data=importances,\n",
    "                        index=  predictors+new_cols)\n",
    "# Sort importances\n",
    "importances_sorted = importance.sort_values()\n",
    "# Draw a horizontal barplot of importances_sorted\n",
    "importances_sorted.plot(kind='barh', color='blue')\n",
    "plt.title('Features Importances')\n",
    "plt.show()"
   ]
  },
  {
   "attachments": {},
   "cell_type": "markdown",
   "metadata": {},
   "source": [
    "### Using all the columns by getting a rolling average for them. "
   ]
  },
  {
   "cell_type": "code",
   "execution_count": 257,
   "metadata": {},
   "outputs": [
    {
     "data": {
      "text/plain": [
       "['venue_code', 'opp_code', 'hour', 'day_code']"
      ]
     },
     "execution_count": 257,
     "metadata": {},
     "output_type": "execute_result"
    }
   ],
   "source": [
    "predictors"
   ]
  },
  {
   "cell_type": "code",
   "execution_count": 258,
   "metadata": {},
   "outputs": [
    {
     "name": "stdout",
     "output_type": "stream",
     "text": [
      "[0.62910798 0.62732919]\n",
      "0.628074503492294\n"
     ]
    }
   ],
   "source": [
    "cols = ['gf',\n",
    "       'gls', 'sh', 'sot', 'sot%', 'g/sh', 'pk', 'pkatt', 'gf_opp', 'gls_opp',\n",
    "       'sh_opp', 'sot_opp', 'sot%_opp', 'g/sh_opp', 'pk_opp', 'pkatt_opp',\n",
    "       'sota', 'saves', 'cs', 'pka', 'pksv', 'pkm', 'sota_opp', 'saves_opp',\n",
    "       'save%_opp', 'cs_opp', 'pka_opp', 'pksv_opp', 'pkm_opp', 'ast',\n",
    "       'ast_opp', 'crs', 'crs_opp', 'tklw', 'int', 'tkl+int', 'tklw_opp',\n",
    "       'int_opp', 'tkl+int_opp', 'poss_x', 'poss_opp', 'crdy', 'crdr', '2crdy',\n",
    "       'fls', 'og', 'crdy_opp', 'crdr_opp', '2crdy_opp', 'fls_opp', 'og_opp',\n",
    "       ]\n",
    "\n",
    "rolling_cols = [f\"{c}_rolling\" for c in cols] # add_rolling to column names\n",
    "\n",
    "df_rolling = df.groupby('team').apply(lambda x: rolling_averages(x,cols,rolling_cols))\n",
    "df_rolling = df_rolling.droplevel('team')\n",
    "\n",
    "all_cols = rolling_cols+predictors\n",
    "\n",
    "combined, precision_weight, precision_raw, importances, rf = make_predictions (df_rolling, all_cols)\n",
    "\n",
    "print(precision_raw)\n",
    "print(precision_weight)"
   ]
  },
  {
   "cell_type": "code",
   "execution_count": 259,
   "metadata": {},
   "outputs": [
    {
     "data": {
      "image/png": "[encoded data removed]",
      "text/plain": [
       "<Figure size 640x480 with 1 Axes>"
      ]
     },
     "metadata": {},
     "output_type": "display_data"
    }
   ],
   "source": [
    "importance = pd.Series(data=importances,\n",
    "                        index=  all_cols)\n",
    "# Sort importances\n",
    "importances_sorted = importance.sort_values()\n",
    "# Draw a horizontal barplot of importances_sorted\n",
    "importances_sorted.plot(kind='barh', color='blue')\n",
    "plt.title('Features Importances')\n",
    "plt.show()"
   ]
  },
  {
   "attachments": {},
   "cell_type": "markdown",
   "metadata": {},
   "source": [
    "### We rank the features based on their importance, and then we discard the east important ones. "
   ]
  },
  {
   "cell_type": "code",
   "execution_count": 260,
   "metadata": {},
   "outputs": [
    {
     "data": {
      "text/html": [
       "<div>\n",
       "<style scoped>\n",
       "    .dataframe tbody tr th:only-of-type {\n",
       "        vertical-align: middle;\n",
       "    }\n",
       "\n",
       "    .dataframe tbody tr th {\n",
       "        vertical-align: top;\n",
       "    }\n",
       "\n",
       "    .dataframe thead th {\n",
       "        text-align: right;\n",
       "    }\n",
       "</style>\n",
       "<table border=\"1\" class=\"dataframe\">\n",
       "  <thead>\n",
       "    <tr style=\"text-align: right;\">\n",
       "      <th></th>\n",
       "      <th>imp_vals</th>\n",
       "    </tr>\n",
       "  </thead>\n",
       "  <tbody>\n",
       "    <tr>\n",
       "      <th>pkm_rolling</th>\n",
       "      <td>0.001426</td>\n",
       "    </tr>\n",
       "    <tr>\n",
       "      <th>pkm_opp_rolling</th>\n",
       "      <td>0.001877</td>\n",
       "    </tr>\n",
       "    <tr>\n",
       "      <th>pksv_rolling</th>\n",
       "      <td>0.003029</td>\n",
       "    </tr>\n",
       "    <tr>\n",
       "      <th>og_rolling</th>\n",
       "      <td>0.003314</td>\n",
       "    </tr>\n",
       "    <tr>\n",
       "      <th>2crdy_rolling</th>\n",
       "      <td>0.003668</td>\n",
       "    </tr>\n",
       "    <tr>\n",
       "      <th>pksv_opp_rolling</th>\n",
       "      <td>0.003802</td>\n",
       "    </tr>\n",
       "    <tr>\n",
       "      <th>2crdy_opp_rolling</th>\n",
       "      <td>0.003803</td>\n",
       "    </tr>\n",
       "    <tr>\n",
       "      <th>og_opp_rolling</th>\n",
       "      <td>0.004398</td>\n",
       "    </tr>\n",
       "    <tr>\n",
       "      <th>crdr_rolling</th>\n",
       "      <td>0.005210</td>\n",
       "    </tr>\n",
       "    <tr>\n",
       "      <th>pk_opp_rolling</th>\n",
       "      <td>0.005317</td>\n",
       "    </tr>\n",
       "    <tr>\n",
       "      <th>pka_rolling</th>\n",
       "      <td>0.005565</td>\n",
       "    </tr>\n",
       "    <tr>\n",
       "      <th>pkatt_opp_rolling</th>\n",
       "      <td>0.006620</td>\n",
       "    </tr>\n",
       "    <tr>\n",
       "      <th>crdr_opp_rolling</th>\n",
       "      <td>0.006639</td>\n",
       "    </tr>\n",
       "    <tr>\n",
       "      <th>cs_opp_rolling</th>\n",
       "      <td>0.007061</td>\n",
       "    </tr>\n",
       "    <tr>\n",
       "      <th>pka_opp_rolling</th>\n",
       "      <td>0.007269</td>\n",
       "    </tr>\n",
       "    <tr>\n",
       "      <th>pk_rolling</th>\n",
       "      <td>0.007293</td>\n",
       "    </tr>\n",
       "    <tr>\n",
       "      <th>pkatt_rolling</th>\n",
       "      <td>0.008344</td>\n",
       "    </tr>\n",
       "    <tr>\n",
       "      <th>cs_rolling</th>\n",
       "      <td>0.009464</td>\n",
       "    </tr>\n",
       "    <tr>\n",
       "      <th>venue_code</th>\n",
       "      <td>0.009568</td>\n",
       "    </tr>\n",
       "    <tr>\n",
       "      <th>ast_opp_rolling</th>\n",
       "      <td>0.016404</td>\n",
       "    </tr>\n",
       "    <tr>\n",
       "      <th>gls_opp_rolling</th>\n",
       "      <td>0.016788</td>\n",
       "    </tr>\n",
       "    <tr>\n",
       "      <th>day_code</th>\n",
       "      <td>0.016960</td>\n",
       "    </tr>\n",
       "    <tr>\n",
       "      <th>ast_rolling</th>\n",
       "      <td>0.017498</td>\n",
       "    </tr>\n",
       "    <tr>\n",
       "      <th>gls_rolling</th>\n",
       "      <td>0.017742</td>\n",
       "    </tr>\n",
       "    <tr>\n",
       "      <th>gf_rolling</th>\n",
       "      <td>0.017744</td>\n",
       "    </tr>\n",
       "    <tr>\n",
       "      <th>gf_opp_rolling</th>\n",
       "      <td>0.017904</td>\n",
       "    </tr>\n",
       "    <tr>\n",
       "      <th>saves_rolling</th>\n",
       "      <td>0.019289</td>\n",
       "    </tr>\n",
       "    <tr>\n",
       "      <th>hour</th>\n",
       "      <td>0.019621</td>\n",
       "    </tr>\n",
       "    <tr>\n",
       "      <th>sota_rolling</th>\n",
       "      <td>0.020346</td>\n",
       "    </tr>\n",
       "    <tr>\n",
       "      <th>sot_opp_rolling</th>\n",
       "      <td>0.020666</td>\n",
       "    </tr>\n",
       "    <tr>\n",
       "      <th>crdy_opp_rolling</th>\n",
       "      <td>0.021132</td>\n",
       "    </tr>\n",
       "    <tr>\n",
       "      <th>saves_opp_rolling</th>\n",
       "      <td>0.021417</td>\n",
       "    </tr>\n",
       "    <tr>\n",
       "      <th>sot_rolling</th>\n",
       "      <td>0.021515</td>\n",
       "    </tr>\n",
       "    <tr>\n",
       "      <th>sota_opp_rolling</th>\n",
       "      <td>0.022293</td>\n",
       "    </tr>\n",
       "    <tr>\n",
       "      <th>crdy_rolling</th>\n",
       "      <td>0.023731</td>\n",
       "    </tr>\n",
       "    <tr>\n",
       "      <th>int_rolling</th>\n",
       "      <td>0.026622</td>\n",
       "    </tr>\n",
       "    <tr>\n",
       "      <th>tklw_rolling</th>\n",
       "      <td>0.026875</td>\n",
       "    </tr>\n",
       "    <tr>\n",
       "      <th>crs_opp_rolling</th>\n",
       "      <td>0.027058</td>\n",
       "    </tr>\n",
       "    <tr>\n",
       "      <th>tklw_opp_rolling</th>\n",
       "      <td>0.027167</td>\n",
       "    </tr>\n",
       "    <tr>\n",
       "      <th>tkl+int_rolling</th>\n",
       "      <td>0.027233</td>\n",
       "    </tr>\n",
       "    <tr>\n",
       "      <th>sh_rolling</th>\n",
       "      <td>0.027633</td>\n",
       "    </tr>\n",
       "    <tr>\n",
       "      <th>sh_opp_rolling</th>\n",
       "      <td>0.027848</td>\n",
       "    </tr>\n",
       "    <tr>\n",
       "      <th>fls_opp_rolling</th>\n",
       "      <td>0.027861</td>\n",
       "    </tr>\n",
       "    <tr>\n",
       "      <th>g/sh_opp_rolling</th>\n",
       "      <td>0.027898</td>\n",
       "    </tr>\n",
       "    <tr>\n",
       "      <th>g/sh_rolling</th>\n",
       "      <td>0.028236</td>\n",
       "    </tr>\n",
       "    <tr>\n",
       "      <th>crs_rolling</th>\n",
       "      <td>0.028426</td>\n",
       "    </tr>\n",
       "    <tr>\n",
       "      <th>poss_x_rolling</th>\n",
       "      <td>0.028827</td>\n",
       "    </tr>\n",
       "    <tr>\n",
       "      <th>tkl+int_opp_rolling</th>\n",
       "      <td>0.029185</td>\n",
       "    </tr>\n",
       "    <tr>\n",
       "      <th>save%_opp_rolling</th>\n",
       "      <td>0.029209</td>\n",
       "    </tr>\n",
       "    <tr>\n",
       "      <th>poss_opp_rolling</th>\n",
       "      <td>0.029939</td>\n",
       "    </tr>\n",
       "    <tr>\n",
       "      <th>int_opp_rolling</th>\n",
       "      <td>0.031052</td>\n",
       "    </tr>\n",
       "    <tr>\n",
       "      <th>sot%_rolling</th>\n",
       "      <td>0.032310</td>\n",
       "    </tr>\n",
       "    <tr>\n",
       "      <th>sot%_opp_rolling</th>\n",
       "      <td>0.032421</td>\n",
       "    </tr>\n",
       "    <tr>\n",
       "      <th>fls_rolling</th>\n",
       "      <td>0.032430</td>\n",
       "    </tr>\n",
       "    <tr>\n",
       "      <th>opp_code</th>\n",
       "      <td>0.037057</td>\n",
       "    </tr>\n",
       "  </tbody>\n",
       "</table>\n",
       "</div>"
      ],
      "text/plain": [
       "                     imp_vals\n",
       "pkm_rolling          0.001426\n",
       "pkm_opp_rolling      0.001877\n",
       "pksv_rolling         0.003029\n",
       "og_rolling           0.003314\n",
       "2crdy_rolling        0.003668\n",
       "pksv_opp_rolling     0.003802\n",
       "2crdy_opp_rolling    0.003803\n",
       "og_opp_rolling       0.004398\n",
       "crdr_rolling         0.005210\n",
       "pk_opp_rolling       0.005317\n",
       "pka_rolling          0.005565\n",
       "pkatt_opp_rolling    0.006620\n",
       "crdr_opp_rolling     0.006639\n",
       "cs_opp_rolling       0.007061\n",
       "pka_opp_rolling      0.007269\n",
       "pk_rolling           0.007293\n",
       "pkatt_rolling        0.008344\n",
       "cs_rolling           0.009464\n",
       "venue_code           0.009568\n",
       "ast_opp_rolling      0.016404\n",
       "gls_opp_rolling      0.016788\n",
       "day_code             0.016960\n",
       "ast_rolling          0.017498\n",
       "gls_rolling          0.017742\n",
       "gf_rolling           0.017744\n",
       "gf_opp_rolling       0.017904\n",
       "saves_rolling        0.019289\n",
       "hour                 0.019621\n",
       "sota_rolling         0.020346\n",
       "sot_opp_rolling      0.020666\n",
       "crdy_opp_rolling     0.021132\n",
       "saves_opp_rolling    0.021417\n",
       "sot_rolling          0.021515\n",
       "sota_opp_rolling     0.022293\n",
       "crdy_rolling         0.023731\n",
       "int_rolling          0.026622\n",
       "tklw_rolling         0.026875\n",
       "crs_opp_rolling      0.027058\n",
       "tklw_opp_rolling     0.027167\n",
       "tkl+int_rolling      0.027233\n",
       "sh_rolling           0.027633\n",
       "sh_opp_rolling       0.027848\n",
       "fls_opp_rolling      0.027861\n",
       "g/sh_opp_rolling     0.027898\n",
       "g/sh_rolling         0.028236\n",
       "crs_rolling          0.028426\n",
       "poss_x_rolling       0.028827\n",
       "tkl+int_opp_rolling  0.029185\n",
       "save%_opp_rolling    0.029209\n",
       "poss_opp_rolling     0.029939\n",
       "int_opp_rolling      0.031052\n",
       "sot%_rolling         0.032310\n",
       "sot%_opp_rolling     0.032421\n",
       "fls_rolling          0.032430\n",
       "opp_code             0.037057"
      ]
     },
     "execution_count": 260,
     "metadata": {},
     "output_type": "execute_result"
    }
   ],
   "source": [
    "data ={'imp_vals':importances}\n",
    "imp_df = pd.DataFrame(data=data, index=all_cols)\n",
    "imp_df.sort_values(by = 'imp_vals')"
   ]
  },
  {
   "cell_type": "code",
   "execution_count": 261,
   "metadata": {},
   "outputs": [
    {
     "name": "stdout",
     "output_type": "stream",
     "text": [
      "[0.63181818 0.62982273]\n",
      "0.6306588237885948\n"
     ]
    },
    {
     "data": {
      "text/html": [
       "<div>\n",
       "<style scoped>\n",
       "    .dataframe tbody tr th:only-of-type {\n",
       "        vertical-align: middle;\n",
       "    }\n",
       "\n",
       "    .dataframe tbody tr th {\n",
       "        vertical-align: top;\n",
       "    }\n",
       "\n",
       "    .dataframe thead th {\n",
       "        text-align: right;\n",
       "    }\n",
       "</style>\n",
       "<table border=\"1\" class=\"dataframe\">\n",
       "  <thead>\n",
       "    <tr style=\"text-align: right;\">\n",
       "      <th>predicted</th>\n",
       "      <th>0</th>\n",
       "      <th>1</th>\n",
       "    </tr>\n",
       "    <tr>\n",
       "      <th>actual</th>\n",
       "      <th></th>\n",
       "      <th></th>\n",
       "    </tr>\n",
       "  </thead>\n",
       "  <tbody>\n",
       "    <tr>\n",
       "      <th>0</th>\n",
       "      <td>139</td>\n",
       "      <td>355</td>\n",
       "    </tr>\n",
       "    <tr>\n",
       "      <th>1</th>\n",
       "      <td>81</td>\n",
       "      <td>604</td>\n",
       "    </tr>\n",
       "  </tbody>\n",
       "</table>\n",
       "</div>"
      ],
      "text/plain": [
       "predicted    0    1\n",
       "actual             \n",
       "0          139  355\n",
       "1           81  604"
      ]
     },
     "execution_count": 261,
     "metadata": {},
     "output_type": "execute_result"
    }
   ],
   "source": [
    "predictors3 = imp_df.loc[imp_df['imp_vals']>0.002].index # Selecting from the chosen features, and removing the east important ones. \n",
    "combined, precision_weight, precision_raw, importances,rf = make_predictions (df_rolling, predictors3)\n",
    "\n",
    "print(precision_raw)\n",
    "print(precision_weight)\n",
    "\n",
    "pd.crosstab(index=combined[\"actual\"], columns=combined[\"predicted\"])"
   ]
  },
  {
   "attachments": {},
   "cell_type": "markdown",
   "metadata": {},
   "source": [
    "Hence we have beaten the benchmark using selected features. Using the sequential feature selection to see if we can improve the score did not yield any results that could beat the above. "
   ]
  },
  {
   "attachments": {},
   "cell_type": "markdown",
   "metadata": {},
   "source": [
    "## More feature Engineering with summation. "
   ]
  },
  {
   "cell_type": "code",
   "execution_count": 263,
   "metadata": {},
   "outputs": [],
   "source": [
    "df_rolling[\"fls_rolling+sot%_rolling\"] = df_rolling[\"fls_rolling\"]+df_rolling['sot%_rolling']\n",
    "\n",
    "predictors3 = list(predictors3) + [\"fls_rolling+sot%_rolling\"] \n",
    "\n"
   ]
  },
  {
   "cell_type": "code",
   "execution_count": 264,
   "metadata": {},
   "outputs": [
    {
     "name": "stdout",
     "output_type": "stream",
     "text": [
      "[0.62931034 0.63252376]\n",
      "0.6311773413265691\n"
     ]
    },
    {
     "data": {
      "text/html": [
       "<div>\n",
       "<style scoped>\n",
       "    .dataframe tbody tr th:only-of-type {\n",
       "        vertical-align: middle;\n",
       "    }\n",
       "\n",
       "    .dataframe tbody tr th {\n",
       "        vertical-align: top;\n",
       "    }\n",
       "\n",
       "    .dataframe thead th {\n",
       "        text-align: right;\n",
       "    }\n",
       "</style>\n",
       "<table border=\"1\" class=\"dataframe\">\n",
       "  <thead>\n",
       "    <tr style=\"text-align: right;\">\n",
       "      <th>predicted</th>\n",
       "      <th>0</th>\n",
       "      <th>1</th>\n",
       "    </tr>\n",
       "    <tr>\n",
       "      <th>actual</th>\n",
       "      <th></th>\n",
       "      <th></th>\n",
       "    </tr>\n",
       "  </thead>\n",
       "  <tbody>\n",
       "    <tr>\n",
       "      <th>0</th>\n",
       "      <td>146</td>\n",
       "      <td>348</td>\n",
       "    </tr>\n",
       "    <tr>\n",
       "      <th>1</th>\n",
       "      <td>86</td>\n",
       "      <td>599</td>\n",
       "    </tr>\n",
       "  </tbody>\n",
       "</table>\n",
       "</div>"
      ],
      "text/plain": [
       "predicted    0    1\n",
       "actual             \n",
       "0          146  348\n",
       "1           86  599"
      ]
     },
     "execution_count": 264,
     "metadata": {},
     "output_type": "execute_result"
    }
   ],
   "source": [
    "combined, precision_weight, precision_raw, importances,rf = make_predictions (df_rolling, predictors3)\n",
    "\n",
    "print(precision_raw)\n",
    "print(precision_weight)\n",
    "\n",
    "pd.crosstab(index=combined[\"actual\"], columns=combined[\"predicted\"])"
   ]
  },
  {
   "attachments": {},
   "cell_type": "markdown",
   "metadata": {},
   "source": [
    "Marginal improvement"
   ]
  },
  {
   "cell_type": "code",
   "execution_count": 62,
   "metadata": {},
   "outputs": [],
   "source": [
    "import pickle"
   ]
  },
  {
   "cell_type": "code",
   "execution_count": 66,
   "metadata": {},
   "outputs": [],
   "source": [
    "appData = [predictors3, df_rolling, rf]\n",
    "pickle.dump(appData,open('appData.pkl','wb'))"
   ]
  },
  {
   "attachments": {},
   "cell_type": "markdown",
   "metadata": {},
   "source": [
    "#### Useful stuff\n",
    "Do the following to get a list of the numeric columns, or select an type of column based on its tpes. \n",
    "\n",
    "```[key for key in dict(DF.dtypes) if dict(DF.dtypes)[key] in ['float64', 'int64']]```\n",
    "\n",
    "predictors2 = [b for a, b in zip(sfs.get_support(), all_cols) if a] # extracting the features sfs has chosen for us. all_cols is a string list of all the columns, this uses the sfs.get_support mask."
   ]
  },
  {
   "cell_type": "code",
   "execution_count": null,
   "metadata": {},
   "outputs": [],
   "source": []
  },
  {
   "cell_type": "code",
   "execution_count": null,
   "metadata": {},
   "outputs": [],
   "source": []
  },
  {
   "cell_type": "code",
   "execution_count": 84,
   "metadata": {},
   "outputs": [
    {
     "data": {
      "text/html": [
       "<div>\n",
       "<style scoped>\n",
       "    .dataframe tbody tr th:only-of-type {\n",
       "        vertical-align: middle;\n",
       "    }\n",
       "\n",
       "    .dataframe tbody tr th {\n",
       "        vertical-align: top;\n",
       "    }\n",
       "\n",
       "    .dataframe thead th {\n",
       "        text-align: right;\n",
       "    }\n",
       "</style>\n",
       "<table border=\"1\" class=\"dataframe\">\n",
       "  <thead>\n",
       "    <tr style=\"text-align: right;\">\n",
       "      <th></th>\n",
       "      <th>venue_code</th>\n",
       "      <th>opp_code</th>\n",
       "      <th>g/sh_rolling</th>\n",
       "      <th>pkatt_rolling</th>\n",
       "      <th>pkatt_opp_rolling</th>\n",
       "      <th>pksv_rolling</th>\n",
       "      <th>cs_opp_rolling</th>\n",
       "      <th>pksv_opp_rolling</th>\n",
       "      <th>ast_rolling</th>\n",
       "      <th>tkl+int_rolling</th>\n",
       "      <th>crdy_rolling</th>\n",
       "      <th>crdr_rolling</th>\n",
       "      <th>2crdy_rolling</th>\n",
       "      <th>og_rolling</th>\n",
       "      <th>crdy_opp_rolling</th>\n",
       "      <th>crdr_opp_rolling</th>\n",
       "      <th>2crdy_opp_rolling</th>\n",
       "      <th>og_opp_rolling</th>\n",
       "    </tr>\n",
       "  </thead>\n",
       "  <tbody>\n",
       "    <tr>\n",
       "      <th>3628</th>\n",
       "      <td>1</td>\n",
       "      <td>461</td>\n",
       "      <td>0.082</td>\n",
       "      <td>0.0</td>\n",
       "      <td>0.0</td>\n",
       "      <td>0.0</td>\n",
       "      <td>0.4</td>\n",
       "      <td>0.0</td>\n",
       "      <td>0.8</td>\n",
       "      <td>19.4</td>\n",
       "      <td>2.0</td>\n",
       "      <td>0.0</td>\n",
       "      <td>0.0</td>\n",
       "      <td>0.2</td>\n",
       "      <td>1.4</td>\n",
       "      <td>0.2</td>\n",
       "      <td>0.0</td>\n",
       "      <td>0.0</td>\n",
       "    </tr>\n",
       "  </tbody>\n",
       "</table>\n",
       "</div>"
      ],
      "text/plain": [
       "      venue_code  opp_code  g/sh_rolling  pkatt_rolling  pkatt_opp_rolling  \\\n",
       "3628           1       461         0.082            0.0                0.0   \n",
       "\n",
       "      pksv_rolling  cs_opp_rolling  pksv_opp_rolling  ast_rolling  \\\n",
       "3628           0.0             0.4               0.0          0.8   \n",
       "\n",
       "      tkl+int_rolling  crdy_rolling  crdr_rolling  2crdy_rolling  og_rolling  \\\n",
       "3628             19.4           2.0           0.0            0.0         0.2   \n",
       "\n",
       "      crdy_opp_rolling  crdr_opp_rolling  2crdy_opp_rolling  og_opp_rolling  \n",
       "3628               1.4               0.2                0.0             0.0  "
      ]
     },
     "execution_count": 84,
     "metadata": {},
     "output_type": "execute_result"
    }
   ],
   "source": [
    "tm_df = df_rolling[df_rolling['team'] == selected_team][predictors3].tail(1)\n",
    "\n",
    "tm_df\n"
   ]
  },
  {
   "cell_type": "code",
   "execution_count": 69,
   "metadata": {},
   "outputs": [
    {
     "data": {
      "text/html": [
       "<div>\n",
       "<style scoped>\n",
       "    .dataframe tbody tr th:only-of-type {\n",
       "        vertical-align: middle;\n",
       "    }\n",
       "\n",
       "    .dataframe tbody tr th {\n",
       "        vertical-align: top;\n",
       "    }\n",
       "\n",
       "    .dataframe thead th {\n",
       "        text-align: right;\n",
       "    }\n",
       "</style>\n",
       "<table border=\"1\" class=\"dataframe\">\n",
       "  <thead>\n",
       "    <tr style=\"text-align: right;\">\n",
       "      <th></th>\n",
       "      <th>opponent</th>\n",
       "      <th>opp_code</th>\n",
       "    </tr>\n",
       "  </thead>\n",
       "  <tbody>\n",
       "    <tr>\n",
       "      <th>2727</th>\n",
       "      <td>1860 Munich</td>\n",
       "      <td>1</td>\n",
       "    </tr>\n",
       "    <tr>\n",
       "      <th>3450</th>\n",
       "      <td>AD Ceuta</td>\n",
       "      <td>3</td>\n",
       "    </tr>\n",
       "    <tr>\n",
       "      <th>1055</th>\n",
       "      <td>ADO Den Haag</td>\n",
       "      <td>4</td>\n",
       "    </tr>\n",
       "    <tr>\n",
       "      <th>581</th>\n",
       "      <td>ADO Den Haag</td>\n",
       "      <td>4</td>\n",
       "    </tr>\n",
       "    <tr>\n",
       "      <th>3033</th>\n",
       "      <td>AGF</td>\n",
       "      <td>6</td>\n",
       "    </tr>\n",
       "    <tr>\n",
       "      <th>...</th>\n",
       "      <td>...</td>\n",
       "      <td>...</td>\n",
       "    </tr>\n",
       "    <tr>\n",
       "      <th>1479</th>\n",
       "      <td>Zürich</td>\n",
       "      <td>450</td>\n",
       "    </tr>\n",
       "    <tr>\n",
       "      <th>2421</th>\n",
       "      <td>Zürich</td>\n",
       "      <td>450</td>\n",
       "    </tr>\n",
       "    <tr>\n",
       "      <th>2527</th>\n",
       "      <td>Zürich</td>\n",
       "      <td>450</td>\n",
       "    </tr>\n",
       "    <tr>\n",
       "      <th>3298</th>\n",
       "      <td>Šibenik</td>\n",
       "      <td>455</td>\n",
       "    </tr>\n",
       "    <tr>\n",
       "      <th>2842</th>\n",
       "      <td>Šibenik</td>\n",
       "      <td>455</td>\n",
       "    </tr>\n",
       "  </tbody>\n",
       "</table>\n",
       "<p>3369 rows × 2 columns</p>\n",
       "</div>"
      ],
      "text/plain": [
       "          opponent  opp_code\n",
       "2727   1860 Munich         1\n",
       "3450      AD Ceuta         3\n",
       "1055  ADO Den Haag         4\n",
       "581   ADO Den Haag         4\n",
       "3033           AGF         6\n",
       "...            ...       ...\n",
       "1479        Zürich       450\n",
       "2421        Zürich       450\n",
       "2527        Zürich       450\n",
       "3298       Šibenik       455\n",
       "2842       Šibenik       455\n",
       "\n",
       "[3369 rows x 2 columns]"
      ]
     },
     "execution_count": 69,
     "metadata": {},
     "output_type": "execute_result"
    }
   ],
   "source": [
    "df_rolling[['opponent','opp_code']].sort_values(by ='opponent')"
   ]
  }
 ],
 "metadata": {
  "kernelspec": {
   "display_name": "football_proj",
   "language": "python",
   "name": "python3"
  },
  "language_info": {
   "codemirror_mode": {
    "name": "ipython",
    "version": 3
   },
   "file_extension": ".py",
   "mimetype": "text/x-python",
   "name": "python",
   "nbconvert_exporter": "python",
   "pygments_lexer": "ipython3",
   "version": "3.11.0"
  },
  "orig_nbformat": 4,
  "vscode": {
   "interpreter": {
    "hash": "3b2572b4a15cb33407f4fd5615f06488f520abed03bc861addd9f2796186c7a0"
   }
  }
 },
 "nbformat": 4,
 "nbformat_minor": 2
}
