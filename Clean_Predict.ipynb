{
 "cells": [
  {
   "cell_type": "code",
   "execution_count": 12,
   "metadata": {},
   "outputs": [],
   "source": [
    "import pandas as pd\n",
    "import matplotlib.pyplot as plt"
   ]
  },
  {
   "attachments": {},
   "cell_type": "markdown",
   "metadata": {},
   "source": [
    "# Data Cleaning\n",
    "\n",
    "Need to remove the unusable and redundant columns"
   ]
  },
  {
   "cell_type": "code",
   "execution_count": 13,
   "metadata": {},
   "outputs": [
    {
     "data": {
      "text/html": [
       "<div>\n",
       "<style scoped>\n",
       "    .dataframe tbody tr th:only-of-type {\n",
       "        vertical-align: middle;\n",
       "    }\n",
       "\n",
       "    .dataframe tbody tr th {\n",
       "        vertical-align: top;\n",
       "    }\n",
       "\n",
       "    .dataframe thead th {\n",
       "        text-align: right;\n",
       "    }\n",
       "</style>\n",
       "<table border=\"1\" class=\"dataframe\">\n",
       "  <thead>\n",
       "    <tr style=\"text-align: right;\">\n",
       "      <th></th>\n",
       "      <th>date</th>\n",
       "      <th>time</th>\n",
       "      <th>comp</th>\n",
       "      <th>round</th>\n",
       "      <th>day</th>\n",
       "      <th>venue</th>\n",
       "      <th>result</th>\n",
       "      <th>gf</th>\n",
       "      <th>ga</th>\n",
       "      <th>opponent</th>\n",
       "      <th>...</th>\n",
       "      <th>poss_y</th>\n",
       "      <th>attendance</th>\n",
       "      <th>captain</th>\n",
       "      <th>formation</th>\n",
       "      <th>referee</th>\n",
       "      <th>match report_y</th>\n",
       "      <th>notes</th>\n",
       "      <th>team</th>\n",
       "      <th>season</th>\n",
       "      <th>xg</th>\n",
       "    </tr>\n",
       "  </thead>\n",
       "  <tbody>\n",
       "    <tr>\n",
       "      <th>0</th>\n",
       "      <td>14/09/2020</td>\n",
       "      <td>20:15</td>\n",
       "      <td>Premier League</td>\n",
       "      <td>Matchweek 1</td>\n",
       "      <td>Mon</td>\n",
       "      <td>Away</td>\n",
       "      <td>W</td>\n",
       "      <td>3</td>\n",
       "      <td>1</td>\n",
       "      <td>Brighton</td>\n",
       "      <td>...</td>\n",
       "      <td>48.0</td>\n",
       "      <td>NaN</td>\n",
       "      <td>Jorginho</td>\n",
       "      <td>4-2-2-2</td>\n",
       "      <td>Craig Pawson</td>\n",
       "      <td>Match Report</td>\n",
       "      <td>NaN</td>\n",
       "      <td>Chelsea</td>\n",
       "      <td>2020-2021</td>\n",
       "      <td>NaN</td>\n",
       "    </tr>\n",
       "    <tr>\n",
       "      <th>1</th>\n",
       "      <td>20/09/2020</td>\n",
       "      <td>16:30</td>\n",
       "      <td>Premier League</td>\n",
       "      <td>Matchweek 2</td>\n",
       "      <td>Sun</td>\n",
       "      <td>Home</td>\n",
       "      <td>L</td>\n",
       "      <td>0</td>\n",
       "      <td>2</td>\n",
       "      <td>Liverpool</td>\n",
       "      <td>...</td>\n",
       "      <td>39.0</td>\n",
       "      <td>NaN</td>\n",
       "      <td>Jorginho</td>\n",
       "      <td>4/03/2003</td>\n",
       "      <td>Paul Tierney</td>\n",
       "      <td>Match Report</td>\n",
       "      <td>NaN</td>\n",
       "      <td>Chelsea</td>\n",
       "      <td>2020-2021</td>\n",
       "      <td>NaN</td>\n",
       "    </tr>\n",
       "    <tr>\n",
       "      <th>2</th>\n",
       "      <td>23/09/2020</td>\n",
       "      <td>19:45</td>\n",
       "      <td>EFL Cup</td>\n",
       "      <td>Third round</td>\n",
       "      <td>Wed</td>\n",
       "      <td>Home</td>\n",
       "      <td>W</td>\n",
       "      <td>6</td>\n",
       "      <td>0</td>\n",
       "      <td>Barnsley</td>\n",
       "      <td>...</td>\n",
       "      <td>69.0</td>\n",
       "      <td>NaN</td>\n",
       "      <td>César Azpilicueta</td>\n",
       "      <td>4-2-3-1</td>\n",
       "      <td>Darren Bond</td>\n",
       "      <td>Match Report</td>\n",
       "      <td>NaN</td>\n",
       "      <td>Chelsea</td>\n",
       "      <td>2020-2021</td>\n",
       "      <td>NaN</td>\n",
       "    </tr>\n",
       "    <tr>\n",
       "      <th>3</th>\n",
       "      <td>26/09/2020</td>\n",
       "      <td>17:30</td>\n",
       "      <td>Premier League</td>\n",
       "      <td>Matchweek 3</td>\n",
       "      <td>Sat</td>\n",
       "      <td>Away</td>\n",
       "      <td>D</td>\n",
       "      <td>3</td>\n",
       "      <td>3</td>\n",
       "      <td>West Brom</td>\n",
       "      <td>...</td>\n",
       "      <td>75.0</td>\n",
       "      <td>NaN</td>\n",
       "      <td>Thiago Silva</td>\n",
       "      <td>4-2-3-1</td>\n",
       "      <td>Jonathan Moss</td>\n",
       "      <td>Match Report</td>\n",
       "      <td>NaN</td>\n",
       "      <td>Chelsea</td>\n",
       "      <td>2020-2021</td>\n",
       "      <td>NaN</td>\n",
       "    </tr>\n",
       "    <tr>\n",
       "      <th>4</th>\n",
       "      <td>29/09/2020</td>\n",
       "      <td>19:45</td>\n",
       "      <td>EFL Cup</td>\n",
       "      <td>Fourth round</td>\n",
       "      <td>Tue</td>\n",
       "      <td>Away</td>\n",
       "      <td>D</td>\n",
       "      <td>1 (4)</td>\n",
       "      <td>1 (5)</td>\n",
       "      <td>Tottenham</td>\n",
       "      <td>...</td>\n",
       "      <td>63.0</td>\n",
       "      <td>NaN</td>\n",
       "      <td>César Azpilicueta</td>\n",
       "      <td>4-2-3-1</td>\n",
       "      <td>Lee Mason</td>\n",
       "      <td>Match Report</td>\n",
       "      <td>Tottenham won on penalty kicks following extra...</td>\n",
       "      <td>Chelsea</td>\n",
       "      <td>2020-2021</td>\n",
       "      <td>NaN</td>\n",
       "    </tr>\n",
       "    <tr>\n",
       "      <th>...</th>\n",
       "      <td>...</td>\n",
       "      <td>...</td>\n",
       "      <td>...</td>\n",
       "      <td>...</td>\n",
       "      <td>...</td>\n",
       "      <td>...</td>\n",
       "      <td>...</td>\n",
       "      <td>...</td>\n",
       "      <td>...</td>\n",
       "      <td>...</td>\n",
       "      <td>...</td>\n",
       "      <td>...</td>\n",
       "      <td>...</td>\n",
       "      <td>...</td>\n",
       "      <td>...</td>\n",
       "      <td>...</td>\n",
       "      <td>...</td>\n",
       "      <td>...</td>\n",
       "      <td>...</td>\n",
       "      <td>...</td>\n",
       "      <td>...</td>\n",
       "    </tr>\n",
       "    <tr>\n",
       "      <th>4020</th>\n",
       "      <td>18/01/2023</td>\n",
       "      <td>20:00</td>\n",
       "      <td>Premiership</td>\n",
       "      <td>Regular season</td>\n",
       "      <td>Wed</td>\n",
       "      <td>Away</td>\n",
       "      <td>W</td>\n",
       "      <td>3</td>\n",
       "      <td>2</td>\n",
       "      <td>Kilmarnock</td>\n",
       "      <td>...</td>\n",
       "      <td>78.0</td>\n",
       "      <td>8461.0</td>\n",
       "      <td>James Tavernier</td>\n",
       "      <td>4-2-3-1</td>\n",
       "      <td>Kevin Clancy</td>\n",
       "      <td>Match Report</td>\n",
       "      <td>NaN</td>\n",
       "      <td>Rangers</td>\n",
       "      <td>2022-2023</td>\n",
       "      <td>NaN</td>\n",
       "    </tr>\n",
       "    <tr>\n",
       "      <th>4021</th>\n",
       "      <td>28/01/2023</td>\n",
       "      <td>15:00</td>\n",
       "      <td>Premiership</td>\n",
       "      <td>Regular season</td>\n",
       "      <td>Sat</td>\n",
       "      <td>Home</td>\n",
       "      <td>W</td>\n",
       "      <td>2</td>\n",
       "      <td>0</td>\n",
       "      <td>St Johnstone</td>\n",
       "      <td>...</td>\n",
       "      <td>69.0</td>\n",
       "      <td>49672.0</td>\n",
       "      <td>James Tavernier</td>\n",
       "      <td>4-2-3-1</td>\n",
       "      <td>William Collum</td>\n",
       "      <td>Match Report</td>\n",
       "      <td>NaN</td>\n",
       "      <td>Rangers</td>\n",
       "      <td>2022-2023</td>\n",
       "      <td>NaN</td>\n",
       "    </tr>\n",
       "    <tr>\n",
       "      <th>4022</th>\n",
       "      <td>1/02/2023</td>\n",
       "      <td>19:45</td>\n",
       "      <td>Premiership</td>\n",
       "      <td>Regular season</td>\n",
       "      <td>Wed</td>\n",
       "      <td>Away</td>\n",
       "      <td>W</td>\n",
       "      <td>3</td>\n",
       "      <td>0</td>\n",
       "      <td>Hearts</td>\n",
       "      <td>...</td>\n",
       "      <td>51.0</td>\n",
       "      <td>18330.0</td>\n",
       "      <td>James Tavernier</td>\n",
       "      <td>4-2-3-1</td>\n",
       "      <td>John Beaton</td>\n",
       "      <td>Match Report</td>\n",
       "      <td>NaN</td>\n",
       "      <td>Rangers</td>\n",
       "      <td>2022-2023</td>\n",
       "      <td>NaN</td>\n",
       "    </tr>\n",
       "    <tr>\n",
       "      <th>4023</th>\n",
       "      <td>4/02/2023</td>\n",
       "      <td>15:00</td>\n",
       "      <td>Premiership</td>\n",
       "      <td>Regular season</td>\n",
       "      <td>Sat</td>\n",
       "      <td>Home</td>\n",
       "      <td>W</td>\n",
       "      <td>2</td>\n",
       "      <td>1</td>\n",
       "      <td>Ross County</td>\n",
       "      <td>...</td>\n",
       "      <td>70.0</td>\n",
       "      <td>49115.0</td>\n",
       "      <td>James Tavernier</td>\n",
       "      <td>4-2-3-1</td>\n",
       "      <td>Euan Anderson</td>\n",
       "      <td>Match Report</td>\n",
       "      <td>NaN</td>\n",
       "      <td>Rangers</td>\n",
       "      <td>2022-2023</td>\n",
       "      <td>NaN</td>\n",
       "    </tr>\n",
       "    <tr>\n",
       "      <th>4024</th>\n",
       "      <td>18/02/2023</td>\n",
       "      <td>15:00</td>\n",
       "      <td>Premiership</td>\n",
       "      <td>Regular season</td>\n",
       "      <td>Sat</td>\n",
       "      <td>Away</td>\n",
       "      <td>W</td>\n",
       "      <td>3</td>\n",
       "      <td>0</td>\n",
       "      <td>Livingston</td>\n",
       "      <td>...</td>\n",
       "      <td>65.0</td>\n",
       "      <td>8752.0</td>\n",
       "      <td>James Tavernier</td>\n",
       "      <td>4-2-3-1</td>\n",
       "      <td>David Dickinson</td>\n",
       "      <td>Match Report</td>\n",
       "      <td>NaN</td>\n",
       "      <td>Rangers</td>\n",
       "      <td>2022-2023</td>\n",
       "      <td>NaN</td>\n",
       "    </tr>\n",
       "  </tbody>\n",
       "</table>\n",
       "<p>4025 rows × 236 columns</p>\n",
       "</div>"
      ],
      "text/plain": [
       "            date   time            comp           round  day venue result  \\\n",
       "0     14/09/2020  20:15  Premier League     Matchweek 1  Mon  Away      W   \n",
       "1     20/09/2020  16:30  Premier League     Matchweek 2  Sun  Home      L   \n",
       "2     23/09/2020  19:45         EFL Cup     Third round  Wed  Home      W   \n",
       "3     26/09/2020  17:30  Premier League     Matchweek 3  Sat  Away      D   \n",
       "4     29/09/2020  19:45         EFL Cup    Fourth round  Tue  Away      D   \n",
       "...          ...    ...             ...             ...  ...   ...    ...   \n",
       "4020  18/01/2023  20:00     Premiership  Regular season  Wed  Away      W   \n",
       "4021  28/01/2023  15:00     Premiership  Regular season  Sat  Home      W   \n",
       "4022   1/02/2023  19:45     Premiership  Regular season  Wed  Away      W   \n",
       "4023   4/02/2023  15:00     Premiership  Regular season  Sat  Home      W   \n",
       "4024  18/02/2023  15:00     Premiership  Regular season  Sat  Away      W   \n",
       "\n",
       "         gf     ga      opponent  ...  poss_y  attendance            captain  \\\n",
       "0         3      1      Brighton  ...    48.0         NaN           Jorginho   \n",
       "1         0      2     Liverpool  ...    39.0         NaN           Jorginho   \n",
       "2         6      0      Barnsley  ...    69.0         NaN  César Azpilicueta   \n",
       "3         3      3     West Brom  ...    75.0         NaN       Thiago Silva   \n",
       "4     1 (4)  1 (5)     Tottenham  ...    63.0         NaN  César Azpilicueta   \n",
       "...     ...    ...           ...  ...     ...         ...                ...   \n",
       "4020      3      2    Kilmarnock  ...    78.0      8461.0    James Tavernier   \n",
       "4021      2      0  St Johnstone  ...    69.0     49672.0    James Tavernier   \n",
       "4022      3      0        Hearts  ...    51.0     18330.0    James Tavernier   \n",
       "4023      2      1   Ross County  ...    70.0     49115.0    James Tavernier   \n",
       "4024      3      0    Livingston  ...    65.0      8752.0    James Tavernier   \n",
       "\n",
       "      formation          referee  match report_y  \\\n",
       "0       4-2-2-2     Craig Pawson    Match Report   \n",
       "1     4/03/2003     Paul Tierney    Match Report   \n",
       "2       4-2-3-1      Darren Bond    Match Report   \n",
       "3       4-2-3-1    Jonathan Moss    Match Report   \n",
       "4       4-2-3-1        Lee Mason    Match Report   \n",
       "...         ...              ...             ...   \n",
       "4020    4-2-3-1     Kevin Clancy    Match Report   \n",
       "4021    4-2-3-1   William Collum    Match Report   \n",
       "4022    4-2-3-1      John Beaton    Match Report   \n",
       "4023    4-2-3-1    Euan Anderson    Match Report   \n",
       "4024    4-2-3-1  David Dickinson    Match Report   \n",
       "\n",
       "                                                  notes     team     season  \\\n",
       "0                                                   NaN  Chelsea  2020-2021   \n",
       "1                                                   NaN  Chelsea  2020-2021   \n",
       "2                                                   NaN  Chelsea  2020-2021   \n",
       "3                                                   NaN  Chelsea  2020-2021   \n",
       "4     Tottenham won on penalty kicks following extra...  Chelsea  2020-2021   \n",
       "...                                                 ...      ...        ...   \n",
       "4020                                                NaN  Rangers  2022-2023   \n",
       "4021                                                NaN  Rangers  2022-2023   \n",
       "4022                                                NaN  Rangers  2022-2023   \n",
       "4023                                                NaN  Rangers  2022-2023   \n",
       "4024                                                NaN  Rangers  2022-2023   \n",
       "\n",
       "      xg  \n",
       "0    NaN  \n",
       "1    NaN  \n",
       "2    NaN  \n",
       "3    NaN  \n",
       "4    NaN  \n",
       "...   ..  \n",
       "4020 NaN  \n",
       "4021 NaN  \n",
       "4022 NaN  \n",
       "4023 NaN  \n",
       "4024 NaN  \n",
       "\n",
       "[4025 rows x 236 columns]"
      ]
     },
     "execution_count": 13,
     "metadata": {},
     "output_type": "execute_result"
    }
   ],
   "source": [
    "df = pd.read_csv('all_seasons.csv', index_col=0)\n",
    "df.reset_index(inplace=True, drop = True)\n",
    "df"
   ]
  },
  {
   "cell_type": "code",
   "execution_count": 14,
   "metadata": {},
   "outputs": [
    {
     "data": {
      "text/plain": [
       "(4025, 215)"
      ]
     },
     "execution_count": 14,
     "metadata": {},
     "output_type": "execute_result"
    }
   ],
   "source": [
    "cols_todel = ['ga','match report_x','match report_y','date_opp','time_opp','comp_opp','round_opp','day_opp','venue_opp','result_opp','ga_opp','opponent_opp','xg', 'match report_opp','poss_y', 'comp', 'captain','referee','notes', 'attendance','formation']\n",
    "df.drop(cols_todel, axis=1, inplace=True)\n",
    "df.shape"
   ]
  },
  {
   "attachments": {},
   "cell_type": "markdown",
   "metadata": {},
   "source": [
    "gf = gols for\n",
    "ga = goals against\n",
    "gf_opp = goals or the opponent\n",
    "ga_opp = goals against the opponent. \n",
    "\n",
    "poss = possession, it has got x, y in the merging, will drop one and use the other. \n",
    "\n",
    "Will remove ga and ga_opp as the columns are redundant. \n",
    "\n",
    "Some gf and gf_opp parts have \"()\" in them for aggregate score. I will have to ensure they are processed correctly, I will take the value outside of the parenthesis, as that is the match sore."
   ]
  },
  {
   "cell_type": "code",
   "execution_count": 15,
   "metadata": {},
   "outputs": [
    {
     "data": {
      "text/html": [
       "<div>\n",
       "<style scoped>\n",
       "    .dataframe tbody tr th:only-of-type {\n",
       "        vertical-align: middle;\n",
       "    }\n",
       "\n",
       "    .dataframe tbody tr th {\n",
       "        vertical-align: top;\n",
       "    }\n",
       "\n",
       "    .dataframe thead th {\n",
       "        text-align: right;\n",
       "    }\n",
       "</style>\n",
       "<table border=\"1\" class=\"dataframe\">\n",
       "  <thead>\n",
       "    <tr style=\"text-align: right;\">\n",
       "      <th></th>\n",
       "      <th>date</th>\n",
       "      <th>time</th>\n",
       "      <th>round</th>\n",
       "      <th>day</th>\n",
       "      <th>venue</th>\n",
       "      <th>result</th>\n",
       "      <th>gf</th>\n",
       "      <th>opponent</th>\n",
       "      <th>gls</th>\n",
       "      <th>sh</th>\n",
       "      <th>...</th>\n",
       "      <th>pkwon_opp</th>\n",
       "      <th>pkcon_opp</th>\n",
       "      <th>og_opp</th>\n",
       "      <th>recov_opp</th>\n",
       "      <th>won_opp</th>\n",
       "      <th>won%_opp</th>\n",
       "      <th>xg_y</th>\n",
       "      <th>xga</th>\n",
       "      <th>team</th>\n",
       "      <th>season</th>\n",
       "    </tr>\n",
       "  </thead>\n",
       "  <tbody>\n",
       "    <tr>\n",
       "      <th>0</th>\n",
       "      <td>14/09/2020</td>\n",
       "      <td>20:15</td>\n",
       "      <td>Matchweek 1</td>\n",
       "      <td>Mon</td>\n",
       "      <td>Away</td>\n",
       "      <td>W</td>\n",
       "      <td>3</td>\n",
       "      <td>Brighton</td>\n",
       "      <td>3.0</td>\n",
       "      <td>9.0</td>\n",
       "      <td>...</td>\n",
       "      <td>0.0</td>\n",
       "      <td>1.0</td>\n",
       "      <td>0.0</td>\n",
       "      <td>54.0</td>\n",
       "      <td>10.0</td>\n",
       "      <td>43.5</td>\n",
       "      <td>1.2</td>\n",
       "      <td>1.1</td>\n",
       "      <td>Chelsea</td>\n",
       "      <td>2020-2021</td>\n",
       "    </tr>\n",
       "    <tr>\n",
       "      <th>1</th>\n",
       "      <td>20/09/2020</td>\n",
       "      <td>16:30</td>\n",
       "      <td>Matchweek 2</td>\n",
       "      <td>Sun</td>\n",
       "      <td>Home</td>\n",
       "      <td>L</td>\n",
       "      <td>0</td>\n",
       "      <td>Liverpool</td>\n",
       "      <td>0.0</td>\n",
       "      <td>4.0</td>\n",
       "      <td>...</td>\n",
       "      <td>0.0</td>\n",
       "      <td>1.0</td>\n",
       "      <td>0.0</td>\n",
       "      <td>53.0</td>\n",
       "      <td>3.0</td>\n",
       "      <td>21.4</td>\n",
       "      <td>0.9</td>\n",
       "      <td>2.1</td>\n",
       "      <td>Chelsea</td>\n",
       "      <td>2020-2021</td>\n",
       "    </tr>\n",
       "    <tr>\n",
       "      <th>2</th>\n",
       "      <td>23/09/2020</td>\n",
       "      <td>19:45</td>\n",
       "      <td>Third round</td>\n",
       "      <td>Wed</td>\n",
       "      <td>Home</td>\n",
       "      <td>W</td>\n",
       "      <td>6</td>\n",
       "      <td>Barnsley</td>\n",
       "      <td>6.0</td>\n",
       "      <td>17.0</td>\n",
       "      <td>...</td>\n",
       "      <td>NaN</td>\n",
       "      <td>NaN</td>\n",
       "      <td>0.0</td>\n",
       "      <td>NaN</td>\n",
       "      <td>NaN</td>\n",
       "      <td>NaN</td>\n",
       "      <td>NaN</td>\n",
       "      <td>NaN</td>\n",
       "      <td>Chelsea</td>\n",
       "      <td>2020-2021</td>\n",
       "    </tr>\n",
       "    <tr>\n",
       "      <th>3</th>\n",
       "      <td>26/09/2020</td>\n",
       "      <td>17:30</td>\n",
       "      <td>Matchweek 3</td>\n",
       "      <td>Sat</td>\n",
       "      <td>Away</td>\n",
       "      <td>D</td>\n",
       "      <td>3</td>\n",
       "      <td>West Brom</td>\n",
       "      <td>3.0</td>\n",
       "      <td>22.0</td>\n",
       "      <td>...</td>\n",
       "      <td>0.0</td>\n",
       "      <td>0.0</td>\n",
       "      <td>0.0</td>\n",
       "      <td>48.0</td>\n",
       "      <td>11.0</td>\n",
       "      <td>39.3</td>\n",
       "      <td>2.0</td>\n",
       "      <td>0.6</td>\n",
       "      <td>Chelsea</td>\n",
       "      <td>2020-2021</td>\n",
       "    </tr>\n",
       "    <tr>\n",
       "      <th>4</th>\n",
       "      <td>29/09/2020</td>\n",
       "      <td>19:45</td>\n",
       "      <td>Fourth round</td>\n",
       "      <td>Tue</td>\n",
       "      <td>Away</td>\n",
       "      <td>D</td>\n",
       "      <td>1</td>\n",
       "      <td>Tottenham</td>\n",
       "      <td>1.0</td>\n",
       "      <td>7.0</td>\n",
       "      <td>...</td>\n",
       "      <td>NaN</td>\n",
       "      <td>NaN</td>\n",
       "      <td>0.0</td>\n",
       "      <td>NaN</td>\n",
       "      <td>NaN</td>\n",
       "      <td>NaN</td>\n",
       "      <td>NaN</td>\n",
       "      <td>NaN</td>\n",
       "      <td>Chelsea</td>\n",
       "      <td>2020-2021</td>\n",
       "    </tr>\n",
       "  </tbody>\n",
       "</table>\n",
       "<p>5 rows × 215 columns</p>\n",
       "</div>"
      ],
      "text/plain": [
       "         date   time         round  day venue result gf   opponent  gls    sh  \\\n",
       "0  14/09/2020  20:15   Matchweek 1  Mon  Away      W  3   Brighton  3.0   9.0   \n",
       "1  20/09/2020  16:30   Matchweek 2  Sun  Home      L  0  Liverpool  0.0   4.0   \n",
       "2  23/09/2020  19:45   Third round  Wed  Home      W  6   Barnsley  6.0  17.0   \n",
       "3  26/09/2020  17:30   Matchweek 3  Sat  Away      D  3  West Brom  3.0  22.0   \n",
       "4  29/09/2020  19:45  Fourth round  Tue  Away      D  1  Tottenham  1.0   7.0   \n",
       "\n",
       "   ...  pkwon_opp  pkcon_opp  og_opp  recov_opp  won_opp  won%_opp  xg_y  xga  \\\n",
       "0  ...        0.0        1.0     0.0       54.0     10.0      43.5   1.2  1.1   \n",
       "1  ...        0.0        1.0     0.0       53.0      3.0      21.4   0.9  2.1   \n",
       "2  ...        NaN        NaN     0.0        NaN      NaN       NaN   NaN  NaN   \n",
       "3  ...        0.0        0.0     0.0       48.0     11.0      39.3   2.0  0.6   \n",
       "4  ...        NaN        NaN     0.0        NaN      NaN       NaN   NaN  NaN   \n",
       "\n",
       "      team     season  \n",
       "0  Chelsea  2020-2021  \n",
       "1  Chelsea  2020-2021  \n",
       "2  Chelsea  2020-2021  \n",
       "3  Chelsea  2020-2021  \n",
       "4  Chelsea  2020-2021  \n",
       "\n",
       "[5 rows x 215 columns]"
      ]
     },
     "execution_count": 15,
     "metadata": {},
     "output_type": "execute_result"
    }
   ],
   "source": [
    "df.loc[df[\"gf\"].str.contains(\" \"),'gf'] = df[\"gf\"].str[0] # if the Score column starts with \"(\", then grab the first from left char.\n",
    "df.loc[df[\"gf_opp\"].str.contains(\" \"),'gf_opp'] = df[\"gf_opp\"].str[0]\n",
    "\n",
    "df.head(5)"
   ]
  },
  {
   "attachments": {},
   "cell_type": "markdown",
   "metadata": {},
   "source": [
    "## Encoding string columns"
   ]
  },
  {
   "cell_type": "code",
   "execution_count": 16,
   "metadata": {},
   "outputs": [
    {
     "data": {
      "text/html": [
       "<div>\n",
       "<style scoped>\n",
       "    .dataframe tbody tr th:only-of-type {\n",
       "        vertical-align: middle;\n",
       "    }\n",
       "\n",
       "    .dataframe tbody tr th {\n",
       "        vertical-align: top;\n",
       "    }\n",
       "\n",
       "    .dataframe thead th {\n",
       "        text-align: right;\n",
       "    }\n",
       "</style>\n",
       "<table border=\"1\" class=\"dataframe\">\n",
       "  <thead>\n",
       "    <tr style=\"text-align: right;\">\n",
       "      <th></th>\n",
       "      <th>date</th>\n",
       "      <th>time</th>\n",
       "      <th>round</th>\n",
       "      <th>day</th>\n",
       "      <th>venue</th>\n",
       "      <th>result</th>\n",
       "      <th>gf</th>\n",
       "      <th>opponent</th>\n",
       "      <th>gls</th>\n",
       "      <th>sh</th>\n",
       "      <th>...</th>\n",
       "      <th>won_opp</th>\n",
       "      <th>won%_opp</th>\n",
       "      <th>xg_y</th>\n",
       "      <th>xga</th>\n",
       "      <th>team</th>\n",
       "      <th>season</th>\n",
       "      <th>venue_code</th>\n",
       "      <th>opp_code</th>\n",
       "      <th>hour</th>\n",
       "      <th>day_code</th>\n",
       "    </tr>\n",
       "  </thead>\n",
       "  <tbody>\n",
       "    <tr>\n",
       "      <th>0</th>\n",
       "      <td>2020-09-14</td>\n",
       "      <td>20:15</td>\n",
       "      <td>Matchweek 1</td>\n",
       "      <td>Mon</td>\n",
       "      <td>Away</td>\n",
       "      <td>W</td>\n",
       "      <td>3</td>\n",
       "      <td>Brighton</td>\n",
       "      <td>3.0</td>\n",
       "      <td>9.0</td>\n",
       "      <td>...</td>\n",
       "      <td>10.0</td>\n",
       "      <td>43.5</td>\n",
       "      <td>1.2</td>\n",
       "      <td>1.1</td>\n",
       "      <td>Chelsea</td>\n",
       "      <td>2020-2021</td>\n",
       "      <td>0</td>\n",
       "      <td>66</td>\n",
       "      <td>20</td>\n",
       "      <td>0</td>\n",
       "    </tr>\n",
       "    <tr>\n",
       "      <th>1</th>\n",
       "      <td>2020-09-20</td>\n",
       "      <td>16:30</td>\n",
       "      <td>Matchweek 2</td>\n",
       "      <td>Sun</td>\n",
       "      <td>Home</td>\n",
       "      <td>L</td>\n",
       "      <td>0</td>\n",
       "      <td>Liverpool</td>\n",
       "      <td>0.0</td>\n",
       "      <td>4.0</td>\n",
       "      <td>...</td>\n",
       "      <td>3.0</td>\n",
       "      <td>21.4</td>\n",
       "      <td>0.9</td>\n",
       "      <td>2.1</td>\n",
       "      <td>Chelsea</td>\n",
       "      <td>2020-2021</td>\n",
       "      <td>1</td>\n",
       "      <td>217</td>\n",
       "      <td>16</td>\n",
       "      <td>6</td>\n",
       "    </tr>\n",
       "    <tr>\n",
       "      <th>2</th>\n",
       "      <td>2020-09-23</td>\n",
       "      <td>19:45</td>\n",
       "      <td>Third round</td>\n",
       "      <td>Wed</td>\n",
       "      <td>Home</td>\n",
       "      <td>W</td>\n",
       "      <td>6</td>\n",
       "      <td>Barnsley</td>\n",
       "      <td>6.0</td>\n",
       "      <td>17.0</td>\n",
       "      <td>...</td>\n",
       "      <td>NaN</td>\n",
       "      <td>NaN</td>\n",
       "      <td>NaN</td>\n",
       "      <td>NaN</td>\n",
       "      <td>Chelsea</td>\n",
       "      <td>2020-2021</td>\n",
       "      <td>1</td>\n",
       "      <td>45</td>\n",
       "      <td>19</td>\n",
       "      <td>2</td>\n",
       "    </tr>\n",
       "    <tr>\n",
       "      <th>3</th>\n",
       "      <td>2020-09-26</td>\n",
       "      <td>17:30</td>\n",
       "      <td>Matchweek 3</td>\n",
       "      <td>Sat</td>\n",
       "      <td>Away</td>\n",
       "      <td>D</td>\n",
       "      <td>3</td>\n",
       "      <td>West Brom</td>\n",
       "      <td>3.0</td>\n",
       "      <td>22.0</td>\n",
       "      <td>...</td>\n",
       "      <td>11.0</td>\n",
       "      <td>39.3</td>\n",
       "      <td>2.0</td>\n",
       "      <td>0.6</td>\n",
       "      <td>Chelsea</td>\n",
       "      <td>2020-2021</td>\n",
       "      <td>0</td>\n",
       "      <td>408</td>\n",
       "      <td>17</td>\n",
       "      <td>5</td>\n",
       "    </tr>\n",
       "    <tr>\n",
       "      <th>4</th>\n",
       "      <td>2020-09-29</td>\n",
       "      <td>19:45</td>\n",
       "      <td>Fourth round</td>\n",
       "      <td>Tue</td>\n",
       "      <td>Away</td>\n",
       "      <td>D</td>\n",
       "      <td>1</td>\n",
       "      <td>Tottenham</td>\n",
       "      <td>1.0</td>\n",
       "      <td>7.0</td>\n",
       "      <td>...</td>\n",
       "      <td>NaN</td>\n",
       "      <td>NaN</td>\n",
       "      <td>NaN</td>\n",
       "      <td>NaN</td>\n",
       "      <td>Chelsea</td>\n",
       "      <td>2020-2021</td>\n",
       "      <td>0</td>\n",
       "      <td>369</td>\n",
       "      <td>19</td>\n",
       "      <td>1</td>\n",
       "    </tr>\n",
       "  </tbody>\n",
       "</table>\n",
       "<p>5 rows × 219 columns</p>\n",
       "</div>"
      ],
      "text/plain": [
       "        date   time         round  day venue result gf   opponent  gls    sh  \\\n",
       "0 2020-09-14  20:15   Matchweek 1  Mon  Away      W  3   Brighton  3.0   9.0   \n",
       "1 2020-09-20  16:30   Matchweek 2  Sun  Home      L  0  Liverpool  0.0   4.0   \n",
       "2 2020-09-23  19:45   Third round  Wed  Home      W  6   Barnsley  6.0  17.0   \n",
       "3 2020-09-26  17:30   Matchweek 3  Sat  Away      D  3  West Brom  3.0  22.0   \n",
       "4 2020-09-29  19:45  Fourth round  Tue  Away      D  1  Tottenham  1.0   7.0   \n",
       "\n",
       "   ...  won_opp  won%_opp  xg_y  xga     team     season  venue_code  \\\n",
       "0  ...     10.0      43.5   1.2  1.1  Chelsea  2020-2021           0   \n",
       "1  ...      3.0      21.4   0.9  2.1  Chelsea  2020-2021           1   \n",
       "2  ...      NaN       NaN   NaN  NaN  Chelsea  2020-2021           1   \n",
       "3  ...     11.0      39.3   2.0  0.6  Chelsea  2020-2021           0   \n",
       "4  ...      NaN       NaN   NaN  NaN  Chelsea  2020-2021           0   \n",
       "\n",
       "   opp_code  hour  day_code  \n",
       "0        66    20         0  \n",
       "1       217    16         6  \n",
       "2        45    19         2  \n",
       "3       408    17         5  \n",
       "4       369    19         1  \n",
       "\n",
       "[5 rows x 219 columns]"
      ]
     },
     "execution_count": 16,
     "metadata": {},
     "output_type": "execute_result"
    }
   ],
   "source": [
    "df['date'] = pd.to_datetime(df['date'],dayfirst=True)\n",
    "df[\"venue_code\"] = df[\"venue\"].astype(\"category\").cat.codes\n",
    "df[\"opp_code\"] = df[\"opponent\"].astype(\"category\").cat.codes\n",
    "df[\"hour\"] = df[\"time\"].str.replace(\":.+\", \"\", regex=True).astype(\"int\")\n",
    "df[\"day_code\"] = df[\"date\"].dt.dayofweek\n",
    "df.head()"
   ]
  },
  {
   "attachments": {},
   "cell_type": "markdown",
   "metadata": {},
   "source": [
    "## Missing Data\n",
    "Deleting rows that are missing a lot of stats. Already have very high dimensionality, and not enough data or this many dimensions, so wil remove some of the stat columns. Let us have a visual on the missing values in all the columns. "
   ]
  },
  {
   "cell_type": "code",
   "execution_count": 17,
   "metadata": {},
   "outputs": [
    {
     "data": {
      "text/plain": [
       "(4025, 219)"
      ]
     },
     "execution_count": 17,
     "metadata": {},
     "output_type": "execute_result"
    },
    {
     "data": {
      "image/png": "[encoded data removed]",
      "text/plain": [
       "<Figure size 640x480 with 1 Axes>"
      ]
     },
     "metadata": {},
     "output_type": "display_data"
    }
   ],
   "source": [
    "missing = pd.DataFrame(df.isnull().sum().sort_values(ascending=False))\n",
    "missing.rename(columns={0:'missing_val'}, inplace=True)\n",
    "missing[missing['missing_val']>0].plot.bar()\n",
    "\n",
    "df.shape"
   ]
  },
  {
   "attachments": {},
   "cell_type": "markdown",
   "metadata": {},
   "source": [
    "We can see that the number of missing values drops down in a step function. So we delete the columns that have over 300 missing values and the rows for anything less than that. This is the sweet spot as deleting more columns or rows will impact the quality of our data. \n",
    "Also, the relationship between various features in football matches is highly (e.g the opponent team) so imputation is not the answer here as it may affect the quality of the data too much."
   ]
  },
  {
   "cell_type": "code",
   "execution_count": 18,
   "metadata": {},
   "outputs": [
    {
     "data": {
      "text/plain": [
       "(4025, 64)"
      ]
     },
     "execution_count": 18,
     "metadata": {},
     "output_type": "execute_result"
    }
   ],
   "source": [
    "cols_todel = missing[missing['missing_val']>300].index\n",
    "df.drop(list(cols_todel), axis=1, inplace=True)\n",
    "df.shape"
   ]
  },
  {
   "attachments": {},
   "cell_type": "markdown",
   "metadata": {},
   "source": [
    "Of course if one is interested, one can use these columns with the rows that have them, but I choose to have lower dimensionality and more data rows. "
   ]
  },
  {
   "cell_type": "code",
   "execution_count": 19,
   "metadata": {},
   "outputs": [
    {
     "data": {
      "text/plain": [
       "(3643, 64)"
      ]
     },
     "execution_count": 19,
     "metadata": {},
     "output_type": "execute_result"
    }
   ],
   "source": [
    "df = df.dropna(axis = 0) #drop rows with missing values\n",
    "# df = df.reset_index(drop=True)\n",
    "df.shape # and no missing values."
   ]
  },
  {
   "attachments": {},
   "cell_type": "markdown",
   "metadata": {},
   "source": [
    "Everything that has to be numeric is already numeric. Let us make a target variable first."
   ]
  },
  {
   "attachments": {},
   "cell_type": "markdown",
   "metadata": {},
   "source": [
    "## Setting up the target column"
   ]
  },
  {
   "cell_type": "code",
   "execution_count": 20,
   "metadata": {},
   "outputs": [
    {
     "data": {
      "text/plain": [
       "W    2089\n",
       "L     813\n",
       "D     741\n",
       "Name: result, dtype: int64"
      ]
     },
     "execution_count": 20,
     "metadata": {},
     "output_type": "execute_result"
    }
   ],
   "source": [
    "df['result'].value_counts()"
   ]
  },
  {
   "attachments": {},
   "cell_type": "markdown",
   "metadata": {},
   "source": [
    "As can be seen from above, the result column is not balanced. Also, according to our brief of predicting if the game is going ot be a win or \"not\", we will have a binary target column, the result is either a win or loss. Te reason the number of wins is a lot higher than the losses and draws is that these tea have qualified for the Champions League. The qualifying teams win the majority of their games in the domestic leagues as well. "
   ]
  },
  {
   "cell_type": "code",
   "execution_count": 21,
   "metadata": {},
   "outputs": [],
   "source": [
    "df = df.sort_values(\"date\")\n",
    "#df['season'] = df['season'].str[0:4].astype('int')\n",
    "#del df['index']\n",
    "df=df.reset_index(drop=True)"
   ]
  },
  {
   "cell_type": "code",
   "execution_count": 22,
   "metadata": {},
   "outputs": [
    {
     "data": {
      "text/plain": [
       "venue\n",
       "Away       0.526864\n",
       "Home       0.622284\n",
       "Neutral    0.458333\n",
       "dtype: float64"
      ]
     },
     "execution_count": 22,
     "metadata": {},
     "output_type": "execute_result"
    }
   ],
   "source": [
    "df.groupby([\"venue\"]).apply(lambda x: x[x[\"result\"] == 'W'].shape[0]/ x.shape[0])"
   ]
  },
  {
   "cell_type": "code",
   "execution_count": 23,
   "metadata": {},
   "outputs": [
    {
     "data": {
      "text/plain": [
       "Away       1824\n",
       "Home       1795\n",
       "Neutral      24\n",
       "Name: venue, dtype: int64"
      ]
     },
     "execution_count": 23,
     "metadata": {},
     "output_type": "execute_result"
    }
   ],
   "source": [
    "df.venue.value_counts() # this is not balanced. Have to drop the venues that are neutral. It is only 24 rows. "
   ]
  },
  {
   "cell_type": "code",
   "execution_count": 24,
   "metadata": {},
   "outputs": [],
   "source": [
    "df = df.loc[df['venue']!='Neutral'] # dropping venue = neutral. "
   ]
  },
  {
   "cell_type": "code",
   "execution_count": 25,
   "metadata": {},
   "outputs": [
    {
     "data": {
      "text/plain": [
       "venue\n",
       "Away    0.526864\n",
       "Home    0.622284\n",
       "dtype: float64"
      ]
     },
     "execution_count": 25,
     "metadata": {},
     "output_type": "execute_result"
    }
   ],
   "source": [
    "df.groupby([\"venue\"]).apply(lambda x: x[x[\"result\"] == 'W'].shape[0]/ x.shape[0]) # So in %62 of the cases, the team wins their home games, as opposed to onl 52% of their away games. \n",
    "# This is our benchmark."
   ]
  },
  {
   "cell_type": "code",
   "execution_count": 26,
   "metadata": {},
   "outputs": [],
   "source": [
    "df['target'] = (df['result'] == \"W\").astype(\"int\")"
   ]
  },
  {
   "attachments": {},
   "cell_type": "markdown",
   "metadata": {},
   "source": [
    "# Prediction Using Machine Learning"
   ]
  },
  {
   "cell_type": "code",
   "execution_count": 27,
   "metadata": {},
   "outputs": [],
   "source": [
    "from sklearn.ensemble import RandomForestClassifier\n",
    "from sklearn.metrics import accuracy_score"
   ]
  },
  {
   "cell_type": "code",
   "execution_count": 28,
   "metadata": {},
   "outputs": [],
   "source": [
    "predictors = [\"venue_code\", \"opp_code\", \"hour\", \"day_code\"] # initial predictors. "
   ]
  },
  {
   "cell_type": "code",
   "execution_count": 29,
   "metadata": {},
   "outputs": [
    {
     "name": "stdout",
     "output_type": "stream",
     "text": [
      "(2503, 65)\n",
      "(1105, 65)\n",
      "accuracy_score = 0.5846153846153846\n"
     ]
    }
   ],
   "source": [
    "rf = RandomForestClassifier(n_estimators=500, min_samples_split=40, random_state=1, class_weight='balanced')\n",
    "\n",
    "train = df[df['date']< \"2022-04-16\"] # Using 70% of the rows for training and 30% for testing. cannot do splits since we cannot use future data to predict past games. \n",
    "test = df[df['date']> \"2022-04-16\"]\n",
    "\n",
    "rf.fit(train[predictors],train['target'])\n",
    "\n",
    "predictions = rf.predict(test[predictors])\n",
    "\n",
    "print(train.shape)\n",
    "print(test.shape)\n",
    "\n",
    "accuracy_score(test[\"target\"],predictions)\n",
    "\n",
    "print('accuracy_score =' ,accuracy_score(test[\"target\"],predictions))"
   ]
  },
  {
   "attachments": {},
   "cell_type": "markdown",
   "metadata": {},
   "source": [
    "Accuracy score here is not a good measure, we use precision score as we have false positives and false negatives. 0 is a loss and 1 is a win. "
   ]
  },
  {
   "cell_type": "code",
   "execution_count": 30,
   "metadata": {},
   "outputs": [
    {
     "data": {
      "text/html": [
       "<div>\n",
       "<style scoped>\n",
       "    .dataframe tbody tr th:only-of-type {\n",
       "        vertical-align: middle;\n",
       "    }\n",
       "\n",
       "    .dataframe tbody tr th {\n",
       "        vertical-align: top;\n",
       "    }\n",
       "\n",
       "    .dataframe thead th {\n",
       "        text-align: right;\n",
       "    }\n",
       "</style>\n",
       "<table border=\"1\" class=\"dataframe\">\n",
       "  <thead>\n",
       "    <tr style=\"text-align: right;\">\n",
       "      <th>predicted</th>\n",
       "      <th>0</th>\n",
       "      <th>1</th>\n",
       "    </tr>\n",
       "    <tr>\n",
       "      <th>actual</th>\n",
       "      <th></th>\n",
       "      <th></th>\n",
       "    </tr>\n",
       "  </thead>\n",
       "  <tbody>\n",
       "    <tr>\n",
       "      <th>0</th>\n",
       "      <td>237</td>\n",
       "      <td>223</td>\n",
       "    </tr>\n",
       "    <tr>\n",
       "      <th>1</th>\n",
       "      <td>236</td>\n",
       "      <td>409</td>\n",
       "    </tr>\n",
       "  </tbody>\n",
       "</table>\n",
       "</div>"
      ],
      "text/plain": [
       "predicted    0    1\n",
       "actual             \n",
       "0          237  223\n",
       "1          236  409"
      ]
     },
     "execution_count": 30,
     "metadata": {},
     "output_type": "execute_result"
    }
   ],
   "source": [
    "combined = pd.DataFrame(dict(actual=test[\"target\"], predicted=predictions))\n",
    "pd.crosstab(index=combined[\"actual\"], columns=combined[\"predicted\"])"
   ]
  },
  {
   "cell_type": "code",
   "execution_count": 31,
   "metadata": {},
   "outputs": [
    {
     "data": {
      "text/plain": [
       "array([0.50105708, 0.6471519 ])"
      ]
     },
     "execution_count": 31,
     "metadata": {},
     "output_type": "execute_result"
    }
   ],
   "source": [
    "from sklearn.metrics import precision_score\n",
    "\n",
    "precision_score(test[\"target\"], predictions, average = None)"
   ]
  },
  {
   "cell_type": "code",
   "execution_count": 32,
   "metadata": {},
   "outputs": [
    {
     "data": {
      "text/plain": [
       "0.5863341471598758"
      ]
     },
     "execution_count": 32,
     "metadata": {},
     "output_type": "execute_result"
    }
   ],
   "source": [
    "precision_score(test[\"target\"], predictions, average = 'weighted')"
   ]
  },
  {
   "attachments": {},
   "cell_type": "markdown",
   "metadata": {},
   "source": [
    "#### Feature engineering\n",
    "We need to use the rest of the statistics we have to see if we can improve our model. Hence we introduce rolling averages of statistics from previous games as prediction metrics."
   ]
  },
  {
   "cell_type": "code",
   "execution_count": 33,
   "metadata": {},
   "outputs": [],
   "source": [
    "def rolling_averages(group, cols, new_cols):\n",
    "    group = group.sort_values(\"date\")\n",
    "    rolling_stats = group[cols].rolling(5,closed=\"left\").mean() # To avoid data leakage from future matches\n",
    "    group[new_cols] = rolling_stats\n",
    "    group = group.dropna(subset = new_cols)\n",
    "    return group"
   ]
  },
  {
   "cell_type": "code",
   "execution_count": 63,
   "metadata": {},
   "outputs": [],
   "source": [
    "def make_predictions(data, predictors):\n",
    "    rf = RandomForestClassifier(n_estimators=500, min_samples_split=2, random_state=1,  max_depth=6)\n",
    "\n",
    "    train = data[data['date']< \"2022-04-16\"] # Data in order of date use 70% for training\n",
    "    test = data[data['date']> \"2022-04-16\"]\n",
    "\n",
    "    rf.fit(train[predictors],train['target'])\n",
    "\n",
    "    predictions = rf.predict(test[predictors])\n",
    "\n",
    "    combined = pd.DataFrame(dict(actual=test[\"target\"], predicted=predictions))\n",
    "\n",
    "    precision_weight = precision_score(test[\"target\"], predictions, average = 'weighted')\n",
    "    precision_raw = precision_score(test[\"target\"], predictions, average = None)\n",
    "\n",
    "    return combined, precision_weight, precision_raw, rf.feature_importances_, rf"
   ]
  },
  {
   "cell_type": "code",
   "execution_count": 52,
   "metadata": {},
   "outputs": [
    {
     "name": "stdout",
     "output_type": "stream",
     "text": [
      "[0.6146789  0.63657957]\n",
      "0.6274887268992405\n"
     ]
    }
   ],
   "source": [
    "cols = ['gls','gls_opp','gf','gf_opp','sh', 'sot','g/sh','save%_opp','tkl+int','poss_x'] # Choosing based on domain knowledge.\n",
    "new_cols = [f\"{c}_rolling\" for c in cols] # add_rolling to column names\n",
    "\n",
    "df_rolling = df.groupby('team').apply(lambda x: rolling_averages(x,cols,new_cols))\n",
    "df_rolling = df_rolling.droplevel('team')\n",
    "\n",
    "combined, precision_weight, precision_raw, importances = make_predictions (df_rolling, predictors+new_cols)\n",
    "\n",
    "print(precision_raw)\n",
    "print(precision_weight)"
   ]
  },
  {
   "attachments": {},
   "cell_type": "markdown",
   "metadata": {},
   "source": [
    "We are already over the benchmark with the above stats. "
   ]
  },
  {
   "cell_type": "code",
   "execution_count": 36,
   "metadata": {},
   "outputs": [
    {
     "data": {
      "text/html": [
       "<div>\n",
       "<style scoped>\n",
       "    .dataframe tbody tr th:only-of-type {\n",
       "        vertical-align: middle;\n",
       "    }\n",
       "\n",
       "    .dataframe tbody tr th {\n",
       "        vertical-align: top;\n",
       "    }\n",
       "\n",
       "    .dataframe thead th {\n",
       "        text-align: right;\n",
       "    }\n",
       "</style>\n",
       "<table border=\"1\" class=\"dataframe\">\n",
       "  <thead>\n",
       "    <tr style=\"text-align: right;\">\n",
       "      <th>predicted</th>\n",
       "      <th>0</th>\n",
       "      <th>1</th>\n",
       "    </tr>\n",
       "    <tr>\n",
       "      <th>actual</th>\n",
       "      <th></th>\n",
       "      <th></th>\n",
       "    </tr>\n",
       "  </thead>\n",
       "  <tbody>\n",
       "    <tr>\n",
       "      <th>0</th>\n",
       "      <td>134</td>\n",
       "      <td>306</td>\n",
       "    </tr>\n",
       "    <tr>\n",
       "      <th>1</th>\n",
       "      <td>84</td>\n",
       "      <td>536</td>\n",
       "    </tr>\n",
       "  </tbody>\n",
       "</table>\n",
       "</div>"
      ],
      "text/plain": [
       "predicted    0    1\n",
       "actual             \n",
       "0          134  306\n",
       "1           84  536"
      ]
     },
     "execution_count": 36,
     "metadata": {},
     "output_type": "execute_result"
    }
   ],
   "source": [
    "pd.crosstab(index=combined[\"actual\"], columns=combined[\"predicted\"])"
   ]
  },
  {
   "cell_type": "code",
   "execution_count": 37,
   "metadata": {},
   "outputs": [
    {
     "data": {
      "image/png": "[encoded data removed]",
      "text/plain": [
       "<Figure size 640x480 with 1 Axes>"
      ]
     },
     "metadata": {},
     "output_type": "display_data"
    }
   ],
   "source": [
    "importance = pd.Series(data=importances,\n",
    "                        index=  predictors+new_cols)\n",
    "# Sort importances\n",
    "importances_sorted = importance.sort_values()\n",
    "# Draw a horizontal barplot of importances_sorted\n",
    "importances_sorted.plot(kind='barh', color='blue')\n",
    "plt.title('Features Importances')\n",
    "plt.show()"
   ]
  },
  {
   "attachments": {},
   "cell_type": "markdown",
   "metadata": {},
   "source": [
    "Using the sequential feature selection to see if we can improve the score. "
   ]
  },
  {
   "cell_type": "code",
   "execution_count": 38,
   "metadata": {},
   "outputs": [],
   "source": [
    "from sklearn.feature_selection import SequentialFeatureSelector\n",
    "from sklearn.model_selection import TimeSeriesSplit\n",
    "\n",
    "\n",
    "split = TimeSeriesSplit(n_splits=3)\n",
    "\n",
    "sfs = SequentialFeatureSelector(rf, \n",
    "                                n_features_to_select=20, \n",
    "                                direction=\"forward\",\n",
    "                                cv=split,\n",
    "                                n_jobs=1\n",
    "                               )"
   ]
  },
  {
   "cell_type": "code",
   "execution_count": 39,
   "metadata": {},
   "outputs": [
    {
     "data": {
      "text/plain": [
       "['venue_code', 'opp_code', 'hour', 'day_code']"
      ]
     },
     "execution_count": 39,
     "metadata": {},
     "output_type": "execute_result"
    }
   ],
   "source": [
    "predictors"
   ]
  },
  {
   "cell_type": "code",
   "execution_count": 53,
   "metadata": {},
   "outputs": [],
   "source": [
    "cols = ['gf',\n",
    "       'gls', 'sh', 'sot', 'sot%', 'g/sh', 'pk', 'pkatt', 'gf_opp', 'gls_opp',\n",
    "       'sh_opp', 'sot_opp', 'sot%_opp', 'g/sh_opp', 'pk_opp', 'pkatt_opp',\n",
    "       'sota', 'saves', 'cs', 'pka', 'pksv', 'pkm', 'sota_opp', 'saves_opp',\n",
    "       'save%_opp', 'cs_opp', 'pka_opp', 'pksv_opp', 'pkm_opp', 'ast',\n",
    "       'ast_opp', 'crs', 'crs_opp', 'tklw', 'int', 'tkl+int', 'tklw_opp',\n",
    "       'int_opp', 'tkl+int_opp', 'poss_x', 'poss_opp', 'crdy', 'crdr', '2crdy',\n",
    "       'fls', 'og', 'crdy_opp', 'crdr_opp', '2crdy_opp', 'fls_opp', 'og_opp',\n",
    "       ]\n",
    "\n",
    "new_cols = [f\"{c}_rolling\" for c in cols] # add_rolling to column names\n",
    "\n",
    "df_rolling = df.groupby('team').apply(lambda x: rolling_averages(x,cols,new_cols))\n",
    "df_rolling = df_rolling.droplevel('team')"
   ]
  },
  {
   "cell_type": "code",
   "execution_count": 162,
   "metadata": {},
   "outputs": [
    {
     "data": {
      "text/html": [
       "<style>#sk-container-id-2 {color: black;background-color: white;}#sk-container-id-2 pre{padding: 0;}#sk-container-id-2 div.sk-toggleable {background-color: white;}#sk-container-id-2 label.sk-toggleable__label {cursor: pointer;display: block;width: 100%;margin-bottom: 0;padding: 0.3em;box-sizing: border-box;text-align: center;}#sk-container-id-2 label.sk-toggleable__label-arrow:before {content: \"▸\";float: left;margin-right: 0.25em;color: #696969;}#sk-container-id-2 label.sk-toggleable__label-arrow:hover:before {color: black;}#sk-container-id-2 div.sk-estimator:hover label.sk-toggleable__label-arrow:before {color: black;}#sk-container-id-2 div.sk-toggleable__content {max-height: 0;max-width: 0;overflow: hidden;text-align: left;background-color: #f0f8ff;}#sk-container-id-2 div.sk-toggleable__content pre {margin: 0.2em;color: black;border-radius: 0.25em;background-color: #f0f8ff;}#sk-container-id-2 input.sk-toggleable__control:checked~div.sk-toggleable__content {max-height: 200px;max-width: 100%;overflow: auto;}#sk-container-id-2 input.sk-toggleable__control:checked~label.sk-toggleable__label-arrow:before {content: \"▾\";}#sk-container-id-2 div.sk-estimator input.sk-toggleable__control:checked~label.sk-toggleable__label {background-color: #d4ebff;}#sk-container-id-2 div.sk-label input.sk-toggleable__control:checked~label.sk-toggleable__label {background-color: #d4ebff;}#sk-container-id-2 input.sk-hidden--visually {border: 0;clip: rect(1px 1px 1px 1px);clip: rect(1px, 1px, 1px, 1px);height: 1px;margin: -1px;overflow: hidden;padding: 0;position: absolute;width: 1px;}#sk-container-id-2 div.sk-estimator {font-family: monospace;background-color: #f0f8ff;border: 1px dotted black;border-radius: 0.25em;box-sizing: border-box;margin-bottom: 0.5em;}#sk-container-id-2 div.sk-estimator:hover {background-color: #d4ebff;}#sk-container-id-2 div.sk-parallel-item::after {content: \"\";width: 100%;border-bottom: 1px solid gray;flex-grow: 1;}#sk-container-id-2 div.sk-label:hover label.sk-toggleable__label {background-color: #d4ebff;}#sk-container-id-2 div.sk-serial::before {content: \"\";position: absolute;border-left: 1px solid gray;box-sizing: border-box;top: 0;bottom: 0;left: 50%;z-index: 0;}#sk-container-id-2 div.sk-serial {display: flex;flex-direction: column;align-items: center;background-color: white;padding-right: 0.2em;padding-left: 0.2em;position: relative;}#sk-container-id-2 div.sk-item {position: relative;z-index: 1;}#sk-container-id-2 div.sk-parallel {display: flex;align-items: stretch;justify-content: center;background-color: white;position: relative;}#sk-container-id-2 div.sk-item::before, #sk-container-id-2 div.sk-parallel-item::before {content: \"\";position: absolute;border-left: 1px solid gray;box-sizing: border-box;top: 0;bottom: 0;left: 50%;z-index: -1;}#sk-container-id-2 div.sk-parallel-item {display: flex;flex-direction: column;z-index: 1;position: relative;background-color: white;}#sk-container-id-2 div.sk-parallel-item:first-child::after {align-self: flex-end;width: 50%;}#sk-container-id-2 div.sk-parallel-item:last-child::after {align-self: flex-start;width: 50%;}#sk-container-id-2 div.sk-parallel-item:only-child::after {width: 0;}#sk-container-id-2 div.sk-dashed-wrapped {border: 1px dashed gray;margin: 0 0.4em 0.5em 0.4em;box-sizing: border-box;padding-bottom: 0.4em;background-color: white;}#sk-container-id-2 div.sk-label label {font-family: monospace;font-weight: bold;display: inline-block;line-height: 1.2em;}#sk-container-id-2 div.sk-label-container {text-align: center;}#sk-container-id-2 div.sk-container {/* jupyter's `normalize.less` sets `[hidden] { display: none; }` but bootstrap.min.css set `[hidden] { display: none !important; }` so we also need the `!important` here to be able to override the default hidden behavior on the sphinx rendered scikit-learn.org. See: https://github.com/scikit-learn/scikit-learn/issues/21755 */display: inline-block !important;position: relative;}#sk-container-id-2 div.sk-text-repr-fallback {display: none;}</style><div id=\"sk-container-id-2\" class=\"sk-top-container\"><div class=\"sk-text-repr-fallback\"><pre>SequentialFeatureSelector(cv=TimeSeriesSplit(gap=0, max_train_size=None, n_splits=3, test_size=None),\n",
       "                          estimator=RandomForestClassifier(class_weight=&#x27;balanced&#x27;,\n",
       "                                                           min_samples_split=40,\n",
       "                                                           n_estimators=500,\n",
       "                                                           random_state=1),\n",
       "                          n_features_to_select=20, n_jobs=1)</pre><b>In a Jupyter environment, please rerun this cell to show the HTML representation or trust the notebook. <br />On GitHub, the HTML representation is unable to render, please try loading this page with nbviewer.org.</b></div><div class=\"sk-container\" hidden><div class=\"sk-item sk-dashed-wrapped\"><div class=\"sk-label-container\"><div class=\"sk-label sk-toggleable\"><input class=\"sk-toggleable__control sk-hidden--visually\" id=\"sk-estimator-id-4\" type=\"checkbox\" ><label for=\"sk-estimator-id-4\" class=\"sk-toggleable__label sk-toggleable__label-arrow\">SequentialFeatureSelector</label><div class=\"sk-toggleable__content\"><pre>SequentialFeatureSelector(cv=TimeSeriesSplit(gap=0, max_train_size=None, n_splits=3, test_size=None),\n",
       "                          estimator=RandomForestClassifier(class_weight=&#x27;balanced&#x27;,\n",
       "                                                           min_samples_split=40,\n",
       "                                                           n_estimators=500,\n",
       "                                                           random_state=1),\n",
       "                          n_features_to_select=20, n_jobs=1)</pre></div></div></div><div class=\"sk-parallel\"><div class=\"sk-parallel-item\"><div class=\"sk-item\"><div class=\"sk-label-container\"><div class=\"sk-label sk-toggleable\"><input class=\"sk-toggleable__control sk-hidden--visually\" id=\"sk-estimator-id-5\" type=\"checkbox\" ><label for=\"sk-estimator-id-5\" class=\"sk-toggleable__label sk-toggleable__label-arrow\">estimator: RandomForestClassifier</label><div class=\"sk-toggleable__content\"><pre>RandomForestClassifier(class_weight=&#x27;balanced&#x27;, min_samples_split=40,\n",
       "                       n_estimators=500, random_state=1)</pre></div></div></div><div class=\"sk-serial\"><div class=\"sk-item\"><div class=\"sk-estimator sk-toggleable\"><input class=\"sk-toggleable__control sk-hidden--visually\" id=\"sk-estimator-id-6\" type=\"checkbox\" ><label for=\"sk-estimator-id-6\" class=\"sk-toggleable__label sk-toggleable__label-arrow\">RandomForestClassifier</label><div class=\"sk-toggleable__content\"><pre>RandomForestClassifier(class_weight=&#x27;balanced&#x27;, min_samples_split=40,\n",
       "                       n_estimators=500, random_state=1)</pre></div></div></div></div></div></div></div></div></div></div>"
      ],
      "text/plain": [
       "SequentialFeatureSelector(cv=TimeSeriesSplit(gap=0, max_train_size=None, n_splits=3, test_size=None),\n",
       "                          estimator=RandomForestClassifier(class_weight='balanced',\n",
       "                                                           min_samples_split=40,\n",
       "                                                           n_estimators=500,\n",
       "                                                           random_state=1),\n",
       "                          n_features_to_select=20, n_jobs=1)"
      ]
     },
     "execution_count": 162,
     "metadata": {},
     "output_type": "execute_result"
    }
   ],
   "source": [
    "sfs.fit(df_rolling[predictors+new_cols], df_rolling[\"target\"])"
   ]
  },
  {
   "cell_type": "code",
   "execution_count": 41,
   "metadata": {},
   "outputs": [],
   "source": [
    "selected_cols = predictors+new_cols"
   ]
  },
  {
   "cell_type": "code",
   "execution_count": 324,
   "metadata": {},
   "outputs": [],
   "source": [
    "predictors2 = [b for a, b in zip(sfs.get_support(), selected_cols) if a]"
   ]
  },
  {
   "cell_type": "code",
   "execution_count": 54,
   "metadata": {},
   "outputs": [
    {
     "data": {
      "text/plain": [
       "['venue_code',\n",
       " 'opp_code',\n",
       " 'g/sh_rolling',\n",
       " 'pkatt_rolling',\n",
       " 'pkatt_opp_rolling',\n",
       " 'pksv_rolling',\n",
       " 'pkm_rolling',\n",
       " 'cs_opp_rolling',\n",
       " 'pksv_opp_rolling',\n",
       " 'pkm_opp_rolling',\n",
       " 'ast_rolling',\n",
       " 'tkl+int_rolling',\n",
       " 'crdy_rolling',\n",
       " 'crdr_rolling',\n",
       " '2crdy_rolling',\n",
       " 'og_rolling',\n",
       " 'crdy_opp_rolling',\n",
       " 'crdr_opp_rolling',\n",
       " '2crdy_opp_rolling',\n",
       " 'og_opp_rolling']"
      ]
     },
     "execution_count": 54,
     "metadata": {},
     "output_type": "execute_result"
    }
   ],
   "source": [
    "predictors2"
   ]
  },
  {
   "cell_type": "code",
   "execution_count": 55,
   "metadata": {},
   "outputs": [],
   "source": [
    "predictors2=['venue_code','opp_code','g/sh_rolling','pkatt_rolling','pkatt_opp_rolling','pksv_rolling','pkm_rolling','cs_opp_rolling',\n",
    " 'pksv_opp_rolling','pkm_opp_rolling','ast_rolling','tkl+int_rolling','crdy_rolling','crdr_rolling','2crdy_rolling','og_rolling',\n",
    " 'crdy_opp_rolling','crdr_opp_rolling','2crdy_opp_rolling','og_opp_rolling']"
   ]
  },
  {
   "cell_type": "code",
   "execution_count": 56,
   "metadata": {},
   "outputs": [
    {
     "name": "stdout",
     "output_type": "stream",
     "text": [
      "[0.60638298 0.62614679]\n",
      "0.6179429432194432\n"
     ]
    }
   ],
   "source": [
    "combined, precision_weight, precision_raw, importances = make_predictions (df_rolling, predictors2)\n",
    "\n",
    "print(precision_raw)\n",
    "print(precision_weight)"
   ]
  },
  {
   "cell_type": "code",
   "execution_count": 57,
   "metadata": {},
   "outputs": [
    {
     "data": {
      "image/png": "[encoded data removed]",
      "text/plain": [
       "<Figure size 640x480 with 1 Axes>"
      ]
     },
     "metadata": {},
     "output_type": "display_data"
    }
   ],
   "source": [
    "importance = pd.Series(data=importances,\n",
    "                        index=  predictors2)\n",
    "# Sort importances\n",
    "importances_sorted = importance.sort_values()\n",
    "# Draw a horizontal barplot of importances_sorted\n",
    "importances_sorted.plot(kind='barh', color='blue')\n",
    "plt.title('Features Importances')\n",
    "plt.show()"
   ]
  },
  {
   "cell_type": "code",
   "execution_count": 58,
   "metadata": {},
   "outputs": [
    {
     "data": {
      "text/html": [
       "<div>\n",
       "<style scoped>\n",
       "    .dataframe tbody tr th:only-of-type {\n",
       "        vertical-align: middle;\n",
       "    }\n",
       "\n",
       "    .dataframe tbody tr th {\n",
       "        vertical-align: top;\n",
       "    }\n",
       "\n",
       "    .dataframe thead th {\n",
       "        text-align: right;\n",
       "    }\n",
       "</style>\n",
       "<table border=\"1\" class=\"dataframe\">\n",
       "  <thead>\n",
       "    <tr style=\"text-align: right;\">\n",
       "      <th></th>\n",
       "      <th>imp_vals</th>\n",
       "    </tr>\n",
       "  </thead>\n",
       "  <tbody>\n",
       "    <tr>\n",
       "      <th>pkm_opp_rolling</th>\n",
       "      <td>0.006979</td>\n",
       "    </tr>\n",
       "    <tr>\n",
       "      <th>pkm_rolling</th>\n",
       "      <td>0.007591</td>\n",
       "    </tr>\n",
       "    <tr>\n",
       "      <th>pksv_rolling</th>\n",
       "      <td>0.010317</td>\n",
       "    </tr>\n",
       "    <tr>\n",
       "      <th>2crdy_opp_rolling</th>\n",
       "      <td>0.012046</td>\n",
       "    </tr>\n",
       "    <tr>\n",
       "      <th>pksv_opp_rolling</th>\n",
       "      <td>0.012893</td>\n",
       "    </tr>\n",
       "    <tr>\n",
       "      <th>2crdy_rolling</th>\n",
       "      <td>0.015355</td>\n",
       "    </tr>\n",
       "    <tr>\n",
       "      <th>og_rolling</th>\n",
       "      <td>0.016183</td>\n",
       "    </tr>\n",
       "    <tr>\n",
       "      <th>og_opp_rolling</th>\n",
       "      <td>0.018371</td>\n",
       "    </tr>\n",
       "    <tr>\n",
       "      <th>crdr_rolling</th>\n",
       "      <td>0.020527</td>\n",
       "    </tr>\n",
       "    <tr>\n",
       "      <th>crdr_opp_rolling</th>\n",
       "      <td>0.023570</td>\n",
       "    </tr>\n",
       "    <tr>\n",
       "      <th>pkatt_opp_rolling</th>\n",
       "      <td>0.029965</td>\n",
       "    </tr>\n",
       "    <tr>\n",
       "      <th>cs_opp_rolling</th>\n",
       "      <td>0.035270</td>\n",
       "    </tr>\n",
       "    <tr>\n",
       "      <th>pkatt_rolling</th>\n",
       "      <td>0.037980</td>\n",
       "    </tr>\n",
       "    <tr>\n",
       "      <th>venue_code</th>\n",
       "      <td>0.048105</td>\n",
       "    </tr>\n",
       "    <tr>\n",
       "      <th>crdy_opp_rolling</th>\n",
       "      <td>0.073227</td>\n",
       "    </tr>\n",
       "    <tr>\n",
       "      <th>ast_rolling</th>\n",
       "      <td>0.077742</td>\n",
       "    </tr>\n",
       "    <tr>\n",
       "      <th>tkl+int_rolling</th>\n",
       "      <td>0.093563</td>\n",
       "    </tr>\n",
       "    <tr>\n",
       "      <th>g/sh_rolling</th>\n",
       "      <td>0.113187</td>\n",
       "    </tr>\n",
       "    <tr>\n",
       "      <th>crdy_rolling</th>\n",
       "      <td>0.113787</td>\n",
       "    </tr>\n",
       "    <tr>\n",
       "      <th>opp_code</th>\n",
       "      <td>0.233342</td>\n",
       "    </tr>\n",
       "  </tbody>\n",
       "</table>\n",
       "</div>"
      ],
      "text/plain": [
       "                   imp_vals\n",
       "pkm_opp_rolling    0.006979\n",
       "pkm_rolling        0.007591\n",
       "pksv_rolling       0.010317\n",
       "2crdy_opp_rolling  0.012046\n",
       "pksv_opp_rolling   0.012893\n",
       "2crdy_rolling      0.015355\n",
       "og_rolling         0.016183\n",
       "og_opp_rolling     0.018371\n",
       "crdr_rolling       0.020527\n",
       "crdr_opp_rolling   0.023570\n",
       "pkatt_opp_rolling  0.029965\n",
       "cs_opp_rolling     0.035270\n",
       "pkatt_rolling      0.037980\n",
       "venue_code         0.048105\n",
       "crdy_opp_rolling   0.073227\n",
       "ast_rolling        0.077742\n",
       "tkl+int_rolling    0.093563\n",
       "g/sh_rolling       0.113187\n",
       "crdy_rolling       0.113787\n",
       "opp_code           0.233342"
      ]
     },
     "execution_count": 58,
     "metadata": {},
     "output_type": "execute_result"
    }
   ],
   "source": [
    "data ={'imp_vals':importances}\n",
    "imp_df = pd.DataFrame(data=data, index=predictors2)\n",
    "imp_df.sort_values(by = 'imp_vals')"
   ]
  },
  {
   "cell_type": "code",
   "execution_count": 59,
   "metadata": {},
   "outputs": [],
   "source": [
    "predictors3 = imp_df.loc[imp_df['imp_vals']>0.01].index # Selecting from the chosen features, and removing the east important ones. "
   ]
  },
  {
   "cell_type": "code",
   "execution_count": 60,
   "metadata": {},
   "outputs": [
    {
     "data": {
      "text/plain": [
       "Index(['venue_code', 'opp_code', 'g/sh_rolling', 'pkatt_rolling',\n",
       "       'pkatt_opp_rolling', 'pksv_rolling', 'cs_opp_rolling',\n",
       "       'pksv_opp_rolling', 'ast_rolling', 'tkl+int_rolling', 'crdy_rolling',\n",
       "       'crdr_rolling', '2crdy_rolling', 'og_rolling', 'crdy_opp_rolling',\n",
       "       'crdr_opp_rolling', '2crdy_opp_rolling', 'og_opp_rolling'],\n",
       "      dtype='object')"
      ]
     },
     "execution_count": 60,
     "metadata": {},
     "output_type": "execute_result"
    }
   ],
   "source": [
    "predictors3"
   ]
  },
  {
   "cell_type": "code",
   "execution_count": 64,
   "metadata": {},
   "outputs": [
    {
     "name": "stdout",
     "output_type": "stream",
     "text": [
      "[0.6142132  0.63035921]\n",
      "0.6236570929983108\n"
     ]
    }
   ],
   "source": [
    "combined, precision_weight, precision_raw, importances,rf = make_predictions (df_rolling, predictors3)\n",
    "\n",
    "print(precision_raw)\n",
    "print(precision_weight)"
   ]
  },
  {
   "cell_type": "code",
   "execution_count": 65,
   "metadata": {},
   "outputs": [
    {
     "data": {
      "text/plain": [
       "venue\n",
       "Away    0.526864\n",
       "Home    0.622284\n",
       "dtype: float64"
      ]
     },
     "execution_count": 65,
     "metadata": {},
     "output_type": "execute_result"
    }
   ],
   "source": [
    "df.groupby([\"venue\"]).apply(lambda x: x[x[\"result\"] == 'W'].shape[0]/ x.shape[0]) # So 52% of the home games are won. "
   ]
  },
  {
   "attachments": {},
   "cell_type": "markdown",
   "metadata": {},
   "source": [
    "Hence we have beaten the benchmark using selected features. "
   ]
  },
  {
   "cell_type": "code",
   "execution_count": 62,
   "metadata": {},
   "outputs": [],
   "source": [
    "import pickle"
   ]
  },
  {
   "cell_type": "code",
   "execution_count": null,
   "metadata": {},
   "outputs": [],
   "source": [
    "appData = [predictors3, df_rolling, rf]\n",
    "pickle.dump(appData,open('appData.pkl','wb'))"
   ]
  },
  {
   "cell_type": "markdown",
   "metadata": {},
   "source": [
    "#### Useful stuff\n",
    "Do the following to get a list of the numeric columns, or select an type of column based on its tpes. \n",
    "\n",
    "```[key for key in dict(DF.dtypes) if dict(DF.dtypes)[key] in ['float64', 'int64']]```"
   ]
  }
 ],
 "metadata": {
  "kernelspec": {
   "display_name": "football_proj",
   "language": "python",
   "name": "python3"
  },
  "language_info": {
   "codemirror_mode": {
    "name": "ipython",
    "version": 3
   },
   "file_extension": ".py",
   "mimetype": "text/x-python",
   "name": "python",
   "nbconvert_exporter": "python",
   "pygments_lexer": "ipython3",
   "version": "3.11.0"
  },
  "orig_nbformat": 4,
  "vscode": {
   "interpreter": {
    "hash": "3b2572b4a15cb33407f4fd5615f06488f520abed03bc861addd9f2796186c7a0"
   }
  }
 },
 "nbformat": 4,
 "nbformat_minor": 2
}
