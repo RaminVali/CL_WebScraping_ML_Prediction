{
 "cells": [
  {
   "cell_type": "code",
   "execution_count": 1,
   "metadata": {},
   "outputs": [],
   "source": [
    "import pandas as pd\n",
    "import numpy as np\n",
    "import matplotlib.pyplot as plt\n",
    "import pickle"
   ]
  },
  {
   "attachments": {},
   "cell_type": "markdown",
   "metadata": {},
   "source": [
    "# Data Cleaning\n",
    "\n",
    "Need to remove the unusable and redundant columns"
   ]
  },
  {
   "cell_type": "code",
   "execution_count": 2,
   "metadata": {},
   "outputs": [
    {
     "data": {
      "text/plain": [
       "(4095, 236)"
      ]
     },
     "execution_count": 2,
     "metadata": {},
     "output_type": "execute_result"
    }
   ],
   "source": [
    "df = pd.read_csv('all_seasons.csv', index_col=0)\n",
    "df.reset_index(inplace=True, drop = True)\n",
    "df.shape"
   ]
  },
  {
   "attachments": {},
   "cell_type": "markdown",
   "metadata": {},
   "source": [
    "### Columns to delete:\n",
    "- gf = gols for\n",
    "- ga = goals against\n",
    "- gf_opp = goals or the opponent\n",
    "- ga_opp = goals against the opponent. \n",
    "- poss = possession, it has got x, y in the merging, will drop one and use the other. \n",
    "- Will remove ga and ga_opp as the columns are redundant. "
   ]
  },
  {
   "cell_type": "code",
   "execution_count": 3,
   "metadata": {},
   "outputs": [
    {
     "data": {
      "text/plain": [
       "(4095, 216)"
      ]
     },
     "execution_count": 3,
     "metadata": {},
     "output_type": "execute_result"
    }
   ],
   "source": [
    "cols_todel = ['ga','match report_x','match report_y','date_opp','time_opp','comp_opp','round_opp','day_opp','venue_opp','result_opp','ga_opp','opponent_opp','xg', 'xg_y', 'match report_opp','poss_y', 'captain','referee','notes', 'attendance']\n",
    "df.drop(cols_todel, axis=1, inplace=True)\n",
    "df.shape"
   ]
  },
  {
   "attachments": {},
   "cell_type": "markdown",
   "metadata": {},
   "source": [
    "Some gf and gf_opp parts have \"()\" in them for aggregate score. I will have to ensure they are processed correctly, I will take the value outside of the parenthesis, as that is the match sore."
   ]
  },
  {
   "cell_type": "code",
   "execution_count": 4,
   "metadata": {},
   "outputs": [],
   "source": [
    "df.loc[df[\"gf\"].str.contains(\" \"),'gf'] = df[\"gf\"].str[0] # if the Score column starts with \"(\", then grab the first from left char.\n",
    "df.loc[df[\"gf_opp\"].str.contains(\" \"),'gf_opp'] = df[\"gf_opp\"].str[0]"
   ]
  },
  {
   "attachments": {},
   "cell_type": "markdown",
   "metadata": {},
   "source": [
    "## Encoding string columns\n",
    "\n",
    "- First clean the opponent column before encoding it, the namings are not consistent\n"
   ]
  },
  {
   "cell_type": "code",
   "execution_count": 5,
   "metadata": {},
   "outputs": [
    {
     "data": {
      "text/plain": [
       "523"
      ]
     },
     "execution_count": 5,
     "metadata": {},
     "output_type": "execute_result"
    }
   ],
   "source": [
    "len(df['opponent'].unique())"
   ]
  },
  {
   "cell_type": "code",
   "execution_count": 6,
   "metadata": {},
   "outputs": [
    {
     "data": {
      "text/plain": [
       "459"
      ]
     },
     "execution_count": 6,
     "metadata": {},
     "output_type": "execute_result"
    }
   ],
   "source": [
    "df['opponent'] = df['opponent'].apply(lambda x: x[3:].lstrip() if x[0].islower() else x)  # If the format of the name starts with small letters, that is the country code. \n",
    "len(df['opponent'].unique())"
   ]
  },
  {
   "attachments": {},
   "cell_type": "markdown",
   "metadata": {},
   "source": [
    "Making team names consistent. "
   ]
  },
  {
   "cell_type": "code",
   "execution_count": 7,
   "metadata": {},
   "outputs": [
    {
     "data": {
      "text/plain": [
       "459"
      ]
     },
     "execution_count": 7,
     "metadata": {},
     "output_type": "execute_result"
    }
   ],
   "source": [
    "df['opponent'] = df['opponent'].apply(lambda x:'Atletico Madrid' if x == 'Atlético Madrid' else x)\n",
    "df['opponent'] = df['opponent'].apply(lambda x:'Bayer Leverkusen' if x == 'Leverkusen' else x)\n",
    "df['opponent'] = df['opponent'].apply(lambda x:'Eintracht Frankfurt' if x == 'Eint Frankfurt' else x)\n",
    "df['opponent'] = df['opponent'].apply(lambda x:'Internazionale' if x == 'Inter' else x)\n",
    "df['opponent'] = df['opponent'].apply(lambda x:'Paris Saint Germain' if x == 'Paris S-G' else x)\n",
    "df['opponent'] = df['opponent'].apply(lambda x:'Red Bull Salzburg' if x == 'RB Salzburg' else x)\n",
    "df['opponent'] = df['opponent'].apply(lambda x:'Shakhtar Donetsk' if x == 'Shakhtar' else x)\n",
    "df['opponent'] = df['opponent'].apply(lambda x:'Tottenham Hotspur' if x == 'Tottenham' else x)\n",
    "df['opponent'] = df['opponent'].apply(lambda x:'Viktoria Plzen' if x == 'Viktoria Plzeň' else x)\n",
    "len(df['opponent'].unique())"
   ]
  },
  {
   "attachments": {},
   "cell_type": "markdown",
   "metadata": {},
   "source": [
    "Checking the \"team\" column, the way team and opponent names are written must be consistent. "
   ]
  },
  {
   "cell_type": "code",
   "execution_count": 8,
   "metadata": {},
   "outputs": [
    {
     "name": "stdout",
     "output_type": "stream",
     "text": [
      "52\n"
     ]
    },
    {
     "data": {
      "text/plain": [
       "array(['Chelsea', 'Manchester City', 'Real Madrid', 'Paris Saint Germain',\n",
       "       'Bayern Munich', 'Liverpool', 'Porto', 'Dortmund', 'Juventus',\n",
       "       'Barcelona', 'Sevilla', 'RB Leipzig', 'Atalanta', 'Lazio',\n",
       "       'Atletico Madrid', 'Monchengladbach', 'Manchester United',\n",
       "       'Club Brugge', 'Shakhtar Donetsk', 'Ajax', 'Internazionale',\n",
       "       'Krasnodar', 'Red Bull Salzburg', 'Dynamo Kyiv',\n",
       "       'Lokomotiv Moscow', 'Olympiacos', 'Istanbul Basaksehir',\n",
       "       'Marseille', 'Midtjylland', 'Rennes', 'Zenit', 'Ferencvaros',\n",
       "       'Villarreal', 'Benfica', 'Lille', 'Sporting CP',\n",
       "       'Sheriff Tiraspol', 'Young Boys', 'Wolfsburg', 'Milan', 'Malmo',\n",
       "       'Besiktas', 'Napoli', 'Tottenham Hotspur', 'Eintracht Frankfurt',\n",
       "       'Bayer Leverkusen', 'Dinamo Zagreb', 'FC Copenhagen',\n",
       "       'Maccabi Haifa', 'Celtic', 'Viktoria Plzen', 'Rangers'],\n",
       "      dtype=object)"
      ]
     },
     "execution_count": 8,
     "metadata": {},
     "output_type": "execute_result"
    }
   ],
   "source": [
    "print(len(df['team'].unique()))\n",
    "df['team'].unique()"
   ]
  },
  {
   "attachments": {},
   "cell_type": "markdown",
   "metadata": {},
   "source": [
    "Now encode the rest of the information rich categorical columns."
   ]
  },
  {
   "cell_type": "code",
   "execution_count": 9,
   "metadata": {},
   "outputs": [
    {
     "data": {
      "text/html": [
       "<div>\n",
       "<style scoped>\n",
       "    .dataframe tbody tr th:only-of-type {\n",
       "        vertical-align: middle;\n",
       "    }\n",
       "\n",
       "    .dataframe tbody tr th {\n",
       "        vertical-align: top;\n",
       "    }\n",
       "\n",
       "    .dataframe thead th {\n",
       "        text-align: right;\n",
       "    }\n",
       "</style>\n",
       "<table border=\"1\" class=\"dataframe\">\n",
       "  <thead>\n",
       "    <tr style=\"text-align: right;\">\n",
       "      <th></th>\n",
       "      <th>date</th>\n",
       "      <th>time</th>\n",
       "      <th>comp</th>\n",
       "      <th>round</th>\n",
       "      <th>day</th>\n",
       "      <th>venue</th>\n",
       "      <th>result</th>\n",
       "      <th>gf</th>\n",
       "      <th>opponent</th>\n",
       "      <th>gls</th>\n",
       "      <th>...</th>\n",
       "      <th>formation</th>\n",
       "      <th>team</th>\n",
       "      <th>season</th>\n",
       "      <th>venue_code</th>\n",
       "      <th>opp_code</th>\n",
       "      <th>round_code</th>\n",
       "      <th>comp_code</th>\n",
       "      <th>formation_code</th>\n",
       "      <th>hour</th>\n",
       "      <th>day_code</th>\n",
       "    </tr>\n",
       "  </thead>\n",
       "  <tbody>\n",
       "    <tr>\n",
       "      <th>0</th>\n",
       "      <td>2020-09-14</td>\n",
       "      <td>20:15</td>\n",
       "      <td>Premier League</td>\n",
       "      <td>Matchweek 1</td>\n",
       "      <td>Mon</td>\n",
       "      <td>Away</td>\n",
       "      <td>W</td>\n",
       "      <td>3</td>\n",
       "      <td>Brighton</td>\n",
       "      <td>3.0</td>\n",
       "      <td>...</td>\n",
       "      <td>4-2-2-2</td>\n",
       "      <td>Chelsea</td>\n",
       "      <td>2020-2021</td>\n",
       "      <td>0</td>\n",
       "      <td>73</td>\n",
       "      <td>12</td>\n",
       "      <td>19</td>\n",
       "      <td>13</td>\n",
       "      <td>20</td>\n",
       "      <td>0</td>\n",
       "    </tr>\n",
       "    <tr>\n",
       "      <th>1</th>\n",
       "      <td>2020-09-20</td>\n",
       "      <td>16:30</td>\n",
       "      <td>Premier League</td>\n",
       "      <td>Matchweek 2</td>\n",
       "      <td>Sun</td>\n",
       "      <td>Home</td>\n",
       "      <td>L</td>\n",
       "      <td>0</td>\n",
       "      <td>Liverpool</td>\n",
       "      <td>0.0</td>\n",
       "      <td>...</td>\n",
       "      <td>4-3-3</td>\n",
       "      <td>Chelsea</td>\n",
       "      <td>2020-2021</td>\n",
       "      <td>1</td>\n",
       "      <td>229</td>\n",
       "      <td>23</td>\n",
       "      <td>19</td>\n",
       "      <td>18</td>\n",
       "      <td>16</td>\n",
       "      <td>6</td>\n",
       "    </tr>\n",
       "    <tr>\n",
       "      <th>2</th>\n",
       "      <td>2020-09-23</td>\n",
       "      <td>19:45</td>\n",
       "      <td>EFL Cup</td>\n",
       "      <td>Third round</td>\n",
       "      <td>Wed</td>\n",
       "      <td>Home</td>\n",
       "      <td>W</td>\n",
       "      <td>6</td>\n",
       "      <td>Barnsley</td>\n",
       "      <td>6.0</td>\n",
       "      <td>...</td>\n",
       "      <td>4-2-3-1</td>\n",
       "      <td>Chelsea</td>\n",
       "      <td>2020-2021</td>\n",
       "      <td>1</td>\n",
       "      <td>50</td>\n",
       "      <td>66</td>\n",
       "      <td>10</td>\n",
       "      <td>14</td>\n",
       "      <td>19</td>\n",
       "      <td>2</td>\n",
       "    </tr>\n",
       "    <tr>\n",
       "      <th>3</th>\n",
       "      <td>2020-09-26</td>\n",
       "      <td>17:30</td>\n",
       "      <td>Premier League</td>\n",
       "      <td>Matchweek 3</td>\n",
       "      <td>Sat</td>\n",
       "      <td>Away</td>\n",
       "      <td>D</td>\n",
       "      <td>3</td>\n",
       "      <td>West Brom</td>\n",
       "      <td>3.0</td>\n",
       "      <td>...</td>\n",
       "      <td>4-2-3-1</td>\n",
       "      <td>Chelsea</td>\n",
       "      <td>2020-2021</td>\n",
       "      <td>0</td>\n",
       "      <td>435</td>\n",
       "      <td>34</td>\n",
       "      <td>19</td>\n",
       "      <td>14</td>\n",
       "      <td>17</td>\n",
       "      <td>5</td>\n",
       "    </tr>\n",
       "    <tr>\n",
       "      <th>4</th>\n",
       "      <td>2020-09-29</td>\n",
       "      <td>19:45</td>\n",
       "      <td>EFL Cup</td>\n",
       "      <td>Fourth round</td>\n",
       "      <td>Tue</td>\n",
       "      <td>Away</td>\n",
       "      <td>D</td>\n",
       "      <td>1</td>\n",
       "      <td>Tottenham Hotspur</td>\n",
       "      <td>1.0</td>\n",
       "      <td>...</td>\n",
       "      <td>4-2-3-1</td>\n",
       "      <td>Chelsea</td>\n",
       "      <td>2020-2021</td>\n",
       "      <td>0</td>\n",
       "      <td>395</td>\n",
       "      <td>8</td>\n",
       "      <td>10</td>\n",
       "      <td>14</td>\n",
       "      <td>19</td>\n",
       "      <td>1</td>\n",
       "    </tr>\n",
       "  </tbody>\n",
       "</table>\n",
       "<p>5 rows × 223 columns</p>\n",
       "</div>"
      ],
      "text/plain": [
       "        date   time            comp         round  day venue result gf  \\\n",
       "0 2020-09-14  20:15  Premier League   Matchweek 1  Mon  Away      W  3   \n",
       "1 2020-09-20  16:30  Premier League   Matchweek 2  Sun  Home      L  0   \n",
       "2 2020-09-23  19:45         EFL Cup   Third round  Wed  Home      W  6   \n",
       "3 2020-09-26  17:30  Premier League   Matchweek 3  Sat  Away      D  3   \n",
       "4 2020-09-29  19:45         EFL Cup  Fourth round  Tue  Away      D  1   \n",
       "\n",
       "            opponent  gls  ...  formation     team     season  venue_code  \\\n",
       "0           Brighton  3.0  ...    4-2-2-2  Chelsea  2020-2021           0   \n",
       "1          Liverpool  0.0  ...      4-3-3  Chelsea  2020-2021           1   \n",
       "2           Barnsley  6.0  ...    4-2-3-1  Chelsea  2020-2021           1   \n",
       "3          West Brom  3.0  ...    4-2-3-1  Chelsea  2020-2021           0   \n",
       "4  Tottenham Hotspur  1.0  ...    4-2-3-1  Chelsea  2020-2021           0   \n",
       "\n",
       "   opp_code  round_code  comp_code  formation_code  hour  day_code  \n",
       "0        73          12         19              13    20         0  \n",
       "1       229          23         19              18    16         6  \n",
       "2        50          66         10              14    19         2  \n",
       "3       435          34         19              14    17         5  \n",
       "4       395           8         10              14    19         1  \n",
       "\n",
       "[5 rows x 223 columns]"
      ]
     },
     "execution_count": 9,
     "metadata": {},
     "output_type": "execute_result"
    }
   ],
   "source": [
    "df['date'] = pd.to_datetime(df['date'],dayfirst=True)\n",
    "df[\"venue_code\"] = df[\"venue\"].astype(\"category\").cat.codes\n",
    "df[\"opp_code\"] = df[\"opponent\"].astype(\"category\").cat.codes #\n",
    "df['round_code'] = df['round'].astype('category').cat.codes\n",
    "df['comp_code'] = df['comp'].astype('category').cat.codes\n",
    "df['formation_code'] = df['formation'].astype('category').cat.codes\n",
    "\n",
    "\n",
    "df[\"hour\"] = df[\"time\"].str.replace(\":.+\", \"\", regex=True).astype(\"int\")\n",
    "df[\"day_code\"] = df[\"date\"].dt.dayofweek\n",
    "\n",
    "df.head()"
   ]
  },
  {
   "attachments": {},
   "cell_type": "markdown",
   "metadata": {},
   "source": [
    "## Missing Data\n",
    "Deleting rows that are missing a lot of stats. Already have very high dimensionality, and not enough data or this many dimensions, so wil remove some of the stat columns. Let us have a visual on the missing values in all the columns. "
   ]
  },
  {
   "cell_type": "code",
   "execution_count": 10,
   "metadata": {},
   "outputs": [
    {
     "data": {
      "text/plain": [
       "(4095, 223)"
      ]
     },
     "execution_count": 10,
     "metadata": {},
     "output_type": "execute_result"
    },
    {
     "data": {
      "image/png": "[encoded data removed]",
      "text/plain": [
       "<Figure size 640x480 with 1 Axes>"
      ]
     },
     "metadata": {},
     "output_type": "display_data"
    }
   ],
   "source": [
    "missing = pd.DataFrame(df.isnull().sum().sort_values(ascending=False))\n",
    "missing.rename(columns={0:'missing_val'}, inplace=True)\n",
    "missing[missing['missing_val']>0].plot.bar()\n",
    "\n",
    "df.shape"
   ]
  },
  {
   "attachments": {},
   "cell_type": "markdown",
   "metadata": {},
   "source": [
    "We can see that the number of missing values drops down in a step function. So we delete the columns that have over 300 missing values and the rows for anything less than that. This is the sweet spot as deleting more columns or rows will impact the quality of our data. \n",
    "Also, the relationship between various features in football matches is highly (e.g the opponent team) so imputation is not the answer here as it may affect the quality of the data too much."
   ]
  },
  {
   "cell_type": "code",
   "execution_count": 11,
   "metadata": {},
   "outputs": [
    {
     "data": {
      "text/plain": [
       "(4095, 69)"
      ]
     },
     "execution_count": 11,
     "metadata": {},
     "output_type": "execute_result"
    }
   ],
   "source": [
    "cols_todel2 = missing[missing['missing_val']>300].index\n",
    "df.drop(list(cols_todel2), axis=1, inplace=True)\n",
    "df.shape"
   ]
  },
  {
   "attachments": {},
   "cell_type": "markdown",
   "metadata": {},
   "source": [
    "Of course if one is interested, one can use these columns with the rows that have them, but I choose to have lower dimensionality and more data rows. "
   ]
  },
  {
   "cell_type": "code",
   "execution_count": 12,
   "metadata": {},
   "outputs": [
    {
     "data": {
      "text/plain": [
       "(3707, 69)"
      ]
     },
     "execution_count": 12,
     "metadata": {},
     "output_type": "execute_result"
    }
   ],
   "source": [
    "df = df.dropna(axis = 0) #drop rows with missing values\n",
    "# df = df.reset_index(drop=True)\n",
    "df.shape # and no missing values."
   ]
  },
  {
   "attachments": {},
   "cell_type": "markdown",
   "metadata": {},
   "source": [
    "Everything that has to be numeric is already numeric. Let us make a target variable first."
   ]
  },
  {
   "attachments": {},
   "cell_type": "markdown",
   "metadata": {},
   "source": [
    "## Setting up the target column"
   ]
  },
  {
   "cell_type": "code",
   "execution_count": 13,
   "metadata": {},
   "outputs": [
    {
     "data": {
      "text/plain": [
       "W    2128\n",
       "L     829\n",
       "D     750\n",
       "Name: result, dtype: int64"
      ]
     },
     "execution_count": 13,
     "metadata": {},
     "output_type": "execute_result"
    }
   ],
   "source": [
    "df['result'].value_counts()"
   ]
  },
  {
   "attachments": {},
   "cell_type": "markdown",
   "metadata": {},
   "source": [
    "As can be seen from above, the result column is not balanced. Also, according to our brief of predicting if the game is going ot be a win or \"not\", we will have a binary target column, the result is either a win or loss. Te reason the number of wins is a lot higher than the losses and draws is that these tea have qualified for the Champions League. The qualifying teams win the majority of their games in the domestic leagues as well. "
   ]
  },
  {
   "cell_type": "code",
   "execution_count": 14,
   "metadata": {},
   "outputs": [],
   "source": [
    "df = df.sort_values(\"date\")\n",
    "df=df.reset_index(drop=True)"
   ]
  },
  {
   "cell_type": "code",
   "execution_count": 15,
   "metadata": {},
   "outputs": [
    {
     "data": {
      "text/plain": [
       "venue\n",
       "Away       0.525323\n",
       "Home       0.625068\n",
       "Neutral    0.458333\n",
       "dtype: float64"
      ]
     },
     "execution_count": 15,
     "metadata": {},
     "output_type": "execute_result"
    }
   ],
   "source": [
    "df.groupby([\"venue\"]).apply(lambda x: x[x[\"result\"] == 'W'].shape[0]/ x.shape[0])"
   ]
  },
  {
   "cell_type": "code",
   "execution_count": 16,
   "metadata": {},
   "outputs": [
    {
     "data": {
      "text/plain": [
       "Away       1856\n",
       "Home       1827\n",
       "Neutral      24\n",
       "Name: venue, dtype: int64"
      ]
     },
     "execution_count": 16,
     "metadata": {},
     "output_type": "execute_result"
    }
   ],
   "source": [
    "df.venue.value_counts() # this is not balanced. Have to drop the venues that are neutral. It is only 24 rows. "
   ]
  },
  {
   "cell_type": "code",
   "execution_count": 17,
   "metadata": {},
   "outputs": [
    {
     "data": {
      "text/plain": [
       "venue\n",
       "Away    0.525323\n",
       "Home    0.625068\n",
       "dtype: float64"
      ]
     },
     "execution_count": 17,
     "metadata": {},
     "output_type": "execute_result"
    }
   ],
   "source": [
    "df = df.loc[df['venue']!='Neutral'] # dropping venue = neutral. \n",
    "df.groupby([\"venue\"]).apply(lambda x: x[x[\"result\"] == 'W'].shape[0]/ x.shape[0]) # So in %62 of the cases, the team wins their home games, as opposed to onl 52% of their away games. \n",
    "# This is our benchmark."
   ]
  },
  {
   "cell_type": "code",
   "execution_count": 18,
   "metadata": {},
   "outputs": [],
   "source": [
    "df['target'] = (df['result'] == \"W\").astype(\"int\")"
   ]
  },
  {
   "attachments": {},
   "cell_type": "markdown",
   "metadata": {},
   "source": [
    "# Prediction Using Machine Learning"
   ]
  },
  {
   "cell_type": "code",
   "execution_count": 19,
   "metadata": {},
   "outputs": [],
   "source": [
    "from sklearn.ensemble import RandomForestClassifier\n",
    "from sklearn.metrics import accuracy_score"
   ]
  },
  {
   "cell_type": "code",
   "execution_count": 20,
   "metadata": {},
   "outputs": [],
   "source": [
    "predictors = [\"venue_code\", \"opp_code\", \"hour\", \"day_code\", 'round_code', 'comp_code','formation_code'] # initial predictors. "
   ]
  },
  {
   "cell_type": "code",
   "execution_count": 21,
   "metadata": {},
   "outputs": [
    {
     "name": "stdout",
     "output_type": "stream",
     "text": [
      "(2759, 70)\n",
      "(920, 70)\n",
      "accuracy_score = 0.6141304347826086\n"
     ]
    }
   ],
   "source": [
    "rf = RandomForestClassifier(n_estimators=500, min_samples_split=2, random_state=1, class_weight='balanced')\n",
    "\n",
    "train = df[df['date']< \"2022-08-15\"] # Using 70% of the rows for training and 30% for testing. cannot do splits since we cannot use future data to predict past games. \n",
    "test = df[df['date']> \"2022-08-15\"]\n",
    "\n",
    "rf.fit(train[predictors],train['target'])\n",
    "\n",
    "predictions = rf.predict(test[predictors])\n",
    "\n",
    "print(train.shape)\n",
    "print(test.shape)\n",
    "\n",
    "accuracy_score(test[\"target\"],predictions)\n",
    "\n",
    "print('accuracy_score =' ,accuracy_score(test[\"target\"],predictions))"
   ]
  },
  {
   "cell_type": "code",
   "execution_count": 22,
   "metadata": {},
   "outputs": [
    {
     "data": {
      "text/html": [
       "<div>\n",
       "<style scoped>\n",
       "    .dataframe tbody tr th:only-of-type {\n",
       "        vertical-align: middle;\n",
       "    }\n",
       "\n",
       "    .dataframe tbody tr th {\n",
       "        vertical-align: top;\n",
       "    }\n",
       "\n",
       "    .dataframe thead th {\n",
       "        text-align: right;\n",
       "    }\n",
       "</style>\n",
       "<table border=\"1\" class=\"dataframe\">\n",
       "  <thead>\n",
       "    <tr style=\"text-align: right;\">\n",
       "      <th>predicted</th>\n",
       "      <th>0</th>\n",
       "      <th>1</th>\n",
       "    </tr>\n",
       "    <tr>\n",
       "      <th>actual</th>\n",
       "      <th></th>\n",
       "      <th></th>\n",
       "    </tr>\n",
       "  </thead>\n",
       "  <tbody>\n",
       "    <tr>\n",
       "      <th>0</th>\n",
       "      <td>160</td>\n",
       "      <td>222</td>\n",
       "    </tr>\n",
       "    <tr>\n",
       "      <th>1</th>\n",
       "      <td>133</td>\n",
       "      <td>405</td>\n",
       "    </tr>\n",
       "  </tbody>\n",
       "</table>\n",
       "</div>"
      ],
      "text/plain": [
       "predicted    0    1\n",
       "actual             \n",
       "0          160  222\n",
       "1          133  405"
      ]
     },
     "execution_count": 22,
     "metadata": {},
     "output_type": "execute_result"
    }
   ],
   "source": [
    "combined = pd.DataFrame(dict(actual=test[\"target\"], predicted=predictions))\n",
    "pd.crosstab(index=combined[\"actual\"], columns=combined[\"predicted\"])"
   ]
  },
  {
   "attachments": {},
   "cell_type": "markdown",
   "metadata": {},
   "source": [
    "Accuracy score here is not a good measure, we use precision score as we have false positives and false negatives. 0 is a loss and 1 is a win. "
   ]
  },
  {
   "cell_type": "code",
   "execution_count": 23,
   "metadata": {},
   "outputs": [
    {
     "data": {
      "text/plain": [
       "array([0.54607509, 0.64593301])"
      ]
     },
     "execution_count": 23,
     "metadata": {},
     "output_type": "execute_result"
    }
   ],
   "source": [
    "from sklearn.metrics import precision_score\n",
    "\n",
    "precision_score(test[\"target\"], predictions, average = None) # this shows that we predict %46 for away games and %62 for home games. We need to improve on this."
   ]
  },
  {
   "cell_type": "code",
   "execution_count": 24,
   "metadata": {},
   "outputs": [
    {
     "data": {
      "text/plain": [
       "0.6044702655612444"
      ]
     },
     "execution_count": 24,
     "metadata": {},
     "output_type": "execute_result"
    }
   ],
   "source": [
    "precision_score(test[\"target\"], predictions, average = 'weighted')"
   ]
  },
  {
   "attachments": {},
   "cell_type": "markdown",
   "metadata": {},
   "source": [
    "#### Feature engineering\n",
    "We need to use the rest of the statistics we have to see if we can improve our model. Hence we introduce rolling averages of statistics from previous games as prediction metrics. We have to be careful not to feed any information to the model for predicting a game when we won't have the information. Yu cannot have goals for in the predictors, as that information is known after the game! "
   ]
  },
  {
   "cell_type": "code",
   "execution_count": 25,
   "metadata": {},
   "outputs": [],
   "source": [
    "def rolling_averages(group, cols, new_cols):\n",
    "    group = group.sort_values(\"date\")\n",
    "    rolling_stats = group[cols].rolling(3,closed=\"left\").mean() # closed = left -> to avoid data leakage from future matches\n",
    "    group[new_cols] = rolling_stats\n",
    "    group = group.dropna(subset = new_cols)\n",
    "    return group"
   ]
  },
  {
   "cell_type": "code",
   "execution_count": 26,
   "metadata": {},
   "outputs": [],
   "source": [
    "def make_predictions(data, predictors):\n",
    "    rf = RandomForestClassifier(n_estimators=500, min_samples_split=2, random_state=1)\n",
    "\n",
    "    train = data[data['date']< \"2022-8-15\"] # Data in order of date use 70% for training\n",
    "    test = data[data['date']> \"2022-8-15\"]\n",
    "\n",
    "    rf.fit(train[predictors],train['target'])\n",
    "\n",
    "    predictions = rf.predict(test[predictors])\n",
    "\n",
    "    combined = pd.DataFrame(dict(actual=test[\"target\"], predicted=predictions))\n",
    "\n",
    "    precision_weight = precision_score(test[\"target\"], predictions, average = 'weighted')\n",
    "    precision_raw = precision_score(test[\"target\"], predictions, average = None)\n",
    "\n",
    "    return combined, precision_weight, precision_raw, rf.feature_importances_, rf"
   ]
  },
  {
   "attachments": {},
   "cell_type": "markdown",
   "metadata": {},
   "source": [
    "### Trying some features based on domain knowledge."
   ]
  },
  {
   "cell_type": "code",
   "execution_count": 27,
   "metadata": {},
   "outputs": [
    {
     "name": "stdout",
     "output_type": "stream",
     "text": [
      "The raw precision [Away, Home] is: [0.55438596 0.64761905]\n",
      "The weighted precision is: 0.6088992974238876\n"
     ]
    }
   ],
   "source": [
    "cols = ['gls','gls_opp','gf','gf_opp','sh', 'sot','g/sh','save%_opp','tkl+int','poss_x'] # Choosing based on domain knowledge.\n",
    "new_cols = [f\"{c}_rolling\" for c in cols] # add_rolling to column names\n",
    "\n",
    "df_rolling = df.groupby('team').apply(lambda x: rolling_averages(x,cols,new_cols))\n",
    "df_rolling = df_rolling.droplevel('team')\n",
    "\n",
    "combined, precision_weight, precision_raw, importances, rf = make_predictions (df_rolling, predictors+new_cols)\n",
    "\n",
    "print(\"The raw precision [Away, Home] is:\",precision_raw)\n",
    "print(\"The weighted precision is:\", precision_weight)"
   ]
  },
  {
   "cell_type": "code",
   "execution_count": 28,
   "metadata": {},
   "outputs": [
    {
     "data": {
      "text/plain": [
       "(3533, 80)"
      ]
     },
     "execution_count": 28,
     "metadata": {},
     "output_type": "execute_result"
    }
   ],
   "source": [
    "df_rolling.shape"
   ]
  },
  {
   "cell_type": "code",
   "execution_count": 29,
   "metadata": {},
   "outputs": [
    {
     "data": {
      "text/plain": [
       "venue\n",
       "Away    0.525323\n",
       "Home    0.625068\n",
       "dtype: float64"
      ]
     },
     "execution_count": 29,
     "metadata": {},
     "output_type": "execute_result"
    }
   ],
   "source": [
    "df.groupby([\"venue\"]).apply(lambda x: x[x[\"result\"] == 'W'].shape[0]/ x.shape[0]) # What we get by predicting home wins, i.e. %62 of the home games are won and %52 of the away games. "
   ]
  },
  {
   "attachments": {},
   "cell_type": "markdown",
   "metadata": {},
   "source": [
    "We are already over the benchmark with the above stats, but we will try and improve. "
   ]
  },
  {
   "cell_type": "code",
   "execution_count": 30,
   "metadata": {},
   "outputs": [
    {
     "data": {
      "text/html": [
       "<div>\n",
       "<style scoped>\n",
       "    .dataframe tbody tr th:only-of-type {\n",
       "        vertical-align: middle;\n",
       "    }\n",
       "\n",
       "    .dataframe tbody tr th {\n",
       "        vertical-align: top;\n",
       "    }\n",
       "\n",
       "    .dataframe thead th {\n",
       "        text-align: right;\n",
       "    }\n",
       "</style>\n",
       "<table border=\"1\" class=\"dataframe\">\n",
       "  <thead>\n",
       "    <tr style=\"text-align: right;\">\n",
       "      <th>predicted</th>\n",
       "      <th>0</th>\n",
       "      <th>1</th>\n",
       "    </tr>\n",
       "    <tr>\n",
       "      <th>actual</th>\n",
       "      <th></th>\n",
       "      <th></th>\n",
       "    </tr>\n",
       "  </thead>\n",
       "  <tbody>\n",
       "    <tr>\n",
       "      <th>0</th>\n",
       "      <td>158</td>\n",
       "      <td>222</td>\n",
       "    </tr>\n",
       "    <tr>\n",
       "      <th>1</th>\n",
       "      <td>127</td>\n",
       "      <td>408</td>\n",
       "    </tr>\n",
       "  </tbody>\n",
       "</table>\n",
       "</div>"
      ],
      "text/plain": [
       "predicted    0    1\n",
       "actual             \n",
       "0          158  222\n",
       "1          127  408"
      ]
     },
     "execution_count": 30,
     "metadata": {},
     "output_type": "execute_result"
    }
   ],
   "source": [
    "pd.crosstab(index=combined[\"actual\"], columns=combined[\"predicted\"])"
   ]
  },
  {
   "cell_type": "code",
   "execution_count": 31,
   "metadata": {},
   "outputs": [
    {
     "data": {
      "image/png": "[encoded data removed]",
      "text/plain": [
       "<Figure size 640x480 with 1 Axes>"
      ]
     },
     "metadata": {},
     "output_type": "display_data"
    }
   ],
   "source": [
    "importance = pd.Series(data=importances,\n",
    "                        index=  predictors+new_cols)\n",
    "# Sort importances\n",
    "importances_sorted = importance.sort_values()\n",
    "# Draw a horizontal barplot of importances_sorted\n",
    "importances_sorted.plot(kind='barh', color='blue')\n",
    "plt.title('Features Importances')\n",
    "plt.show()"
   ]
  },
  {
   "attachments": {},
   "cell_type": "markdown",
   "metadata": {},
   "source": [
    "### Using all the columns by getting a rolling average for them. "
   ]
  },
  {
   "cell_type": "code",
   "execution_count": 32,
   "metadata": {},
   "outputs": [
    {
     "data": {
      "text/plain": [
       "['venue_code',\n",
       " 'opp_code',\n",
       " 'hour',\n",
       " 'day_code',\n",
       " 'round_code',\n",
       " 'comp_code',\n",
       " 'formation_code']"
      ]
     },
     "execution_count": 32,
     "metadata": {},
     "output_type": "execute_result"
    }
   ],
   "source": [
    "predictors"
   ]
  },
  {
   "cell_type": "code",
   "execution_count": 33,
   "metadata": {},
   "outputs": [
    {
     "data": {
      "text/plain": [
       "(3683, 70)"
      ]
     },
     "execution_count": 33,
     "metadata": {},
     "output_type": "execute_result"
    }
   ],
   "source": [
    "df.shape"
   ]
  },
  {
   "cell_type": "code",
   "execution_count": 34,
   "metadata": {},
   "outputs": [],
   "source": [
    "#num_cols = df.select_dtypes('number').columns"
   ]
  },
  {
   "cell_type": "code",
   "execution_count": 35,
   "metadata": {},
   "outputs": [
    {
     "name": "stdout",
     "output_type": "stream",
     "text": [
      "[0.57142857 0.63531114]\n",
      "0.6087806762761093\n"
     ]
    }
   ],
   "source": [
    "cols = ['gf',\n",
    "       'gls', 'sh', 'sot', 'sot%', 'g/sh', 'pk', 'pkatt', 'gf_opp', 'gls_opp',\n",
    "       'sh_opp', 'sot_opp', 'sot%_opp', 'g/sh_opp', 'pk_opp', 'pkatt_opp',\n",
    "       'sota', 'saves', 'cs', 'pka', 'pksv', 'pkm', 'sota_opp', 'saves_opp',\n",
    "       'save%_opp', 'cs_opp', 'pka_opp', 'pksv_opp', 'pkm_opp', 'ast',\n",
    "       'ast_opp', 'crs', 'crs_opp', 'tklw', 'int', 'tkl+int', 'tklw_opp',\n",
    "       'int_opp', 'tkl+int_opp', 'poss_x', 'poss_opp', 'crdy', 'crdr', '2crdy',\n",
    "       'fls', 'og', 'crdy_opp', 'crdr_opp', '2crdy_opp', 'fls_opp', 'og_opp',\n",
    "       ]\n",
    "\n",
    "\n",
    "\n",
    "rolling_cols = [f\"{c}_rolling\" for c in cols] # add_rolling to column names\n",
    "\n",
    "df_rolling = df.groupby('team').apply(lambda x: rolling_averages(x,cols,rolling_cols))\n",
    "df_rolling = df_rolling.droplevel('team')\n",
    "\n",
    "all_cols = rolling_cols+predictors\n",
    "\n",
    "combined, precision_weight, precision_raw, importances, rf = make_predictions (df_rolling, all_cols)\n",
    "\n",
    "print(precision_raw)\n",
    "print(precision_weight)"
   ]
  },
  {
   "cell_type": "code",
   "execution_count": 36,
   "metadata": {},
   "outputs": [
    {
     "data": {
      "image/png": "[encoded data removed]",
      "text/plain": [
       "<Figure size 640x480 with 1 Axes>"
      ]
     },
     "metadata": {},
     "output_type": "display_data"
    }
   ],
   "source": [
    "importance = pd.Series(data=importances,\n",
    "                        index=  all_cols)\n",
    "# Sort importances\n",
    "importances_sorted = importance.sort_values()\n",
    "# Draw a horizontal barplot of importances_sorted\n",
    "importances_sorted.plot(kind='barh', color='blue')\n",
    "plt.title('Features Importances')\n",
    "plt.show()"
   ]
  },
  {
   "attachments": {},
   "cell_type": "markdown",
   "metadata": {},
   "source": [
    "### We rank the features based on their importance, and then we discard the east important ones. "
   ]
  },
  {
   "cell_type": "code",
   "execution_count": 37,
   "metadata": {},
   "outputs": [
    {
     "data": {
      "text/html": [
       "<div>\n",
       "<style scoped>\n",
       "    .dataframe tbody tr th:only-of-type {\n",
       "        vertical-align: middle;\n",
       "    }\n",
       "\n",
       "    .dataframe tbody tr th {\n",
       "        vertical-align: top;\n",
       "    }\n",
       "\n",
       "    .dataframe thead th {\n",
       "        text-align: right;\n",
       "    }\n",
       "</style>\n",
       "<table border=\"1\" class=\"dataframe\">\n",
       "  <thead>\n",
       "    <tr style=\"text-align: right;\">\n",
       "      <th></th>\n",
       "      <th>imp_vals</th>\n",
       "    </tr>\n",
       "  </thead>\n",
       "  <tbody>\n",
       "    <tr>\n",
       "      <th>pkm_rolling</th>\n",
       "      <td>0.001020</td>\n",
       "    </tr>\n",
       "    <tr>\n",
       "      <th>pkm_opp_rolling</th>\n",
       "      <td>0.001781</td>\n",
       "    </tr>\n",
       "    <tr>\n",
       "      <th>pksv_rolling</th>\n",
       "      <td>0.002350</td>\n",
       "    </tr>\n",
       "    <tr>\n",
       "      <th>og_rolling</th>\n",
       "      <td>0.002691</td>\n",
       "    </tr>\n",
       "    <tr>\n",
       "      <th>2crdy_opp_rolling</th>\n",
       "      <td>0.002764</td>\n",
       "    </tr>\n",
       "    <tr>\n",
       "      <th>2crdy_rolling</th>\n",
       "      <td>0.002913</td>\n",
       "    </tr>\n",
       "    <tr>\n",
       "      <th>pksv_opp_rolling</th>\n",
       "      <td>0.003062</td>\n",
       "    </tr>\n",
       "    <tr>\n",
       "      <th>og_opp_rolling</th>\n",
       "      <td>0.003620</td>\n",
       "    </tr>\n",
       "    <tr>\n",
       "      <th>crdr_rolling</th>\n",
       "      <td>0.004342</td>\n",
       "    </tr>\n",
       "    <tr>\n",
       "      <th>crdr_opp_rolling</th>\n",
       "      <td>0.004579</td>\n",
       "    </tr>\n",
       "    <tr>\n",
       "      <th>pk_opp_rolling</th>\n",
       "      <td>0.004768</td>\n",
       "    </tr>\n",
       "    <tr>\n",
       "      <th>pka_rolling</th>\n",
       "      <td>0.004804</td>\n",
       "    </tr>\n",
       "    <tr>\n",
       "      <th>cs_opp_rolling</th>\n",
       "      <td>0.004961</td>\n",
       "    </tr>\n",
       "    <tr>\n",
       "      <th>pk_rolling</th>\n",
       "      <td>0.005540</td>\n",
       "    </tr>\n",
       "    <tr>\n",
       "      <th>pkatt_opp_rolling</th>\n",
       "      <td>0.005730</td>\n",
       "    </tr>\n",
       "    <tr>\n",
       "      <th>pka_opp_rolling</th>\n",
       "      <td>0.005796</td>\n",
       "    </tr>\n",
       "    <tr>\n",
       "      <th>pkatt_rolling</th>\n",
       "      <td>0.006596</td>\n",
       "    </tr>\n",
       "    <tr>\n",
       "      <th>cs_rolling</th>\n",
       "      <td>0.007446</td>\n",
       "    </tr>\n",
       "    <tr>\n",
       "      <th>venue_code</th>\n",
       "      <td>0.008198</td>\n",
       "    </tr>\n",
       "    <tr>\n",
       "      <th>gls_opp_rolling</th>\n",
       "      <td>0.012706</td>\n",
       "    </tr>\n",
       "    <tr>\n",
       "      <th>ast_opp_rolling</th>\n",
       "      <td>0.012787</td>\n",
       "    </tr>\n",
       "    <tr>\n",
       "      <th>gf_opp_rolling</th>\n",
       "      <td>0.013078</td>\n",
       "    </tr>\n",
       "    <tr>\n",
       "      <th>day_code</th>\n",
       "      <td>0.014668</td>\n",
       "    </tr>\n",
       "    <tr>\n",
       "      <th>gf_rolling</th>\n",
       "      <td>0.014887</td>\n",
       "    </tr>\n",
       "    <tr>\n",
       "      <th>gls_rolling</th>\n",
       "      <td>0.015047</td>\n",
       "    </tr>\n",
       "    <tr>\n",
       "      <th>formation_code</th>\n",
       "      <td>0.016842</td>\n",
       "    </tr>\n",
       "    <tr>\n",
       "      <th>ast_rolling</th>\n",
       "      <td>0.017031</td>\n",
       "    </tr>\n",
       "    <tr>\n",
       "      <th>hour</th>\n",
       "      <td>0.017953</td>\n",
       "    </tr>\n",
       "    <tr>\n",
       "      <th>saves_rolling</th>\n",
       "      <td>0.017977</td>\n",
       "    </tr>\n",
       "    <tr>\n",
       "      <th>sota_rolling</th>\n",
       "      <td>0.019055</td>\n",
       "    </tr>\n",
       "    <tr>\n",
       "      <th>saves_opp_rolling</th>\n",
       "      <td>0.019288</td>\n",
       "    </tr>\n",
       "    <tr>\n",
       "      <th>sot_opp_rolling</th>\n",
       "      <td>0.019444</td>\n",
       "    </tr>\n",
       "    <tr>\n",
       "      <th>crdy_opp_rolling</th>\n",
       "      <td>0.019802</td>\n",
       "    </tr>\n",
       "    <tr>\n",
       "      <th>sot_rolling</th>\n",
       "      <td>0.020293</td>\n",
       "    </tr>\n",
       "    <tr>\n",
       "      <th>crdy_rolling</th>\n",
       "      <td>0.020438</td>\n",
       "    </tr>\n",
       "    <tr>\n",
       "      <th>comp_code</th>\n",
       "      <td>0.021889</td>\n",
       "    </tr>\n",
       "    <tr>\n",
       "      <th>sota_opp_rolling</th>\n",
       "      <td>0.021996</td>\n",
       "    </tr>\n",
       "    <tr>\n",
       "      <th>tklw_opp_rolling</th>\n",
       "      <td>0.025721</td>\n",
       "    </tr>\n",
       "    <tr>\n",
       "      <th>g/sh_rolling</th>\n",
       "      <td>0.025891</td>\n",
       "    </tr>\n",
       "    <tr>\n",
       "      <th>g/sh_opp_rolling</th>\n",
       "      <td>0.026065</td>\n",
       "    </tr>\n",
       "    <tr>\n",
       "      <th>int_rolling</th>\n",
       "      <td>0.026537</td>\n",
       "    </tr>\n",
       "    <tr>\n",
       "      <th>tklw_rolling</th>\n",
       "      <td>0.027022</td>\n",
       "    </tr>\n",
       "    <tr>\n",
       "      <th>sh_rolling</th>\n",
       "      <td>0.027315</td>\n",
       "    </tr>\n",
       "    <tr>\n",
       "      <th>tkl+int_rolling</th>\n",
       "      <td>0.027430</td>\n",
       "    </tr>\n",
       "    <tr>\n",
       "      <th>tkl+int_opp_rolling</th>\n",
       "      <td>0.027517</td>\n",
       "    </tr>\n",
       "    <tr>\n",
       "      <th>fls_opp_rolling</th>\n",
       "      <td>0.028284</td>\n",
       "    </tr>\n",
       "    <tr>\n",
       "      <th>int_opp_rolling</th>\n",
       "      <td>0.028286</td>\n",
       "    </tr>\n",
       "    <tr>\n",
       "      <th>sh_opp_rolling</th>\n",
       "      <td>0.028401</td>\n",
       "    </tr>\n",
       "    <tr>\n",
       "      <th>poss_x_rolling</th>\n",
       "      <td>0.028578</td>\n",
       "    </tr>\n",
       "    <tr>\n",
       "      <th>round_code</th>\n",
       "      <td>0.028633</td>\n",
       "    </tr>\n",
       "    <tr>\n",
       "      <th>save%_opp_rolling</th>\n",
       "      <td>0.028738</td>\n",
       "    </tr>\n",
       "    <tr>\n",
       "      <th>crs_opp_rolling</th>\n",
       "      <td>0.029064</td>\n",
       "    </tr>\n",
       "    <tr>\n",
       "      <th>crs_rolling</th>\n",
       "      <td>0.029398</td>\n",
       "    </tr>\n",
       "    <tr>\n",
       "      <th>fls_rolling</th>\n",
       "      <td>0.029670</td>\n",
       "    </tr>\n",
       "    <tr>\n",
       "      <th>poss_opp_rolling</th>\n",
       "      <td>0.029688</td>\n",
       "    </tr>\n",
       "    <tr>\n",
       "      <th>sot%_rolling</th>\n",
       "      <td>0.030813</td>\n",
       "    </tr>\n",
       "    <tr>\n",
       "      <th>sot%_opp_rolling</th>\n",
       "      <td>0.031000</td>\n",
       "    </tr>\n",
       "    <tr>\n",
       "      <th>opp_code</th>\n",
       "      <td>0.037803</td>\n",
       "    </tr>\n",
       "  </tbody>\n",
       "</table>\n",
       "</div>"
      ],
      "text/plain": [
       "                     imp_vals\n",
       "pkm_rolling          0.001020\n",
       "pkm_opp_rolling      0.001781\n",
       "pksv_rolling         0.002350\n",
       "og_rolling           0.002691\n",
       "2crdy_opp_rolling    0.002764\n",
       "2crdy_rolling        0.002913\n",
       "pksv_opp_rolling     0.003062\n",
       "og_opp_rolling       0.003620\n",
       "crdr_rolling         0.004342\n",
       "crdr_opp_rolling     0.004579\n",
       "pk_opp_rolling       0.004768\n",
       "pka_rolling          0.004804\n",
       "cs_opp_rolling       0.004961\n",
       "pk_rolling           0.005540\n",
       "pkatt_opp_rolling    0.005730\n",
       "pka_opp_rolling      0.005796\n",
       "pkatt_rolling        0.006596\n",
       "cs_rolling           0.007446\n",
       "venue_code           0.008198\n",
       "gls_opp_rolling      0.012706\n",
       "ast_opp_rolling      0.012787\n",
       "gf_opp_rolling       0.013078\n",
       "day_code             0.014668\n",
       "gf_rolling           0.014887\n",
       "gls_rolling          0.015047\n",
       "formation_code       0.016842\n",
       "ast_rolling          0.017031\n",
       "hour                 0.017953\n",
       "saves_rolling        0.017977\n",
       "sota_rolling         0.019055\n",
       "saves_opp_rolling    0.019288\n",
       "sot_opp_rolling      0.019444\n",
       "crdy_opp_rolling     0.019802\n",
       "sot_rolling          0.020293\n",
       "crdy_rolling         0.020438\n",
       "comp_code            0.021889\n",
       "sota_opp_rolling     0.021996\n",
       "tklw_opp_rolling     0.025721\n",
       "g/sh_rolling         0.025891\n",
       "g/sh_opp_rolling     0.026065\n",
       "int_rolling          0.026537\n",
       "tklw_rolling         0.027022\n",
       "sh_rolling           0.027315\n",
       "tkl+int_rolling      0.027430\n",
       "tkl+int_opp_rolling  0.027517\n",
       "fls_opp_rolling      0.028284\n",
       "int_opp_rolling      0.028286\n",
       "sh_opp_rolling       0.028401\n",
       "poss_x_rolling       0.028578\n",
       "round_code           0.028633\n",
       "save%_opp_rolling    0.028738\n",
       "crs_opp_rolling      0.029064\n",
       "crs_rolling          0.029398\n",
       "fls_rolling          0.029670\n",
       "poss_opp_rolling     0.029688\n",
       "sot%_rolling         0.030813\n",
       "sot%_opp_rolling     0.031000\n",
       "opp_code             0.037803"
      ]
     },
     "execution_count": 37,
     "metadata": {},
     "output_type": "execute_result"
    }
   ],
   "source": [
    "data ={'imp_vals':importances}\n",
    "imp_df = pd.DataFrame(data=data, index=all_cols)\n",
    "imp_df.sort_values(by = 'imp_vals')"
   ]
  },
  {
   "cell_type": "code",
   "execution_count": 38,
   "metadata": {},
   "outputs": [
    {
     "name": "stdout",
     "output_type": "stream",
     "text": [
      "[0.59276018 0.64121037]\n",
      "0.6210889827437784\n"
     ]
    },
    {
     "data": {
      "text/html": [
       "<div>\n",
       "<style scoped>\n",
       "    .dataframe tbody tr th:only-of-type {\n",
       "        vertical-align: middle;\n",
       "    }\n",
       "\n",
       "    .dataframe tbody tr th {\n",
       "        vertical-align: top;\n",
       "    }\n",
       "\n",
       "    .dataframe thead th {\n",
       "        text-align: right;\n",
       "    }\n",
       "</style>\n",
       "<table border=\"1\" class=\"dataframe\">\n",
       "  <thead>\n",
       "    <tr style=\"text-align: right;\">\n",
       "      <th>predicted</th>\n",
       "      <th>0</th>\n",
       "      <th>1</th>\n",
       "    </tr>\n",
       "    <tr>\n",
       "      <th>actual</th>\n",
       "      <th></th>\n",
       "      <th></th>\n",
       "    </tr>\n",
       "  </thead>\n",
       "  <tbody>\n",
       "    <tr>\n",
       "      <th>0</th>\n",
       "      <td>131</td>\n",
       "      <td>249</td>\n",
       "    </tr>\n",
       "    <tr>\n",
       "      <th>1</th>\n",
       "      <td>90</td>\n",
       "      <td>445</td>\n",
       "    </tr>\n",
       "  </tbody>\n",
       "</table>\n",
       "</div>"
      ],
      "text/plain": [
       "predicted    0    1\n",
       "actual             \n",
       "0          131  249\n",
       "1           90  445"
      ]
     },
     "execution_count": 38,
     "metadata": {},
     "output_type": "execute_result"
    }
   ],
   "source": [
    "predictors3 = imp_df.loc[imp_df['imp_vals']>0.005].index # Selecting from the chosen features, and removing the east important ones. \n",
    "combined, precision_weight, precision_raw, importances,rf = make_predictions (df_rolling, predictors3)\n",
    "\n",
    "print(precision_raw)\n",
    "print(precision_weight)\n",
    "\n",
    "pd.crosstab(index=combined[\"actual\"], columns=combined[\"predicted\"])"
   ]
  },
  {
   "cell_type": "code",
   "execution_count": 39,
   "metadata": {},
   "outputs": [
    {
     "data": {
      "text/html": [
       "<div>\n",
       "<style scoped>\n",
       "    .dataframe tbody tr th:only-of-type {\n",
       "        vertical-align: middle;\n",
       "    }\n",
       "\n",
       "    .dataframe tbody tr th {\n",
       "        vertical-align: top;\n",
       "    }\n",
       "\n",
       "    .dataframe thead th {\n",
       "        text-align: right;\n",
       "    }\n",
       "</style>\n",
       "<table border=\"1\" class=\"dataframe\">\n",
       "  <thead>\n",
       "    <tr style=\"text-align: right;\">\n",
       "      <th></th>\n",
       "      <th>actual</th>\n",
       "      <th>predicted</th>\n",
       "    </tr>\n",
       "  </thead>\n",
       "  <tbody>\n",
       "    <tr>\n",
       "      <th>2808</th>\n",
       "      <td>1</td>\n",
       "      <td>1</td>\n",
       "    </tr>\n",
       "    <tr>\n",
       "      <th>2841</th>\n",
       "      <td>1</td>\n",
       "      <td>1</td>\n",
       "    </tr>\n",
       "    <tr>\n",
       "      <th>2884</th>\n",
       "      <td>1</td>\n",
       "      <td>1</td>\n",
       "    </tr>\n",
       "    <tr>\n",
       "      <th>2916</th>\n",
       "      <td>1</td>\n",
       "      <td>1</td>\n",
       "    </tr>\n",
       "    <tr>\n",
       "      <th>2943</th>\n",
       "      <td>1</td>\n",
       "      <td>1</td>\n",
       "    </tr>\n",
       "    <tr>\n",
       "      <th>...</th>\n",
       "      <td>...</td>\n",
       "      <td>...</td>\n",
       "    </tr>\n",
       "    <tr>\n",
       "      <th>2957</th>\n",
       "      <td>0</td>\n",
       "      <td>0</td>\n",
       "    </tr>\n",
       "    <tr>\n",
       "      <th>3047</th>\n",
       "      <td>0</td>\n",
       "      <td>0</td>\n",
       "    </tr>\n",
       "    <tr>\n",
       "      <th>3112</th>\n",
       "      <td>0</td>\n",
       "      <td>0</td>\n",
       "    </tr>\n",
       "    <tr>\n",
       "      <th>3211</th>\n",
       "      <td>0</td>\n",
       "      <td>0</td>\n",
       "    </tr>\n",
       "    <tr>\n",
       "      <th>3253</th>\n",
       "      <td>0</td>\n",
       "      <td>0</td>\n",
       "    </tr>\n",
       "  </tbody>\n",
       "</table>\n",
       "<p>915 rows × 2 columns</p>\n",
       "</div>"
      ],
      "text/plain": [
       "      actual  predicted\n",
       "2808       1          1\n",
       "2841       1          1\n",
       "2884       1          1\n",
       "2916       1          1\n",
       "2943       1          1\n",
       "...      ...        ...\n",
       "2957       0          0\n",
       "3047       0          0\n",
       "3112       0          0\n",
       "3211       0          0\n",
       "3253       0          0\n",
       "\n",
       "[915 rows x 2 columns]"
      ]
     },
     "execution_count": 39,
     "metadata": {},
     "output_type": "execute_result"
    }
   ],
   "source": [
    "combined"
   ]
  },
  {
   "attachments": {},
   "cell_type": "markdown",
   "metadata": {},
   "source": [
    "Hence we have beaten the benchmark using selected features. Using the sequential feature selection to see if we can improve the score did not yield any results that could beat the above. "
   ]
  },
  {
   "attachments": {},
   "cell_type": "markdown",
   "metadata": {},
   "source": [
    "## More feature Engineering with summation. "
   ]
  },
  {
   "cell_type": "code",
   "execution_count": 40,
   "metadata": {},
   "outputs": [],
   "source": [
    "df_rolling[\"fls_rolling+sot%_rolling\"] = df_rolling[\"fls_rolling\"]+df_rolling['sot%_rolling']\n",
    "predictors3 = list(predictors3) + [\"fls_rolling+sot%_rolling\"] # Adding two columns together\n"
   ]
  },
  {
   "cell_type": "code",
   "execution_count": 41,
   "metadata": {},
   "outputs": [
    {
     "name": "stdout",
     "output_type": "stream",
     "text": [
      "[0.57399103 0.63583815]\n",
      "0.6101530080140716\n"
     ]
    },
    {
     "data": {
      "text/html": [
       "<div>\n",
       "<style scoped>\n",
       "    .dataframe tbody tr th:only-of-type {\n",
       "        vertical-align: middle;\n",
       "    }\n",
       "\n",
       "    .dataframe tbody tr th {\n",
       "        vertical-align: top;\n",
       "    }\n",
       "\n",
       "    .dataframe thead th {\n",
       "        text-align: right;\n",
       "    }\n",
       "</style>\n",
       "<table border=\"1\" class=\"dataframe\">\n",
       "  <thead>\n",
       "    <tr style=\"text-align: right;\">\n",
       "      <th>predicted</th>\n",
       "      <th>0</th>\n",
       "      <th>1</th>\n",
       "    </tr>\n",
       "    <tr>\n",
       "      <th>actual</th>\n",
       "      <th></th>\n",
       "      <th></th>\n",
       "    </tr>\n",
       "  </thead>\n",
       "  <tbody>\n",
       "    <tr>\n",
       "      <th>0</th>\n",
       "      <td>128</td>\n",
       "      <td>252</td>\n",
       "    </tr>\n",
       "    <tr>\n",
       "      <th>1</th>\n",
       "      <td>95</td>\n",
       "      <td>440</td>\n",
       "    </tr>\n",
       "  </tbody>\n",
       "</table>\n",
       "</div>"
      ],
      "text/plain": [
       "predicted    0    1\n",
       "actual             \n",
       "0          128  252\n",
       "1           95  440"
      ]
     },
     "execution_count": 41,
     "metadata": {},
     "output_type": "execute_result"
    }
   ],
   "source": [
    "combined, precision_weight, precision_raw, importances,rf = make_predictions (df_rolling, predictors3)\n",
    "print(precision_raw)\n",
    "print(precision_weight)\n",
    "pd.crosstab(index=combined[\"actual\"], columns=combined[\"predicted\"])"
   ]
  },
  {
   "attachments": {},
   "cell_type": "markdown",
   "metadata": {},
   "source": [
    "Marginal improvement"
   ]
  },
  {
   "cell_type": "code",
   "execution_count": 42,
   "metadata": {},
   "outputs": [],
   "source": [
    "selected_columns = ['team','venue','opponent','venue_code','opp_code','hour','day_code',\n",
    " 'gf_rolling','gls_rolling','sh_rolling','sot_rolling','sot%_rolling','g/sh_rolling',\n",
    " 'pk_rolling','pkatt_rolling','gf_opp_rolling','gls_opp_rolling','sh_opp_rolling','sot_opp_rolling',\n",
    " 'sot%_opp_rolling','g/sh_opp_rolling','pk_opp_rolling','pkatt_opp_rolling','sota_rolling',\n",
    " 'saves_rolling','cs_rolling','pka_rolling','pksv_rolling','pkm_rolling','sota_opp_rolling',\n",
    " 'saves_opp_rolling','save%_opp_rolling','cs_opp_rolling','pka_opp_rolling','pksv_opp_rolling',\n",
    " 'pkm_opp_rolling','ast_rolling','ast_opp_rolling','crs_rolling','crs_opp_rolling','tklw_rolling',\n",
    " 'int_rolling','tkl+int_rolling','tklw_opp_rolling','int_opp_rolling','tkl+int_opp_rolling',\n",
    " 'poss_x_rolling','poss_opp_rolling','crdy_rolling','crdr_rolling','2crdy_rolling', 'fls_rolling',\n",
    " 'og_rolling','crdy_opp_rolling','crdr_opp_rolling','2crdy_opp_rolling','fls_opp_rolling',\n",
    " 'og_opp_rolling','fls_rolling+sot%_rolling']"
   ]
  },
  {
   "cell_type": "code",
   "execution_count": 43,
   "metadata": {},
   "outputs": [
    {
     "data": {
      "text/plain": [
       "31"
      ]
     },
     "execution_count": 43,
     "metadata": {},
     "output_type": "execute_result"
    }
   ],
   "source": [
    "len(df[df['season']=='2022-2023']['team'].unique())"
   ]
  },
  {
   "cell_type": "code",
   "execution_count": 44,
   "metadata": {},
   "outputs": [
    {
     "data": {
      "text/plain": [
       "array(['Ajax', 'Atletico Madrid', 'Barcelona', 'Bayer Leverkusen',\n",
       "       'Bayern Munich', 'Benfica', 'Celtic', 'Chelsea', 'Club Brugge',\n",
       "       'Dinamo Zagreb', 'Dortmund', 'Eintracht Frankfurt',\n",
       "       'FC Copenhagen', 'Internazionale', 'Juventus', 'Liverpool',\n",
       "       'Manchester City', 'Marseille', 'Milan', 'Napoli',\n",
       "       'Paris Saint Germain', 'Porto', 'RB Leipzig', 'Rangers',\n",
       "       'Real Madrid', 'Red Bull Salzburg', 'Sevilla', 'Shakhtar Donetsk',\n",
       "       'Sporting CP', 'Tottenham Hotspur', 'Viktoria Plzen'], dtype=object)"
      ]
     },
     "execution_count": 44,
     "metadata": {},
     "output_type": "execute_result"
    }
   ],
   "source": [
    "df_rolling [df_rolling['season']=='2022-2023']['team'].unique()"
   ]
  },
  {
   "cell_type": "code",
   "execution_count": 45,
   "metadata": {},
   "outputs": [
    {
     "data": {
      "text/html": [
       "<div>\n",
       "<style scoped>\n",
       "    .dataframe tbody tr th:only-of-type {\n",
       "        vertical-align: middle;\n",
       "    }\n",
       "\n",
       "    .dataframe tbody tr th {\n",
       "        vertical-align: top;\n",
       "    }\n",
       "\n",
       "    .dataframe thead th {\n",
       "        text-align: right;\n",
       "    }\n",
       "</style>\n",
       "<table border=\"1\" class=\"dataframe\">\n",
       "  <thead>\n",
       "    <tr style=\"text-align: right;\">\n",
       "      <th></th>\n",
       "      <th>team</th>\n",
       "      <th>opponent</th>\n",
       "    </tr>\n",
       "  </thead>\n",
       "  <tbody>\n",
       "    <tr>\n",
       "      <th>0</th>\n",
       "      <td>Club Brugge</td>\n",
       "      <td>Charleroi</td>\n",
       "    </tr>\n",
       "    <tr>\n",
       "      <th>1</th>\n",
       "      <td>Krasnodar</td>\n",
       "      <td>Ufa</td>\n",
       "    </tr>\n",
       "    <tr>\n",
       "      <th>2</th>\n",
       "      <td>Zenit</td>\n",
       "      <td>Rotor Volgograd</td>\n",
       "    </tr>\n",
       "    <tr>\n",
       "      <th>3</th>\n",
       "      <td>Lokomotiv Moscow</td>\n",
       "      <td>Rubin Kazan</td>\n",
       "    </tr>\n",
       "    <tr>\n",
       "      <th>4</th>\n",
       "      <td>Krasnodar</td>\n",
       "      <td>Loko Moscow</td>\n",
       "    </tr>\n",
       "    <tr>\n",
       "      <th>...</th>\n",
       "      <td>...</td>\n",
       "      <td>...</td>\n",
       "    </tr>\n",
       "    <tr>\n",
       "      <th>3702</th>\n",
       "      <td>Juventus</td>\n",
       "      <td>Roma</td>\n",
       "    </tr>\n",
       "    <tr>\n",
       "      <th>3703</th>\n",
       "      <td>Club Brugge</td>\n",
       "      <td>Benfica</td>\n",
       "    </tr>\n",
       "    <tr>\n",
       "      <th>3704</th>\n",
       "      <td>Dortmund</td>\n",
       "      <td>Chelsea</td>\n",
       "    </tr>\n",
       "    <tr>\n",
       "      <th>3705</th>\n",
       "      <td>Benfica</td>\n",
       "      <td>Club Brugge</td>\n",
       "    </tr>\n",
       "    <tr>\n",
       "      <th>3706</th>\n",
       "      <td>Chelsea</td>\n",
       "      <td>Dortmund</td>\n",
       "    </tr>\n",
       "  </tbody>\n",
       "</table>\n",
       "<p>3683 rows × 2 columns</p>\n",
       "</div>"
      ],
      "text/plain": [
       "                  team         opponent\n",
       "0          Club Brugge        Charleroi\n",
       "1            Krasnodar              Ufa\n",
       "2                Zenit  Rotor Volgograd\n",
       "3     Lokomotiv Moscow      Rubin Kazan\n",
       "4            Krasnodar      Loko Moscow\n",
       "...                ...              ...\n",
       "3702          Juventus             Roma\n",
       "3703       Club Brugge          Benfica\n",
       "3704          Dortmund          Chelsea\n",
       "3705           Benfica      Club Brugge\n",
       "3706           Chelsea         Dortmund\n",
       "\n",
       "[3683 rows x 2 columns]"
      ]
     },
     "execution_count": 45,
     "metadata": {},
     "output_type": "execute_result"
    }
   ],
   "source": [
    "df[['team','opponent']]"
   ]
  },
  {
   "cell_type": "code",
   "execution_count": 46,
   "metadata": {},
   "outputs": [
    {
     "data": {
      "text/plain": [
       "array(['Regular season', 'Matchweek 1', 'Matchweek 2', 'Matchweek 3',\n",
       "       'Matchweek 4', 'Matchweek 5', 'Matchweek 6', 'First round',\n",
       "       'Matchweek 7', 'Matchweek 8', 'Play-off round', 'Third round',\n",
       "       'Matchweek 9', 'Fourth round', 'Matchweek 10', 'Matchweek 11',\n",
       "       'Group stage', 'Matchweek 12', 'Matchweek 13', 'Matchweek 14',\n",
       "       'Matchweek 15', 'Matchweek 16', 'Matchweek 17', 'Matchweek 18',\n",
       "       'Matchweek 19', 'Second round', 'Quarter-finals', 'Semi-finals',\n",
       "       'Third round proper', 'Matchweek 20', 'Round of 32',\n",
       "       'Matchweek 21', 'Fourth round proper', 'Round of 16',\n",
       "       'Matchweek 22', 'Matchweek 23', 'Matchweek 24',\n",
       "       'Fifth round proper', 'Matchweek 25', 'Matchweek 26',\n",
       "       'Matchweek 27', 'Matchweek 29', 'Matchweek 28', 'Matchweek 33',\n",
       "       'Matchweek 30', 'Matchweek 31', 'Matchweek 32',\n",
       "       'Championship round', 'Matchweek 35', 'Matchweek 36',\n",
       "       'Matchweek 34', 'Final', 'Matchweek 38', 'Play-off I',\n",
       "       'Matchweek 39', 'Matchweek 40', 'Matchweek 37', 'Matchweek 42',\n",
       "       'Round of 64', 'Knockout round play-offs',\n",
       "       'Second qualifying round', 'Third qualifying round'], dtype=object)"
      ]
     },
     "execution_count": 46,
     "metadata": {},
     "output_type": "execute_result"
    }
   ],
   "source": [
    "df['round'].unique()"
   ]
  },
  {
   "cell_type": "code",
   "execution_count": 47,
   "metadata": {},
   "outputs": [
    {
     "data": {
      "text/plain": [
       "array(['First Division A', 'Premier League', 'Ligue 1', 'Superliga',\n",
       "       'DFB-Pokal', 'Eredivisie', 'Bundesliga', 'Süper Lig',\n",
       "       'Primeira Liga', 'Serie A', 'La Liga', 'Champions Lg', 'EFL Cup',\n",
       "       'Copa del Rey', 'FA Cup', 'Coppa Italia', 'Coupe de France',\n",
       "       'Europa Lg', 'Swiss Super League', 'Supercopa de España', '1. HNL',\n",
       "       'Premiership'], dtype=object)"
      ]
     },
     "execution_count": 47,
     "metadata": {},
     "output_type": "execute_result"
    }
   ],
   "source": [
    "df['comp'].unique()"
   ]
  },
  {
   "cell_type": "code",
   "execution_count": 48,
   "metadata": {},
   "outputs": [
    {
     "data": {
      "text/html": [
       "<div>\n",
       "<style scoped>\n",
       "    .dataframe tbody tr th:only-of-type {\n",
       "        vertical-align: middle;\n",
       "    }\n",
       "\n",
       "    .dataframe tbody tr th {\n",
       "        vertical-align: top;\n",
       "    }\n",
       "\n",
       "    .dataframe thead th {\n",
       "        text-align: right;\n",
       "    }\n",
       "</style>\n",
       "<table border=\"1\" class=\"dataframe\">\n",
       "  <thead>\n",
       "    <tr style=\"text-align: right;\">\n",
       "      <th></th>\n",
       "      <th>date</th>\n",
       "      <th>time</th>\n",
       "      <th>comp</th>\n",
       "      <th>round</th>\n",
       "      <th>day</th>\n",
       "      <th>venue</th>\n",
       "      <th>result</th>\n",
       "      <th>gf</th>\n",
       "      <th>opponent</th>\n",
       "      <th>gls</th>\n",
       "      <th>...</th>\n",
       "      <th>team</th>\n",
       "      <th>season</th>\n",
       "      <th>venue_code</th>\n",
       "      <th>opp_code</th>\n",
       "      <th>round_code</th>\n",
       "      <th>comp_code</th>\n",
       "      <th>formation_code</th>\n",
       "      <th>hour</th>\n",
       "      <th>day_code</th>\n",
       "      <th>target</th>\n",
       "    </tr>\n",
       "  </thead>\n",
       "  <tbody>\n",
       "    <tr>\n",
       "      <th>64</th>\n",
       "      <td>2020-09-22</td>\n",
       "      <td>22:00</td>\n",
       "      <td>Champions Lg</td>\n",
       "      <td>Play-off round</td>\n",
       "      <td>Tue</td>\n",
       "      <td>Home</td>\n",
       "      <td>W</td>\n",
       "      <td>2</td>\n",
       "      <td>PAOK</td>\n",
       "      <td>2.0</td>\n",
       "      <td>...</td>\n",
       "      <td>Krasnodar</td>\n",
       "      <td>2020-2021</td>\n",
       "      <td>1</td>\n",
       "      <td>293</td>\n",
       "      <td>55</td>\n",
       "      <td>3</td>\n",
       "      <td>18</td>\n",
       "      <td>22</td>\n",
       "      <td>1</td>\n",
       "      <td>1</td>\n",
       "    </tr>\n",
       "    <tr>\n",
       "      <th>66</th>\n",
       "      <td>2020-09-22</td>\n",
       "      <td>21:00</td>\n",
       "      <td>Champions Lg</td>\n",
       "      <td>Play-off round</td>\n",
       "      <td>Tue</td>\n",
       "      <td>Away</td>\n",
       "      <td>D</td>\n",
       "      <td>0</td>\n",
       "      <td>Slavia Prague</td>\n",
       "      <td>0.0</td>\n",
       "      <td>...</td>\n",
       "      <td>Midtjylland</td>\n",
       "      <td>2020-2021</td>\n",
       "      <td>0</td>\n",
       "      <td>366</td>\n",
       "      <td>55</td>\n",
       "      <td>3</td>\n",
       "      <td>18</td>\n",
       "      <td>21</td>\n",
       "      <td>1</td>\n",
       "      <td>0</td>\n",
       "    </tr>\n",
       "    <tr>\n",
       "      <th>67</th>\n",
       "      <td>2020-09-22</td>\n",
       "      <td>22:00</td>\n",
       "      <td>Champions Lg</td>\n",
       "      <td>Play-off round</td>\n",
       "      <td>Tue</td>\n",
       "      <td>Away</td>\n",
       "      <td>W</td>\n",
       "      <td>2</td>\n",
       "      <td>Maccabi Tel Aviv</td>\n",
       "      <td>2.0</td>\n",
       "      <td>...</td>\n",
       "      <td>Red Bull Salzburg</td>\n",
       "      <td>2020-2021</td>\n",
       "      <td>0</td>\n",
       "      <td>244</td>\n",
       "      <td>55</td>\n",
       "      <td>3</td>\n",
       "      <td>20</td>\n",
       "      <td>22</td>\n",
       "      <td>1</td>\n",
       "      <td>1</td>\n",
       "    </tr>\n",
       "    <tr>\n",
       "      <th>69</th>\n",
       "      <td>2020-09-23</td>\n",
       "      <td>21:00</td>\n",
       "      <td>Champions Lg</td>\n",
       "      <td>Play-off round</td>\n",
       "      <td>Wed</td>\n",
       "      <td>Away</td>\n",
       "      <td>W</td>\n",
       "      <td>2</td>\n",
       "      <td>Gent</td>\n",
       "      <td>2.0</td>\n",
       "      <td>...</td>\n",
       "      <td>Dynamo Kyiv</td>\n",
       "      <td>2020-2021</td>\n",
       "      <td>0</td>\n",
       "      <td>161</td>\n",
       "      <td>55</td>\n",
       "      <td>3</td>\n",
       "      <td>18</td>\n",
       "      <td>21</td>\n",
       "      <td>2</td>\n",
       "      <td>1</td>\n",
       "    </tr>\n",
       "    <tr>\n",
       "      <th>70</th>\n",
       "      <td>2020-09-23</td>\n",
       "      <td>21:00</td>\n",
       "      <td>Champions Lg</td>\n",
       "      <td>Play-off round</td>\n",
       "      <td>Wed</td>\n",
       "      <td>Away</td>\n",
       "      <td>D</td>\n",
       "      <td>3</td>\n",
       "      <td>Molde</td>\n",
       "      <td>3.0</td>\n",
       "      <td>...</td>\n",
       "      <td>Ferencvaros</td>\n",
       "      <td>2020-2021</td>\n",
       "      <td>0</td>\n",
       "      <td>262</td>\n",
       "      <td>55</td>\n",
       "      <td>3</td>\n",
       "      <td>18</td>\n",
       "      <td>21</td>\n",
       "      <td>2</td>\n",
       "      <td>0</td>\n",
       "    </tr>\n",
       "    <tr>\n",
       "      <th>...</th>\n",
       "      <td>...</td>\n",
       "      <td>...</td>\n",
       "      <td>...</td>\n",
       "      <td>...</td>\n",
       "      <td>...</td>\n",
       "      <td>...</td>\n",
       "      <td>...</td>\n",
       "      <td>...</td>\n",
       "      <td>...</td>\n",
       "      <td>...</td>\n",
       "      <td>...</td>\n",
       "      <td>...</td>\n",
       "      <td>...</td>\n",
       "      <td>...</td>\n",
       "      <td>...</td>\n",
       "      <td>...</td>\n",
       "      <td>...</td>\n",
       "      <td>...</td>\n",
       "      <td>...</td>\n",
       "      <td>...</td>\n",
       "      <td>...</td>\n",
       "    </tr>\n",
       "    <tr>\n",
       "      <th>3633</th>\n",
       "      <td>2023-02-22</td>\n",
       "      <td>21:00</td>\n",
       "      <td>Champions Lg</td>\n",
       "      <td>Round of 16</td>\n",
       "      <td>Wed</td>\n",
       "      <td>Home</td>\n",
       "      <td>D</td>\n",
       "      <td>1</td>\n",
       "      <td>Manchester City</td>\n",
       "      <td>1.0</td>\n",
       "      <td>...</td>\n",
       "      <td>RB Leipzig</td>\n",
       "      <td>2022-2023</td>\n",
       "      <td>1</td>\n",
       "      <td>250</td>\n",
       "      <td>58</td>\n",
       "      <td>3</td>\n",
       "      <td>14</td>\n",
       "      <td>21</td>\n",
       "      <td>2</td>\n",
       "      <td>0</td>\n",
       "    </tr>\n",
       "    <tr>\n",
       "      <th>3703</th>\n",
       "      <td>2023-03-07</td>\n",
       "      <td>20:00</td>\n",
       "      <td>Champions Lg</td>\n",
       "      <td>Round of 16</td>\n",
       "      <td>Tue</td>\n",
       "      <td>Away</td>\n",
       "      <td>L</td>\n",
       "      <td>1</td>\n",
       "      <td>Benfica</td>\n",
       "      <td>1.0</td>\n",
       "      <td>...</td>\n",
       "      <td>Club Brugge</td>\n",
       "      <td>2022-2023</td>\n",
       "      <td>0</td>\n",
       "      <td>57</td>\n",
       "      <td>58</td>\n",
       "      <td>3</td>\n",
       "      <td>9</td>\n",
       "      <td>20</td>\n",
       "      <td>1</td>\n",
       "      <td>0</td>\n",
       "    </tr>\n",
       "    <tr>\n",
       "      <th>3704</th>\n",
       "      <td>2023-03-07</td>\n",
       "      <td>20:00</td>\n",
       "      <td>Champions Lg</td>\n",
       "      <td>Round of 16</td>\n",
       "      <td>Tue</td>\n",
       "      <td>Away</td>\n",
       "      <td>L</td>\n",
       "      <td>0</td>\n",
       "      <td>Chelsea</td>\n",
       "      <td>0.0</td>\n",
       "      <td>...</td>\n",
       "      <td>Dortmund</td>\n",
       "      <td>2022-2023</td>\n",
       "      <td>0</td>\n",
       "      <td>93</td>\n",
       "      <td>58</td>\n",
       "      <td>3</td>\n",
       "      <td>12</td>\n",
       "      <td>20</td>\n",
       "      <td>1</td>\n",
       "      <td>0</td>\n",
       "    </tr>\n",
       "    <tr>\n",
       "      <th>3705</th>\n",
       "      <td>2023-03-07</td>\n",
       "      <td>20:00</td>\n",
       "      <td>Champions Lg</td>\n",
       "      <td>Round of 16</td>\n",
       "      <td>Tue</td>\n",
       "      <td>Home</td>\n",
       "      <td>W</td>\n",
       "      <td>5</td>\n",
       "      <td>Club Brugge</td>\n",
       "      <td>5.0</td>\n",
       "      <td>...</td>\n",
       "      <td>Benfica</td>\n",
       "      <td>2022-2023</td>\n",
       "      <td>1</td>\n",
       "      <td>100</td>\n",
       "      <td>58</td>\n",
       "      <td>3</td>\n",
       "      <td>14</td>\n",
       "      <td>20</td>\n",
       "      <td>1</td>\n",
       "      <td>1</td>\n",
       "    </tr>\n",
       "    <tr>\n",
       "      <th>3706</th>\n",
       "      <td>2023-03-07</td>\n",
       "      <td>20:00</td>\n",
       "      <td>Champions Lg</td>\n",
       "      <td>Round of 16</td>\n",
       "      <td>Tue</td>\n",
       "      <td>Home</td>\n",
       "      <td>W</td>\n",
       "      <td>2</td>\n",
       "      <td>Dortmund</td>\n",
       "      <td>2.0</td>\n",
       "      <td>...</td>\n",
       "      <td>Chelsea</td>\n",
       "      <td>2022-2023</td>\n",
       "      <td>1</td>\n",
       "      <td>116</td>\n",
       "      <td>58</td>\n",
       "      <td>3</td>\n",
       "      <td>6</td>\n",
       "      <td>20</td>\n",
       "      <td>1</td>\n",
       "      <td>1</td>\n",
       "    </tr>\n",
       "  </tbody>\n",
       "</table>\n",
       "<p>708 rows × 70 columns</p>\n",
       "</div>"
      ],
      "text/plain": [
       "           date   time          comp           round  day venue result gf  \\\n",
       "64   2020-09-22  22:00  Champions Lg  Play-off round  Tue  Home      W  2   \n",
       "66   2020-09-22  21:00  Champions Lg  Play-off round  Tue  Away      D  0   \n",
       "67   2020-09-22  22:00  Champions Lg  Play-off round  Tue  Away      W  2   \n",
       "69   2020-09-23  21:00  Champions Lg  Play-off round  Wed  Away      W  2   \n",
       "70   2020-09-23  21:00  Champions Lg  Play-off round  Wed  Away      D  3   \n",
       "...         ...    ...           ...             ...  ...   ...    ... ..   \n",
       "3633 2023-02-22  21:00  Champions Lg     Round of 16  Wed  Home      D  1   \n",
       "3703 2023-03-07  20:00  Champions Lg     Round of 16  Tue  Away      L  1   \n",
       "3704 2023-03-07  20:00  Champions Lg     Round of 16  Tue  Away      L  0   \n",
       "3705 2023-03-07  20:00  Champions Lg     Round of 16  Tue  Home      W  5   \n",
       "3706 2023-03-07  20:00  Champions Lg     Round of 16  Tue  Home      W  2   \n",
       "\n",
       "              opponent  gls  ...               team     season  venue_code  \\\n",
       "64                PAOK  2.0  ...          Krasnodar  2020-2021           1   \n",
       "66       Slavia Prague  0.0  ...        Midtjylland  2020-2021           0   \n",
       "67    Maccabi Tel Aviv  2.0  ...  Red Bull Salzburg  2020-2021           0   \n",
       "69                Gent  2.0  ...        Dynamo Kyiv  2020-2021           0   \n",
       "70               Molde  3.0  ...        Ferencvaros  2020-2021           0   \n",
       "...                ...  ...  ...                ...        ...         ...   \n",
       "3633   Manchester City  1.0  ...         RB Leipzig  2022-2023           1   \n",
       "3703           Benfica  1.0  ...        Club Brugge  2022-2023           0   \n",
       "3704           Chelsea  0.0  ...           Dortmund  2022-2023           0   \n",
       "3705       Club Brugge  5.0  ...            Benfica  2022-2023           1   \n",
       "3706          Dortmund  2.0  ...            Chelsea  2022-2023           1   \n",
       "\n",
       "      opp_code  round_code  comp_code formation_code  hour  day_code  target  \n",
       "64         293          55          3             18    22         1       1  \n",
       "66         366          55          3             18    21         1       0  \n",
       "67         244          55          3             20    22         1       1  \n",
       "69         161          55          3             18    21         2       1  \n",
       "70         262          55          3             18    21         2       0  \n",
       "...        ...         ...        ...            ...   ...       ...     ...  \n",
       "3633       250          58          3             14    21         2       0  \n",
       "3703        57          58          3              9    20         1       0  \n",
       "3704        93          58          3             12    20         1       0  \n",
       "3705       100          58          3             14    20         1       1  \n",
       "3706       116          58          3              6    20         1       1  \n",
       "\n",
       "[708 rows x 70 columns]"
      ]
     },
     "execution_count": 48,
     "metadata": {},
     "output_type": "execute_result"
    }
   ],
   "source": [
    "df[df['comp']=='Champions Lg']"
   ]
  },
  {
   "cell_type": "code",
   "execution_count": 62,
   "metadata": {},
   "outputs": [],
   "source": [
    "import xgboost as xgb\n",
    "\n",
    "XGB_model = xgb.XGBClassifier( \n",
    "                      learning_rate=0.005,  \n",
    "                      colsample_bytree = 0.5,\n",
    "                      subsample = 0.8,\n",
    "                      objective='binary:logistic', \n",
    "                      n_estimators=1000, \n",
    "                      reg_alpha = 0.2,\n",
    "                      reg_lambda = .5,\n",
    "                      max_depth=5, \n",
    "                      gamma=5,\n",
    "                      seed=82)\n"
   ]
  },
  {
   "cell_type": "code",
   "execution_count": 63,
   "metadata": {},
   "outputs": [],
   "source": [
    "def make_xgb_predictions(XGB_model, data, predictors):\n",
    "\n",
    "\n",
    "    train = data[data['date']< \"2022-8-15\"] # Data in order of date use 70% for training\n",
    "    test = data[data['date']> \"2022-8-15\"]\n",
    "    \n",
    "    eval_set = [(train[predictors], train['target']), (test[predictors], test['target'])]\n",
    "\n",
    "    XGB_model.fit(train[predictors],train['target'], eval_metric=[\"merror\", \"mlogloss\"], eval_set=eval_set, verbose=True)\n",
    "\n",
    "    predictions = XGB_model.predict(test[predictors])\n",
    "\n",
    "    combined = pd.DataFrame(dict(actual=test[\"target\"], predicted=predictions))\n",
    "\n",
    "    precision_weight = precision_score(test[\"target\"], predictions, average = 'weighted')\n",
    "    precision_raw = precision_score(test[\"target\"], predictions, average = None)\n",
    "\n",
    "    return combined, precision_weight, precision_raw, XGB_model.feature_importances_, XGB_model"
   ]
  },
  {
   "cell_type": "code",
   "execution_count": 64,
   "metadata": {},
   "outputs": [
    {
     "name": "stderr",
     "output_type": "stream",
     "text": [
      "c:\\ProgramData\\Anaconda3\\envs\\football_proj\\Lib\\site-packages\\xgboost\\sklearn.py:861: UserWarning: `eval_metric` in `fit` method is deprecated for better compatibility with scikit-learn, use `eval_metric` in constructor or`set_params` instead.\n",
      "  warnings.warn(\n"
     ]
    },
    {
     "ename": "XGBoostError",
     "evalue": "[11:51:08] D:\\bld\\xgboost-split_1667849704519\\work\\src\\metric\\multiclass_metric.cu:34: Check failed: label_error >= 0 && label_error < static_cast<int32_t>(n_class): MultiClassEvaluation: label must be in [0, num_class), num_class=1 but found 1 in label",
     "output_type": "error",
     "traceback": [
      "\u001b[1;31m---------------------------------------------------------------------------\u001b[0m",
      "\u001b[1;31mXGBoostError\u001b[0m                              Traceback (most recent call last)",
      "Cell \u001b[1;32mIn[64], line 1\u001b[0m\n\u001b[1;32m----> 1\u001b[0m combined, precision_weight, precision_raw, importances,XGB_model \u001b[39m=\u001b[39m make_xgb_predictions (XGB_model,df_rolling, predictors3)\n\u001b[0;32m      2\u001b[0m \u001b[39mprint\u001b[39m(precision_raw)\n\u001b[0;32m      3\u001b[0m \u001b[39mprint\u001b[39m(precision_weight)\n",
      "Cell \u001b[1;32mIn[63], line 9\u001b[0m, in \u001b[0;36mmake_xgb_predictions\u001b[1;34m(XGB_model, data, predictors)\u001b[0m\n\u001b[0;32m      5\u001b[0m test \u001b[39m=\u001b[39m data[data[\u001b[39m'\u001b[39m\u001b[39mdate\u001b[39m\u001b[39m'\u001b[39m]\u001b[39m>\u001b[39m \u001b[39m\"\u001b[39m\u001b[39m2022-8-15\u001b[39m\u001b[39m\"\u001b[39m]\n\u001b[0;32m      7\u001b[0m eval_set \u001b[39m=\u001b[39m [(train[predictors], train[\u001b[39m'\u001b[39m\u001b[39mtarget\u001b[39m\u001b[39m'\u001b[39m]), (test[predictors], test[\u001b[39m'\u001b[39m\u001b[39mtarget\u001b[39m\u001b[39m'\u001b[39m])]\n\u001b[1;32m----> 9\u001b[0m XGB_model\u001b[39m.\u001b[39;49mfit(train[predictors],train[\u001b[39m'\u001b[39;49m\u001b[39mtarget\u001b[39;49m\u001b[39m'\u001b[39;49m], eval_metric\u001b[39m=\u001b[39;49m[\u001b[39m\"\u001b[39;49m\u001b[39mmerror\u001b[39;49m\u001b[39m\"\u001b[39;49m, \u001b[39m\"\u001b[39;49m\u001b[39mmlogloss\u001b[39;49m\u001b[39m\"\u001b[39;49m], eval_set\u001b[39m=\u001b[39;49meval_set, verbose\u001b[39m=\u001b[39;49m\u001b[39mTrue\u001b[39;49;00m)\n\u001b[0;32m     11\u001b[0m predictions \u001b[39m=\u001b[39m XGB_model\u001b[39m.\u001b[39mpredict(test[predictors])\n\u001b[0;32m     13\u001b[0m combined \u001b[39m=\u001b[39m pd\u001b[39m.\u001b[39mDataFrame(\u001b[39mdict\u001b[39m(actual\u001b[39m=\u001b[39mtest[\u001b[39m\"\u001b[39m\u001b[39mtarget\u001b[39m\u001b[39m\"\u001b[39m], predicted\u001b[39m=\u001b[39mpredictions))\n",
      "File \u001b[1;32mc:\\ProgramData\\Anaconda3\\envs\\football_proj\\Lib\\site-packages\\xgboost\\core.py:620\u001b[0m, in \u001b[0;36mrequire_keyword_args.<locals>.throw_if.<locals>.inner_f\u001b[1;34m(*args, **kwargs)\u001b[0m\n\u001b[0;32m    618\u001b[0m \u001b[39mfor\u001b[39;00m k, arg \u001b[39min\u001b[39;00m \u001b[39mzip\u001b[39m(sig\u001b[39m.\u001b[39mparameters, args):\n\u001b[0;32m    619\u001b[0m     kwargs[k] \u001b[39m=\u001b[39m arg\n\u001b[1;32m--> 620\u001b[0m \u001b[39mreturn\u001b[39;00m func(\u001b[39m*\u001b[39;49m\u001b[39m*\u001b[39;49mkwargs)\n",
      "File \u001b[1;32mc:\\ProgramData\\Anaconda3\\envs\\football_proj\\Lib\\site-packages\\xgboost\\sklearn.py:1516\u001b[0m, in \u001b[0;36mXGBClassifier.fit\u001b[1;34m(self, X, y, sample_weight, base_margin, eval_set, eval_metric, early_stopping_rounds, verbose, xgb_model, sample_weight_eval_set, base_margin_eval_set, feature_weights, callbacks)\u001b[0m\n\u001b[0;32m   1488\u001b[0m (\n\u001b[0;32m   1489\u001b[0m     model,\n\u001b[0;32m   1490\u001b[0m     metric,\n\u001b[1;32m   (...)\u001b[0m\n\u001b[0;32m   1495\u001b[0m     xgb_model, eval_metric, params, early_stopping_rounds, callbacks\n\u001b[0;32m   1496\u001b[0m )\n\u001b[0;32m   1497\u001b[0m train_dmatrix, evals \u001b[39m=\u001b[39m _wrap_evaluation_matrices(\n\u001b[0;32m   1498\u001b[0m     missing\u001b[39m=\u001b[39m\u001b[39mself\u001b[39m\u001b[39m.\u001b[39mmissing,\n\u001b[0;32m   1499\u001b[0m     X\u001b[39m=\u001b[39mX,\n\u001b[1;32m   (...)\u001b[0m\n\u001b[0;32m   1513\u001b[0m     feature_types\u001b[39m=\u001b[39m\u001b[39mself\u001b[39m\u001b[39m.\u001b[39mfeature_types,\n\u001b[0;32m   1514\u001b[0m )\n\u001b[1;32m-> 1516\u001b[0m \u001b[39mself\u001b[39m\u001b[39m.\u001b[39m_Booster \u001b[39m=\u001b[39m train(\n\u001b[0;32m   1517\u001b[0m     params,\n\u001b[0;32m   1518\u001b[0m     train_dmatrix,\n\u001b[0;32m   1519\u001b[0m     \u001b[39mself\u001b[39;49m\u001b[39m.\u001b[39;49mget_num_boosting_rounds(),\n\u001b[0;32m   1520\u001b[0m     evals\u001b[39m=\u001b[39;49mevals,\n\u001b[0;32m   1521\u001b[0m     early_stopping_rounds\u001b[39m=\u001b[39;49mearly_stopping_rounds,\n\u001b[0;32m   1522\u001b[0m     evals_result\u001b[39m=\u001b[39;49mevals_result,\n\u001b[0;32m   1523\u001b[0m     obj\u001b[39m=\u001b[39;49mobj,\n\u001b[0;32m   1524\u001b[0m     custom_metric\u001b[39m=\u001b[39;49mmetric,\n\u001b[0;32m   1525\u001b[0m     verbose_eval\u001b[39m=\u001b[39;49mverbose,\n\u001b[0;32m   1526\u001b[0m     xgb_model\u001b[39m=\u001b[39;49mmodel,\n\u001b[0;32m   1527\u001b[0m     callbacks\u001b[39m=\u001b[39;49mcallbacks,\n\u001b[0;32m   1528\u001b[0m )\n\u001b[0;32m   1530\u001b[0m \u001b[39mif\u001b[39;00m \u001b[39mnot\u001b[39;00m callable(\u001b[39mself\u001b[39m\u001b[39m.\u001b[39mobjective):\n\u001b[0;32m   1531\u001b[0m     \u001b[39mself\u001b[39m\u001b[39m.\u001b[39mobjective \u001b[39m=\u001b[39m params[\u001b[39m\"\u001b[39m\u001b[39mobjective\u001b[39m\u001b[39m\"\u001b[39m]\n",
      "File \u001b[1;32mc:\\ProgramData\\Anaconda3\\envs\\football_proj\\Lib\\site-packages\\xgboost\\core.py:620\u001b[0m, in \u001b[0;36mrequire_keyword_args.<locals>.throw_if.<locals>.inner_f\u001b[1;34m(*args, **kwargs)\u001b[0m\n\u001b[0;32m    618\u001b[0m \u001b[39mfor\u001b[39;00m k, arg \u001b[39min\u001b[39;00m \u001b[39mzip\u001b[39m(sig\u001b[39m.\u001b[39mparameters, args):\n\u001b[0;32m    619\u001b[0m     kwargs[k] \u001b[39m=\u001b[39m arg\n\u001b[1;32m--> 620\u001b[0m \u001b[39mreturn\u001b[39;00m func(\u001b[39m*\u001b[39;49m\u001b[39m*\u001b[39;49mkwargs)\n",
      "File \u001b[1;32mc:\\ProgramData\\Anaconda3\\envs\\football_proj\\Lib\\site-packages\\xgboost\\training.py:186\u001b[0m, in \u001b[0;36mtrain\u001b[1;34m(params, dtrain, num_boost_round, evals, obj, feval, maximize, early_stopping_rounds, evals_result, verbose_eval, xgb_model, callbacks, custom_metric)\u001b[0m\n\u001b[0;32m    184\u001b[0m         \u001b[39mbreak\u001b[39;00m\n\u001b[0;32m    185\u001b[0m     bst\u001b[39m.\u001b[39mupdate(dtrain, i, obj)\n\u001b[1;32m--> 186\u001b[0m     \u001b[39mif\u001b[39;00m cb_container\u001b[39m.\u001b[39;49mafter_iteration(bst, i, dtrain, evals):\n\u001b[0;32m    187\u001b[0m         \u001b[39mbreak\u001b[39;00m\n\u001b[0;32m    189\u001b[0m bst \u001b[39m=\u001b[39m cb_container\u001b[39m.\u001b[39mafter_training(bst)\n",
      "File \u001b[1;32mc:\\ProgramData\\Anaconda3\\envs\\football_proj\\Lib\\site-packages\\xgboost\\callback.py:240\u001b[0m, in \u001b[0;36mCallbackContainer.after_iteration\u001b[1;34m(self, model, epoch, dtrain, evals)\u001b[0m\n\u001b[0;32m    238\u001b[0m \u001b[39mfor\u001b[39;00m _, name \u001b[39min\u001b[39;00m evals:\n\u001b[0;32m    239\u001b[0m     \u001b[39massert\u001b[39;00m name\u001b[39m.\u001b[39mfind(\u001b[39m'\u001b[39m\u001b[39m-\u001b[39m\u001b[39m'\u001b[39m) \u001b[39m==\u001b[39m \u001b[39m-\u001b[39m\u001b[39m1\u001b[39m, \u001b[39m'\u001b[39m\u001b[39mDataset name should not contain `-`\u001b[39m\u001b[39m'\u001b[39m\n\u001b[1;32m--> 240\u001b[0m score: \u001b[39mstr\u001b[39m \u001b[39m=\u001b[39m model\u001b[39m.\u001b[39;49meval_set(evals, epoch, \u001b[39mself\u001b[39;49m\u001b[39m.\u001b[39;49mmetric, \u001b[39mself\u001b[39;49m\u001b[39m.\u001b[39;49m_output_margin)\n\u001b[0;32m    241\u001b[0m splited \u001b[39m=\u001b[39m score\u001b[39m.\u001b[39msplit()[\u001b[39m1\u001b[39m:]  \u001b[39m# into datasets\u001b[39;00m\n\u001b[0;32m    242\u001b[0m \u001b[39m# split up `test-error:0.1234`\u001b[39;00m\n",
      "File \u001b[1;32mc:\\ProgramData\\Anaconda3\\envs\\football_proj\\Lib\\site-packages\\xgboost\\core.py:1988\u001b[0m, in \u001b[0;36mBooster.eval_set\u001b[1;34m(self, evals, iteration, feval, output_margin)\u001b[0m\n\u001b[0;32m   1986\u001b[0m evnames \u001b[39m=\u001b[39m c_array(ctypes\u001b[39m.\u001b[39mc_char_p, [c_str(d[\u001b[39m1\u001b[39m]) \u001b[39mfor\u001b[39;00m d \u001b[39min\u001b[39;00m evals])\n\u001b[0;32m   1987\u001b[0m msg \u001b[39m=\u001b[39m ctypes\u001b[39m.\u001b[39mc_char_p()\n\u001b[1;32m-> 1988\u001b[0m _check_call(\n\u001b[0;32m   1989\u001b[0m     _LIB\u001b[39m.\u001b[39;49mXGBoosterEvalOneIter(\n\u001b[0;32m   1990\u001b[0m         \u001b[39mself\u001b[39;49m\u001b[39m.\u001b[39;49mhandle,\n\u001b[0;32m   1991\u001b[0m         ctypes\u001b[39m.\u001b[39;49mc_int(iteration),\n\u001b[0;32m   1992\u001b[0m         dmats,\n\u001b[0;32m   1993\u001b[0m         evnames,\n\u001b[0;32m   1994\u001b[0m         c_bst_ulong(\u001b[39mlen\u001b[39;49m(evals)),\n\u001b[0;32m   1995\u001b[0m         ctypes\u001b[39m.\u001b[39;49mbyref(msg),\n\u001b[0;32m   1996\u001b[0m     )\n\u001b[0;32m   1997\u001b[0m )\n\u001b[0;32m   1998\u001b[0m \u001b[39massert\u001b[39;00m msg\u001b[39m.\u001b[39mvalue \u001b[39mis\u001b[39;00m \u001b[39mnot\u001b[39;00m \u001b[39mNone\u001b[39;00m\n\u001b[0;32m   1999\u001b[0m res \u001b[39m=\u001b[39m msg\u001b[39m.\u001b[39mvalue\u001b[39m.\u001b[39mdecode()  \u001b[39m# pylint: disable=no-member\u001b[39;00m\n",
      "File \u001b[1;32mc:\\ProgramData\\Anaconda3\\envs\\football_proj\\Lib\\site-packages\\xgboost\\core.py:279\u001b[0m, in \u001b[0;36m_check_call\u001b[1;34m(ret)\u001b[0m\n\u001b[0;32m    268\u001b[0m \u001b[39m\u001b[39m\u001b[39m\"\"\"Check the return value of C API call\u001b[39;00m\n\u001b[0;32m    269\u001b[0m \n\u001b[0;32m    270\u001b[0m \u001b[39mThis function will raise exception when error occurs.\u001b[39;00m\n\u001b[1;32m   (...)\u001b[0m\n\u001b[0;32m    276\u001b[0m \u001b[39m    return value from API calls\u001b[39;00m\n\u001b[0;32m    277\u001b[0m \u001b[39m\"\"\"\u001b[39;00m\n\u001b[0;32m    278\u001b[0m \u001b[39mif\u001b[39;00m ret \u001b[39m!=\u001b[39m \u001b[39m0\u001b[39m:\n\u001b[1;32m--> 279\u001b[0m     \u001b[39mraise\u001b[39;00m XGBoostError(py_str(_LIB\u001b[39m.\u001b[39mXGBGetLastError()))\n",
      "\u001b[1;31mXGBoostError\u001b[0m: [11:51:08] D:\\bld\\xgboost-split_1667849704519\\work\\src\\metric\\multiclass_metric.cu:34: Check failed: label_error >= 0 && label_error < static_cast<int32_t>(n_class): MultiClassEvaluation: label must be in [0, num_class), num_class=1 but found 1 in label"
     ]
    }
   ],
   "source": [
    "combined, precision_weight, precision_raw, importances,XGB_model = make_xgb_predictions (XGB_model,df_rolling, predictors3)\n",
    "print(precision_raw)\n",
    "print(precision_weight)\n",
    "pd.crosstab(index=combined[\"actual\"], columns=combined[\"predicted\"])"
   ]
  },
  {
   "cell_type": "code",
   "execution_count": null,
   "metadata": {},
   "outputs": [],
   "source": []
  }
 ],
 "metadata": {
  "kernelspec": {
   "display_name": "football_proj",
   "language": "python",
   "name": "python3"
  },
  "language_info": {
   "codemirror_mode": {
    "name": "ipython",
    "version": 3
   },
   "file_extension": ".py",
   "mimetype": "text/x-python",
   "name": "python",
   "nbconvert_exporter": "python",
   "pygments_lexer": "ipython3",
   "version": "3.11.0"
  },
  "orig_nbformat": 4,
  "vscode": {
   "interpreter": {
    "hash": "3b2572b4a15cb33407f4fd5615f06488f520abed03bc861addd9f2796186c7a0"
   }
  }
 },
 "nbformat": 4,
 "nbformat_minor": 2
}
