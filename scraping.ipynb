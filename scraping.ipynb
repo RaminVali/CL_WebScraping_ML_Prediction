{
  "nbformat": 4,
  "nbformat_minor": 0,
  "metadata": {
    "colab": {
      "provenance": [],
      "mount_file_id": "1lbXHWG6FF4uO_kmddv5omoQZNpSH8zOj",
      "authorship_tag": "ABX9TyOCeisVHI0ZX3zsg/bNpIVq",
      "include_colab_link": true
    },
    "kernelspec": {
      "name": "python3",
      "display_name": "Python 3"
    },
    "language_info": {
      "name": "python"
    }
  },
  "cells": [
    {
      "cell_type": "markdown",
      "metadata": {
        "id": "view-in-github",
        "colab_type": "text"
      },
      "source": [
        "<a href=\"https://colab.research.google.com/github/RaminVali/CL_WebScraping_ML_Prediction/blob/main/scraping.ipynb\" target=\"_parent\"><img src=\"https://colab.research.google.com/assets/colab-badge.svg\" alt=\"Open In Colab\"/></a>"
      ]
    },
    {
      "cell_type": "markdown",
      "source": [
        "Setting up Selenium Chorme dirver to use for scraping and scrolling donwn etc.\n",
        "\n",
        "Google colab has issues with selenium and the associated websidrver because their ubunto release does not include snap. Here is a workaround for this issue on google colab. Please see [here](https://stackoverflow.com/questions/75164313/selenium-in-google-colab-stopped-working-showing-an-error-as-service-chromedrive) for more details."
      ],
      "metadata": {
        "id": "vRVgZB_mS3SA"
      }
    },
    {
      "cell_type": "code",
      "source": [
        "%%shell\n",
        "# Ubuntu no longer distributes chromium-browser outside of snap\n",
        "#\n",
        "# Proposed solution: https://askubuntu.com/questions/1204571/how-to-install-chromium-without-snap\n",
        "\n",
        "# Add debian buster\n",
        "cat > /etc/apt/sources.list.d/debian.list <<'EOF'\n",
        "deb [arch=amd64 signed-by=/usr/share/keyrings/debian-buster.gpg] http://deb.debian.org/debian buster main\n",
        "deb [arch=amd64 signed-by=/usr/share/keyrings/debian-buster-updates.gpg] http://deb.debian.org/debian buster-updates main\n",
        "deb [arch=amd64 signed-by=/usr/share/keyrings/debian-security-buster.gpg] http://deb.debian.org/debian-security buster/updates main\n",
        "EOF\n",
        "\n",
        "# Add keys\n",
        "apt-key adv --keyserver keyserver.ubuntu.com --recv-keys DCC9EFBF77E11517\n",
        "apt-key adv --keyserver keyserver.ubuntu.com --recv-keys 648ACFD622F3D138\n",
        "apt-key adv --keyserver keyserver.ubuntu.com --recv-keys 112695A0E562B32A\n",
        "\n",
        "apt-key export 77E11517 | gpg --dearmour -o /usr/share/keyrings/debian-buster.gpg\n",
        "apt-key export 22F3D138 | gpg --dearmour -o /usr/share/keyrings/debian-buster-updates.gpg\n",
        "apt-key export E562B32A | gpg --dearmour -o /usr/share/keyrings/debian-security-buster.gpg\n",
        "\n",
        "# Prefer debian repo for chromium* packages only\n",
        "# Note the double-blank lines between entries\n",
        "cat > /etc/apt/preferences.d/chromium.pref << 'EOF'\n",
        "Package: *\n",
        "Pin: release a=eoan\n",
        "Pin-Priority: 500\n",
        "\n",
        "\n",
        "Package: *\n",
        "Pin: origin \"deb.debian.org\"\n",
        "Pin-Priority: 300\n",
        "\n",
        "\n",
        "Package: chromium*\n",
        "Pin: origin \"deb.debian.org\"\n",
        "Pin-Priority: 700\n",
        "EOF\n",
        "\n",
        "# Install chromium and chromium-driver\n",
        "apt-get install chromium chromium-driver\n",
        "apt-get update\n",
        "\n",
        "\n",
        "# Install selenium\n",
        "pip install selenium\n",
        "\n",
        "# Install\n",
        "pip install webdriver-manager"
      ],
      "metadata": {
        "colab": {
          "base_uri": "https://localhost:8080/"
        },
        "id": "6XK-xCN4RuGg",
        "outputId": "9454ccbf-fd17-43bc-98e5-3cc724a16e1d"
      },
      "execution_count": 1,
      "outputs": [
        {
          "output_type": "stream",
          "name": "stdout",
          "text": [
            "Executing: /tmp/apt-key-gpghome.5gvaEdEssx/gpg.1.sh --keyserver keyserver.ubuntu.com --recv-keys DCC9EFBF77E11517\n",
            "gpg: key DCC9EFBF77E11517: \"Debian Stable Release Key (10/buster) <debian-release@lists.debian.org>\" not changed\n",
            "gpg: Total number processed: 1\n",
            "gpg:              unchanged: 1\n",
            "Executing: /tmp/apt-key-gpghome.9Yw062pkLR/gpg.1.sh --keyserver keyserver.ubuntu.com --recv-keys 648ACFD622F3D138\n",
            "gpg: key DC30D7C23CBBABEE: \"Debian Archive Automatic Signing Key (10/buster) <ftpmaster@debian.org>\" not changed\n",
            "gpg: Total number processed: 1\n",
            "gpg:              unchanged: 1\n",
            "Executing: /tmp/apt-key-gpghome.YgvOEFbZTg/gpg.1.sh --keyserver keyserver.ubuntu.com --recv-keys 112695A0E562B32A\n",
            "gpg: key 4DFAB270CAA96DFA: \"Debian Security Archive Automatic Signing Key (10/buster) <ftpmaster@debian.org>\" not changed\n",
            "gpg: Total number processed: 1\n",
            "gpg:              unchanged: 1\n",
            "gpg: cannot open '/dev/tty': No such device or address\n",
            "Warning: apt-key output should not be parsed (stdout is not a terminal)\n",
            "gpg: [stdout]: write error: Broken pipe\n",
            "gpg: filter_flush failed on close: Broken pipe\n",
            "gpg: cannot open '/dev/tty': No such device or address\n",
            "Warning: apt-key output should not be parsed (stdout is not a terminal)\n",
            "gpg: [stdout]: write error: Broken pipe\n",
            "gpg: filter_flush failed on close: Broken pipe\n",
            "gpg: cannot open '/dev/tty': No such device or address\n",
            "Warning: apt-key output should not be parsed (stdout is not a terminal)\n",
            "gpg: [stdout]: write error: Broken pipe\n",
            "gpg: filter_flush failed on close: Broken pipe\n",
            "Reading package lists... Done\n",
            "Building dependency tree       \n",
            "Reading state information... Done\n",
            "chromium is already the newest version (90.0.4430.212-1~deb10u1).\n",
            "chromium-driver is already the newest version (90.0.4430.212-1~deb10u1).\n",
            "0 upgraded, 0 newly installed, 0 to remove and 14 not upgraded.\n",
            "Hit:1 http://deb.debian.org/debian buster InRelease\n",
            "Hit:2 http://deb.debian.org/debian buster-updates InRelease\n",
            "Hit:3 http://deb.debian.org/debian-security buster/updates InRelease\n",
            "Hit:4 https://cloud.r-project.org/bin/linux/ubuntu focal-cran40/ InRelease\n",
            "Hit:5 https://developer.download.nvidia.com/compute/cuda/repos/ubuntu2004/x86_64  InRelease\n",
            "Hit:6 http://security.ubuntu.com/ubuntu focal-security InRelease\n",
            "Hit:7 http://ppa.launchpad.net/c2d4u.team/c2d4u4.0+/ubuntu focal InRelease\n",
            "Hit:8 http://archive.ubuntu.com/ubuntu focal InRelease\n",
            "Hit:9 http://archive.ubuntu.com/ubuntu focal-updates InRelease\n",
            "Hit:10 http://ppa.launchpad.net/cran/libgit2/ubuntu focal InRelease\n",
            "Hit:11 http://archive.ubuntu.com/ubuntu focal-backports InRelease\n",
            "Hit:12 http://ppa.launchpad.net/deadsnakes/ppa/ubuntu focal InRelease\n",
            "Hit:13 http://ppa.launchpad.net/graphics-drivers/ppa/ubuntu focal InRelease\n",
            "Hit:14 http://ppa.launchpad.net/ubuntugis/ppa/ubuntu focal InRelease\n",
            "Reading package lists... Done\n",
            "Requirement already satisfied: selenium in /usr/local/lib/python3.10/dist-packages (4.10.0)\n",
            "Requirement already satisfied: urllib3[socks]<3,>=1.26 in /usr/local/lib/python3.10/dist-packages (from selenium) (1.26.16)\n",
            "Requirement already satisfied: trio~=0.17 in /usr/local/lib/python3.10/dist-packages (from selenium) (0.22.2)\n",
            "Requirement already satisfied: trio-websocket~=0.9 in /usr/local/lib/python3.10/dist-packages (from selenium) (0.10.3)\n",
            "Requirement already satisfied: certifi>=2021.10.8 in /usr/local/lib/python3.10/dist-packages (from selenium) (2023.5.7)\n",
            "Requirement already satisfied: attrs>=20.1.0 in /usr/local/lib/python3.10/dist-packages (from trio~=0.17->selenium) (23.1.0)\n",
            "Requirement already satisfied: sortedcontainers in /usr/local/lib/python3.10/dist-packages (from trio~=0.17->selenium) (2.4.0)\n",
            "Requirement already satisfied: idna in /usr/local/lib/python3.10/dist-packages (from trio~=0.17->selenium) (3.4)\n",
            "Requirement already satisfied: outcome in /usr/local/lib/python3.10/dist-packages (from trio~=0.17->selenium) (1.2.0)\n",
            "Requirement already satisfied: sniffio in /usr/local/lib/python3.10/dist-packages (from trio~=0.17->selenium) (1.3.0)\n",
            "Requirement already satisfied: exceptiongroup>=1.0.0rc9 in /usr/local/lib/python3.10/dist-packages (from trio~=0.17->selenium) (1.1.2)\n",
            "Requirement already satisfied: wsproto>=0.14 in /usr/local/lib/python3.10/dist-packages (from trio-websocket~=0.9->selenium) (1.2.0)\n",
            "Requirement already satisfied: PySocks!=1.5.7,<2.0,>=1.5.6 in /usr/local/lib/python3.10/dist-packages (from urllib3[socks]<3,>=1.26->selenium) (1.7.1)\n",
            "Requirement already satisfied: h11<1,>=0.9.0 in /usr/local/lib/python3.10/dist-packages (from wsproto>=0.14->trio-websocket~=0.9->selenium) (0.14.0)\n",
            "Requirement already satisfied: webdriver-manager in /usr/local/lib/python3.10/dist-packages (3.8.6)\n",
            "Requirement already satisfied: requests in /usr/local/lib/python3.10/dist-packages (from webdriver-manager) (2.27.1)\n",
            "Requirement already satisfied: python-dotenv in /usr/local/lib/python3.10/dist-packages (from webdriver-manager) (1.0.0)\n",
            "Requirement already satisfied: tqdm in /usr/local/lib/python3.10/dist-packages (from webdriver-manager) (4.65.0)\n",
            "Requirement already satisfied: packaging in /usr/local/lib/python3.10/dist-packages (from webdriver-manager) (23.1)\n",
            "Requirement already satisfied: urllib3<1.27,>=1.21.1 in /usr/local/lib/python3.10/dist-packages (from requests->webdriver-manager) (1.26.16)\n",
            "Requirement already satisfied: certifi>=2017.4.17 in /usr/local/lib/python3.10/dist-packages (from requests->webdriver-manager) (2023.5.7)\n",
            "Requirement already satisfied: charset-normalizer~=2.0.0 in /usr/local/lib/python3.10/dist-packages (from requests->webdriver-manager) (2.0.12)\n",
            "Requirement already satisfied: idna<4,>=2.5 in /usr/local/lib/python3.10/dist-packages (from requests->webdriver-manager) (3.4)\n"
          ]
        },
        {
          "output_type": "execute_result",
          "data": {
            "text/plain": []
          },
          "metadata": {},
          "execution_count": 1
        }
      ]
    },
    {
      "cell_type": "code",
      "source": [
        "! ls /usr/bin/chromedriver"
      ],
      "metadata": {
        "colab": {
          "base_uri": "https://localhost:8080/"
        },
        "id": "8QPoO4XgLEPx",
        "outputId": "43a59c5c-419b-47a2-ef2d-23f5b83c001f"
      },
      "execution_count": 12,
      "outputs": [
        {
          "output_type": "stream",
          "name": "stdout",
          "text": [
            "/usr/bin/chromedriver\n"
          ]
        }
      ]
    },
    {
      "cell_type": "markdown",
      "source": [
        "Importing Packages"
      ],
      "metadata": {
        "id": "Alx8mElmoS_p"
      }
    },
    {
      "cell_type": "code",
      "source": [
        "import time\n",
        "from selenium import webdriver\n",
        "from selenium.webdriver.chrome.options import Options\n",
        "from selenium.webdriver.chrome.service import Service\n",
        "from selenium.common.exceptions import TimeoutException\n",
        "import os\n",
        "from bs4 import BeautifulSoup\n",
        "from urllib.parse import urljoin\n",
        "\n",
        "import requests\n",
        "import pandas as pd"
      ],
      "metadata": {
        "id": "Vlh632FWoR6n"
      },
      "execution_count": 2,
      "outputs": []
    },
    {
      "cell_type": "markdown",
      "source": [
        "## Setting up the webdriver with appropriate options\n",
        "To not be flagged as a robot by the website, see [here](https://stackoverflow.com/questions/71885891/urllib3-exceptions-maxretryerror-httpconnectionpoolhost-localhost-port-5958)"
      ],
      "metadata": {
        "id": "WFh-7nevnTlj"
      }
    },
    {
      "cell_type": "code",
      "source": [
        "\n",
        "\n",
        "#service = Service(executable_path='/usr/lib/chromium-browser/chromedriver/usr/bin') #this gives a version mismatch error bweteen the driver and the Chormium\n",
        "\n",
        "def get_driver():\n",
        "  service = Service(executable_path='/usr/bin/chromedriver') #this is where the correct version of the chromium and webdriver live\n",
        "\n",
        "\n",
        "  options = Options()\n",
        "  options.add_argument(\"--headless\")\n",
        "  options.add_argument(\"--no-sandbox\")\n",
        "  options.add_argument('--disable-dev-shm-usage')\n",
        "  options.add_argument('--disable-blink-features=AutomationControlled')\n",
        "\n",
        "  driver = webdriver.Chrome(service = service, options = options)\n",
        "  return driver\n"
      ],
      "metadata": {
        "id": "BcMAh9H9X3jh"
      },
      "execution_count": 3,
      "outputs": []
    },
    {
      "cell_type": "markdown",
      "source": [
        "Setting up the driver and doing infinite scrolling to get all the html form the main website page. We will get the hrefs with all the links. [Source](https://medium.com/analytics-vidhya/using-python-and-selenium-to-scrape-infinite-scroll-web-pages-825d12c24ec7)"
      ],
      "metadata": {
        "id": "QwUJ7yjhojwl"
      }
    },
    {
      "cell_type": "code",
      "source": [
        "# Web scrapper for infinite scrolling page\n",
        "driver = get_driver()\n",
        "driver.get(\"https://www.privateislandsonline.com/search?availability=sale&region=&q2=&price_range=0%3A50000000&size_range=0%3A1000\")\n",
        "time.sleep(2)  # Allow 2 seconds for the web page to open\n",
        "scroll_pause_time = 2 # You can set your own pause time. My laptop is a bit slow so I use 1 sec\n",
        "screen_height = driver.execute_script(\"return window.screen.height;\")   # get the screen height of the web\n",
        "i = 1\n",
        "\n",
        "while True:\n",
        "    # scroll one screen height each time\n",
        "    driver.execute_script(\"window.scrollTo(0, {screen_height}*{i});\".format(screen_height=screen_height, i=i))\n",
        "    i += 1\n",
        "    time.sleep(scroll_pause_time)\n",
        "    # update scroll height each time after scrolled, as the scroll height can change after we scrolled the page\n",
        "    scroll_height = driver.execute_script(\"return document.body.scrollHeight;\")\n",
        "    # Break the loop when the height we need to scroll to is larger than the total scroll height\n",
        "    if (screen_height) * i > scroll_height:\n",
        "        break\n",
        "\n",
        "\n",
        "\n",
        "soup = BeautifulSoup(driver.page_source, \"html.parser\")\n"
      ],
      "metadata": {
        "id": "vYgj7CgUOHH3"
      },
      "execution_count": null,
      "outputs": []
    },
    {
      "cell_type": "markdown",
      "source": [
        "Saving the contents we scraped"
      ],
      "metadata": {
        "id": "Eqhj61JMpCLv"
      }
    },
    {
      "cell_type": "code",
      "source": [
        "with open(\"output1.html\", \"w\", encoding='utf-8') as file:\n",
        "    file.write(str(soup))"
      ],
      "metadata": {
        "id": "vLHrMFJ2pA8U"
      },
      "execution_count": null,
      "outputs": []
    },
    {
      "cell_type": "markdown",
      "source": [
        "Loading the saved contents again"
      ],
      "metadata": {
        "id": "ld7V5ykupypg"
      }
    },
    {
      "cell_type": "code",
      "source": [
        "path = '/content/drive/MyDrive/Colab Notebooks/Private_Island_Project/Island_Project/output1.html'\n",
        "\n",
        "with open(path, 'r') as f:\n",
        "    contents = f.read()\n",
        "    soup = BeautifulSoup(contents, 'lxml')\n",
        "\n",
        "##### Extract Individual Island URLs #####\n",
        "urls = []\n",
        "for parent in soup.find_all('div', class_=\"img-container\"):\n",
        "    url = parent.find('a').get('href')\n",
        "    urls.append(url)\n",
        "\n",
        "print(f\"We have found {len(urls)} islands for sale\")"
      ],
      "metadata": {
        "colab": {
          "base_uri": "https://localhost:8080/"
        },
        "id": "vPoipOeYpA3-",
        "outputId": "68212e06-2338-4f81-8b14-6879ed792a38"
      },
      "execution_count": 16,
      "outputs": [
        {
          "output_type": "stream",
          "name": "stdout",
          "text": [
            "We have found 611 islands for sale\n"
          ]
        }
      ]
    },
    {
      "cell_type": "markdown",
      "source": [
        "We will go through each 611 URLs and dump the page contents into a seperate folder. The folder name is going to be from the URL, where it is region/country/island_name or region/region/country/island_name."
      ],
      "metadata": {
        "id": "mlY4IyysqxqJ"
      }
    },
    {
      "cell_type": "markdown",
      "source": [
        "test_url = ['https://www.privateislandsonline.com/asia/thailand/rangyai-island',\n",
        " 'https://www.privateislandsonline.com/europe/spain/2867']"
      ],
      "metadata": {
        "id": "ovCiXtpVxV4Z"
      }
    },
    {
      "cell_type": "code",
      "source": [
        "test_url = urls[0:2]\n",
        "test_url"
      ],
      "metadata": {
        "colab": {
          "base_uri": "https://localhost:8080/",
          "height": 187
        },
        "id": "Hmc7D6sXpAyn",
        "outputId": "927a6d37-c25d-4b69-f7f2-85d6d9b05f55"
      },
      "execution_count": 4,
      "outputs": [
        {
          "output_type": "error",
          "ename": "NameError",
          "evalue": "ignored",
          "traceback": [
            "\u001b[0;31m---------------------------------------------------------------------------\u001b[0m",
            "\u001b[0;31mNameError\u001b[0m                                 Traceback (most recent call last)",
            "\u001b[0;32m<ipython-input-4-a89d387522de>\u001b[0m in \u001b[0;36m<cell line: 1>\u001b[0;34m()\u001b[0m\n\u001b[0;32m----> 1\u001b[0;31m \u001b[0mtest_url\u001b[0m \u001b[0;34m=\u001b[0m \u001b[0murls\u001b[0m\u001b[0;34m[\u001b[0m\u001b[0;36m0\u001b[0m\u001b[0;34m:\u001b[0m\u001b[0;36m2\u001b[0m\u001b[0;34m]\u001b[0m\u001b[0;34m\u001b[0m\u001b[0;34m\u001b[0m\u001b[0m\n\u001b[0m\u001b[1;32m      2\u001b[0m \u001b[0mtest_url\u001b[0m\u001b[0;34m\u001b[0m\u001b[0;34m\u001b[0m\u001b[0m\n",
            "\u001b[0;31mNameError\u001b[0m: name 'urls' is not defined"
          ]
        }
      ]
    },
    {
      "cell_type": "code",
      "source": [
        "test_url = ['https://www.privateislandsonline.com/asia/thailand/rangyai-island',\n",
        " 'https://www.privateislandsonline.com/europe/spain/2867']"
      ],
      "metadata": {
        "id": "Q-64duDkyEL5"
      },
      "execution_count": 5,
      "outputs": []
    },
    {
      "cell_type": "code",
      "source": [
        "DATA_DIR = \"/content/drive/MyDrive/Colab Notebooks/Private_Island_Project/Island_Project/Data\"\n"
      ],
      "metadata": {
        "id": "yf9f-o6T6f0O"
      },
      "execution_count": 6,
      "outputs": []
    },
    {
      "cell_type": "code",
      "source": [
        "  Driver = get_driver()\n",
        "  Driver.get(test_url[1])"
      ],
      "metadata": {
        "id": "7WZF-YGSxixq"
      },
      "execution_count": 8,
      "outputs": []
    },
    {
      "cell_type": "code",
      "source": [
        "Driver.title\n",
        "Driver.current_url\n",
        "from selenium.webdriver.common.by import By\n",
        "\n",
        "basic_info = Driver.find_element(By.ID,\"island-details\")\n"
      ],
      "metadata": {
        "id": "qa_9R14Nxiui"
      },
      "execution_count": 15,
      "outputs": []
    },
    {
      "cell_type": "code",
      "source": [
        "print(basic_info.text)"
      ],
      "metadata": {
        "id": "tVYBZdSVxirv"
      },
      "execution_count": null,
      "outputs": []
    },
    {
      "cell_type": "code",
      "source": [
        "basic_info = Driver.find_element(By.CLASS_NAME,\"basic-info.mb-50\") # you need a \".\" between basic-info and mb-50 because \"selector\"\n",
        "print(basic_info.text)"
      ],
      "metadata": {
        "id": "8EryIyxqxio1"
      },
      "execution_count": null,
      "outputs": []
    },
    {
      "cell_type": "code",
      "source": [
        "other_info = Driver.find_element(By.CLASS_NAME,\"hidden-xs.descriptionContainer\")\n",
        "print(other_info.text)"
      ],
      "metadata": {
        "colab": {
          "base_uri": "https://localhost:8080/"
        },
        "id": "beOJrklGximL",
        "outputId": "e7729ff7-0c1b-4623-8768-8d31ebf4bb21"
      },
      "execution_count": 25,
      "outputs": [
        {
          "output_type": "stream",
          "name": "stdout",
          "text": [
            "Large turnkey private island available for sale in Spain with luxurious amenities, excellent location and easy access by boat or helicopter.\n",
            "What is a blackbook Listing?\n",
            "Blackbook private island listings are available to the public, without compromising the privacy requirements of our sellers. Some clients prefer not to make the details of their private island sale known. These may include celebrities, development firms or individuals simply concerned with privacy.\n"
          ]
        }
      ]
    },
    {
      "cell_type": "code",
      "source": [],
      "metadata": {
        "id": "QpJrOQPDxijY"
      },
      "execution_count": null,
      "outputs": []
    },
    {
      "cell_type": "code",
      "source": [
        "  Driver.get(test_url[0])"
      ],
      "metadata": {
        "id": "A63cZCQfxigm"
      },
      "execution_count": 26,
      "outputs": []
    },
    {
      "cell_type": "code",
      "source": [
        "Driver.title\n",
        "Driver.current_url\n"
      ],
      "metadata": {
        "colab": {
          "base_uri": "https://localhost:8080/",
          "height": 36
        },
        "id": "MVRyafrqxidk",
        "outputId": "c21e6368-39b4-4751-bc34-49080143cae0"
      },
      "execution_count": 28,
      "outputs": [
        {
          "output_type": "execute_result",
          "data": {
            "text/plain": [
              "'https://www.privateislandsonline.com/asia/thailand/rangyai-island'"
            ],
            "application/vnd.google.colaboratory.intrinsic+json": {
              "type": "string"
            }
          },
          "metadata": {},
          "execution_count": 28
        }
      ]
    },
    {
      "cell_type": "code",
      "source": [
        "imgs = Driver.find_elements(\"xpath\",\"//img\")\n",
        "for img in imgs:\n",
        "    print(img.get_attribute(\"src\"))"
      ],
      "metadata": {
        "colab": {
          "base_uri": "https://localhost:8080/"
        },
        "id": "IvEG7K_rxiaz",
        "outputId": "35ec2900-16be-4378-fdbb-072584fe6f3b"
      },
      "execution_count": 39,
      "outputs": [
        {
          "output_type": "stream",
          "name": "stdout",
          "text": [
            "https://www.privateislandsonline.com/img/front/new-logo.png\n",
            "https://www.privateislandsonline.com/img/front/logo_small.png\n",
            "https://www.privateislandsonline.com/img/front/navSocialIcon_fb.png\n",
            "https://www.privateislandsonline.com/img/front/navSocialIcon_tw.png\n",
            "https://www.privateislandsonline.com/img/front/navSocialIcon_gp.png\n",
            "https://www.google.com/images/cleardot.gif\n",
            "https://www.google.com/images/cleardot.gif\n",
            "https://www.google.com/images/cleardot.gif\n",
            "https://www.privateislandsonline.com/images/mappoint.png\n",
            "https://www.privateislandsonline.com/uploads/resize/_597_image_fe02c338d8.jpg-1360-1100.jpg\n",
            "https://www.privateislandsonline.com/uploads/resize/_597_image_25bce99231.jpg-1360-1100.jpg\n",
            "https://www.privateislandsonline.com/uploads/resize/_597_image_d24a8525fc.jpg-1360-1100.jpg\n",
            "https://www.privateislandsonline.com/uploads/resize/_597_image_e971b277e1.jpg-1360-1100.jpg\n",
            "https://www.privateislandsonline.com/uploads/resize/_597_image_fe02c338d8.jpg-100-64.jpg\n",
            "https://www.privateislandsonline.com/uploads/resize/_597_image_25bce99231.jpg-100-64.jpg\n",
            "https://www.privateislandsonline.com/uploads/resize/_597_image_d24a8525fc.jpg-100-64.jpg\n",
            "https://www.privateislandsonline.com/uploads/resize/_597_image_e971b277e1.jpg-100-64.jpg\n",
            "https://www.privateislandsonline.com/uploads/resize/_597_image_d24a8525fc.jpg-767-400.jpg\n",
            "https://www.privateislandsonline.com/uploads/resize/_597_image_e971b277e1.jpg-767-400.jpg\n",
            "https://www.privateislandsonline.com/uploads/resize/_597_image_fe02c338d8.jpg-767-400.jpg\n",
            "https://www.privateislandsonline.com/uploads/resize/_597_image_25bce99231.jpg-767-400.jpg\n",
            "https://www.privateislandsonline.com/uploads/resize/_597_image_d24a8525fc.jpg-767-400.jpg\n",
            "https://www.privateislandsonline.com/uploads/resize/_597_image_e971b277e1.jpg-767-400.jpg\n",
            "https://www.privateislandsonline.com/uploads/resize/_597_image_fe02c338d8.jpg-767-400.jpg\n",
            "https://www.privateislandsonline.com/uploads/resize/_597_image_25bce99231.jpg-767-400.jpg\n",
            "https://www.privateislandsonline.com/images/map-overlay2.jpg\n",
            "https://www.privateislandsonline.com/images/ajax-loader.gif\n",
            "https://www.privateislandsonline.com/img/arrow-red.png\n",
            "https://fonts.gstatic.com/s/i/productlogos/translate/v14/24px.svg\n"
          ]
        }
      ]
    },
    {
      "cell_type": "code",
      "source": [
        "image"
      ],
      "metadata": {
        "colab": {
          "base_uri": "https://localhost:8080/"
        },
        "id": "KzAStTujxiXq",
        "outputId": "efe57162-ed4d-4ff4-8913-6acf9a4a6f60"
      },
      "execution_count": 35,
      "outputs": [
        {
          "output_type": "execute_result",
          "data": {
            "text/plain": [
              "[<selenium.webdriver.remote.webelement.WebElement (session=\"3b29ac8953a83a6c4f2bb90ef5824df4\", element=\"3f77eba8-5335-4c20-8276-8e9cc8f05a0a\")>,\n",
              " <selenium.webdriver.remote.webelement.WebElement (session=\"3b29ac8953a83a6c4f2bb90ef5824df4\", element=\"841f3803-8cc1-4fa4-b2fc-2779c13bbc9f\")>,\n",
              " <selenium.webdriver.remote.webelement.WebElement (session=\"3b29ac8953a83a6c4f2bb90ef5824df4\", element=\"0ac41d60-175b-49a7-ae8e-ec9180151e80\")>,\n",
              " <selenium.webdriver.remote.webelement.WebElement (session=\"3b29ac8953a83a6c4f2bb90ef5824df4\", element=\"89b36d82-6a4a-4e2a-a31e-f87631b7776b\")>,\n",
              " <selenium.webdriver.remote.webelement.WebElement (session=\"3b29ac8953a83a6c4f2bb90ef5824df4\", element=\"ff1ebb03-bd85-4ff7-822d-9c8d40682fc2\")>,\n",
              " <selenium.webdriver.remote.webelement.WebElement (session=\"3b29ac8953a83a6c4f2bb90ef5824df4\", element=\"a11528cc-0b82-497e-98c6-5034a583c683\")>,\n",
              " <selenium.webdriver.remote.webelement.WebElement (session=\"3b29ac8953a83a6c4f2bb90ef5824df4\", element=\"0ed8cd38-8edf-4eb7-9cbd-476063e35160\")>,\n",
              " <selenium.webdriver.remote.webelement.WebElement (session=\"3b29ac8953a83a6c4f2bb90ef5824df4\", element=\"623dddbc-23ff-4eaf-a548-b707074a4b47\")>,\n",
              " <selenium.webdriver.remote.webelement.WebElement (session=\"3b29ac8953a83a6c4f2bb90ef5824df4\", element=\"a4f6d487-b535-4d6f-8dec-cdfdadf205c2\")>,\n",
              " <selenium.webdriver.remote.webelement.WebElement (session=\"3b29ac8953a83a6c4f2bb90ef5824df4\", element=\"a1e3aeb7-7bb2-49fc-8b5a-9437a5ea6553\")>,\n",
              " <selenium.webdriver.remote.webelement.WebElement (session=\"3b29ac8953a83a6c4f2bb90ef5824df4\", element=\"fe2d2eec-defa-48f7-be3d-fd069e9bc8e2\")>,\n",
              " <selenium.webdriver.remote.webelement.WebElement (session=\"3b29ac8953a83a6c4f2bb90ef5824df4\", element=\"a98477a5-f8ba-44d8-bfbe-008533a4893e\")>,\n",
              " <selenium.webdriver.remote.webelement.WebElement (session=\"3b29ac8953a83a6c4f2bb90ef5824df4\", element=\"a4b72113-fb99-4ab1-82e1-ca92646cffbc\")>,\n",
              " <selenium.webdriver.remote.webelement.WebElement (session=\"3b29ac8953a83a6c4f2bb90ef5824df4\", element=\"3ccfdc68-0272-424c-a1ec-e45f4af712ca\")>,\n",
              " <selenium.webdriver.remote.webelement.WebElement (session=\"3b29ac8953a83a6c4f2bb90ef5824df4\", element=\"ba689d81-55f5-46bd-975c-e3024bc74616\")>,\n",
              " <selenium.webdriver.remote.webelement.WebElement (session=\"3b29ac8953a83a6c4f2bb90ef5824df4\", element=\"06d54297-a106-432c-ae15-dc85d2af37ba\")>,\n",
              " <selenium.webdriver.remote.webelement.WebElement (session=\"3b29ac8953a83a6c4f2bb90ef5824df4\", element=\"eccb0400-feac-4721-a095-09a9e5c869c2\")>,\n",
              " <selenium.webdriver.remote.webelement.WebElement (session=\"3b29ac8953a83a6c4f2bb90ef5824df4\", element=\"7ecdd24c-07d0-4f4f-b891-45f546d2229f\")>,\n",
              " <selenium.webdriver.remote.webelement.WebElement (session=\"3b29ac8953a83a6c4f2bb90ef5824df4\", element=\"a4efc14b-f363-498d-8252-6d66a0874234\")>,\n",
              " <selenium.webdriver.remote.webelement.WebElement (session=\"3b29ac8953a83a6c4f2bb90ef5824df4\", element=\"b296faac-b899-45e0-95da-1e4debd3e5c3\")>,\n",
              " <selenium.webdriver.remote.webelement.WebElement (session=\"3b29ac8953a83a6c4f2bb90ef5824df4\", element=\"7869e409-f8b3-4cc9-87cb-f12f2a8114cb\")>,\n",
              " <selenium.webdriver.remote.webelement.WebElement (session=\"3b29ac8953a83a6c4f2bb90ef5824df4\", element=\"48c35a5e-d22b-4b5d-a281-b055edcdd381\")>,\n",
              " <selenium.webdriver.remote.webelement.WebElement (session=\"3b29ac8953a83a6c4f2bb90ef5824df4\", element=\"f3ba658d-9297-4f7d-b8ec-4b918c4556a1\")>,\n",
              " <selenium.webdriver.remote.webelement.WebElement (session=\"3b29ac8953a83a6c4f2bb90ef5824df4\", element=\"dcf3866d-0759-4ba1-a0d3-4db96fdcc877\")>,\n",
              " <selenium.webdriver.remote.webelement.WebElement (session=\"3b29ac8953a83a6c4f2bb90ef5824df4\", element=\"b74a5314-215c-42e1-b69e-8b66b0fbb87c\")>,\n",
              " <selenium.webdriver.remote.webelement.WebElement (session=\"3b29ac8953a83a6c4f2bb90ef5824df4\", element=\"df762329-95d4-4d5b-b0e1-d96a4a638625\")>,\n",
              " <selenium.webdriver.remote.webelement.WebElement (session=\"3b29ac8953a83a6c4f2bb90ef5824df4\", element=\"8207156f-4b9e-4623-8d44-9ffe3aa978a9\")>,\n",
              " <selenium.webdriver.remote.webelement.WebElement (session=\"3b29ac8953a83a6c4f2bb90ef5824df4\", element=\"86a5627c-f9c9-41fc-85fc-75aeaedb8638\")>,\n",
              " <selenium.webdriver.remote.webelement.WebElement (session=\"3b29ac8953a83a6c4f2bb90ef5824df4\", element=\"cc47d601-6a7a-4a3f-b42f-b17acbfc1a3a\")>]"
            ]
          },
          "metadata": {},
          "execution_count": 35
        }
      ]
    },
    {
      "cell_type": "code",
      "source": [],
      "metadata": {
        "id": "CMLit6ubxiVR"
      },
      "execution_count": null,
      "outputs": []
    },
    {
      "cell_type": "code",
      "source": [
        "def get_html(url, sleep = 5, retries = 3):\n",
        "  time.sleep(sleep)\n",
        "  soup = None\n",
        "  Driver = get_driver()\n",
        "  for i in range (1, retries+1):\n",
        "    try:\n",
        "      time.sleep(sleep)  # Allow 2 seconds for the web page to open\n",
        "      Driver.get(url)\n",
        "\n",
        "    except TimeoutException as ex:\n",
        "        isrunning = 0\n",
        "        print(f\"Timeout error on {url} the exception is: {ex}\")\n",
        "        continue\n",
        "    else:\n",
        "        break\n",
        "  return soup\n",
        "\n",
        "def make_path(url):\n",
        "  # make file name\n",
        "  part = url.split(\"/\")\n",
        "  if len(part) == 6:\n",
        "    file_name = part[-3]+'-'+part[-2]+'-'+part[-1]\n",
        "  else:\n",
        "    file_name = part[-4]+'-'+part[-3]+'-'+part[-2]+'-'+part[-1]\n",
        "\n",
        "  save_path = os.path.join(DATA_DIR,file_name)\n",
        "  return save_path, file_name\n",
        "\n",
        "def save_html(all_html, save_path):\n",
        "  with open(save_path+\".html\", \"w+\", encoding='utf-8') as file:\n",
        "    file.write(str(all_html))\n"
      ],
      "metadata": {
        "id": "GMFacVI47Ix6"
      },
      "execution_count": 30,
      "outputs": []
    },
    {
      "cell_type": "code",
      "source": [
        "for url in test_url:\n",
        "\n",
        "  (save_path, file_name) = make_path(url)\n",
        "  if os.path.exists(save_path):\n",
        "    continue\n",
        "\n",
        "  get_html(url)\n",
        "\n",
        "  save_html(soup, save_path)\n",
        "\n",
        "\n"
      ],
      "metadata": {
        "id": "37BttJx07bsa"
      },
      "execution_count": 31,
      "outputs": []
    },
    {
      "cell_type": "code",
      "source": [
        "islands_files = os.listdir(DATA_DIR)\n",
        "islands_files = [i for i in islands_files if '.html' in i]"
      ],
      "metadata": {
        "id": "f9CtfTdiVlt0"
      },
      "execution_count": 32,
      "outputs": []
    },
    {
      "cell_type": "code",
      "source": [
        "islands_files"
      ],
      "metadata": {
        "colab": {
          "base_uri": "https://localhost:8080/"
        },
        "id": "ZscWXKFkeWW5",
        "outputId": "93061708-eaf7-4b29-b423-156a58a4f8b0"
      },
      "execution_count": 33,
      "outputs": [
        {
          "output_type": "execute_result",
          "data": {
            "text/plain": [
              "['asia-thailand-rangyai-island.html', 'europe-spain-2867.html']"
            ]
          },
          "metadata": {},
          "execution_count": 33
        }
      ]
    },
    {
      "cell_type": "code",
      "source": [
        "with open(os.path.join(DATA_DIR,islands_files[1]), 'r') as f:\n",
        "  html = f.read()\n",
        "\n",
        "soup = BeautifulSoup(html)\n",
        "basic_info = soup.select(\"div\", {'ul':'class=\"basic-info mb-50\"'})\n",
        "basic_info"
      ],
      "metadata": {
        "id": "__-Rln6achaV"
      },
      "execution_count": null,
      "outputs": []
    },
    {
      "cell_type": "code",
      "source": [
        "print(basic_info)"
      ],
      "metadata": {
        "colab": {
          "base_uri": "https://localhost:8080/"
        },
        "id": "RE5_PVohech-",
        "outputId": "b7a0e965-0f42-44a0-b268-5d7f9623e927"
      },
      "execution_count": 130,
      "outputs": [
        {
          "output_type": "stream",
          "name": "stdout",
          "text": [
            "None\n"
          ]
        }
      ]
    },
    {
      "cell_type": "code",
      "source": [
        "content = soup.find('basic-info mb-50')\n",
        "\n",
        "print(content)"
      ],
      "metadata": {
        "colab": {
          "base_uri": "https://localhost:8080/"
        },
        "id": "wufeCK0lj3oK",
        "outputId": "7854b28c-dff7-4eef-ef5a-8f5091d189b3"
      },
      "execution_count": 141,
      "outputs": [
        {
          "output_type": "stream",
          "name": "stdout",
          "text": [
            "None\n"
          ]
        }
      ]
    },
    {
      "cell_type": "code",
      "source": [
        "df = pd.read_html(str(soup), attrs = {'class': 'basic-info mb-50'})[0]"
      ],
      "metadata": {
        "colab": {
          "base_uri": "https://localhost:8080/",
          "height": 318
        },
        "id": "WB4ZwSLmcskY",
        "outputId": "c0288573-2c43-4792-cb29-e20bf8a80d2f"
      },
      "execution_count": 104,
      "outputs": [
        {
          "output_type": "error",
          "ename": "ValueError",
          "evalue": "ignored",
          "traceback": [
            "\u001b[0;31m---------------------------------------------------------------------------\u001b[0m",
            "\u001b[0;31mValueError\u001b[0m                                Traceback (most recent call last)",
            "\u001b[0;32m<ipython-input-104-77df5682fddf>\u001b[0m in \u001b[0;36m<cell line: 1>\u001b[0;34m()\u001b[0m\n\u001b[0;32m----> 1\u001b[0;31m \u001b[0mdf\u001b[0m \u001b[0;34m=\u001b[0m \u001b[0mpd\u001b[0m\u001b[0;34m.\u001b[0m\u001b[0mread_html\u001b[0m\u001b[0;34m(\u001b[0m\u001b[0mstr\u001b[0m\u001b[0;34m(\u001b[0m\u001b[0msoup\u001b[0m\u001b[0;34m)\u001b[0m\u001b[0;34m,\u001b[0m \u001b[0mattrs\u001b[0m \u001b[0;34m=\u001b[0m \u001b[0;34m{\u001b[0m\u001b[0;34m'class'\u001b[0m\u001b[0;34m:\u001b[0m \u001b[0;34m'basic-info mb-50'\u001b[0m\u001b[0;34m}\u001b[0m\u001b[0;34m)\u001b[0m\u001b[0;34m[\u001b[0m\u001b[0;36m0\u001b[0m\u001b[0;34m]\u001b[0m\u001b[0;34m\u001b[0m\u001b[0;34m\u001b[0m\u001b[0m\n\u001b[0m",
            "\u001b[0;32m/usr/local/lib/python3.10/dist-packages/pandas/util/_decorators.py\u001b[0m in \u001b[0;36mwrapper\u001b[0;34m(*args, **kwargs)\u001b[0m\n\u001b[1;32m    329\u001b[0m                     \u001b[0mstacklevel\u001b[0m\u001b[0;34m=\u001b[0m\u001b[0mfind_stack_level\u001b[0m\u001b[0;34m(\u001b[0m\u001b[0;34m)\u001b[0m\u001b[0;34m,\u001b[0m\u001b[0;34m\u001b[0m\u001b[0;34m\u001b[0m\u001b[0m\n\u001b[1;32m    330\u001b[0m                 )\n\u001b[0;32m--> 331\u001b[0;31m             \u001b[0;32mreturn\u001b[0m \u001b[0mfunc\u001b[0m\u001b[0;34m(\u001b[0m\u001b[0;34m*\u001b[0m\u001b[0margs\u001b[0m\u001b[0;34m,\u001b[0m \u001b[0;34m**\u001b[0m\u001b[0mkwargs\u001b[0m\u001b[0;34m)\u001b[0m\u001b[0;34m\u001b[0m\u001b[0;34m\u001b[0m\u001b[0m\n\u001b[0m\u001b[1;32m    332\u001b[0m \u001b[0;34m\u001b[0m\u001b[0m\n\u001b[1;32m    333\u001b[0m         \u001b[0;31m# error: \"Callable[[VarArg(Any), KwArg(Any)], Any]\" has no\u001b[0m\u001b[0;34m\u001b[0m\u001b[0;34m\u001b[0m\u001b[0m\n",
            "\u001b[0;32m/usr/local/lib/python3.10/dist-packages/pandas/io/html.py\u001b[0m in \u001b[0;36mread_html\u001b[0;34m(io, match, flavor, header, index_col, skiprows, attrs, parse_dates, thousands, encoding, decimal, converters, na_values, keep_default_na, displayed_only, extract_links)\u001b[0m\n\u001b[1;32m   1203\u001b[0m     \u001b[0mio\u001b[0m \u001b[0;34m=\u001b[0m \u001b[0mstringify_path\u001b[0m\u001b[0;34m(\u001b[0m\u001b[0mio\u001b[0m\u001b[0;34m)\u001b[0m\u001b[0;34m\u001b[0m\u001b[0;34m\u001b[0m\u001b[0m\n\u001b[1;32m   1204\u001b[0m \u001b[0;34m\u001b[0m\u001b[0m\n\u001b[0;32m-> 1205\u001b[0;31m     return _parse(\n\u001b[0m\u001b[1;32m   1206\u001b[0m         \u001b[0mflavor\u001b[0m\u001b[0;34m=\u001b[0m\u001b[0mflavor\u001b[0m\u001b[0;34m,\u001b[0m\u001b[0;34m\u001b[0m\u001b[0;34m\u001b[0m\u001b[0m\n\u001b[1;32m   1207\u001b[0m         \u001b[0mio\u001b[0m\u001b[0;34m=\u001b[0m\u001b[0mio\u001b[0m\u001b[0;34m,\u001b[0m\u001b[0;34m\u001b[0m\u001b[0;34m\u001b[0m\u001b[0m\n",
            "\u001b[0;32m/usr/local/lib/python3.10/dist-packages/pandas/io/html.py\u001b[0m in \u001b[0;36m_parse\u001b[0;34m(flavor, io, match, attrs, encoding, displayed_only, extract_links, **kwargs)\u001b[0m\n\u001b[1;32m   1004\u001b[0m     \u001b[0;32melse\u001b[0m\u001b[0;34m:\u001b[0m\u001b[0;34m\u001b[0m\u001b[0;34m\u001b[0m\u001b[0m\n\u001b[1;32m   1005\u001b[0m         \u001b[0;32massert\u001b[0m \u001b[0mretained\u001b[0m \u001b[0;32mis\u001b[0m \u001b[0;32mnot\u001b[0m \u001b[0;32mNone\u001b[0m  \u001b[0;31m# for mypy\u001b[0m\u001b[0;34m\u001b[0m\u001b[0;34m\u001b[0m\u001b[0m\n\u001b[0;32m-> 1006\u001b[0;31m         \u001b[0;32mraise\u001b[0m \u001b[0mretained\u001b[0m\u001b[0;34m\u001b[0m\u001b[0;34m\u001b[0m\u001b[0m\n\u001b[0m\u001b[1;32m   1007\u001b[0m \u001b[0;34m\u001b[0m\u001b[0m\n\u001b[1;32m   1008\u001b[0m     \u001b[0mret\u001b[0m \u001b[0;34m=\u001b[0m \u001b[0;34m[\u001b[0m\u001b[0;34m]\u001b[0m\u001b[0;34m\u001b[0m\u001b[0;34m\u001b[0m\u001b[0m\n",
            "\u001b[0;32m/usr/local/lib/python3.10/dist-packages/pandas/io/html.py\u001b[0m in \u001b[0;36m_parse\u001b[0;34m(flavor, io, match, attrs, encoding, displayed_only, extract_links, **kwargs)\u001b[0m\n\u001b[1;32m    984\u001b[0m \u001b[0;34m\u001b[0m\u001b[0m\n\u001b[1;32m    985\u001b[0m         \u001b[0;32mtry\u001b[0m\u001b[0;34m:\u001b[0m\u001b[0;34m\u001b[0m\u001b[0;34m\u001b[0m\u001b[0m\n\u001b[0;32m--> 986\u001b[0;31m             \u001b[0mtables\u001b[0m \u001b[0;34m=\u001b[0m \u001b[0mp\u001b[0m\u001b[0;34m.\u001b[0m\u001b[0mparse_tables\u001b[0m\u001b[0;34m(\u001b[0m\u001b[0;34m)\u001b[0m\u001b[0;34m\u001b[0m\u001b[0;34m\u001b[0m\u001b[0m\n\u001b[0m\u001b[1;32m    987\u001b[0m         \u001b[0;32mexcept\u001b[0m \u001b[0mValueError\u001b[0m \u001b[0;32mas\u001b[0m \u001b[0mcaught\u001b[0m\u001b[0;34m:\u001b[0m\u001b[0;34m\u001b[0m\u001b[0;34m\u001b[0m\u001b[0m\n\u001b[1;32m    988\u001b[0m             \u001b[0;31m# if `io` is an io-like object, check if it's seekable\u001b[0m\u001b[0;34m\u001b[0m\u001b[0;34m\u001b[0m\u001b[0m\n",
            "\u001b[0;32m/usr/local/lib/python3.10/dist-packages/pandas/io/html.py\u001b[0m in \u001b[0;36mparse_tables\u001b[0;34m(self)\u001b[0m\n\u001b[1;32m    260\u001b[0m         \u001b[0mlist\u001b[0m \u001b[0mof\u001b[0m \u001b[0mparsed\u001b[0m \u001b[0;34m(\u001b[0m\u001b[0mheader\u001b[0m\u001b[0;34m,\u001b[0m \u001b[0mbody\u001b[0m\u001b[0;34m,\u001b[0m \u001b[0mfooter\u001b[0m\u001b[0;34m)\u001b[0m \u001b[0mtuples\u001b[0m \u001b[0;32mfrom\u001b[0m \u001b[0mtables\u001b[0m\u001b[0;34m.\u001b[0m\u001b[0;34m\u001b[0m\u001b[0;34m\u001b[0m\u001b[0m\n\u001b[1;32m    261\u001b[0m         \"\"\"\n\u001b[0;32m--> 262\u001b[0;31m         \u001b[0mtables\u001b[0m \u001b[0;34m=\u001b[0m \u001b[0mself\u001b[0m\u001b[0;34m.\u001b[0m\u001b[0m_parse_tables\u001b[0m\u001b[0;34m(\u001b[0m\u001b[0mself\u001b[0m\u001b[0;34m.\u001b[0m\u001b[0m_build_doc\u001b[0m\u001b[0;34m(\u001b[0m\u001b[0;34m)\u001b[0m\u001b[0;34m,\u001b[0m \u001b[0mself\u001b[0m\u001b[0;34m.\u001b[0m\u001b[0mmatch\u001b[0m\u001b[0;34m,\u001b[0m \u001b[0mself\u001b[0m\u001b[0;34m.\u001b[0m\u001b[0mattrs\u001b[0m\u001b[0;34m)\u001b[0m\u001b[0;34m\u001b[0m\u001b[0;34m\u001b[0m\u001b[0m\n\u001b[0m\u001b[1;32m    263\u001b[0m         \u001b[0;32mreturn\u001b[0m \u001b[0;34m(\u001b[0m\u001b[0mself\u001b[0m\u001b[0;34m.\u001b[0m\u001b[0m_parse_thead_tbody_tfoot\u001b[0m\u001b[0;34m(\u001b[0m\u001b[0mtable\u001b[0m\u001b[0;34m)\u001b[0m \u001b[0;32mfor\u001b[0m \u001b[0mtable\u001b[0m \u001b[0;32min\u001b[0m \u001b[0mtables\u001b[0m\u001b[0;34m)\u001b[0m\u001b[0;34m\u001b[0m\u001b[0;34m\u001b[0m\u001b[0m\n\u001b[1;32m    264\u001b[0m \u001b[0;34m\u001b[0m\u001b[0m\n",
            "\u001b[0;32m/usr/local/lib/python3.10/dist-packages/pandas/io/html.py\u001b[0m in \u001b[0;36m_parse_tables\u001b[0;34m(self, doc, match, attrs)\u001b[0m\n\u001b[1;32m    616\u001b[0m \u001b[0;34m\u001b[0m\u001b[0m\n\u001b[1;32m    617\u001b[0m         \u001b[0;32mif\u001b[0m \u001b[0;32mnot\u001b[0m \u001b[0mtables\u001b[0m\u001b[0;34m:\u001b[0m\u001b[0;34m\u001b[0m\u001b[0;34m\u001b[0m\u001b[0m\n\u001b[0;32m--> 618\u001b[0;31m             \u001b[0;32mraise\u001b[0m \u001b[0mValueError\u001b[0m\u001b[0;34m(\u001b[0m\u001b[0;34m\"No tables found\"\u001b[0m\u001b[0;34m)\u001b[0m\u001b[0;34m\u001b[0m\u001b[0;34m\u001b[0m\u001b[0m\n\u001b[0m\u001b[1;32m    619\u001b[0m \u001b[0;34m\u001b[0m\u001b[0m\n\u001b[1;32m    620\u001b[0m         \u001b[0mresult\u001b[0m \u001b[0;34m=\u001b[0m \u001b[0;34m[\u001b[0m\u001b[0;34m]\u001b[0m\u001b[0;34m\u001b[0m\u001b[0;34m\u001b[0m\u001b[0m\n",
            "\u001b[0;31mValueError\u001b[0m: No tables found"
          ]
        }
      ]
    },
    {
      "cell_type": "code",
      "source": [
        "basic_info"
      ],
      "metadata": {
        "id": "DMkU4OfQcshN"
      },
      "execution_count": null,
      "outputs": []
    },
    {
      "cell_type": "code",
      "source": [
        "response = requests.get(url)"
      ],
      "metadata": {
        "id": "MrSDrPQHcseY"
      },
      "execution_count": 25,
      "outputs": []
    },
    {
      "cell_type": "code",
      "source": [
        "response.content"
      ],
      "metadata": {
        "colab": {
          "base_uri": "https://localhost:8080/"
        },
        "id": "KJUpWY0lcsbu",
        "outputId": "cd5a894b-af92-47bf-851d-0230fb6fe800"
      },
      "execution_count": 26,
      "outputs": [
        {
          "output_type": "execute_result",
          "data": {
            "text/plain": [
              "b'<!DOCTYPE html>\\n<html><head><meta charset=\"utf-8\"><meta http-equiv=\"X-UA-Compatible\" content=\"IE=edge\"><meta name=\"viewport\" content=\"width=device-width, initial-scale=1.0\" /><meta name=\"author\" content=\"\"><title>Rangyai Island - Thailand, Asia   - Private Islands for Sale</title><meta name=\"og:title\" content=\"Rangyai Island - Thailand, Asia   - Private Islands\"><meta name=\"description\" content=\"20 minutes east of the tourist friendly island of Phuket this 110 acre island features white sand...\"><meta name=\"og:url\" content=\"http%3A%2F%2Fwww.privateislandsonline.com%2Fasia%2Fthailand%2Frangyai-island\"><meta property=\"og:image\" content=\"http://www.privateislandsonline.com/uploads/597/image_fe02c338d8.jpg\" /><meta name=\"keywords\" content=\"Private Islands Inc., Private Islands Online, Private Islands Magazine, Private Island Appraisals, Private Island Broker, island for sale, private islands for sale, islands, island, sale, rent, private island, real estate, islands for sale, private island for sale\"><link href=\\'https://fonts.googleapis.com/css?family=Cinzel\\' rel=\\'stylesheet\\' type=\\'text/css\\' media=\"all\"><link rel=\"icon\" href=\"/img/icon-myislands.png\" type=\"image/png\" sizes=\"16x16\"><link href=\"/build/css/home-933eaa33cc.css\" rel=\"stylesheet\" media=\"all\"><link href=\"/css/new_styles.css\" rel=\"stylesheet\" media=\"all\"><link href=\"https://www.privateislandsonline.com/css/mstyles.css\" rel=\"stylesheet\" media=\"all\"><link href=\"https://www.privateislandsonline.com/css/mags_style.css\" rel=\"stylesheet\" media=\"all\"><link href=\"https://www.privateislandsonline.com/dropzone/dropzone.min.css\" rel=\"stylesheet\" media=\"all\"><link href=\"https://www.privateislandsonline.com/dropzone/basic.min.css\" rel=\"stylesheet\" media=\"all\"><link href=\"/css/island_vacations_style.css\" rel=\"stylesheet\" media=\"all\"><!--[if lt IE 9]><script src=\"https://oss.maxcdn.com/libs/html5shiv/3.7.0/html5shiv.js\"></script><script src=\"https://oss.maxcdn.com/libs/respond.js/1.4.2/respond.min.js\"></script><![endif]--><link href=\"https://www.privateislandsonline.com/build/css/combine1.css\" rel=\"stylesheet\" media=\"all\"><script>\\n        (function(i,s,o,g,r,a,m){i[\\'GoogleAnalyticsObject\\']=r;i[r]=i[r]||function(){\\n            (i[r].q=i[r].q||[]).push(arguments)},i[r].l=1*new Date();a=s.createElement(o),\\n                m=s.getElementsByTagName(o)[0];a.async=1;a.src=g;m.parentNode.insertBefore(a,m)\\n        })(window,document,\\'script\\',\\'//www.google-analytics.com/analytics.js\\',\\'ga\\');\\n\\n        ga(\\'create\\', \\'UA-34152545-1\\', \\'privateislandsonline.com\\');\\n        ga(\\'send\\', \\'pageview\\');\\n\\n    </script><script data-ad-client=\"ca-pub-0357513963178449\" async src=\"https://pagead2.googlesyndication.com/pagead/js/adsbygoogle.js\"></script></head><body id=\"page-top\" class=\"main_catchall3   \"><nav id=\"mainNav\" class=\"navbar navbar-default navbar-fixed-top hidden-print\"><div class=\"navOverlay\"></div><div class=\"container-fluid clearfix\"><div class=\"navbar-header\"><a class=\"navbar-brand\" href=\"https://www.privateislandsonline.com\"><img alt=\"new-logo\" src=\"https://www.privateislandsonline.com/img/front/new-logo.png\" class=\"img-responsive desktopBigLogo\"><img alt=\"logo small\" src=\"https://www.privateislandsonline.com/img/front/logo_small.png\" class=\"mobileSmallLogo\"></a></div><div id=\"side-menu\"><button type=\"button\" class=\"\"><svg xmlns=\"http://www.w3.org/2000/svg\" xmlns:xlink=\"http://www.w3.org/1999/xlink\" version=\"1.1\" id=\"Capa_1\" x=\"0px\" y=\"0px\" viewBox=\"0 0 396.667 396.667\" style=\"enable-background:new 0 0 396.667 396.667;\" xml:space=\"preserve\" width=\"512px\" height=\"512px\"><g><g><path d=\"M17,87.833h362.667c9.35,0,17-7.65,17-17s-7.65-17-17-17H17c-9.35,0-17,7.65-17,17C0,80.183,7.65,87.833,17,87.833z\" fill=\"#FFFFFF\" /><path d=\"M17,215.333h362.667c9.35,0,17-7.65,17-17s-7.65-17-17-17H17c-9.35,0-17,7.65-17,17S7.65,215.333,17,215.333z\" fill=\"#FFFFFF\" /><path d=\"M17,342.833h362.667c9.35,0,17-7.65,17-17s-7.65-17-17-17H17c-9.35,0-17,7.65-17,17S7.65,342.833,17,342.833z\" fill=\"#FFFFFF\" /></g></g><g></g><g></g><g></g><g></g><g></g><g></g><g></g><g></g><g></g><g></g><g></g><g></g><g></g><g></g><g></g></svg></button><div class=\"nav navbar-nav links\" id=\"sidebar-nav\" role=\"tablist\"><div class=\"side-menu__inner\" id=\"side-menu__inner\"><div class=\"panel close2\"><div class=\"img\" id=\"closeSideMenu\"></div></div><div class=\"panel\"><span class=\"sidebar_acc_title color-on-hover\"><a href=\"https://www.privateislandsonline.com\">For Sale</a><a role=\"button\" class=\"iconRight sidebar_acc_toggle  collapsed \" data-toggle=\"collapse\" data-parent=\"#side-menu__inner\" href=\"#sale-islands\"><span class=\"show-collapsed no-padding\">+</span><span class=\"hide-collapsed no-padding\">-</span></a></span><div role=\"tabpanel\" class=\"collapse \" id=\"sale-islands\"><div class=\"panel sm-subpanel sl-r-menu first-sl-r \"><a role=\"button\" href=\"https://www.privateislandsonline.com/search?availability=sale\">View All</a></div><div class=\"panel sm-subpanel sl-r-menu \"><span class=\"sidebar_acc_title minus-bottom\"><a href=\"https://www.privateislandsonline.com/page/destinations?type=sale\" class=\"\">Destinations</a><a class=\"iconRight  collapsed  sidebar_acc_toggle\" role=\"button\" data-toggle=\"collapse\" data-parent=\"#sale-islands\" href=\"#sale-destinations\"><span class=\"show-collapsed\">+</span><span class=\"hide-collapsed\">-</span></a></span><ul id=\"sale-destinations\" class=\"collapse \"><li><a href=\"https://www.privateislandsonline.com/region/africa?availability=sale\" class=\"\">Africa</a></li><li><a href=\"https://www.privateislandsonline.com/region/asia?availability=sale\" class=\"\">Asia</a></li><li><a href=\"https://www.privateislandsonline.com/region/canada?availability=sale\" class=\"\">Canada</a></li><li><a href=\"https://www.privateislandsonline.com/region/caribbean?availability=sale\" class=\"\">Caribbean</a></li><li><a href=\"https://www.privateislandsonline.com/region/central-america?availability=sale\" class=\"\">Central America</a></li><li><a href=\"https://www.privateislandsonline.com/region/europe?availability=sale\" class=\"\">Europe</a></li><li><a href=\"https://www.privateislandsonline.com/region/south-america?availability=sale\" class=\"\">South America</a></li><li><a href=\"https://www.privateislandsonline.com/region/south-pacific?availability=sale\" class=\"\">South Pacific</a></li><li><a href=\"https://www.privateislandsonline.com/region/united-states?availability=sale\" class=\"\">United States</a></li></ul></div><div class=\"panel sm-subpanel sl-r-menu \"><span class=\"sidebar_acc_title\"><a href=\"https://www.privateislandsonline.com/lifestyle?type=sale\" class=\"\">Lifestyles</a><a class=\"iconRight  collapsed  sidebar_acc_toggle\" role=\"button\" data-toggle=\"collapse\" data-parent=\"#sale-islands\" href=\"#sale-lifestyles\"><span class=\"show-collapsed\">+</span><span class=\"hide-collapsed\">-</span></a></span><ul id=\"sale-lifestyles\" class=\"collapse \"><li><a href=\"https://www.privateislandsonline.com/search?availability=sale&amp;diversion=islands_with_beaches\" class=\"\">Islands with Beaches</a></li><li><a href=\"https://www.privateislandsonline.com/search?availability=sale&amp;diversion=airstrip_or_fly-in\" class=\"\">Airstrip or Fly-in</a></li><li><a href=\"https://www.privateislandsonline.com/search?availability=sale&amp;diversion=large_acreage\" class=\"\">Large Acreage</a></li><li><a href=\"https://www.privateislandsonline.com/search?availability=sale&amp;diversion=income_producing\" class=\"\">Income Producing</a></li><li><a href=\"https://www.privateislandsonline.com/search?availability=sale&amp;diversion=ocean_island\" class=\"\">Ocean Island</a></li><li><a href=\"https://www.privateislandsonline.com/search?availability=sale&amp;diversion=lake_island\" class=\"\">Lake Island</a></li><li><a href=\"https://www.privateislandsonline.com/search?availability=sale&amp;diversion=river_island\" class=\"\">River Island</a></li><li><a href=\"https://www.privateislandsonline.com/search?availability=sale&amp;diversion=4_season_access\" class=\"\">Seasonal</a></li><li><a href=\"https://www.privateislandsonline.com/search?availability=sale&amp;diversion=turn_key\" class=\"\">Turn Key</a></li><li><a href=\"https://www.privateislandsonline.com/search?availability=sale&amp;diversion=historic\" class=\"\">Historic</a></li><li><a href=\"https://www.privateislandsonline.com/search?availability=sale&amp;diversion=income_potential\" class=\"\">Income Potential</a></li><li><a href=\"https://www.privateislandsonline.com/search?availability=sale&amp;diversion=mainland_lot\" class=\"\">Mainland Lot</a></li><li><a href=\"https://www.privateislandsonline.com/search?availability=sale&amp;diversion=mainland_power\" class=\"\">Mainland Power</a></li></ul></div><div class=\"sm-byers-guide\"><a href=\"https://www.privateislandsonline.com/page/buyers-guide\" class=\"\">Buyers guide</a></div></div></div><div class=\"panel\"><span class=\"sidebar_acc_title color-on-hover\"><a href=\"https://www.privateislandsonline.com/islands_for_rent\">For Rent</a><a role=\"button\" class=\"iconRight sidebar_acc_toggle ) collapsed \" data-toggle=\"collapse\" data-parent=\"#side-menu__inner\" href=\"#vac-islands\"><span class=\"show-collapsed no-padding\">+</span><span class=\"hide-collapsed no-padding\">-</span></a></span><div role=\"tabpanel\" class=\"collapse \" id=\"vac-islands\"><div class=\"panel sm-subpanel sl-r-menu first-sl-r\"><a role=\"button\" href=\"https://www.privateislandsonline.com/search?availability=rent\">View All</a></div><div class=\"panel sm-subpanel sl-r-menu\"><span class=\"sidebar_acc_title minus-bottom\"><a href=\"https://www.privateislandsonline.com/page/destinations?type=rent\" class=\"\">Destinations</a><a role=\"button\" class=\"iconRight  collapsed  sidebar_acc_toggle\" data-toggle=\"collapse\" data-parent=\"#vac-islands\" href=\"#vac-destinations\"><span class=\"show-collapsed\">+</span><span class=\"hide-collapsed\">-</span></a></span><ul id=\"vac-destinations\" class=\"collapse \"><li><a href=\"https://www.privateislandsonline.com/region/africa?availability=rent\" class=\"\">Africa</a></li><li><a href=\"https://www.privateislandsonline.com/region/asia?availability=rent\" class=\"\">Asia</a></li><li><a href=\"https://www.privateislandsonline.com/region/canada?availability=rent\" class=\"\">Canada</a></li><li><a href=\"https://www.privateislandsonline.com/region/caribbean?availability=rent\" class=\"\">Caribbean</a></li><li><a href=\"https://www.privateislandsonline.com/region/central-america?availability=rent\" class=\"\">Central America</a></li><li><a href=\"https://www.privateislandsonline.com/region/europe?availability=rent\" class=\"\">Europe</a></li><li><a href=\"https://www.privateislandsonline.com/region/south-america?availability=rent\" class=\"\">South America</a></li><li><a href=\"https://www.privateislandsonline.com/region/south-pacific?availability=rent\" class=\"\">South Pacific</a></li><li><a href=\"https://www.privateislandsonline.com/region/united-states?availability=rent\" class=\"\">United States</a></li></ul></div><div class=\"panel sm-subpanel sl-r-menu\"><span class=\"sidebar_acc_title \"><a href=\"https://www.privateislandsonline.com/lifestyle?type=rent\" class=\"\">Lifestyles</a><a role=\"button\" class=\"iconRight  collapsed  sidebar_acc_toggle\" data-toggle=\"collapse\" data-parent=\"#vac-islands\" href=\"#vac-lifestyles\"><span class=\"show-collapsed\">+</span><span class=\"hide-collapsed\">-</span></a></span><ul id=\"vac-lifestyles\" class=\"collapse \"><li><a href=\"https://www.privateislandsonline.com/search?availability=rent&amp;diversion=honeymoons\" class=\"\">Honeymoons</a></li><li><a href=\"https://www.privateislandsonline.com/search?availability=rent&amp;diversion=diving\" class=\"\">Diving</a></li><li><a href=\"https://www.privateislandsonline.com/search?availability=rent&amp;diversion=fishing\" class=\"\">Fishing</a></li><li><a href=\"https://www.privateislandsonline.com/search?availability=rent&amp;diversion=all%20inclusive\" class=\"\">All inclusive</a></li><li><a href=\"https://www.privateislandsonline.com/search?availability=rent&amp;diversion=culinary\" class=\"\">Culinary</a></li><li><a href=\"https://www.privateislandsonline.com/search?availability=rent&amp;diversion=spa\" class=\"\">Spa</a></li><li><a href=\"https://www.privateislandsonline.com/search?availability=rent&amp;diversion=family\" class=\"\">Family</a></li><li><a href=\"https://www.privateislandsonline.com/search?availability=rent&amp;diversion=eco\" class=\"\">Eco</a></li><li><a href=\"https://www.privateislandsonline.com/search?availability=rent&amp;diversion=weddings\" class=\"\">Weddings</a></li><li><a href=\"https://www.privateislandsonline.com/search?availability=rent&amp;diversion=team%20building\" class=\"\">Team building</a></li><li><a href=\"https://www.privateislandsonline.com/search?availability=rent&amp;diversion=rustic\" class=\"\">Rustic</a></li></ul></div><div class=\"sm-byers-guide\"><a href=\"https://www.privateislandsonline.com/islands_for_rent/bespoke_form\" class=\"\">Let Us Find Your island</a></div></div></div><div class=\"panel\"><a href=\"https://www.privateislandsonline.com/page/magazine\" target=\"_blank\">Magazine</a></div><div class=\"panel\"><span class=\"sidebar_acc_title color-on-hover\"><a href=\"https://www.privateislandsonline.com/page/aboutus\">About Us</a><a role=\"button\" class=\"iconRight sidebar_acc_toggle  collapsed \" data-toggle=\"collapse\" data-parent=\"#side-menu__inner\" href=\"#vac-about\"><span class=\"show-collapsed no-padding\">+</span><span class=\"hide-collapsed no-padding\">-</span></a></span><div role=\"tabpanel\" class=\"collapse \" id=\"vac-about\"><div class=\"panel sm-subpanel\"><a role=\"button\" href=\"https://www.privateislandsonline.com/page/aboutus\">About Private Islands Inc.</a></div><div class=\"panel sm-subpanel\"><a role=\"button\" href=\"https://www.privateislandsonline.com/page/chris-krolow\">CEO & Founder: Chris Krolow</a></div><div class=\"panel sm-subpanel\"><a role=\"button\" href=\"https://www.privateislandsonline.com/page/magazine\" target=\"_blank\">Private Islands Magazine</a></div><div class=\"panel sm-subpanel\"><a role=\"button\" href=\"https://www.privateislandsonline.com/page/island-hunters\">HGTV Island Hunters</a></div></div></div><div class=\"panel\"><a class=\"color-on-hover \" href=\"https://www.privateislandsonline.com/page/services\">Services</a></div><div class=\"panel\"><ul class=\"sideBarNavList\"><li><a href=\"https://www.privateislandsonline.com/page/submit-an-island\" class=\"\">Submit Island</a></li><li><a href=\"https://www.privateislandsonline.com/page/newsletter\" class=\"\">Newsletter</a></li><li><a href=\"https://www.privateislandsonline.com/page/partners\" class=\"\">Partners</a></li><li><a href=\"https://www.privateislandsonline.com/page/contact-us\" class=\"\">Contact</a></li><li><a href=\"https://www.privateislandsonline.com/login\" class=\"\">Login / Register</a></li></ul></div><div class=\"panel panel-langcur-xs visible-xs\"><ul class=\"visible-xs lang-cur-xs cell_curr-lang\"><li><span class=\"language_selection\"><span id=\"google_translate_element\"></span></span></li></ul></div></div><div class=\"sideNavSocialLink\">\\nConnect With Us\\n<div class=\"social\"><a href=\"https://www.facebook.com/PrivateIslandsInc\" target=\"blank\"><img alt=\"social icon\" src=\"https://www.privateislandsonline.com/img/front/navSocialIcon_fb.png\"></a><a href=\"https://twitter.com/theislandworld\" target=\"blank\"><img alt=\"nav social icon\" src=\"https://www.privateislandsonline.com/img/front/navSocialIcon_tw.png\"></a><a href=\"https://plus.google.com/+islandsforsale\" target=\"blank\"><img alt=\"social icon\" src=\"https://www.privateislandsonline.com/img/front/navSocialIcon_gp.png\"></a></div></div></div></div><div class=\"header_top_position clearfix hidden-sm\"><ul class=\"pull-right desktop_curr-lang\"><li class=\"hidden-xs lang-sel--desktop\"><span class=\"language_selection\"><span id=\"google_translate_element1\"></span><script>\\n    \\t\\t\\t\\tfunction googleTranslateElementInit() {\\n\\n                        if($(window).width() <= 767){\\n    \\t\\t\\t\\t        new google.translate.TranslateElement({pageLanguage: \\'en\\', includedLanguages: \\'en,fr,de,it,es,pt,ru,ja,zh-CN\\',  layout: google.translate.TranslateElement.InlineLayout.SIMPLE}, \\'google_translate_element\\');\\n                        }else{\\n    \\t\\t\\t\\t        new google.translate.TranslateElement({pageLanguage: \\'en\\', includedLanguages: \\'en,fr,de,it,es,pt,ru,ja,zh-CN\\',  layout: google.translate.TranslateElement.InlineLayout.SIMPLE}, \\'google_translate_element1\\');\\n                        }\\n    \\t\\t\\t\\t}\\n    \\t\\t\\t\\t</script><script id=\\'googleScript\\' src=\"//translate.google.com/translate_a/element.js?cb=googleTranslateElementInit\"></script></span></li><li class=\"visible-lg-inline-block\"><a href=\"/page/contact-us\">Contact</a></li><li class=\"visible-lg-inline-block\"><a href=\"https://www.privateislandsonline.com/login\">Login / Register</a></li><li class=\"visible-md-inline-block visible-lg-inline-block social-media-h\"><span class=\"social-media\"><a class=\"sm-hf sm-hf--gp\" target=\"_blank\" href=\"https://plus.google.com/109258906334615379634\"></a><a class=\"sm-hf sm-hf--fb\" target=\"_blank\" href=\"https://www.facebook.com/PrivateIslandsInc\"></a><a class=\"sm-hf sm-hf--tw\" target=\"_blank\" href=\"https://twitter.com/theislandworld\"></a></span></li></ul></div><div id=\"main-menu\"><ul class=\"nav navbar-nav navbar-right links\"><li class=\"tn-links\\n\\n\\n\\n\\n\\n\\n                      \"><a href=\"/search?availability=sale\"><span>Islands for </span>Sale</a></li><li class=\"tn-links  rental\\n  \\n                     \"><a href=\"/islands_for_rent\"><span>Islands for </span>Rent</a></li><li><a href=\"https://www.privateislandsonline.com/search_islands?availability=sale\" style=\"padding: 3px;\"><div class=\"searchButtonTop\"></div></a></li></ul></div><div class=\"collapse navbar-collapse\" id=\"sub-menu\"></div></div></nav><style>\\n        #gmap {\\n            position: relative;\\n            width: 100%;\\n            min-height: 600px;\\n            overflow: hidden;\\n        }\\n        \\n        #gmap .map-trigger {\\n            position: absolute;\\n            left: 50%;\\n            top: 50%;\\n            height: auto;\\n            width: 100%;\\n            -webkit-transform: translate(-50%,-50%);\\n            -ms-transform: translate(-50%,-50%);\\n            transform: translate(-50%,-50%);\\n        }\\n        \\n        #gmap .map-trigger.portrait {\\n            width: 100%;\\n            height: auto;\\n        }\\n        \\n        @media  only screen and (max-width: 768px) {\\n            #gmap .map-trigger {\\n                height: 80%;\\n                width: auto;\\n            }\\n        }\\n    </style><img alt=\"mappoint\" src=\"/images/mappoint.png\" class=\"hide\"><header class=\"island hidden-print\" style=\\'background: #073641 url(https://www.privateislandsonline.com/uploads/resize/_597_image_fe02c338d8.jpg-2148-1600.jpg) no-repeat\\n             center              center  ;\\n             ;\\n             ;\\'><div class=\"footer mb-25\"><h1><span class=\"font-cinzel\">Rangyai Island</span><br><small>\\nThailand\\n, Asia\\n<span class=\"price\"> USD 160,000,000.00 </span></small><a href=\"#inquiry\" class=\"btn btn-red pull-right\">\\nInquire Now\\n</a></h1></div></header><div class=\"navOverlayBottom\"></div><section id=\"island-details\" class=\"islandDetailView\"><div class=\"container-fluid p-0\"><div class=\"col-sm-4 detail-list pos-relative pt-100 pl-115 font-av-roman\"><label class=\"forsale tag\">\\nFor Sale\\n</label><ul class=\"basic-info mb-50\"><li class=\"clearfix\"><label>Name</label><div><span class=\"info\">Rangyai Island</span></div></li><li class=\"clearfix\"><label>Region</label><div><span class=\"info\"><a href=\"https://www.privateislandsonline.com/region/thailand?availability=sale\">Thailand</a></span>\\n, <span class=\"info\"><a href=\"https://www.privateislandsonline.com/region/asia?availability=sale\">Asia</a></span></div></li><li class=\"clearfix\"><label>Location</label><div><span class=\"info\">East of Phuket</span></div></li><li class=\"clearfix\"><label>Development</label><div><span class=\"info\">Developed</span></div></li><li class=\"clearfix\"><label>Title</label><div><span class=\"info\">Freehold</span></div></li><li class=\"clearfix\"><label>Type</label><div><span class=\"info\">Private Island</span></div></li><li class=\"clearfix\"><label>Price</label><div><span class=\"price\">$ 160,000,000</span><span class=\"currency_selection_details\"><select name=\"currency\" onchange=\"window.location=\\'/currency/\\'+this.value\"><option value=\"USD\" selected>USD</option><option value=\"EUR\">EUR</option><option value=\"GBP\">GBP</option><option value=\"AUD\">AUD</option><option value=\"CAD\">CAD</option><option value=\"CZK\">CZK</option><option value=\"DKK\">DKK</option><option value=\"HKD\">HKD</option><option value=\"HUF\">HUF</option><option value=\"ILS\">ILS</option><option value=\"JPY\">JPY</option><option value=\"MXN\">MXN</option><option value=\"NOK\">NOK</option><option value=\"NZD\">NZD</option><option value=\"PHP\">PHP</option><option value=\"PLN\">PLN</option><option value=\"SGD\">SGD</option><option value=\"SEK\">SEK</option><option value=\"CHF\">CHF</option><option value=\"TWD\">TWD</option><option value=\"THB\">THB</option><option value=\"UAH\">UAH</option><option value=\"ISK\">ISK</option><option value=\"HRK\">HRK</option><option value=\"RON\">RON</option><option value=\"BGN\">BGN</option><option value=\"TRY\">TRY</option><option value=\"CLP\">CLP</option><option value=\"ZAR\">ZAR</option><option value=\"BRL\">BRL</option><option value=\"MYR\">MYR</option><option value=\"RUB\">RUB</option><option value=\"IDR\">IDR</option><option value=\"INR\">INR</option><option value=\"KRW\">KRW</option><option value=\"CNY\">CNY</option></select></span></div></li><li class=\"clearfix\"><label>Size</label><div><span class=\"info\">110.00 Acres</span></div></li><li class=\"clearfix\"><label>Lifestyles</label><div><span class=\"info\"><a href=\"https://www.privateislandsonline.com/search?availability=sale&amp;lifestyles%5Bislands_with_beaches%5D=1\">Islands With Beaches</a>, <a href=\"https://www.privateislandsonline.com/search?availability=sale&amp;lifestyles%5Blarge_acreage%5D=1\">Large Acreage</a>, <a href=\"https://www.privateislandsonline.com/search?availability=sale&amp;lifestyles%5Bocean_island%5D=1\">Ocean Island</a>, <a href=\"https://www.privateislandsonline.com/search?availability=sale&amp;lifestyles%5Bincome_potential%5D=1\">Income Potential</a></span></div></li></ul><div class=\"p-island--actions actions\"><div class=\"long-arrow\"><a href=\"https://www.privateislandsonline.com#backbutton\">Back</a></div><div class=\"hidden-print\"><a class=\"btn-print\" href=\"#\"> Print</a></div></div></div><div class=\"col-sm-8 content-container pr-115 rightSection\"><div class=\"row\"><div class=\"col-sm-8\"><div class=\"breadcrumbs\"><ul class=\"bc-list\"><li><a href=\"https://www.privateislandsonline.com/search?availability=sale\">\\nFor Sale\\n</a></li><li><a href=\"/region/asia\">\\nAsia\\n</a></li><li><a href=\"/region/asia/thailand/\">\\nThailand\\n</a></li></ul></div><div class=\"content\" id=\"content\"><h2 class=\"font-cinzel t-ucase mb-25\">Rangyai Island</h2><span class=\"visible-xs\"><div class=\"read-less\"><p>Located just east of the island of Phuket, an island popular with tourists and estate owners, Rangyai is the largest island currently available for sale in the region. <br /><br />The island is close to both Phuket and Coconut Island both of which are home to numerous resorts, and are very popular with tourists. Ranyai Island is an advantageous position in the area, allowing the prospective owner to capitalize on the development potential of t <span class=\"read_more_dots\">...</span></div><div class=\"read-more\"><p>Located just east of the island of Phuket, an island popular with tourists and estate owners, Rangyai is the largest island currently available for sale in the region. <br /><br />The island is close to both Phuket and Coconut Island both of which are home to numerous resorts, and are very popular with tourists. Ranyai Island is an advantageous position in the area, allowing the prospective owner to capitalize on the development potential of this property.<br /><br />At 110 acres in size, the island comes complete with fresh water, electric generator, and mobile signal. The island is located only 20 minutes form Phuket International Airport and just 10 minutes by boat from the nearest town. <br /><br />Much like its neighbour, Phuket, Rangyai Island is adorned by beautiful white sand beaches and lush tropical forests. In addition, given its advantageous location between the islands of Phuket, Krabi, and Phangna, the island benefits from incredible 360-views.</p></div></span><div class=\"hidden-xs descriptionContainer\"><p>Located just east of the island of Phuket, an island popular with tourists and estate owners, Rangyai is the largest island currently available for sale in the region. <br /><br />The island is close to both Phuket and Coconut Island both of which are home to numerous resorts, and are very popular with tourists. Ranyai Island is an advantageous position in the area, allowing the prospective owner to capitalize on the development potential of this property.<br /><br />At 110 acres in size, the island comes complete with fresh water, electric generator, and mobile signal. The island is located only 20 minutes form Phuket International Airport and just 10 minutes by boat from the nearest town. <br /><br />Much like its neighbour, Phuket, Rangyai Island is adorned by beautiful white sand beaches and lush tropical forests. In addition, given its advantageous location between the islands of Phuket, Krabi, and Phangna, the island benefits from incredible 360-views.</p></div><div class=\"visible-xs\"><a href=\\'#\\' class=\"pull-left hidden-print read_more\">+ Read More</a><a href=\\'#\\' class=\"pull-left hidden-print read_less\">- Read Less</a><br /></div></div></div><div class=\"col-sm-4\"></div></div></div></section><script src=\"https://cdnjs.cloudflare.com/ajax/libs/vanilla-lazyload/8.15.2/lazyload.min.js\"></script><section id=\"island-carousel\" class=\"island-carousel pos-relative \"><div class=\"owl-rotator-island-main owl-carousel owl-theme  hidden-sm hidden-xs \"><div><img class=\"img-responsive lazy\" data-src=\"https://www.privateislandsonline.com/uploads/resize/_597_image_fe02c338d8.jpg-1360-1100.jpg\" src=\"https://www.privateislandsonline.com/uploads/resize/_597_image_fe02c338d8.jpg-1360-1100.jpg\" alt=\"\"></div><div><img class=\"img-responsive lazy\" data-src=\"https://www.privateislandsonline.com/uploads/resize/_597_image_25bce99231.jpg-1360-1100.jpg\" src=\"https://www.privateislandsonline.com/uploads/resize/_597_image_25bce99231.jpg-1360-1100.jpg\" alt=\"\"></div><div><img class=\"img-responsive lazy\" data-src=\"https://www.privateislandsonline.com/uploads/resize/_597_image_d24a8525fc.jpg-1360-1100.jpg\" src=\"https://www.privateislandsonline.com/uploads/resize/_597_image_d24a8525fc.jpg-1360-1100.jpg\" alt=\"\"></div><div><img class=\"img-responsive lazy\" data-src=\"https://www.privateislandsonline.com/uploads/resize/_597_image_e971b277e1.jpg-1360-1100.jpg\" src=\"https://www.privateislandsonline.com/uploads/resize/_597_image_e971b277e1.jpg-1360-1100.jpg\" alt=\"\"></div></div><div class=\"container-fluid p-0  hidden-sm hidden-xs \"><div class=\"thumbnail-container mb-20\" style=\"text-align: center;\"><div class=\"arrow-left\"><i class=\"fa fa-angle-left\"></i></div><div class=\"limit-thumbnails\" style=\"text-align: left;\"><ul class=\"thumbnails\"><li id=\"thumb-1631\"><a data-target=\"thumb-1631\" data-key=\"0\" class=\"carusel-thumbnail\" href=\"#\"><img class=\"lazy\" data-src=\"https://www.privateislandsonline.com/uploads/resize/_597_image_fe02c338d8.jpg-100-64.jpg\" alt=\"/597/image_fe02c338d8.jpg\" src=\"https://www.privateislandsonline.com/uploads/resize/_597_image_fe02c338d8.jpg-100-64.jpg\" alt=\"/597/image_fe02c338d8.jpg\"></a></li><li id=\"thumb-1628\"><a data-target=\"thumb-1628\" data-key=\"1\" class=\"carusel-thumbnail\" href=\"#\"><img class=\"lazy\" data-src=\"https://www.privateislandsonline.com/uploads/resize/_597_image_25bce99231.jpg-100-64.jpg\" alt=\"/597/image_25bce99231.jpg\" src=\"https://www.privateislandsonline.com/uploads/resize/_597_image_25bce99231.jpg-100-64.jpg\" alt=\"/597/image_25bce99231.jpg\"></a></li><li id=\"thumb-1630\"><a data-target=\"thumb-1630\" data-key=\"2\" class=\"carusel-thumbnail\" href=\"#\"><img class=\"lazy\" data-src=\"https://www.privateislandsonline.com/uploads/resize/_597_image_d24a8525fc.jpg-100-64.jpg\" alt=\"/597/image_d24a8525fc.jpg\" src=\"https://www.privateislandsonline.com/uploads/resize/_597_image_d24a8525fc.jpg-100-64.jpg\" alt=\"/597/image_d24a8525fc.jpg\"></a></li><li id=\"thumb-1629\"><a data-target=\"thumb-1629\" data-key=\"3\" class=\"carusel-thumbnail\" href=\"#\"><img class=\"lazy\" data-src=\"https://www.privateislandsonline.com/uploads/resize/_597_image_e971b277e1.jpg-100-64.jpg\" alt=\"/597/image_e971b277e1.jpg\" src=\"https://www.privateislandsonline.com/uploads/resize/_597_image_e971b277e1.jpg-100-64.jpg\" alt=\"/597/image_e971b277e1.jpg\"></a></li></ul></div><div class=\"arrow-right\"><i class=\"fa fa-angle-right\"></i></div></div></div><div class=\"owl-rotator-island owl-carousel owl-theme  visible-sm visible-xs \"><div><img class=\"img-responsive lazy\" data-src=\"https://www.privateislandsonline.com/uploads/resize/_597_image_fe02c338d8.jpg-767-400.jpg\" src=\"https://www.privateislandsonline.com/uploads/resize/_597_image_fe02c338d8.jpg-767-400.jpg\" alt=\"\"></div><div><img class=\"img-responsive lazy\" data-src=\"https://www.privateislandsonline.com/uploads/resize/_597_image_25bce99231.jpg-767-400.jpg\" src=\"https://www.privateislandsonline.com/uploads/resize/_597_image_25bce99231.jpg-767-400.jpg\" alt=\"\"></div><div><img class=\"img-responsive lazy\" data-src=\"https://www.privateislandsonline.com/uploads/resize/_597_image_d24a8525fc.jpg-767-400.jpg\" src=\"https://www.privateislandsonline.com/uploads/resize/_597_image_d24a8525fc.jpg-767-400.jpg\" alt=\"\"></div><div><img class=\"img-responsive lazy\" data-src=\"https://www.privateislandsonline.com/uploads/resize/_597_image_e971b277e1.jpg-767-400.jpg\" src=\"https://www.privateislandsonline.com/uploads/resize/_597_image_e971b277e1.jpg-767-400.jpg\" alt=\"\"></div></div></section><script>\\n    var myLazyLoad = new LazyLoad({\\n    elements_selector: \".lazy\"\\n});\\n</script><section id=\"gmap\"><img class=\"map-trigger\" src=\"https://www.privateislandsonline.com/images/map-overlay2.jpg\" style=\"cursor: pointer;\"></section><div id=\"off_market_pos\"></div><section id=\"share\" class=\"text-center tip hidden-print\"><div class=\"container\"><h1 class=\"font-cinzel\">Share This Listing</h1><a class=\"share_fb\" target=\"_blank\" href=\"https://www.facebook.com/sharer/sharer.php?u=http%3A%2F%2Fwww.privateislandsonline.com%2Fasia%2Fthailand%2Frangyai-island\"></a><a class=\"share_tw\" target=\"_blank\" href=\"https://twitter.com/intent/tweet?text=Rangyai+Island+-+Private+Islands+Online+%0D%0A+http%3A%2F%2Fwww.privateislandsonline.com%2Fasia%2Fthailand%2Frangyai-island\"></a><a class=\"share_email\" target=\"_top\" href=\"/cdn-cgi/l/email-protection#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\"></a><a class=\"share_print btn-print\" href=\"#\"></a></div></section><div id=\"inquiry\"></div><style></style><link rel=\"stylesheet\" href=\"/css/inquiry-form-latest.css\"><section id=\"cont-form\" class=\"tip tip-white hidden-print\"><div class=\"container\"><h1 class=\"text-center font-cinzel mb-75\">Inquire About This Island</h1><div class=\"contact-form\"><form id=\"inquiry-form\" action=\"#\" method=\"post\" class=\"form-horizontal\"><div class=\"formLoading hide\"><img alt=\"ajax-loader\" src=\"/images/ajax-loader.gif\"></div><input type=\"hidden\" name=\"listing_id\" value=\"597\"><input type=\"hidden\" name=\"type\" value=\"sale\"><div class=\"form-group max-width-820\"><div class=\"col-sm-6\"><input type=\"text\" name=\"first_name\" placeholder=\"First Name\" class=\"form-control\" required></div><div class=\"col-sm-6\"><input type=\"text\" name=\"last_name\" placeholder=\"Last Name\" class=\"form-control\" required></div><div class=\"col-sm-6\"><input type=\"email\" name=\"email\" placeholder=\"Email\" class=\"form-control\" required></div><div class=\"col-sm-6\"><input type=\"text\" name=\"phone\" placeholder=\"Phone\" class=\"form-control\"></div><div class=\"col-sm-12\"><textarea name=\"emailMessage\" placeholder=\"Message\" class=\"form-control inquiryMessageField\" required></textarea></div><div class=\"col-sm-6  text-center\"><script data-cfasync=\"false\" src=\"/cdn-cgi/scripts/5c5dd728/cloudflare-static/email-decode.min.js\"></script><script src=\"https://www.google.com/recaptcha/api.js\" async defer></script><div class=\"g-recaptcha\" data-sitekey=\"6LcDhyAUAAAAAALxsuByx8dHc1MErBxi3S6Er-cC\"></div></div><div class=\"col-sm-6\"><div class=\"small alert alert-success hide\"></div><div class=\"form-group\" style=\"margin-top: 18px;\"><input type=\"submit\" class=\"btn btn-red btn-med pull-right\" value=\"Inquire About This Island\"></div></div></div><input type=\"hidden\" name=\"hcptch[token]\" value=\"eyJpdiI6IlBnU2F5QkNLXC96U1wvbmxSVTI0VFZZUT09IiwidmFsdWUiOiJPSUdtc1pBV05zeFRKdmducCtjZ3pBRnNNS3ViNmNVbVF4YVVveTc2Zm5NU2V6VHliZTAxWkdKY1wvRjRVTWNGSGpFODRMVHRsVXZicGFtT0RlZ0ZycmV0dTZ5XC96M08ySTRsWEMzRjdDXC9pXC8rVHBJNkJoajVnNXo0Mm11bzRwZjBadk1XUG9qNDdraWlWWlZ6R05XanlPazRJcFY2cTJHOHlYN0xPQXpSeUtvZXpqMkZDVDhFSnZsQ3pDOUFjejVZcDJnNFZIb2NlOVBsTmR6Y2ZQSWw3dFdmR2R0aVBHU2ZnVEdCd05DaVwvcjZ4OXBwVmdWS2Zabk01dVBiQkxhcmZsUGZJSklDN2srNWtHUnNaOVFHekt3PT0iLCJtYWMiOiIwZjIzYWI3YzRmNWU3ZGM2Y2I5N2UzMmJkMDFmZTJhZDEzNDcyMzRkZmFhZmU4ZDZhYWRlMmMwMThlYTMxNWE2In0=\" /><span style=\"display: none\"><input type=\"text\" name=\"hcptch[name0]\" value=\"\" /></span><input type=\"hidden\" name=\"hcptch[cd2fd978dbd3b439]\" value=\"1689208498\" /></form></div></div></section><section id=\"assoc-island\" class=\"hidden-print\"><div class=\"container\"><h1 class=\"font-cinzel text-center color-dark mb-35\">Other islands you may be interested in</h1><div class=\"tab-container\"><ul class=\"nav nav-tabs tab-list\" role=\"tablist\"><li role=\"presentation\" class=\"active\"><a href=\"#sale\" aria-controls=\"sale\" role=\"tab\" data-toggle=\"tab\">Islands for Sale</a></li><li role=\"presentation\"><a href=\"#rent\" aria-controls=\"rent\" role=\"tab\" data-toggle=\"tab\">Islands for Rent</a></li></ul><div class=\"tab-content\"><div role=\"tabpanel\" class=\"tab-pane  active in  fade form-inline\" id=\"sale\"><div class=\"row\"><div class=\"col-sm-6 col col-md-6 col-sm-offset-0 col-xs-12 padd-lr-8\"><div class=\"grid\"><div class=\"img-container\"><a href=\"https://www.privateislandsonline.com/asia/philippines/green-bay-island\" style=\"background: url(\\'/uploads/439/image_1b406e2f33.jpg\\')\"></a></div><div class=\"grid-content island-content\"><span class=\"name font-av-medium\">Green Bay Island </span><br><span class=\"location-price\"><div id=\"newsletterSection\"></div><span class=\"baseName\"><i class=\"icn-pin\"></i>\\nPhilippines\\n, Asia\\n</span><span class=\"basePrice\"><span class=\"price\">$ 800,000</span><span class=\"currency_selection_details\"><select name=\"currency\" onchange=\"window.location=\\'/currency/\\'+this.value\"><option value=\"USD\" selected>USD</option><option value=\"EUR\">EUR</option><option value=\"GBP\">GBP</option><option value=\"AUD\">AUD</option><option value=\"CAD\">CAD</option><option value=\"CZK\">CZK</option><option value=\"DKK\">DKK</option><option value=\"HKD\">HKD</option><option value=\"HUF\">HUF</option><option value=\"ILS\">ILS</option><option value=\"JPY\">JPY</option><option value=\"MXN\">MXN</option><option value=\"NOK\">NOK</option><option value=\"NZD\">NZD</option><option value=\"PHP\">PHP</option><option value=\"PLN\">PLN</option><option value=\"SGD\">SGD</option><option value=\"SEK\">SEK</option><option value=\"CHF\">CHF</option><option value=\"TWD\">TWD</option><option value=\"THB\">THB</option><option value=\"UAH\">UAH</option><option value=\"ISK\">ISK</option><option value=\"HRK\">HRK</option><option value=\"RON\">RON</option><option value=\"BGN\">BGN</option><option value=\"TRY\">TRY</option><option value=\"CLP\">CLP</option><option value=\"ZAR\">ZAR</option><option value=\"BRL\">BRL</option><option value=\"MYR\">MYR</option><option value=\"RUB\">RUB</option><option value=\"IDR\">IDR</option><option value=\"INR\">INR</option><option value=\"KRW\">KRW</option><option value=\"CNY\">CNY</option></select></span></span></span></div></a></div></div><div class=\"col-sm-6 col col-md-6 col-sm-offset-0 col-xs-12 padd-lr-8\"><div class=\"grid\"><div class=\"img-container\"><a href=\"https://www.privateislandsonline.com/asia/philippines/green-paradise-island\" style=\"background: url(\\'/uploads/441/5e87c5710ac90.jpg\\')\"></a></div><div class=\"grid-content island-content\"><span class=\"name font-av-medium\">Green Paradise Island </span><br><span class=\"location-price\"><div id=\"newsletterSection\"></div><span class=\"baseName\"><i class=\"icn-pin\"></i>\\nPhilippines\\n, Asia\\n</span><span class=\"basePrice\"><span class=\"price\">$ 1,500,000</span><span class=\"currency_selection_details\"><select name=\"currency\" onchange=\"window.location=\\'/currency/\\'+this.value\"><option value=\"USD\" selected>USD</option><option value=\"EUR\">EUR</option><option value=\"GBP\">GBP</option><option value=\"AUD\">AUD</option><option value=\"CAD\">CAD</option><option value=\"CZK\">CZK</option><option value=\"DKK\">DKK</option><option value=\"HKD\">HKD</option><option value=\"HUF\">HUF</option><option value=\"ILS\">ILS</option><option value=\"JPY\">JPY</option><option value=\"MXN\">MXN</option><option value=\"NOK\">NOK</option><option value=\"NZD\">NZD</option><option value=\"PHP\">PHP</option><option value=\"PLN\">PLN</option><option value=\"SGD\">SGD</option><option value=\"SEK\">SEK</option><option value=\"CHF\">CHF</option><option value=\"TWD\">TWD</option><option value=\"THB\">THB</option><option value=\"UAH\">UAH</option><option value=\"ISK\">ISK</option><option value=\"HRK\">HRK</option><option value=\"RON\">RON</option><option value=\"BGN\">BGN</option><option value=\"TRY\">TRY</option><option value=\"CLP\">CLP</option><option value=\"ZAR\">ZAR</option><option value=\"BRL\">BRL</option><option value=\"MYR\">MYR</option><option value=\"RUB\">RUB</option><option value=\"IDR\">IDR</option><option value=\"INR\">INR</option><option value=\"KRW\">KRW</option><option value=\"CNY\">CNY</option></select></span></span></span></div></a></div></div></div></div><div role=\"tabpanel\" class=\"tab-pane  fade form-inline\" id=\"rent\"><div class=\"row\"><div class=\"col-sm-6 col col-md-6 col-sm-offset-0 col-xs-12 padd-lr-8\"><div class=\"grid\"><div class=\"img-container\"><a href=\"https://www.privateislandsonline.com/islands-for-rent/asia/thailand/amalouce-resort\" style=\"background: url(\\'/uploads/1806/image_99a3c497e6.jpg\\')\"></a></div><div class=\"grid-content island-content\"><span class=\"name font-av-medium\">Amalouce Resort </span><br><span class=\"location-price\"><span class=\"baseName\"><i class=\"icn-pin\"></i>\\nThailand\\n, Asia\\n</span><span class=\"basePrice\"></span></span></div></a></div></div><div class=\"col-sm-6 col col-md-6 col-sm-offset-0 col-xs-12 padd-lr-8\"><div class=\"grid\"><div class=\"img-container\"><a href=\"https://www.privateislandsonline.com/islands-for-rent/asia/thailand/koh-rang-noi\" style=\"background: url(\\'/uploads/2333/5a285916a6f59.jpg\\')\"></a></div><div class=\"grid-content island-content\"><span class=\"name font-av-medium\">Koh Rang Noi </span><br><span class=\"location-price\"><span class=\"baseName\"><i class=\"icn-pin\"></i>\\nThailand\\n, Asia\\n</span><span class=\"basePrice\"></span></span></div></a></div></div></div></div></div></section><section class=\"newsletterSection hidden-print\"><div class=\"clearfix\"><div class=\"col-sm-7 pull-right nws-main\"><div id=\"newsletter\"><h1 class=\"font-cinzel\">SUBSCRIBE TO OUR NEWSLETTER</h1><div class=\"contact-form\"><link href=\"https://media.campaigner.com/csb/styles/jqueryui/themes/redmond/jquery-ui-1.8.2.css\" rel=\"stylesheet\"><script src=\"https://media.campaigner.com/csb/scripts/thirdparty/jquery-latest.min.js\"></script><script src=\"https://media.campaigner.com/csb/scripts/thirdparty/jquery.validate.js\"></script><script src=\"https://media.campaigner.com/csb/scripts/thirdparty/jquery-ui-latest.min.js\"></script><script>\\n        $(document).ready(function () {\\n\\n            $(\"#previewForm\").validate({\\n                errorPlacement: function (error, element) {\\n                    if (element.next(\".ui-datepicker-trigger\").length > 0)\\n                        error.insertAfter(element.next(\".ui-datepicker-trigger\"));\\n                    else\\n                        error.insertAfter(element);\\n                },\\n                rules:\\n                {\\n                    confirmEmail: {\\n                        equalTo: \"#8166509\"\\n                    }\\n                },\\n                messages:\\n                {\\n                    confirmEmail: \"Email addresses do not match.\"\\n                }\\n            })\\n\\n            //Localize validation message\\n            $.validator.messages.email = \"Please enter a valid email address\";\\n            $.validator.messages.required = \"This field is required\";\\n            $.validator.messages.date = \"Please enter a valid date.\";\\n            $.validator.messages.number = \"Please enter a valid number.\";\\n\\n            $(\".datepicker\").datepicker({ showOn: \\'button\\', buttonImage: \\'https://secure.campaigner.com/CSB/images/Toolbar/newAppointment.gif\\', buttonImageOnly: true, dateFormat: \\'yy-mm-dd\\', constrainInput: true, changeMonth: true, changeYear: true, yearRange: \"1900:+10\", onSelect: function (dateText, inst) { inst.input.trigger(\"focus\"); } });\\n            var dateFormat = \"yyyy-mm-dd\";\\n            $(\".datepicker\").attr(\"title\", dateFormat).attr(\"format\", dateFormat);\\n\\n            // Force the calender to stay hidden till it\\'s being invoked through the calendar icon\\n            $(\".ui-helper-clearfix\").css(\"display\", \"none\");\\n        });\\n\\n\\n\\n\\n    function setCheckBox(control)\\n    {\\n        var txtBox = $(control);\\n        // Get the accompanying checkbox for the Other textfield\\n        var chk = $(txtBox.closest(\\'input\\').prev().find(\\'[type=checkbox]\\'))\\n\\n        // Check the Other checkbox when adding text\\n        if (!chk.attr(\\'checked\\'))\\n        {\\n            chk.prop(\\'checked\\', true);\\n        }\\n        // Clear the checkbox if textbox is empty\\n        if(txtBox.val() === \"\")\\n        {\\n            chk.prop(\\'checked\\', false);\\n        }\\n\\n    }\\n\\n\\n    </script><link href=\"https://media.campaigner.com/csb/app_themes/lightning/combobox.campformcombo.css\" rel=\"stylesheet\"><link href=\"https://media.campaigner.com/csb/app_themes/lightning/common/fonticons.css\" rel=\"stylesheet\"><div class=\"contact-form\"><form name=\"previewForm\" method=\"post\" action=\"https://secure.campaigner.com/CSB/Public/ProcessHostedForm.aspx\" id=\"previewForm\" enctype=\"multipart/form-data\" target=\"_blank\" novalidate class=\"form-horizontal\"><script>\\n  //<![cdata[\\n  var theForm = document.forms[\\'previewForm\\'];\\n  if (!theForm) {\\n      theForm = document.previewForm;\\n  }\\n  function __doPostBack(eventTarget, eventArgument) {\\n      if (!theForm.onsubmit || (theForm.onsubmit() != false)) {\\n          theForm.__EVENTTARGET.value = eventTarget;\\n          theForm.__EVENTARGUMENT.value = eventArgument;\\n          theForm.submit();\\n      }\\n  }\\n  //]]></script><link href=\"https://www.privateislandsonline.com/css/newsletter.css\" rel=\"stylesheet\" media=\"all\"><div><input name=\"__VIEWSTATEGENERATOR\" id=\"__VIEWSTATEGENERATOR\" value=\"5523BD75\" type=\"hidden\"></div><div class=\"form-group SignupFormPreview nws-sub\"><div class=\"col-sm-12 \"><p id=\"headerFormatedTextheaderText\">To Subscribe to this mailing and receive future emails, fill out the form below and click Submit.</p></div><div class=\"form-pad\"><div class=\"col-sm-6 d-none\"><input name=\"8166499\" maxlength=\"4000\" id=\"8166499\" class=\"form-control\" contactattributeid=\"8166499\" type=\"text\" placeholder=\"First Name\"></div><div class=\"col-sm-6 d-none\"><input name=\"8166504\" maxlength=\"4000\" id=\"8166504\" class=\"form-control\" contactattributeid=\"8166504\" type=\"text\" placeholder=\"Last Name\"></div><div class=\"col-sm-6\"><input name=\"8166509\" maxlength=\"4000\" id=\"8166509\" class=\"form-control\" class=\"email\" contactattributeid=\"8166509\" type=\"text\" placeholder=\"Email *\" required></div><div class=\"col-sm-6\"><input name=\"confirmEmail\" id=\"confirmEmail\" class=\"form-control\" class=\"email required\" type=\"text\" placeholder=\"Confirm Email *\" required></div><div class=\"col-sm-12 text-center\"><input name=\"SubmitButton\" value=\"Submit\" id=\"SubmitButton\" class=\"btn btn-red btn-med\" type=\"submit\"></div></div></div><input name=\"FormInfo\" id=\"FormInfo\" value=\"4ff15357-1083-4912-b166-f0be87570cca\" type=\"hidden\"><input name=\"AccId\" id=\"AccId\" value=\"f8vg\" type=\"hidden\"></form></div></div></div></div><div class=\"col-sm-5 leftSide\"></div></div><div class=\"clearfix\"></div></section><section class=\"main-panel-format privateIsland-new\" style=\\'background-image: url(&quot;https://www.privateislandsonline.com/images/kanupio.jpg\");\\'><div class=\"container\"><div class=\"row\"><div class=\"col-md-8 text-center notleft\"><h1 class=\"font-cinzel\">PAY FOR 5 , STAY FOR 7<br>\\nKanu Private Island</h1><p>The best of both worlds.\\xc2\\xa05 or more nights on your own exclusive private island, followed by two complimentary nights at our new Kairos beach-front villa in Placencia, Belize. Spend your days snorkeling the dramatic Belize Barrier Reef or take a thrilling fishing trip for the catch of the day.\\xc2\\xa0 Unwind with a relaxing massage by the pool, then dance the night away under the stars of your private beach. For groups of up to 10. Valid for remaining dates in 2023.</p><a href=\"https://www.kanuprivateisland.com/complimentary-2-night-surf-and-turf-upgrade/\" target=\"_blank\" class=\"btn btn-red right-25\">LEARN MORE</a></div></div></div></section><section class=\"main-panel-format gladdenmainSection privateIsland-new\" style=\"background-image: url(\\'https://www.privateislandsonline.com/images/gladdenpio.jpg\\') !important;\"><div class=\"container\"><div class=\"row\"><div class=\"col-md-8 text-center notleft\"><h1 class=\"font-cinzel\">EXCLUSIVE PRIVATE ISLANDS</h1><p>Your Personal Private Island Playground. Experience the whole island for just one group at a time. Stunning locations, ultra private and all Inclusive. Curated by Private Islands Inc. </p><a href=\"https://www.privateislandsonline.com/page/exclusive-islands\" target=\"_blank\" class=\"btn btn-red right-25\">VIEW OUR COLLECTION</a></div></div></div></section><section class=\"mag privateIsland-new\" style=\"background-color: #000\"><div class=\"container-fluid mag-container\"><div class=\"row no-gutters-row\"><div class=\"col-md-6 col-sm-12 col-xs-12 col-inner\"><div class=\"magazine-cover\"><div class=\"magazine-inner\"><div class=\"magazine-container\"></div></div><div class=\"row hidden-xs hidden-sm\"><div class=\"col-md-12\"><div class=\"red-arrow\"><img alt=\"red-arrow\" src=\"https://www.privateislandsonline.com/img/arrow-red.png\" /></div></div></div></div></div><div class=\"col-md-6 col-sm-12 col-xs-12\"><div class=\"look-magazine text-center\"><h1 class=\"font-cinzel look-title mb-40\">LOOK INSIDE</h1><h4 class=\"font-cinzel look-caption mb-40\">ISSUE # 29 - SPRING/SUMMER 2023</h4><div class=\"row\"><div class=\"col-md-6 col-sm-6 col-xs-12\"><a href=\"https://indd.adobe.com/view/8eaaf9df-e9a6-4038-a89d-998ce56a0b72\\n\" class=\"btn btn-red btn-mag btn-one\"> VIEW FLIPBOOK </a></div><div class=\"col-md-6 col-sm-6 col-xs-12\"><a href=\"https://indd.adobe.com/view/publication/8eaaf9df-e9a6-4038-a89d-998ce56a0b72/1/publication-web-resources/pdf/issue29digital.pdf\" target=\"_blank\" class=\"btn btn-red btn-mag btn-two\"> DOWNLOAD PDF </a></div></div></div><div class=\"order-print text-center\"><h1 class=\"font-cinzel order-print-title mb-40\">PRINT EDITION (US & Canada)</h1><h6 class=\"order-print-caption mb-40\">Order the current issue for USD 14.95 or subscribe to a 2 year subscription for USD 39.95</h6><div class=\"row\"><div class=\"col-md-6 col-sm-6 col-xs-12\"><button id=\"singleIssueBtn\" name=\"single-issue\" type=\"button\" data-toggle=\"modal\" data-target=\"#myModal\" class=\"btn btn-red btn-mag btn-one singleIssue\"> SINGLE ISSUE </button><input type=\"hidden\" class=\"single-issue-name\" value=\"Single Issue\"></div><div class=\"col-md-6 col-sm-6 col-xs-12\"><button id=\"twoYears\" name=\"subscription\" type=\"button\" data-toggle=\"modal\" data-target=\"#myModal\" class=\"btn btn-red btn-mag btn-two subs\"> 2 YEAR SUBSCRIPTION </button><input type=\"hidden\" class=\"subscription-name\" value=\"Two Year Subscription\"></div><div class=\"col-md-12 col-xs-12 \"><p class=\"mag-p\"><small>Order the current issue for USD 14.95 or subscribe to a 2-year subscription for USD 39.95. For a single issue, the shipping fee is USD 6.95 for addresses in the USA or USD 4.95 within Canada. For subscription service (4 issues over 2 years), the total shipping cost is USD 28.00 (USA) or USD 20.00 (Canada). For international shipping, please contact us at <a href=\"/cdn-cgi/l/email-protection\" class=\"__cf_email__\" data-cfemail=\"3b52555d547b4b49524d5a4f5e5248575a555f4852555815585456\">[email&#160;protected]</a> with your mailing address and we will provide shipping options.</small></p></div></div></div></div></div></div></section><div class=\"modal fade\" id=\"myModal\" tabindex=\"-1\" role=\"dialog\" aria-labelledby=\"myModalLabel\"><div class=\"modal-dialog\" role=\"document\"><div class=\"modal-content\"><div class=\"modal-header\"><button type=\"button\" class=\"close\" data-dismiss=\"modal\" aria-label=\"Close\"><span aria-hidden=\"true\">&times;</span></button><h2 class=\"modal-title text-center\" id=\"myModalLabel\">Enter Details</h2></div><div class=\"modal-body\"><form method=\"POST\" action=\"https://www.privateislandsonline.com/make_payment\" accept-charset=\"UTF-8\" id=\"make_payment\" class=\"form\"><input name=\"_token\" type=\"hidden\" value=\"cMTboMzzWaCzzhcq82ekJuoWCFood3ujysVBCz5Z\"><div class=\"row\"><div class=\"col-md-6 col-sm-6 col-xs-6\"><div class=\"form-group\"><input type=\"text\" required class=\"form-control\" placeholder=\"Your Name\" name=\"buyer_name\" /></div></div><div class=\"col-md-6 col-sm-6 col-xs-6\"><div class=\"form-group\"><input type=\"email\" required class=\"form-control\" placeholder=\"Your Email\" name=\"buyer_email\" /></div></div></div><div class=\"row\"><div class=\"col-md-6 col-sm-6 col-xs-6\"><div class=\"form-group\"><input type=\"text\" required class=\"form-control\" placeholder=\"Phone Number\" name=\"buyer_phone\" /></div></div><div class=\"col-md-6 col-sm-6 col-xs-6\"><div class=\"form-group\"><select class=\"form-control\" required name=\"country\"><option value=\"\">Select Country</option><option value=\"USA\">USA</option><option value=\"Canada\">Canada</option></select></div></div><input id=\"HiddenProductValue\" type=\"hidden\" name=\"product\" class=\"hidden-product\"></div><div class=\"row\"><div class=\"col-xs-12 col-md-12 col-sm-12 text-center\"><div class=\"form-group\"><textarea class=\"form-control\" required name=\"buyer_address\" rows=\"7\" placeholder=\"Shipping Address\"></textarea></div></div></div><div class=\"row\"><div class=\"col-xs-12 col-md-12 col-sm-12 text-center\"><div class=\"form-group\"><input type=\"submit\" name=\"submit-form\" class=\"btn btn-mag btn-red submit-form\" value=\"Submit\" /></div></div></div></form></div></div></div></div><script data-cfasync=\"false\" src=\"/cdn-cgi/scripts/5c5dd728/cloudflare-static/email-decode.min.js\"></script><script src=\"https://code.jquery.com/jquery-3.3.1.min.js\" integrity=\"sha256-FgpCb/KJQlLNfOu91ta32o/NMZxltwRo8QtmkMRdAu8=\" crossorigin=\"anonymous\"></script><script>\\n\\n$( \"#twoYears\" ).click(function() {\\n     $(\"#HiddenProductValue\").val(\"Two Year Subscription\");\\n\\n});\\n$( \"#singleIssueBtn\" ).click(function() {\\n     $(\"#HiddenProductValue\").val(\"Single Issue\");\\n\\n});\\n    </script><footer class=\"hidden-xs\"><div class=\"container font-av-roman hidden-print\"><div class=\"row\"><div class=\"col-md-3 col-sm-4\"><h3><a href=\"#\">POPULAR SEARCHES </a></h3><ul><li><a href=\"https://www.privateislandsonline.com/search?order=id%3Adesc&amp;availability=sale\">Newest Islands for Sale </a></li><li><a href=\"https://www.privateislandsonline.com/search?q=&availability=sale&price_range=0:500000&size_range=0:9950\">Islands under US$ 500,000 </a></li><li><a href=\"https://www.privateislandsonline.com/search?q=&availability=sale&price_range=1000000:10000000&size_range=0:9950\">Islands over US$ 10,000,000 </a></li></ul><div class=\"hidden-sm\"><h3><a href=\"#\">RECOMMENDED ISLANDS</a></h3><ul><li><a href=\"https://www.privateislandsonline.com/island/1566\">Blunder Bay Estates</a></li><li><a href=\"https://www.privateislandsonline.com/island/2391\">Connington Island</a></li><li><a href=\"https://www.privateislandsonline.com/island/2442\">The Enclave</a></li><li><a href=\"https://www.privateislandsonline.com/island/2283\">Tilloo Pond</a></li></ul></div></div><div class=\"visible-sm col-sm-4\"><h3><a href=\"#\">RECOMMENDED ISLANDS</a></h3><ul><li><a href=\"https://www.privateislandsonline.com/island/1566\">Blunder Bay Estates</a></li><li><a href=\"https://www.privateislandsonline.com/island/2391\">Connington Island</a></li><li><a href=\"https://www.privateislandsonline.com/island/2442\">The Enclave</a></li><li><a href=\"https://www.privateislandsonline.com/island/2283\">Tilloo Pond</a></li></ul></div><div class=\"col-md-3 col-sm-4 col-md-push-6\"><h3><a href=\"#\">Resources</a></h3><ul><li><a href=\"https://www.privateislandsonline.com/page/buyers-guide\"> BUYER&#039;S GUIDE</a></li></ul><h3 class=\"hidden-sm\"><a href=\"https://www.privateislandsonline.com/page/aboutus\">About Us</a></h3><ul class=\"foot-menu hidden-sm\"><li id=\"1\"><a href=\"https://www.privateislandsonline.com/page/contact-us\">Contact us</a></li><li id=\"4\"><a href=\"https://www.privateislandsonline.com/page/partners\">Partners</a></li><li id=\"8\"><a href=\"https://www.privateislandsonline.com/page/services\">Services</a></li><li id=\"9\"><a href=\"https://www.privateislandsonline.com/page/privacy\">Privacy Policy</a></li><li id=\"10\"><a href=\"https://www.privateislandsonline.com/page/disclaimer\">Disclaimer</a></li><li id=\"11\"><a href=\"https://www.privateislandsonline.com/page/newsletter\">Newsletter</a></li><li id=\"15\"><a href=\"https://www.privateislandsonline.com/page/magazine\">Magazine</a></li><li id=\"20\"><a href=\"https://www.privateislandsonline.com/page/aboutus\">About Us</a></li><li id=\"25\"><a href=\"https://www.privateislandsonline.com/page/exclusive-islands\">Exclusive Private Island Rentals</a></li></ul></div><div class=\"col-md-6 col-sm-12 col-md-pull-3\"><div class=\"row continents\"><div class=\"col-sm-4 col-md-4 visible-sm\"><h3><a href=\"https://www.privateislandsonline.com/page/aboutus\">About Us</a></h3><ul><li><a href=\"https://www.privateislandsonline.com/page/contact-us\">Contact us</a></li><li><a href=\"https://www.privateislandsonline.com/page/partners\">Partners</a></li><li><a href=\"https://www.privateislandsonline.com/page/services\">Services</a></li><li><a href=\"https://www.privateislandsonline.com/page/privacy\">Privacy Policy</a></li><li><a href=\"https://www.privateislandsonline.com/page/disclaimer\">Disclaimer</a></li><li><a href=\"https://www.privateislandsonline.com/page/newsletter\">Newsletter</a></li><li><a href=\"https://www.privateislandsonline.com/page/magazine\">Magazine</a></li><li><a href=\"https://www.privateislandsonline.com/page/aboutus\">About Us</a></li><li><a href=\"https://www.privateislandsonline.com/page/exclusive-islands\">Exclusive Private Island Rentals</a></li></ul></div><div class=\"col-sm-4 col-md-4\"><h3><a href=\"/region/africa\">Africa</a></h3><ul><li><a href=\"/region/africa/uganda/\">Uganda </a></li><li><a href=\"/region/africa/seychelles/\">Seychelles </a></li><li><a href=\"/region/africa/zambia/\">Zambia </a></li><li>&nbsp;</li></ul></div><div class=\"col-sm-4 col-md-4\"><h3><a href=\"/region/asia\">Asia</a></h3><ul><li><a href=\"/region/asia/philippines/\">Philippines </a></li><li><a href=\"/region/asia/maldives/\">Maldives </a></li><li><a href=\"/region/asia/indonesia/\">Indonesia </a></li><li><a href=\"/region/asia/thailand/\">Thailand </a></li></ul></div><div class=\"col-sm-4 col-md-4\"><h3><a href=\"/region/canada\">Canada</a></h3><ul><li><a href=\"/region/canada/ontario/\">Ontario </a></li><li><a href=\"/region/canada/britishcolumbia/\">British Columbia </a></li><li><a href=\"/region/canada/novascotia/\">Nova Scotia </a></li><li><a href=\"/region/canada/quebec/\">Quebec </a></li></ul></div><div class=\"col-sm-4 col-md-4\"><h3><a href=\"/region/caribbean\">Caribbean</a></h3><ul><li><a href=\"/region/caribbean/bahamas/\">Bahamas </a></li><li><a href=\"/region/caribbean/british-virgin-islands/\">British Virgin Islands </a></li><li><a href=\"/region/caribbean/grenada/\">Grenada </a></li><li><a href=\"/region/caribbean/usvirginislands/\">US Virgin Islands </a></li></ul></div><div class=\"col-sm-4 col-md-4\"><h3><a href=\"/region/central-america\">Central America</a></h3><ul><li><a href=\"/region/central-america/belize/\">Belize </a></li><li><a href=\"/region/central-america/panama/\">Panama </a></li><li><a href=\"/region/central-america/nicaragua/\">Nicaragua </a></li><li><a href=\"/region/central-america/honduras/\">Honduras </a></li></ul></div><div class=\"col-sm-4 col-md-4\"><h3><a href=\"/region/europe\">Europe</a></h3><ul><li><a href=\"/region/europe/greece/\">Greece </a></li><li><a href=\"/region/europe/finland/\">Finland </a></li><li><a href=\"/region/europe/italy/\">Italy </a></li><li><a href=\"/region/europe/croatia/\">Croatia </a></li></ul></div><div class=\"col-sm-4 col-md-4\"><h3><a href=\"/region/south-america\">South America</a></h3><ul><li><a href=\"/region/south-america/brazil/\">Brazil </a></li><li><a href=\"/region/south-america/chile/\">Chile </a></li><li><a href=\"/region/south-america/ecuador/\">Ecuador </a></li><li><a href=\"/region/south-america/falklands/\">Falkland Islands </a></li></ul></div><div class=\"col-sm-4 col-md-4\"><h3><a href=\"/region/south-pacific\">South Pacific</a></h3><ul><li><a href=\"/region/south-pacific/fiji/\">Fiji </a></li><li><a href=\"/region/south-pacific/australia/\">Australia </a></li><li><a href=\"/region/south-pacific/vanuatu/\">Vanuatu </a></li><li><a href=\"/region/south-pacific/frenchpolynesia/\">French Polynesia </a></li></ul></div><div class=\"col-sm-4 col-md-4\"><h3><a href=\"/region/united-states\">United States</a></h3><ul><li><a href=\"/region/united-states/florida/\">Florida </a></li><li><a href=\"/region/united-states/michigan/\">Michigan </a></li><li><a href=\"/region/united-states/maine/\">Maine </a></li><li><a href=\"/region/united-states/newyork/\">New York </a></li></ul></div></div></div></div><ul class=\"list\"><li><a href=\"#\"></a></li><li></li></ul></div></footer><section class=\"panel-group footer_xs visible-xs\" id=\"acc_footer_xs\"><div role=\"tablist\" aria-multiselectable=\"true\"><div class=\"panel\"><div class=\"panel-heading\" role=\"tab\" id=\"f-xs-heading0\"><h4 class=\"panel-title\"><a href=\"/region/africa\">Africa</a><a role=\"button\" data-toggle=\"collapse\" data-parent=\"#acc_footer_xs\" href=\"#f-xs-collapse0\" aria-expanded=\"false\" aria-controls=\"f-xs-collapse0\"></a></h4></div><div id=\"f-xs-collapse0\" class=\"panel-collapse collapse\" role=\"tabpanel\" aria-labelledby=\"f-xs-heading0\"><div class=\"panel-body\"><ul><li><a href=\"/region/africa/uganda/\">Uganda </a></li><li><a href=\"/region/africa/seychelles/\">Seychelles </a></li><li><a href=\"/region/africa/zambia/\">Zambia </a></li><li>&nbsp;</li></ul></div></div></div><div class=\"panel\"><div class=\"panel-heading\" role=\"tab\" id=\"f-xs-heading1\"><h4 class=\"panel-title\"><a href=\"/region/asia\">Asia</a><a role=\"button\" data-toggle=\"collapse\" data-parent=\"#acc_footer_xs\" href=\"#f-xs-collapse1\" aria-expanded=\"false\" aria-controls=\"f-xs-collapse1\"></a></h4></div><div id=\"f-xs-collapse1\" class=\"panel-collapse collapse\" role=\"tabpanel\" aria-labelledby=\"f-xs-heading1\"><div class=\"panel-body\"><ul><li><a href=\"/region/asia/philippines/\">Philippines </a></li><li><a href=\"/region/asia/maldives/\">Maldives </a></li><li><a href=\"/region/asia/indonesia/\">Indonesia </a></li><li><a href=\"/region/asia/thailand/\">Thailand </a></li></ul></div></div></div><div class=\"panel\"><div class=\"panel-heading\" role=\"tab\" id=\"f-xs-heading2\"><h4 class=\"panel-title\"><a href=\"/region/canada\">Canada</a><a role=\"button\" data-toggle=\"collapse\" data-parent=\"#acc_footer_xs\" href=\"#f-xs-collapse2\" aria-expanded=\"false\" aria-controls=\"f-xs-collapse2\"></a></h4></div><div id=\"f-xs-collapse2\" class=\"panel-collapse collapse\" role=\"tabpanel\" aria-labelledby=\"f-xs-heading2\"><div class=\"panel-body\"><ul><li><a href=\"/region/canada/ontario/\">Ontario </a></li><li><a href=\"/region/canada/britishcolumbia/\">British Columbia </a></li><li><a href=\"/region/canada/novascotia/\">Nova Scotia </a></li><li><a href=\"/region/canada/quebec/\">Quebec </a></li></ul></div></div></div><div class=\"panel\"><div class=\"panel-heading\" role=\"tab\" id=\"f-xs-heading3\"><h4 class=\"panel-title\"><a href=\"/region/caribbean\">Caribbean</a><a role=\"button\" data-toggle=\"collapse\" data-parent=\"#acc_footer_xs\" href=\"#f-xs-collapse3\" aria-expanded=\"false\" aria-controls=\"f-xs-collapse3\"></a></h4></div><div id=\"f-xs-collapse3\" class=\"panel-collapse collapse\" role=\"tabpanel\" aria-labelledby=\"f-xs-heading3\"><div class=\"panel-body\"><ul><li><a href=\"/region/caribbean/bahamas/\">Bahamas </a></li><li><a href=\"/region/caribbean/british-virgin-islands/\">British Virgin Islands </a></li><li><a href=\"/region/caribbean/grenada/\">Grenada </a></li><li><a href=\"/region/caribbean/usvirginislands/\">US Virgin Islands </a></li></ul></div></div></div><div class=\"panel\"><div class=\"panel-heading\" role=\"tab\" id=\"f-xs-heading4\"><h4 class=\"panel-title\"><a href=\"/region/central-america\">Central America</a><a role=\"button\" data-toggle=\"collapse\" data-parent=\"#acc_footer_xs\" href=\"#f-xs-collapse4\" aria-expanded=\"false\" aria-controls=\"f-xs-collapse4\"></a></h4></div><div id=\"f-xs-collapse4\" class=\"panel-collapse collapse\" role=\"tabpanel\" aria-labelledby=\"f-xs-heading4\"><div class=\"panel-body\"><ul><li><a href=\"/region/central-america/belize/\">Belize </a></li><li><a href=\"/region/central-america/panama/\">Panama </a></li><li><a href=\"/region/central-america/nicaragua/\">Nicaragua </a></li><li><a href=\"/region/central-america/honduras/\">Honduras </a></li></ul></div></div></div><div class=\"panel\"><div class=\"panel-heading\" role=\"tab\" id=\"f-xs-heading5\"><h4 class=\"panel-title\"><a href=\"/region/europe\">Europe</a><a role=\"button\" data-toggle=\"collapse\" data-parent=\"#acc_footer_xs\" href=\"#f-xs-collapse5\" aria-expanded=\"false\" aria-controls=\"f-xs-collapse5\"></a></h4></div><div id=\"f-xs-collapse5\" class=\"panel-collapse collapse\" role=\"tabpanel\" aria-labelledby=\"f-xs-heading5\"><div class=\"panel-body\"><ul><li><a href=\"/region/europe/greece/\">Greece </a></li><li><a href=\"/region/europe/finland/\">Finland </a></li><li><a href=\"/region/europe/italy/\">Italy </a></li><li><a href=\"/region/europe/croatia/\">Croatia </a></li></ul></div></div></div><div class=\"panel\"><div class=\"panel-heading\" role=\"tab\" id=\"f-xs-heading6\"><h4 class=\"panel-title\"><a href=\"/region/south-america\">South America</a><a role=\"button\" data-toggle=\"collapse\" data-parent=\"#acc_footer_xs\" href=\"#f-xs-collapse6\" aria-expanded=\"false\" aria-controls=\"f-xs-collapse6\"></a></h4></div><div id=\"f-xs-collapse6\" class=\"panel-collapse collapse\" role=\"tabpanel\" aria-labelledby=\"f-xs-heading6\"><div class=\"panel-body\"><ul><li><a href=\"/region/south-america/brazil/\">Brazil </a></li><li><a href=\"/region/south-america/chile/\">Chile </a></li><li><a href=\"/region/south-america/ecuador/\">Ecuador </a></li><li><a href=\"/region/south-america/falklands/\">Falkland Islands </a></li></ul></div></div></div><div class=\"panel\"><div class=\"panel-heading\" role=\"tab\" id=\"f-xs-heading7\"><h4 class=\"panel-title\"><a href=\"/region/south-pacific\">South Pacific</a><a role=\"button\" data-toggle=\"collapse\" data-parent=\"#acc_footer_xs\" href=\"#f-xs-collapse7\" aria-expanded=\"false\" aria-controls=\"f-xs-collapse7\"></a></h4></div><div id=\"f-xs-collapse7\" class=\"panel-collapse collapse\" role=\"tabpanel\" aria-labelledby=\"f-xs-heading7\"><div class=\"panel-body\"><ul><li><a href=\"/region/south-pacific/fiji/\">Fiji </a></li><li><a href=\"/region/south-pacific/australia/\">Australia </a></li><li><a href=\"/region/south-pacific/vanuatu/\">Vanuatu </a></li><li><a href=\"/region/south-pacific/frenchpolynesia/\">French Polynesia </a></li></ul></div></div></div><div class=\"panel\"><div class=\"panel-heading\" role=\"tab\" id=\"f-xs-heading8\"><h4 class=\"panel-title\"><a href=\"/region/united-states\">United States</a><a role=\"button\" data-toggle=\"collapse\" data-parent=\"#acc_footer_xs\" href=\"#f-xs-collapse8\" aria-expanded=\"false\" aria-controls=\"f-xs-collapse8\"></a></h4></div><div id=\"f-xs-collapse8\" class=\"panel-collapse collapse\" role=\"tabpanel\" aria-labelledby=\"f-xs-heading8\"><div class=\"panel-body\"><ul><li><a href=\"/region/united-states/florida/\">Florida </a></li><li><a href=\"/region/united-states/michigan/\">Michigan </a></li><li><a href=\"/region/united-states/maine/\">Maine </a></li><li><a href=\"/region/united-states/newyork/\">New York </a></li></ul></div></div></div><div class=\"panel hidden\"><div class=\"panel-heading\" role=\"tab\" id=\"f-xs-heading9\"><h4 class=\"panel-title\">&nbsp;</h4></div></div><div class=\"panel hidden\"><div id=\"f-xs-collapse10\" class=\"panel-collapse collapse\" role=\"tabpanel\" aria-labelledby=\"f-xs-heading10\"><div class=\"panel-body\"></div></div></div></div></section><section class=\"copy-right\"><div class=\"container\"><div class=\"col-sm-8 content\"><span>&copy; 2023, Private Islands Inc. </span><span>All rights reserved</span></div><div class=\"col-sm-4 social-media\"><a class=\"\" target=\"_blank\" href=\"https://plus.google.com/+islandsforsale\"><i class=\"fa fa-lg fa-google-plus-square\"></i></a><a class=\"\" target=\"_blank\" href=\"https://www.facebook.com/PrivateIslandsInc\"><i class=\"fa fa-lg fa-facebook-official\"></i></a><a class=\"\" target=\"_blank\" href=\"https://twitter.com/theislandworld\"><i class=\"fa fa-lg fa-twitter-square\"></i></a></div></div></section><script type=\"text/javascript\" src=\"https://www.privateislandsonline.com/js/lazyload-initializer.js\"></script><script src=\"/build/js/home-65ead333f1.js\"></script><script src=\"https://www.privateislandsonline.com/js/tiny/tinymce-dist/tinymce.js\"></script><script src=\"https://www.privateislandsonline.com/dropzone/dropzone.min.js\"></script><script>\\n    $(document).ready(function(){\\n        var flagsUrl = \\'https://www.privateislandsonline.com/img/gladdens\\';\\n        var images = [\\'gladden1.jpg\\', \\'gladden2.jpg\\', \\'gladden3.jpg\\', \\'gladden4.jpg\\'];\\n        var randImg = flagsUrl + \\'/\\' + images[Math.floor(Math.random() * images.length)];\\n        $(\\'section.gladden\\').css(\"background-image\", \"url(\"+ randImg +\")\");\\n\\n        });\\n\\n</script><script>\\n    $(document).ready(function(){\\n        $(\\'.singleIssue\\').on(\\'click\\', function(){\\n            $btnVal = $(\\'.single-issue-name\\').val();\\n            $(\\'.hidden-product\\').val($btnVal);\\n        });\\n\\n        $(\\'.subs\\').on(\\'click\\', function(){\\n            $btnVal = $(\\'.subscription-name\\').val();\\n            $(\\'.hidden-product\\').val($btnVal);\\n        });\\n\\n        $(\\'.foot-menu li#16\\').css({\\'display\\' : \\'none\\'});\\n    });\\n</script><script>\\n    $( \".read-more\" ).hide();\\n    $( \".read_less\" ).hide();\\n\\n    function scrollTo() {\\n            $(\\'html, body\\').animate({ scrollTop: $(\\'#content\\').offset().top }, \\'slow\\');\\n            return false;\\n    }\\n    $( \".read_more\" ).click(function() {\\n      $( \".read-more\" ).show();\\n      $( \".read-less\" ).hide();\\n      $( \".read_less\" ).show();\\n      $( \".read_more\" ).hide();\\n      return false;\\n    });\\n    $( \".read_less\" ).click(function() {\\n      $( \".read-more\" ).hide();\\n      $( \".read-less\" ).show();\\n      $( \".read_less\" ).hide();\\n      $( \".read_more\" ).show();\\n      scrollTo();\\n      return false;\\n    });\\n</script><script>\\n        $(document).ready(function () {\\n            $( \"#datepicker_inquiry\" ).datepicker({\\n                dateFormat: \"MM dd, yy\"\\n            });\\n\\n            $( \"#gmap\" ).on(\\'click\\', \\'.map-trigger\\', function(e) {\\n                $( \\'.map-trigger\\').hide();\\n                $( \\'#gmap\\' ).load(\"https://www.privateislandsonline.com/island-map2/597\");\\n                \\n            });\\n        });\\n    </script><script>\\n    (function () {\\n                    })();\\n</script></body></html>\\n'"
            ]
          },
          "metadata": {},
          "execution_count": 26
        }
      ]
    },
    {
      "cell_type": "code",
      "source": [
        "id = 'island-details'"
      ],
      "metadata": {
        "id": "WIOubrVacDu0"
      },
      "execution_count": 86,
      "outputs": []
    },
    {
      "cell_type": "code",
      "source": [
        "html"
      ],
      "metadata": {
        "id": "VymP5mm7suF5"
      },
      "execution_count": null,
      "outputs": []
    }
  ]
}