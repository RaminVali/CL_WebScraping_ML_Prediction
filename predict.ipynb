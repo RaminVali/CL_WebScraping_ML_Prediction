{
 "cells": [
  {
   "attachments": {},
   "cell_type": "markdown",
   "metadata": {},
   "source": [
    "# Machine learning and prediction\n",
    "\n",
    "\n",
    "## Data Cleaning and Prep"
   ]
  },
  {
   "cell_type": "code",
   "execution_count": 1,
   "metadata": {},
   "outputs": [],
   "source": [
    "import pandas as pd"
   ]
  },
  {
   "cell_type": "code",
   "execution_count": 2,
   "metadata": {},
   "outputs": [],
   "source": [
    "df = pd.read_csv('df.csv') # our data is already sorted by date from before.\n",
    "\n",
    "# Deleting columns we do not need.\n",
    "del df[\"Unnamed: 0\"]\n",
    "del df[\"Squad\"]\n",
    "del df[\"Squad_opp\"]\n",
    "\n",
    "df[\"opp_code\"] = df[\"team_opp\"].astype(\"category\").cat.codes # giving codes to the opponent team\n",
    "df[\"day_code\"] = df[\"Day\"].astype(\"category\").cat.codes # giving codes to the opponent team\n"
   ]
  },
  {
   "cell_type": "code",
   "execution_count": 3,
   "metadata": {},
   "outputs": [
    {
     "data": {
      "text/plain": [
       "Index(['Day', 'Date', 'team', 'team_opp', 'season', 'score', 'score_opp',\n",
       "       'home', 'result', '# Pl', 'Age', 'MP', 'Starts', 'Gls', 'Ast', 'G+A',\n",
       "       'G-PK', 'PK', 'PKatt', 'Gls90', 'Ast90', 'G+A90', 'G-PK90', 'G+A-PK',\n",
       "       'Min%', 'Subs', 'Mn/Sub', 'PPM', 'onG', 'onGA', '+/-', '# Pl.1', 'Min',\n",
       "       'GA', 'GA90', 'SoTA', 'Saves', 'Save%', 'W', 'D', 'L', 'CS', 'CS%',\n",
       "       'SoT', 'SoT/90', 'G/SoT', 'Fls', '# Pl_opp', 'Age_opp', 'MP_opp',\n",
       "       'Starts_opp', 'Gls_opp', 'Ast_opp', 'G+A_opp', 'G-PK_opp', 'PK_opp',\n",
       "       'PKatt_opp', 'Gls90_opp', 'Ast90_opp', 'G+A90_opp', 'G-PK90_opp',\n",
       "       'G+A-PK_opp', 'season_opp', 'Min%_opp', 'Subs_opp', 'Mn/Sub_opp',\n",
       "       'PPM_opp', 'onG_opp', 'onGA_opp', '+/-_opp', '# Pl_opp.1', 'Min_opp',\n",
       "       'GA_opp', 'GA90_opp', 'SoTA_opp', 'Saves_opp', 'Save%_opp', 'W_opp',\n",
       "       'D_opp', 'L_opp', 'CS_opp', 'CS%_opp', 'SoT_opp', 'SoT/90_opp',\n",
       "       'G/SoT_opp', 'Fls_opp', 'opp_code', 'day_code'],\n",
       "      dtype='object')"
      ]
     },
     "execution_count": 3,
     "metadata": {},
     "output_type": "execute_result"
    }
   ],
   "source": [
    "df.columns"
   ]
  },
  {
   "cell_type": "code",
   "execution_count": 4,
   "metadata": {},
   "outputs": [
    {
     "data": {
      "text/plain": [
       "Series([], dtype: int64)"
      ]
     },
     "execution_count": 4,
     "metadata": {},
     "output_type": "execute_result"
    }
   ],
   "source": [
    "# Checking for any null values\n",
    "\n",
    "nulls = pd.isnull(df).sum()\n",
    "nulls[nulls>0] # no none null values"
   ]
  },
  {
   "cell_type": "code",
   "execution_count": 5,
   "metadata": {},
   "outputs": [
    {
     "data": {
      "text/html": [
       "<div>\n",
       "<style scoped>\n",
       "    .dataframe tbody tr th:only-of-type {\n",
       "        vertical-align: middle;\n",
       "    }\n",
       "\n",
       "    .dataframe tbody tr th {\n",
       "        vertical-align: top;\n",
       "    }\n",
       "\n",
       "    .dataframe thead th {\n",
       "        text-align: right;\n",
       "    }\n",
       "</style>\n",
       "<table border=\"1\" class=\"dataframe\">\n",
       "  <thead>\n",
       "    <tr style=\"text-align: right;\">\n",
       "      <th></th>\n",
       "      <th>Day</th>\n",
       "      <th>Date</th>\n",
       "      <th>team</th>\n",
       "      <th>team_opp</th>\n",
       "      <th>season</th>\n",
       "      <th>score</th>\n",
       "      <th>score_opp</th>\n",
       "      <th>home</th>\n",
       "      <th>result</th>\n",
       "      <th># Pl</th>\n",
       "      <th>...</th>\n",
       "      <th>D_opp</th>\n",
       "      <th>L_opp</th>\n",
       "      <th>CS_opp</th>\n",
       "      <th>CS%_opp</th>\n",
       "      <th>SoT_opp</th>\n",
       "      <th>SoT/90_opp</th>\n",
       "      <th>G/SoT_opp</th>\n",
       "      <th>Fls_opp</th>\n",
       "      <th>opp_code</th>\n",
       "      <th>day_code</th>\n",
       "    </tr>\n",
       "  </thead>\n",
       "  <tbody>\n",
       "    <tr>\n",
       "      <th>0</th>\n",
       "      <td>Tue</td>\n",
       "      <td>2010-09-14</td>\n",
       "      <td>Lyon</td>\n",
       "      <td>Schalke 04</td>\n",
       "      <td>2010</td>\n",
       "      <td>1</td>\n",
       "      <td>0</td>\n",
       "      <td>1</td>\n",
       "      <td>1</td>\n",
       "      <td>20</td>\n",
       "      <td>...</td>\n",
       "      <td>4</td>\n",
       "      <td>3</td>\n",
       "      <td>3</td>\n",
       "      <td>25.0</td>\n",
       "      <td>65</td>\n",
       "      <td>5.42</td>\n",
       "      <td>0.32</td>\n",
       "      <td>195</td>\n",
       "      <td>81</td>\n",
       "      <td>4</td>\n",
       "    </tr>\n",
       "    <tr>\n",
       "      <th>1</th>\n",
       "      <td>Tue</td>\n",
       "      <td>2010-09-14</td>\n",
       "      <td>Panathinaikos</td>\n",
       "      <td>Barcelona</td>\n",
       "      <td>2010</td>\n",
       "      <td>1</td>\n",
       "      <td>5</td>\n",
       "      <td>0</td>\n",
       "      <td>0</td>\n",
       "      <td>21</td>\n",
       "      <td>...</td>\n",
       "      <td>4</td>\n",
       "      <td>1</td>\n",
       "      <td>5</td>\n",
       "      <td>38.5</td>\n",
       "      <td>98</td>\n",
       "      <td>7.54</td>\n",
       "      <td>0.29</td>\n",
       "      <td>134</td>\n",
       "      <td>11</td>\n",
       "      <td>4</td>\n",
       "    </tr>\n",
       "    <tr>\n",
       "      <th>2</th>\n",
       "      <td>Tue</td>\n",
       "      <td>2010-09-14</td>\n",
       "      <td>Rubin Kazan</td>\n",
       "      <td>FC Copenhagen</td>\n",
       "      <td>2010</td>\n",
       "      <td>0</td>\n",
       "      <td>1</td>\n",
       "      <td>0</td>\n",
       "      <td>0</td>\n",
       "      <td>20</td>\n",
       "      <td>...</td>\n",
       "      <td>5</td>\n",
       "      <td>4</td>\n",
       "      <td>3</td>\n",
       "      <td>25.0</td>\n",
       "      <td>21</td>\n",
       "      <td>1.75</td>\n",
       "      <td>0.24</td>\n",
       "      <td>114</td>\n",
       "      <td>28</td>\n",
       "      <td>4</td>\n",
       "    </tr>\n",
       "    <tr>\n",
       "      <th>3</th>\n",
       "      <td>Tue</td>\n",
       "      <td>2010-09-14</td>\n",
       "      <td>Schalke 04</td>\n",
       "      <td>Lyon</td>\n",
       "      <td>2010</td>\n",
       "      <td>0</td>\n",
       "      <td>1</td>\n",
       "      <td>0</td>\n",
       "      <td>0</td>\n",
       "      <td>27</td>\n",
       "      <td>...</td>\n",
       "      <td>2</td>\n",
       "      <td>3</td>\n",
       "      <td>2</td>\n",
       "      <td>25.0</td>\n",
       "      <td>44</td>\n",
       "      <td>5.50</td>\n",
       "      <td>0.25</td>\n",
       "      <td>105</td>\n",
       "      <td>47</td>\n",
       "      <td>4</td>\n",
       "    </tr>\n",
       "    <tr>\n",
       "      <th>4</th>\n",
       "      <td>Tue</td>\n",
       "      <td>2010-09-14</td>\n",
       "      <td>Hapoel Tel Aviv</td>\n",
       "      <td>Benfica</td>\n",
       "      <td>2010</td>\n",
       "      <td>0</td>\n",
       "      <td>2</td>\n",
       "      <td>0</td>\n",
       "      <td>0</td>\n",
       "      <td>19</td>\n",
       "      <td>...</td>\n",
       "      <td>0</td>\n",
       "      <td>4</td>\n",
       "      <td>1</td>\n",
       "      <td>16.7</td>\n",
       "      <td>28</td>\n",
       "      <td>4.67</td>\n",
       "      <td>0.25</td>\n",
       "      <td>102</td>\n",
       "      <td>15</td>\n",
       "      <td>4</td>\n",
       "    </tr>\n",
       "    <tr>\n",
       "      <th>...</th>\n",
       "      <td>...</td>\n",
       "      <td>...</td>\n",
       "      <td>...</td>\n",
       "      <td>...</td>\n",
       "      <td>...</td>\n",
       "      <td>...</td>\n",
       "      <td>...</td>\n",
       "      <td>...</td>\n",
       "      <td>...</td>\n",
       "      <td>...</td>\n",
       "      <td>...</td>\n",
       "      <td>...</td>\n",
       "      <td>...</td>\n",
       "      <td>...</td>\n",
       "      <td>...</td>\n",
       "      <td>...</td>\n",
       "      <td>...</td>\n",
       "      <td>...</td>\n",
       "      <td>...</td>\n",
       "      <td>...</td>\n",
       "      <td>...</td>\n",
       "    </tr>\n",
       "    <tr>\n",
       "      <th>2917</th>\n",
       "      <td>Tue</td>\n",
       "      <td>2022-05-03</td>\n",
       "      <td>Villarreal</td>\n",
       "      <td>Liverpool</td>\n",
       "      <td>2021</td>\n",
       "      <td>2</td>\n",
       "      <td>3</td>\n",
       "      <td>1</td>\n",
       "      <td>0</td>\n",
       "      <td>25</td>\n",
       "      <td>...</td>\n",
       "      <td>1</td>\n",
       "      <td>2</td>\n",
       "      <td>4</td>\n",
       "      <td>30.8</td>\n",
       "      <td>79</td>\n",
       "      <td>6.08</td>\n",
       "      <td>0.34</td>\n",
       "      <td>151</td>\n",
       "      <td>44</td>\n",
       "      <td>4</td>\n",
       "    </tr>\n",
       "    <tr>\n",
       "      <th>2918</th>\n",
       "      <td>Wed</td>\n",
       "      <td>2022-05-04</td>\n",
       "      <td>Manchester City</td>\n",
       "      <td>Real Madrid</td>\n",
       "      <td>2021</td>\n",
       "      <td>1</td>\n",
       "      <td>3</td>\n",
       "      <td>0</td>\n",
       "      <td>0</td>\n",
       "      <td>26</td>\n",
       "      <td>...</td>\n",
       "      <td>0</td>\n",
       "      <td>4</td>\n",
       "      <td>5</td>\n",
       "      <td>38.5</td>\n",
       "      <td>66</td>\n",
       "      <td>4.83</td>\n",
       "      <td>0.38</td>\n",
       "      <td>120</td>\n",
       "      <td>74</td>\n",
       "      <td>5</td>\n",
       "    </tr>\n",
       "    <tr>\n",
       "      <th>2919</th>\n",
       "      <td>Wed</td>\n",
       "      <td>2022-05-04</td>\n",
       "      <td>Real Madrid</td>\n",
       "      <td>Manchester City</td>\n",
       "      <td>2021</td>\n",
       "      <td>3</td>\n",
       "      <td>1</td>\n",
       "      <td>1</td>\n",
       "      <td>1</td>\n",
       "      <td>25</td>\n",
       "      <td>...</td>\n",
       "      <td>2</td>\n",
       "      <td>3</td>\n",
       "      <td>4</td>\n",
       "      <td>33.3</td>\n",
       "      <td>65</td>\n",
       "      <td>5.27</td>\n",
       "      <td>0.40</td>\n",
       "      <td>126</td>\n",
       "      <td>51</td>\n",
       "      <td>5</td>\n",
       "    </tr>\n",
       "    <tr>\n",
       "      <th>2920</th>\n",
       "      <td>Sat</td>\n",
       "      <td>2022-05-28</td>\n",
       "      <td>Liverpool</td>\n",
       "      <td>Real Madrid</td>\n",
       "      <td>2021</td>\n",
       "      <td>0</td>\n",
       "      <td>1</td>\n",
       "      <td>1</td>\n",
       "      <td>0</td>\n",
       "      <td>28</td>\n",
       "      <td>...</td>\n",
       "      <td>0</td>\n",
       "      <td>4</td>\n",
       "      <td>5</td>\n",
       "      <td>38.5</td>\n",
       "      <td>66</td>\n",
       "      <td>4.83</td>\n",
       "      <td>0.38</td>\n",
       "      <td>120</td>\n",
       "      <td>74</td>\n",
       "      <td>1</td>\n",
       "    </tr>\n",
       "    <tr>\n",
       "      <th>2921</th>\n",
       "      <td>Sat</td>\n",
       "      <td>2022-05-28</td>\n",
       "      <td>Real Madrid</td>\n",
       "      <td>Liverpool</td>\n",
       "      <td>2021</td>\n",
       "      <td>1</td>\n",
       "      <td>0</td>\n",
       "      <td>0</td>\n",
       "      <td>1</td>\n",
       "      <td>25</td>\n",
       "      <td>...</td>\n",
       "      <td>1</td>\n",
       "      <td>2</td>\n",
       "      <td>4</td>\n",
       "      <td>30.8</td>\n",
       "      <td>79</td>\n",
       "      <td>6.08</td>\n",
       "      <td>0.34</td>\n",
       "      <td>151</td>\n",
       "      <td>44</td>\n",
       "      <td>1</td>\n",
       "    </tr>\n",
       "  </tbody>\n",
       "</table>\n",
       "<p>2922 rows × 88 columns</p>\n",
       "</div>"
      ],
      "text/plain": [
       "      Day        Date             team         team_opp  season  score  \\\n",
       "0     Tue  2010-09-14             Lyon       Schalke 04    2010      1   \n",
       "1     Tue  2010-09-14    Panathinaikos        Barcelona    2010      1   \n",
       "2     Tue  2010-09-14      Rubin Kazan    FC Copenhagen    2010      0   \n",
       "3     Tue  2010-09-14       Schalke 04             Lyon    2010      0   \n",
       "4     Tue  2010-09-14  Hapoel Tel Aviv          Benfica    2010      0   \n",
       "...   ...         ...              ...              ...     ...    ...   \n",
       "2917  Tue  2022-05-03       Villarreal        Liverpool    2021      2   \n",
       "2918  Wed  2022-05-04  Manchester City      Real Madrid    2021      1   \n",
       "2919  Wed  2022-05-04      Real Madrid  Manchester City    2021      3   \n",
       "2920  Sat  2022-05-28        Liverpool      Real Madrid    2021      0   \n",
       "2921  Sat  2022-05-28      Real Madrid        Liverpool    2021      1   \n",
       "\n",
       "      score_opp  home  result  # Pl  ...  D_opp  L_opp  CS_opp  CS%_opp  \\\n",
       "0             0     1       1    20  ...      4      3       3     25.0   \n",
       "1             5     0       0    21  ...      4      1       5     38.5   \n",
       "2             1     0       0    20  ...      5      4       3     25.0   \n",
       "3             1     0       0    27  ...      2      3       2     25.0   \n",
       "4             2     0       0    19  ...      0      4       1     16.7   \n",
       "...         ...   ...     ...   ...  ...    ...    ...     ...      ...   \n",
       "2917          3     1       0    25  ...      1      2       4     30.8   \n",
       "2918          3     0       0    26  ...      0      4       5     38.5   \n",
       "2919          1     1       1    25  ...      2      3       4     33.3   \n",
       "2920          1     1       0    28  ...      0      4       5     38.5   \n",
       "2921          0     0       1    25  ...      1      2       4     30.8   \n",
       "\n",
       "      SoT_opp  SoT/90_opp  G/SoT_opp  Fls_opp  opp_code  day_code  \n",
       "0          65        5.42       0.32      195        81         4  \n",
       "1          98        7.54       0.29      134        11         4  \n",
       "2          21        1.75       0.24      114        28         4  \n",
       "3          44        5.50       0.25      105        47         4  \n",
       "4          28        4.67       0.25      102        15         4  \n",
       "...       ...         ...        ...      ...       ...       ...  \n",
       "2917       79        6.08       0.34      151        44         4  \n",
       "2918       66        4.83       0.38      120        74         5  \n",
       "2919       65        5.27       0.40      126        51         5  \n",
       "2920       66        4.83       0.38      120        74         1  \n",
       "2921       79        6.08       0.34      151        44         1  \n",
       "\n",
       "[2922 rows x 88 columns]"
      ]
     },
     "execution_count": 5,
     "metadata": {},
     "output_type": "execute_result"
    }
   ],
   "source": [
    "df"
   ]
  },
  {
   "attachments": {},
   "cell_type": "markdown",
   "metadata": {},
   "source": [
    "## Initial Prediction\n"
   ]
  },
  {
   "cell_type": "code",
   "execution_count": 6,
   "metadata": {},
   "outputs": [
    {
     "data": {
      "text/plain": [
       "1    1153\n",
       "0    1153\n",
       "2     616\n",
       "Name: result, dtype: int64"
      ]
     },
     "execution_count": 6,
     "metadata": {},
     "output_type": "execute_result"
    }
   ],
   "source": [
    "# Checking the result column (the column we need to predict)\n",
    "\n",
    "df[\"result\"].value_counts()\n"
   ]
  },
  {
   "attachments": {},
   "cell_type": "markdown",
   "metadata": {},
   "source": [
    "We can see that the draw values are not balanced. We have to take care fo this after the initial stage. Probably using bagging (under/over Bagging) For now lets establish a baseline and see if we can beat it with a random forrest.\n",
    "\n",
    "### Establishing  a Baseline\n",
    "\n",
    "lets see what percentage of the results belong to home and awa games, that is, what percentage of the games are won at home, what percentage are drew ad what percentage are lost."
   ]
  },
  {
   "cell_type": "code",
   "execution_count": 7,
   "metadata": {},
   "outputs": [
    {
     "data": {
      "text/plain": [
       "home\n",
       "0    0.318275\n",
       "1    0.470910\n",
       "dtype: float64"
      ]
     },
     "execution_count": 7,
     "metadata": {},
     "output_type": "execute_result"
    }
   ],
   "source": [
    "df.groupby('home').apply(lambda x: x[x['result']==1].shape[0]/x.shape[0])"
   ]
  },
  {
   "cell_type": "code",
   "execution_count": 8,
   "metadata": {},
   "outputs": [
    {
     "data": {
      "text/plain": [
       "home\n",
       "0    0.210815\n",
       "1    0.210815\n",
       "dtype: float64"
      ]
     },
     "execution_count": 8,
     "metadata": {},
     "output_type": "execute_result"
    }
   ],
   "source": [
    "df.groupby('home').apply(lambda x: x[x['result']==2].shape[0]/x.shape[0])"
   ]
  },
  {
   "attachments": {},
   "cell_type": "markdown",
   "metadata": {},
   "source": [
    "47% of the games are won at home, and 21% are drawn. Naturally 32% are lost with the home advantage."
   ]
  },
  {
   "attachments": {},
   "cell_type": "markdown",
   "metadata": {},
   "source": [
    "### Standard Random Forrest Classifier "
   ]
  },
  {
   "cell_type": "code",
   "execution_count": 45,
   "metadata": {},
   "outputs": [],
   "source": [
    "from sklearn.preprocessing import MinMaxScaler # to scale\n",
    "\n",
    "from sklearn.ensemble import RandomForestClassifier\n",
    "from sklearn.model_selection import TimeSeriesSplit \n",
    "from sklearn.feature_selection import SequentialFeatureSelector\n",
    "\n",
    "from sklearn.metrics import accuracy_score #if you predicted a win what percentage of the time the team actually won etc.. \n",
    "from sklearn.metrics  import precision_score "
   ]
  },
  {
   "attachments": {},
   "cell_type": "markdown",
   "metadata": {},
   "source": [
    "All the training data has to come from THE PAST. As we have a time series data. "
   ]
  },
  {
   "cell_type": "code",
   "execution_count": 10,
   "metadata": {},
   "outputs": [],
   "source": [
    "train = df[df[\"season\"]<2021]\n",
    "test  = df[df[\"season\"]==2021]"
   ]
  },
  {
   "cell_type": "code",
   "execution_count": 11,
   "metadata": {},
   "outputs": [
    {
     "name": "stdout",
     "output_type": "stream",
     "text": [
      "(2678, 88)\n",
      "(244, 88)\n"
     ]
    }
   ],
   "source": [
    "print(train.shape)\n",
    "print(test.shape)"
   ]
  },
  {
   "cell_type": "code",
   "execution_count": 12,
   "metadata": {},
   "outputs": [
    {
     "data": {
      "text/plain": [
       "Index(['Day', 'Date', 'team', 'team_opp', 'season', 'score', 'score_opp',\n",
       "       'home', 'result', '# Pl', 'Age', 'MP', 'Starts', 'Gls', 'Ast', 'G+A',\n",
       "       'G-PK', 'PK', 'PKatt', 'Gls90', 'Ast90', 'G+A90', 'G-PK90', 'G+A-PK',\n",
       "       'Min%', 'Subs', 'Mn/Sub', 'PPM', 'onG', 'onGA', '+/-', '# Pl.1', 'Min',\n",
       "       'GA', 'GA90', 'SoTA', 'Saves', 'Save%', 'W', 'D', 'L', 'CS', 'CS%',\n",
       "       'SoT', 'SoT/90', 'G/SoT', 'Fls', '# Pl_opp', 'Age_opp', 'MP_opp',\n",
       "       'Starts_opp', 'Gls_opp', 'Ast_opp', 'G+A_opp', 'G-PK_opp', 'PK_opp',\n",
       "       'PKatt_opp', 'Gls90_opp', 'Ast90_opp', 'G+A90_opp', 'G-PK90_opp',\n",
       "       'G+A-PK_opp', 'season_opp', 'Min%_opp', 'Subs_opp', 'Mn/Sub_opp',\n",
       "       'PPM_opp', 'onG_opp', 'onGA_opp', '+/-_opp', '# Pl_opp.1', 'Min_opp',\n",
       "       'GA_opp', 'GA90_opp', 'SoTA_opp', 'Saves_opp', 'Save%_opp', 'W_opp',\n",
       "       'D_opp', 'L_opp', 'CS_opp', 'CS%_opp', 'SoT_opp', 'SoT/90_opp',\n",
       "       'G/SoT_opp', 'Fls_opp', 'opp_code', 'day_code'],\n",
       "      dtype='object')"
      ]
     },
     "execution_count": 12,
     "metadata": {},
     "output_type": "execute_result"
    }
   ],
   "source": [
    "df.columns"
   ]
  },
  {
   "attachments": {},
   "cell_type": "markdown",
   "metadata": {},
   "source": [
    "### Initial Predictor"
   ]
  },
  {
   "cell_type": "code",
   "execution_count": 13,
   "metadata": {},
   "outputs": [
    {
     "data": {
      "text/plain": [
       "0.45081967213114754"
      ]
     },
     "execution_count": 13,
     "metadata": {},
     "output_type": "execute_result"
    }
   ],
   "source": [
    "predictors = ['Age','day_code','home','opp_code']\n",
    "\n",
    "rf = RandomForestClassifier(n_estimators=200, min_samples_split=40, random_state=1)\n",
    "\n",
    "rf.fit(train[predictors], train[\"result\"])\n",
    "preds = rf.predict(test[predictors])\n",
    "accuracy = accuracy_score(test[\"result\"], preds)\n",
    "\n",
    "accuracy"
   ]
  },
  {
   "attachments": {},
   "cell_type": "markdown",
   "metadata": {},
   "source": [
    "This is terrible! We need to improve on this as it is below the benchmark. "
   ]
  },
  {
   "cell_type": "code",
   "execution_count": 66,
   "metadata": {},
   "outputs": [],
   "source": [
    "def get_acc (model, train, test, predictors):\n",
    "    model.fit(train[predictors], train[\"result\"])\n",
    "    preds = model.predict(test[predictors])\n",
    "\n",
    "    accuracy = accuracy_score(test[\"result\"], preds)\n",
    "    percision = precision_score(test[\"result\"], preds, average = 'weighted')\n",
    "    print(\"accuracy is: \", accuracy)\n",
    "    print(\"percision is: \", percision)\n",
    "    \n",
    "    return accuracy, percision"
   ]
  },
  {
   "cell_type": "code",
   "execution_count": 15,
   "metadata": {},
   "outputs": [],
   "source": [
    "predictors = ['score', 'score_opp',\n",
    "       'home', '# Pl', 'Age', 'MP', 'Starts', 'Gls', 'Ast', 'G+A',\n",
    "       'G-PK', 'PK', 'PKatt', 'Gls90', 'Ast90', 'G+A90', 'G-PK90', 'G+A-PK',\n",
    "       'Min%', 'Subs', 'Mn/Sub', 'PPM', 'onG', 'onGA', '+/-', '# Pl.1', 'Min',\n",
    "       'GA', 'GA90', 'SoTA', 'Saves', 'Save%', 'W', 'D', 'L', 'CS', 'CS%',\n",
    "       'SoT', 'SoT/90', 'G/SoT', 'Fls', '# Pl_opp', 'Age_opp', 'MP_opp',\n",
    "       'Starts_opp', 'Gls_opp', 'Ast_opp', 'G+A_opp', 'G-PK_opp', 'PK_opp',\n",
    "       'PKatt_opp', 'Gls90_opp', 'Ast90_opp', 'G+A90_opp', 'G-PK90_opp',\n",
    "       'G+A-PK_opp', 'season_opp', 'Min%_opp', 'Subs_opp', 'Mn/Sub_opp',\n",
    "       'PPM_opp', 'onG_opp', 'onGA_opp', '+/-_opp', '# Pl_opp.1', 'Min_opp',\n",
    "       'GA_opp', 'GA90_opp', 'SoTA_opp', 'Saves_opp', 'Save%_opp', 'W_opp',\n",
    "       'D_opp', 'L_opp', 'CS_opp', 'CS%_opp', 'SoT_opp', 'SoT/90_opp',\n",
    "       'G/SoT_opp', 'Fls_opp', 'opp_code', 'day_code'\n",
    "]"
   ]
  },
  {
   "cell_type": "code",
   "execution_count": 67,
   "metadata": {},
   "outputs": [
    {
     "name": "stdout",
     "output_type": "stream",
     "text": [
      "accuracy is:  0.7950819672131147\n",
      "percision is:  0.7786063852286867\n"
     ]
    },
    {
     "data": {
      "text/plain": [
       "(0.7950819672131147, 0.7786063852286867)"
      ]
     },
     "execution_count": 67,
     "metadata": {},
     "output_type": "execute_result"
    }
   ],
   "source": [
    "get_acc(rf,train, test, predictors)\n"
   ]
  },
  {
   "attachments": {},
   "cell_type": "markdown",
   "metadata": {},
   "source": [
    "- Random Forest With Class Weighting\n",
    "\n",
    "- Random Forest With Bootstrap Class Weighting\n"
   ]
  },
  {
   "cell_type": "code",
   "execution_count": 68,
   "metadata": {},
   "outputs": [
    {
     "name": "stdout",
     "output_type": "stream",
     "text": [
      "accuracy is:  0.8360655737704918\n",
      "percision is:  0.8439694367338286\n"
     ]
    },
    {
     "data": {
      "text/plain": [
       "(0.8360655737704918, 0.8439694367338286)"
      ]
     },
     "execution_count": 68,
     "metadata": {},
     "output_type": "execute_result"
    }
   ],
   "source": [
    "rf_bal = RandomForestClassifier(n_estimators=200, min_samples_split=40, random_state=1, class_weight='balanced')\n",
    "\n",
    "\n",
    "get_acc(rf_bal,train, test, predictors)\n"
   ]
  },
  {
   "cell_type": "code",
   "execution_count": 69,
   "metadata": {},
   "outputs": [
    {
     "name": "stdout",
     "output_type": "stream",
     "text": [
      "accuracy is:  0.8442622950819673\n",
      "percision is:  0.8552885905011535\n"
     ]
    },
    {
     "data": {
      "text/plain": [
       "(0.8442622950819673, 0.8552885905011535)"
      ]
     },
     "execution_count": 69,
     "metadata": {},
     "output_type": "execute_result"
    }
   ],
   "source": [
    "rf_bal_sub = RandomForestClassifier(n_estimators=200, min_samples_split=40, random_state=1, class_weight='balanced_subsample')\n",
    "\n",
    "\n",
    "accuracy = get_acc(rf_bal_sub,train, test, predictors)\n",
    "accuracy"
   ]
  },
  {
   "attachments": {},
   "cell_type": "markdown",
   "metadata": {},
   "source": [
    "### Using imbalanced learn! \n",
    "- Random Forest With Random Undersampling\n",
    "- Easy Ensemble for Imbalanced Classification\n"
   ]
  },
  {
   "cell_type": "code",
   "execution_count": 64,
   "metadata": {},
   "outputs": [
    {
     "data": {
      "text/plain": [
       "(0.8688524590163934, array([0.94444444, 0.95294118, 0.66666667]))"
      ]
     },
     "execution_count": 64,
     "metadata": {},
     "output_type": "execute_result"
    }
   ],
   "source": [
    "%%capture --no-display output\n",
    "\n",
    "from imblearn.ensemble import BalancedRandomForestClassifier\n",
    "\n",
    "\n",
    "bal_rf = BalancedRandomForestClassifier(n_estimators=200, random_state=1)\n",
    "\n",
    "get_acc(bal_rf,train, test, predictors)\n"
   ]
  },
  {
   "cell_type": "code",
   "execution_count": 70,
   "metadata": {},
   "outputs": [
    {
     "name": "stdout",
     "output_type": "stream",
     "text": [
      "accuracy is:  0.680327868852459\n",
      "percision is:  0.8721311475409836\n"
     ]
    },
    {
     "data": {
      "text/plain": [
       "(0.680327868852459, 0.8721311475409836)"
      ]
     },
     "execution_count": 70,
     "metadata": {},
     "output_type": "execute_result"
    }
   ],
   "source": [
    "from imblearn.ensemble import EasyEnsembleClassifier\n",
    "\n",
    "\n",
    "bal_rf = EasyEnsembleClassifier(n_estimators=200, random_state=1)\n",
    "\n",
    "accuracy = get_acc(bal_rf,train, test, predictors)\n",
    "accuracy"
   ]
  },
  {
   "attachments": {},
   "cell_type": "markdown",
   "metadata": {},
   "source": [
    "Useful stuff:\n",
    "\n",
    "```df.groupby('home').apply(lambda x: x[x['result']==1].shape[0]/x.shape[0])```\n",
    "\n",
    " Using groupby and lambda function to see what percentage o the games are won, ost or draw based on the home value (0 or 1). To establish a baseline. "
   ]
  }
 ],
 "metadata": {
  "kernelspec": {
   "display_name": "football_proj",
   "language": "python",
   "name": "python3"
  },
  "language_info": {
   "codemirror_mode": {
    "name": "ipython",
    "version": 3
   },
   "file_extension": ".py",
   "mimetype": "text/x-python",
   "name": "python",
   "nbconvert_exporter": "python",
   "pygments_lexer": "ipython3",
   "version": "3.11.0"
  },
  "orig_nbformat": 4,
  "vscode": {
   "interpreter": {
    "hash": "3b2572b4a15cb33407f4fd5615f06488f520abed03bc861addd9f2796186c7a0"
   }
  }
 },
 "nbformat": 4,
 "nbformat_minor": 2
}
