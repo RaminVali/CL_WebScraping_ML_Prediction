{
 "cells": [
  {
   "attachments": {},
   "cell_type": "markdown",
   "metadata": {},
   "source": [
    "# Machine learning and prediction\n",
    "\n",
    "\n",
    "## Data Cleaning and Prep"
   ]
  },
  {
   "cell_type": "code",
   "execution_count": 102,
   "metadata": {},
   "outputs": [],
   "source": [
    "import pandas as pd\n",
    "import numpy as np\n",
    "import pickle"
   ]
  },
  {
   "cell_type": "code",
   "execution_count": 103,
   "metadata": {},
   "outputs": [],
   "source": [
    "df = pd.read_csv('df.csv') # our data is already sorted by date from before.\n",
    "\n",
    "# Deleting columns we do not need.\n",
    "del df[\"Unnamed: 0\"]\n",
    "del df[\"Squad\"]\n",
    "del df[\"Squad_opp\"]\n",
    "\n",
    "df[\"opp_code\"] = df[\"team_opp\"].astype(\"category\").cat.codes # giving codes to the opponent team\n",
    "df[\"day_code\"] = df[\"Day\"].astype(\"category\").cat.codes # giving codes to the opponent team\n"
   ]
  },
  {
   "cell_type": "code",
   "execution_count": 104,
   "metadata": {},
   "outputs": [
    {
     "data": {
      "text/plain": [
       "Index(['Day', 'Date', 'team', 'team_opp', 'season', 'score', 'score_opp',\n",
       "       'home', 'result', '# Pl', 'Age', 'MP', 'Starts', 'Gls', 'Ast', 'G+A',\n",
       "       'G-PK', 'PK', 'PKatt', 'Gls90', 'Ast90', 'G+A90', 'G-PK90', 'G+A-PK',\n",
       "       'Min%', 'Subs', 'Mn/Sub', 'PPM', 'onG', 'onGA', '+/-', '# Pl.1', 'Min',\n",
       "       'GA', 'GA90', 'SoTA', 'Saves', 'Save%', 'W', 'D', 'L', 'CS', 'CS%',\n",
       "       'SoT', 'SoT/90', 'G/SoT', 'Fls', '# Pl_opp', 'Age_opp', 'MP_opp',\n",
       "       'Starts_opp', 'Gls_opp', 'Ast_opp', 'G+A_opp', 'G-PK_opp', 'PK_opp',\n",
       "       'PKatt_opp', 'Gls90_opp', 'Ast90_opp', 'G+A90_opp', 'G-PK90_opp',\n",
       "       'G+A-PK_opp', 'season_opp', 'Min%_opp', 'Subs_opp', 'Mn/Sub_opp',\n",
       "       'PPM_opp', 'onG_opp', 'onGA_opp', '+/-_opp', '# Pl_opp.1', 'Min_opp',\n",
       "       'GA_opp', 'GA90_opp', 'SoTA_opp', 'Saves_opp', 'Save%_opp', 'W_opp',\n",
       "       'D_opp', 'L_opp', 'CS_opp', 'CS%_opp', 'SoT_opp', 'SoT/90_opp',\n",
       "       'G/SoT_opp', 'Fls_opp', 'opp_code', 'day_code'],\n",
       "      dtype='object')"
      ]
     },
     "execution_count": 104,
     "metadata": {},
     "output_type": "execute_result"
    }
   ],
   "source": [
    "df.columns"
   ]
  },
  {
   "cell_type": "code",
   "execution_count": 105,
   "metadata": {},
   "outputs": [
    {
     "data": {
      "text/plain": [
       "Series([], dtype: int64)"
      ]
     },
     "execution_count": 105,
     "metadata": {},
     "output_type": "execute_result"
    }
   ],
   "source": [
    "# Checking for any null values\n",
    "\n",
    "nulls = pd.isnull(df).sum()\n",
    "nulls[nulls>0] # no none null values"
   ]
  },
  {
   "cell_type": "code",
   "execution_count": 106,
   "metadata": {},
   "outputs": [
    {
     "data": {
      "text/html": [
       "<div>\n",
       "<style scoped>\n",
       "    .dataframe tbody tr th:only-of-type {\n",
       "        vertical-align: middle;\n",
       "    }\n",
       "\n",
       "    .dataframe tbody tr th {\n",
       "        vertical-align: top;\n",
       "    }\n",
       "\n",
       "    .dataframe thead th {\n",
       "        text-align: right;\n",
       "    }\n",
       "</style>\n",
       "<table border=\"1\" class=\"dataframe\">\n",
       "  <thead>\n",
       "    <tr style=\"text-align: right;\">\n",
       "      <th></th>\n",
       "      <th>Day</th>\n",
       "      <th>Date</th>\n",
       "      <th>team</th>\n",
       "      <th>team_opp</th>\n",
       "      <th>season</th>\n",
       "      <th>score</th>\n",
       "      <th>score_opp</th>\n",
       "      <th>home</th>\n",
       "      <th>result</th>\n",
       "      <th># Pl</th>\n",
       "      <th>...</th>\n",
       "      <th>D_opp</th>\n",
       "      <th>L_opp</th>\n",
       "      <th>CS_opp</th>\n",
       "      <th>CS%_opp</th>\n",
       "      <th>SoT_opp</th>\n",
       "      <th>SoT/90_opp</th>\n",
       "      <th>G/SoT_opp</th>\n",
       "      <th>Fls_opp</th>\n",
       "      <th>opp_code</th>\n",
       "      <th>day_code</th>\n",
       "    </tr>\n",
       "  </thead>\n",
       "  <tbody>\n",
       "    <tr>\n",
       "      <th>0</th>\n",
       "      <td>Tue</td>\n",
       "      <td>2010-09-14</td>\n",
       "      <td>Lyon</td>\n",
       "      <td>Schalke 04</td>\n",
       "      <td>2010</td>\n",
       "      <td>1</td>\n",
       "      <td>0</td>\n",
       "      <td>1</td>\n",
       "      <td>1</td>\n",
       "      <td>20</td>\n",
       "      <td>...</td>\n",
       "      <td>4</td>\n",
       "      <td>3</td>\n",
       "      <td>3</td>\n",
       "      <td>25.0</td>\n",
       "      <td>65</td>\n",
       "      <td>5.42</td>\n",
       "      <td>0.32</td>\n",
       "      <td>195</td>\n",
       "      <td>81</td>\n",
       "      <td>4</td>\n",
       "    </tr>\n",
       "    <tr>\n",
       "      <th>1</th>\n",
       "      <td>Tue</td>\n",
       "      <td>2010-09-14</td>\n",
       "      <td>Panathinaikos</td>\n",
       "      <td>Barcelona</td>\n",
       "      <td>2010</td>\n",
       "      <td>1</td>\n",
       "      <td>5</td>\n",
       "      <td>0</td>\n",
       "      <td>0</td>\n",
       "      <td>21</td>\n",
       "      <td>...</td>\n",
       "      <td>4</td>\n",
       "      <td>1</td>\n",
       "      <td>5</td>\n",
       "      <td>38.5</td>\n",
       "      <td>98</td>\n",
       "      <td>7.54</td>\n",
       "      <td>0.29</td>\n",
       "      <td>134</td>\n",
       "      <td>11</td>\n",
       "      <td>4</td>\n",
       "    </tr>\n",
       "    <tr>\n",
       "      <th>2</th>\n",
       "      <td>Tue</td>\n",
       "      <td>2010-09-14</td>\n",
       "      <td>Rubin Kazan</td>\n",
       "      <td>FC Copenhagen</td>\n",
       "      <td>2010</td>\n",
       "      <td>0</td>\n",
       "      <td>1</td>\n",
       "      <td>0</td>\n",
       "      <td>0</td>\n",
       "      <td>20</td>\n",
       "      <td>...</td>\n",
       "      <td>5</td>\n",
       "      <td>4</td>\n",
       "      <td>3</td>\n",
       "      <td>25.0</td>\n",
       "      <td>21</td>\n",
       "      <td>1.75</td>\n",
       "      <td>0.24</td>\n",
       "      <td>114</td>\n",
       "      <td>28</td>\n",
       "      <td>4</td>\n",
       "    </tr>\n",
       "    <tr>\n",
       "      <th>3</th>\n",
       "      <td>Tue</td>\n",
       "      <td>2010-09-14</td>\n",
       "      <td>Schalke 04</td>\n",
       "      <td>Lyon</td>\n",
       "      <td>2010</td>\n",
       "      <td>0</td>\n",
       "      <td>1</td>\n",
       "      <td>0</td>\n",
       "      <td>0</td>\n",
       "      <td>27</td>\n",
       "      <td>...</td>\n",
       "      <td>2</td>\n",
       "      <td>3</td>\n",
       "      <td>2</td>\n",
       "      <td>25.0</td>\n",
       "      <td>44</td>\n",
       "      <td>5.50</td>\n",
       "      <td>0.25</td>\n",
       "      <td>105</td>\n",
       "      <td>47</td>\n",
       "      <td>4</td>\n",
       "    </tr>\n",
       "    <tr>\n",
       "      <th>4</th>\n",
       "      <td>Tue</td>\n",
       "      <td>2010-09-14</td>\n",
       "      <td>Hapoel Tel Aviv</td>\n",
       "      <td>Benfica</td>\n",
       "      <td>2010</td>\n",
       "      <td>0</td>\n",
       "      <td>2</td>\n",
       "      <td>0</td>\n",
       "      <td>0</td>\n",
       "      <td>19</td>\n",
       "      <td>...</td>\n",
       "      <td>0</td>\n",
       "      <td>4</td>\n",
       "      <td>1</td>\n",
       "      <td>16.7</td>\n",
       "      <td>28</td>\n",
       "      <td>4.67</td>\n",
       "      <td>0.25</td>\n",
       "      <td>102</td>\n",
       "      <td>15</td>\n",
       "      <td>4</td>\n",
       "    </tr>\n",
       "    <tr>\n",
       "      <th>...</th>\n",
       "      <td>...</td>\n",
       "      <td>...</td>\n",
       "      <td>...</td>\n",
       "      <td>...</td>\n",
       "      <td>...</td>\n",
       "      <td>...</td>\n",
       "      <td>...</td>\n",
       "      <td>...</td>\n",
       "      <td>...</td>\n",
       "      <td>...</td>\n",
       "      <td>...</td>\n",
       "      <td>...</td>\n",
       "      <td>...</td>\n",
       "      <td>...</td>\n",
       "      <td>...</td>\n",
       "      <td>...</td>\n",
       "      <td>...</td>\n",
       "      <td>...</td>\n",
       "      <td>...</td>\n",
       "      <td>...</td>\n",
       "      <td>...</td>\n",
       "    </tr>\n",
       "    <tr>\n",
       "      <th>2917</th>\n",
       "      <td>Tue</td>\n",
       "      <td>2022-05-03</td>\n",
       "      <td>Villarreal</td>\n",
       "      <td>Liverpool</td>\n",
       "      <td>2021</td>\n",
       "      <td>2</td>\n",
       "      <td>3</td>\n",
       "      <td>1</td>\n",
       "      <td>0</td>\n",
       "      <td>25</td>\n",
       "      <td>...</td>\n",
       "      <td>1</td>\n",
       "      <td>2</td>\n",
       "      <td>4</td>\n",
       "      <td>30.8</td>\n",
       "      <td>79</td>\n",
       "      <td>6.08</td>\n",
       "      <td>0.34</td>\n",
       "      <td>151</td>\n",
       "      <td>44</td>\n",
       "      <td>4</td>\n",
       "    </tr>\n",
       "    <tr>\n",
       "      <th>2918</th>\n",
       "      <td>Wed</td>\n",
       "      <td>2022-05-04</td>\n",
       "      <td>Manchester City</td>\n",
       "      <td>Real Madrid</td>\n",
       "      <td>2021</td>\n",
       "      <td>1</td>\n",
       "      <td>3</td>\n",
       "      <td>0</td>\n",
       "      <td>0</td>\n",
       "      <td>26</td>\n",
       "      <td>...</td>\n",
       "      <td>0</td>\n",
       "      <td>4</td>\n",
       "      <td>5</td>\n",
       "      <td>38.5</td>\n",
       "      <td>66</td>\n",
       "      <td>4.83</td>\n",
       "      <td>0.38</td>\n",
       "      <td>120</td>\n",
       "      <td>74</td>\n",
       "      <td>5</td>\n",
       "    </tr>\n",
       "    <tr>\n",
       "      <th>2919</th>\n",
       "      <td>Wed</td>\n",
       "      <td>2022-05-04</td>\n",
       "      <td>Real Madrid</td>\n",
       "      <td>Manchester City</td>\n",
       "      <td>2021</td>\n",
       "      <td>3</td>\n",
       "      <td>1</td>\n",
       "      <td>1</td>\n",
       "      <td>1</td>\n",
       "      <td>25</td>\n",
       "      <td>...</td>\n",
       "      <td>2</td>\n",
       "      <td>3</td>\n",
       "      <td>4</td>\n",
       "      <td>33.3</td>\n",
       "      <td>65</td>\n",
       "      <td>5.27</td>\n",
       "      <td>0.40</td>\n",
       "      <td>126</td>\n",
       "      <td>51</td>\n",
       "      <td>5</td>\n",
       "    </tr>\n",
       "    <tr>\n",
       "      <th>2920</th>\n",
       "      <td>Sat</td>\n",
       "      <td>2022-05-28</td>\n",
       "      <td>Liverpool</td>\n",
       "      <td>Real Madrid</td>\n",
       "      <td>2021</td>\n",
       "      <td>0</td>\n",
       "      <td>1</td>\n",
       "      <td>1</td>\n",
       "      <td>0</td>\n",
       "      <td>28</td>\n",
       "      <td>...</td>\n",
       "      <td>0</td>\n",
       "      <td>4</td>\n",
       "      <td>5</td>\n",
       "      <td>38.5</td>\n",
       "      <td>66</td>\n",
       "      <td>4.83</td>\n",
       "      <td>0.38</td>\n",
       "      <td>120</td>\n",
       "      <td>74</td>\n",
       "      <td>1</td>\n",
       "    </tr>\n",
       "    <tr>\n",
       "      <th>2921</th>\n",
       "      <td>Sat</td>\n",
       "      <td>2022-05-28</td>\n",
       "      <td>Real Madrid</td>\n",
       "      <td>Liverpool</td>\n",
       "      <td>2021</td>\n",
       "      <td>1</td>\n",
       "      <td>0</td>\n",
       "      <td>0</td>\n",
       "      <td>1</td>\n",
       "      <td>25</td>\n",
       "      <td>...</td>\n",
       "      <td>1</td>\n",
       "      <td>2</td>\n",
       "      <td>4</td>\n",
       "      <td>30.8</td>\n",
       "      <td>79</td>\n",
       "      <td>6.08</td>\n",
       "      <td>0.34</td>\n",
       "      <td>151</td>\n",
       "      <td>44</td>\n",
       "      <td>1</td>\n",
       "    </tr>\n",
       "  </tbody>\n",
       "</table>\n",
       "<p>2922 rows × 88 columns</p>\n",
       "</div>"
      ],
      "text/plain": [
       "      Day        Date             team         team_opp  season  score  \\\n",
       "0     Tue  2010-09-14             Lyon       Schalke 04    2010      1   \n",
       "1     Tue  2010-09-14    Panathinaikos        Barcelona    2010      1   \n",
       "2     Tue  2010-09-14      Rubin Kazan    FC Copenhagen    2010      0   \n",
       "3     Tue  2010-09-14       Schalke 04             Lyon    2010      0   \n",
       "4     Tue  2010-09-14  Hapoel Tel Aviv          Benfica    2010      0   \n",
       "...   ...         ...              ...              ...     ...    ...   \n",
       "2917  Tue  2022-05-03       Villarreal        Liverpool    2021      2   \n",
       "2918  Wed  2022-05-04  Manchester City      Real Madrid    2021      1   \n",
       "2919  Wed  2022-05-04      Real Madrid  Manchester City    2021      3   \n",
       "2920  Sat  2022-05-28        Liverpool      Real Madrid    2021      0   \n",
       "2921  Sat  2022-05-28      Real Madrid        Liverpool    2021      1   \n",
       "\n",
       "      score_opp  home  result  # Pl  ...  D_opp  L_opp  CS_opp  CS%_opp  \\\n",
       "0             0     1       1    20  ...      4      3       3     25.0   \n",
       "1             5     0       0    21  ...      4      1       5     38.5   \n",
       "2             1     0       0    20  ...      5      4       3     25.0   \n",
       "3             1     0       0    27  ...      2      3       2     25.0   \n",
       "4             2     0       0    19  ...      0      4       1     16.7   \n",
       "...         ...   ...     ...   ...  ...    ...    ...     ...      ...   \n",
       "2917          3     1       0    25  ...      1      2       4     30.8   \n",
       "2918          3     0       0    26  ...      0      4       5     38.5   \n",
       "2919          1     1       1    25  ...      2      3       4     33.3   \n",
       "2920          1     1       0    28  ...      0      4       5     38.5   \n",
       "2921          0     0       1    25  ...      1      2       4     30.8   \n",
       "\n",
       "      SoT_opp  SoT/90_opp  G/SoT_opp  Fls_opp  opp_code  day_code  \n",
       "0          65        5.42       0.32      195        81         4  \n",
       "1          98        7.54       0.29      134        11         4  \n",
       "2          21        1.75       0.24      114        28         4  \n",
       "3          44        5.50       0.25      105        47         4  \n",
       "4          28        4.67       0.25      102        15         4  \n",
       "...       ...         ...        ...      ...       ...       ...  \n",
       "2917       79        6.08       0.34      151        44         4  \n",
       "2918       66        4.83       0.38      120        74         5  \n",
       "2919       65        5.27       0.40      126        51         5  \n",
       "2920       66        4.83       0.38      120        74         1  \n",
       "2921       79        6.08       0.34      151        44         1  \n",
       "\n",
       "[2922 rows x 88 columns]"
      ]
     },
     "execution_count": 106,
     "metadata": {},
     "output_type": "execute_result"
    }
   ],
   "source": [
    "df"
   ]
  },
  {
   "attachments": {},
   "cell_type": "markdown",
   "metadata": {},
   "source": [
    "## Initial Prediction\n"
   ]
  },
  {
   "cell_type": "code",
   "execution_count": 107,
   "metadata": {},
   "outputs": [
    {
     "data": {
      "text/plain": [
       "1    1153\n",
       "0    1153\n",
       "2     616\n",
       "Name: result, dtype: int64"
      ]
     },
     "execution_count": 107,
     "metadata": {},
     "output_type": "execute_result"
    }
   ],
   "source": [
    "# Checking the result column (the column we need to predict)\n",
    "\n",
    "df[\"result\"].value_counts()\n"
   ]
  },
  {
   "attachments": {},
   "cell_type": "markdown",
   "metadata": {},
   "source": [
    "We can see that the draw values are not balanced. We have to take care fo this after the initial stage. Probably using bagging (under/over Bagging) For now lets establish a baseline and see if we can beat it with a random forrest.\n",
    "\n",
    "### Establishing  a Baseline\n",
    "\n",
    "lets see what percentage of the results belong to home and awa games, that is, what percentage of the games are won at home, what percentage are drew ad what percentage are lost."
   ]
  },
  {
   "cell_type": "code",
   "execution_count": 108,
   "metadata": {},
   "outputs": [
    {
     "data": {
      "text/plain": [
       "home\n",
       "0    0.318275\n",
       "1    0.470910\n",
       "dtype: float64"
      ]
     },
     "execution_count": 108,
     "metadata": {},
     "output_type": "execute_result"
    }
   ],
   "source": [
    "df.groupby('home').apply(lambda x: x[x['result']==1].shape[0]/x.shape[0])"
   ]
  },
  {
   "cell_type": "code",
   "execution_count": 109,
   "metadata": {},
   "outputs": [
    {
     "data": {
      "text/plain": [
       "home\n",
       "0    0.210815\n",
       "1    0.210815\n",
       "dtype: float64"
      ]
     },
     "execution_count": 109,
     "metadata": {},
     "output_type": "execute_result"
    }
   ],
   "source": [
    "df.groupby('home').apply(lambda x: x[x['result']==2].shape[0]/x.shape[0])"
   ]
  },
  {
   "attachments": {},
   "cell_type": "markdown",
   "metadata": {},
   "source": [
    "47% of the games are won at home, and 21% are drawn. Naturally 32% are lost with the home advantage."
   ]
  },
  {
   "cell_type": "code",
   "execution_count": 110,
   "metadata": {},
   "outputs": [],
   "source": [
    "df_num = df.select_dtypes(include=np.number)\n",
    "\n",
    "corr = df_num.drop(\"result\", axis=1).apply(lambda x: x.corr(df.result))\n",
    "corr = pd.DataFrame(corr, columns=['Correlation Value'])\n",
    "\n"
   ]
  },
  {
   "cell_type": "code",
   "execution_count": 111,
   "metadata": {},
   "outputs": [
    {
     "data": {
      "text/html": [
       "<div>\n",
       "<style scoped>\n",
       "    .dataframe tbody tr th:only-of-type {\n",
       "        vertical-align: middle;\n",
       "    }\n",
       "\n",
       "    .dataframe tbody tr th {\n",
       "        vertical-align: top;\n",
       "    }\n",
       "\n",
       "    .dataframe thead th {\n",
       "        text-align: right;\n",
       "    }\n",
       "</style>\n",
       "<table border=\"1\" class=\"dataframe\">\n",
       "  <thead>\n",
       "    <tr style=\"text-align: right;\">\n",
       "      <th></th>\n",
       "      <th>Correlation Value</th>\n",
       "    </tr>\n",
       "  </thead>\n",
       "  <tbody>\n",
       "    <tr>\n",
       "      <th>score</th>\n",
       "      <td>0.254544</td>\n",
       "    </tr>\n",
       "    <tr>\n",
       "      <th>home</th>\n",
       "      <td>0.100941</td>\n",
       "    </tr>\n",
       "    <tr>\n",
       "      <th>MP</th>\n",
       "      <td>0.109215</td>\n",
       "    </tr>\n",
       "    <tr>\n",
       "      <th>Starts</th>\n",
       "      <td>0.174723</td>\n",
       "    </tr>\n",
       "    <tr>\n",
       "      <th>Gls</th>\n",
       "      <td>0.177260</td>\n",
       "    </tr>\n",
       "    <tr>\n",
       "      <th>Ast</th>\n",
       "      <td>0.166661</td>\n",
       "    </tr>\n",
       "    <tr>\n",
       "      <th>G+A</th>\n",
       "      <td>0.174053</td>\n",
       "    </tr>\n",
       "    <tr>\n",
       "      <th>G-PK</th>\n",
       "      <td>0.173805</td>\n",
       "    </tr>\n",
       "    <tr>\n",
       "      <th>Gls90</th>\n",
       "      <td>0.176049</td>\n",
       "    </tr>\n",
       "    <tr>\n",
       "      <th>Ast90</th>\n",
       "      <td>0.161459</td>\n",
       "    </tr>\n",
       "    <tr>\n",
       "      <th>G+A90</th>\n",
       "      <td>0.172411</td>\n",
       "    </tr>\n",
       "    <tr>\n",
       "      <th>G-PK90</th>\n",
       "      <td>0.172920</td>\n",
       "    </tr>\n",
       "    <tr>\n",
       "      <th>G+A-PK</th>\n",
       "      <td>0.169494</td>\n",
       "    </tr>\n",
       "    <tr>\n",
       "      <th>Subs</th>\n",
       "      <td>0.136416</td>\n",
       "    </tr>\n",
       "    <tr>\n",
       "      <th>PPM</th>\n",
       "      <td>0.214682</td>\n",
       "    </tr>\n",
       "    <tr>\n",
       "      <th>onG</th>\n",
       "      <td>0.155855</td>\n",
       "    </tr>\n",
       "    <tr>\n",
       "      <th>+/-</th>\n",
       "      <td>0.211920</td>\n",
       "    </tr>\n",
       "    <tr>\n",
       "      <th>Min</th>\n",
       "      <td>0.167303</td>\n",
       "    </tr>\n",
       "    <tr>\n",
       "      <th>Save%</th>\n",
       "      <td>0.160693</td>\n",
       "    </tr>\n",
       "    <tr>\n",
       "      <th>W</th>\n",
       "      <td>0.140357</td>\n",
       "    </tr>\n",
       "    <tr>\n",
       "      <th>D</th>\n",
       "      <td>0.245191</td>\n",
       "    </tr>\n",
       "    <tr>\n",
       "      <th>CS</th>\n",
       "      <td>0.152501</td>\n",
       "    </tr>\n",
       "    <tr>\n",
       "      <th>CS%</th>\n",
       "      <td>0.146826</td>\n",
       "    </tr>\n",
       "    <tr>\n",
       "      <th>SoT</th>\n",
       "      <td>0.169608</td>\n",
       "    </tr>\n",
       "    <tr>\n",
       "      <th>SoT/90</th>\n",
       "      <td>0.151731</td>\n",
       "    </tr>\n",
       "    <tr>\n",
       "      <th>G/SoT</th>\n",
       "      <td>0.135266</td>\n",
       "    </tr>\n",
       "    <tr>\n",
       "      <th>Fls</th>\n",
       "      <td>0.136007</td>\n",
       "    </tr>\n",
       "    <tr>\n",
       "      <th>GA90_opp</th>\n",
       "      <td>0.194389</td>\n",
       "    </tr>\n",
       "    <tr>\n",
       "      <th>D_opp</th>\n",
       "      <td>0.150702</td>\n",
       "    </tr>\n",
       "    <tr>\n",
       "      <th>L_opp</th>\n",
       "      <td>0.106001</td>\n",
       "    </tr>\n",
       "  </tbody>\n",
       "</table>\n",
       "</div>"
      ],
      "text/plain": [
       "          Correlation Value\n",
       "score              0.254544\n",
       "home               0.100941\n",
       "MP                 0.109215\n",
       "Starts             0.174723\n",
       "Gls                0.177260\n",
       "Ast                0.166661\n",
       "G+A                0.174053\n",
       "G-PK               0.173805\n",
       "Gls90              0.176049\n",
       "Ast90              0.161459\n",
       "G+A90              0.172411\n",
       "G-PK90             0.172920\n",
       "G+A-PK             0.169494\n",
       "Subs               0.136416\n",
       "PPM                0.214682\n",
       "onG                0.155855\n",
       "+/-                0.211920\n",
       "Min                0.167303\n",
       "Save%              0.160693\n",
       "W                  0.140357\n",
       "D                  0.245191\n",
       "CS                 0.152501\n",
       "CS%                0.146826\n",
       "SoT                0.169608\n",
       "SoT/90             0.151731\n",
       "G/SoT              0.135266\n",
       "Fls                0.136007\n",
       "GA90_opp           0.194389\n",
       "D_opp              0.150702\n",
       "L_opp              0.106001"
      ]
     },
     "execution_count": 111,
     "metadata": {},
     "output_type": "execute_result"
    }
   ],
   "source": [
    "corr[corr[\"Correlation Value\"]>0.1]"
   ]
  },
  {
   "cell_type": "code",
   "execution_count": 112,
   "metadata": {},
   "outputs": [
    {
     "data": {
      "text/html": [
       "<div>\n",
       "<style scoped>\n",
       "    .dataframe tbody tr th:only-of-type {\n",
       "        vertical-align: middle;\n",
       "    }\n",
       "\n",
       "    .dataframe tbody tr th {\n",
       "        vertical-align: top;\n",
       "    }\n",
       "\n",
       "    .dataframe thead th {\n",
       "        text-align: right;\n",
       "    }\n",
       "</style>\n",
       "<table border=\"1\" class=\"dataframe\">\n",
       "  <thead>\n",
       "    <tr style=\"text-align: right;\">\n",
       "      <th></th>\n",
       "      <th>Correlation Value</th>\n",
       "    </tr>\n",
       "  </thead>\n",
       "  <tbody>\n",
       "    <tr>\n",
       "      <th>score_opp</th>\n",
       "      <td>-0.525779</td>\n",
       "    </tr>\n",
       "    <tr>\n",
       "      <th>onGA</th>\n",
       "      <td>-0.161757</td>\n",
       "    </tr>\n",
       "    <tr>\n",
       "      <th>GA</th>\n",
       "      <td>-0.149191</td>\n",
       "    </tr>\n",
       "    <tr>\n",
       "      <th>GA90</th>\n",
       "      <td>-0.242239</td>\n",
       "    </tr>\n",
       "    <tr>\n",
       "      <th>L</th>\n",
       "      <td>-0.340223</td>\n",
       "    </tr>\n",
       "    <tr>\n",
       "      <th># Pl_opp</th>\n",
       "      <td>-0.116712</td>\n",
       "    </tr>\n",
       "    <tr>\n",
       "      <th>MP_opp</th>\n",
       "      <td>-0.199184</td>\n",
       "    </tr>\n",
       "    <tr>\n",
       "      <th>Starts_opp</th>\n",
       "      <td>-0.253928</td>\n",
       "    </tr>\n",
       "    <tr>\n",
       "      <th>Gls_opp</th>\n",
       "      <td>-0.282558</td>\n",
       "    </tr>\n",
       "    <tr>\n",
       "      <th>Ast_opp</th>\n",
       "      <td>-0.268906</td>\n",
       "    </tr>\n",
       "    <tr>\n",
       "      <th>G+A_opp</th>\n",
       "      <td>-0.278893</td>\n",
       "    </tr>\n",
       "    <tr>\n",
       "      <th>G-PK_opp</th>\n",
       "      <td>-0.280403</td>\n",
       "    </tr>\n",
       "    <tr>\n",
       "      <th>PK_opp</th>\n",
       "      <td>-0.132939</td>\n",
       "    </tr>\n",
       "    <tr>\n",
       "      <th>PKatt_opp</th>\n",
       "      <td>-0.132854</td>\n",
       "    </tr>\n",
       "    <tr>\n",
       "      <th>Gls90_opp</th>\n",
       "      <td>-0.259250</td>\n",
       "    </tr>\n",
       "    <tr>\n",
       "      <th>Ast90_opp</th>\n",
       "      <td>-0.246603</td>\n",
       "    </tr>\n",
       "    <tr>\n",
       "      <th>G+A90_opp</th>\n",
       "      <td>-0.257843</td>\n",
       "    </tr>\n",
       "    <tr>\n",
       "      <th>G-PK90_opp</th>\n",
       "      <td>-0.260472</td>\n",
       "    </tr>\n",
       "    <tr>\n",
       "      <th>G+A-PK_opp</th>\n",
       "      <td>-0.257116</td>\n",
       "    </tr>\n",
       "    <tr>\n",
       "      <th>Subs_opp</th>\n",
       "      <td>-0.214996</td>\n",
       "    </tr>\n",
       "    <tr>\n",
       "      <th>PPM_opp</th>\n",
       "      <td>-0.318534</td>\n",
       "    </tr>\n",
       "    <tr>\n",
       "      <th>onG_opp</th>\n",
       "      <td>-0.270299</td>\n",
       "    </tr>\n",
       "    <tr>\n",
       "      <th>+/-_opp</th>\n",
       "      <td>-0.278931</td>\n",
       "    </tr>\n",
       "    <tr>\n",
       "      <th>Min_opp</th>\n",
       "      <td>-0.256176</td>\n",
       "    </tr>\n",
       "    <tr>\n",
       "      <th>W_opp</th>\n",
       "      <td>-0.336904</td>\n",
       "    </tr>\n",
       "    <tr>\n",
       "      <th>CS_opp</th>\n",
       "      <td>-0.211776</td>\n",
       "    </tr>\n",
       "    <tr>\n",
       "      <th>CS%_opp</th>\n",
       "      <td>-0.180202</td>\n",
       "    </tr>\n",
       "    <tr>\n",
       "      <th>SoT_opp</th>\n",
       "      <td>-0.244221</td>\n",
       "    </tr>\n",
       "    <tr>\n",
       "      <th>SoT/90_opp</th>\n",
       "      <td>-0.186872</td>\n",
       "    </tr>\n",
       "    <tr>\n",
       "      <th>G/SoT_opp</th>\n",
       "      <td>-0.180285</td>\n",
       "    </tr>\n",
       "    <tr>\n",
       "      <th>Fls_opp</th>\n",
       "      <td>-0.221041</td>\n",
       "    </tr>\n",
       "  </tbody>\n",
       "</table>\n",
       "</div>"
      ],
      "text/plain": [
       "            Correlation Value\n",
       "score_opp           -0.525779\n",
       "onGA                -0.161757\n",
       "GA                  -0.149191\n",
       "GA90                -0.242239\n",
       "L                   -0.340223\n",
       "# Pl_opp            -0.116712\n",
       "MP_opp              -0.199184\n",
       "Starts_opp          -0.253928\n",
       "Gls_opp             -0.282558\n",
       "Ast_opp             -0.268906\n",
       "G+A_opp             -0.278893\n",
       "G-PK_opp            -0.280403\n",
       "PK_opp              -0.132939\n",
       "PKatt_opp           -0.132854\n",
       "Gls90_opp           -0.259250\n",
       "Ast90_opp           -0.246603\n",
       "G+A90_opp           -0.257843\n",
       "G-PK90_opp          -0.260472\n",
       "G+A-PK_opp          -0.257116\n",
       "Subs_opp            -0.214996\n",
       "PPM_opp             -0.318534\n",
       "onG_opp             -0.270299\n",
       "+/-_opp             -0.278931\n",
       "Min_opp             -0.256176\n",
       "W_opp               -0.336904\n",
       "CS_opp              -0.211776\n",
       "CS%_opp             -0.180202\n",
       "SoT_opp             -0.244221\n",
       "SoT/90_opp          -0.186872\n",
       "G/SoT_opp           -0.180285\n",
       "Fls_opp             -0.221041"
      ]
     },
     "execution_count": 112,
     "metadata": {},
     "output_type": "execute_result"
    }
   ],
   "source": [
    "corr[corr[\"Correlation Value\"]<-0.1]"
   ]
  },
  {
   "attachments": {},
   "cell_type": "markdown",
   "metadata": {},
   "source": [
    "### Standard Random Forrest Classifier \n",
    "\n",
    "We won't be doing automated feature selection or scaling because. The former because we do not have many features, so the code runs reasonably fast, and correlation analysis showed that most of the columns have acceptable correlations and can be used as predictors. \n",
    "\n",
    "The latter because random forrest does not requires scaling. "
   ]
  },
  {
   "cell_type": "code",
   "execution_count": 113,
   "metadata": {},
   "outputs": [],
   "source": [
    "\n",
    "from sklearn.ensemble import RandomForestClassifier\n",
    "\n",
    "\n",
    "from sklearn.metrics import accuracy_score #if you predicted a win what percentage of the time the team actually won etc.. \n",
    "from sklearn.metrics  import precision_score "
   ]
  },
  {
   "attachments": {},
   "cell_type": "markdown",
   "metadata": {},
   "source": [
    "All the training data has to come from THE PAST. As we have a time series data. "
   ]
  },
  {
   "cell_type": "code",
   "execution_count": 114,
   "metadata": {},
   "outputs": [],
   "source": [
    "train = df[df[\"season\"]<2021]\n",
    "test  = df[df[\"season\"]==2021]"
   ]
  },
  {
   "cell_type": "code",
   "execution_count": 115,
   "metadata": {},
   "outputs": [
    {
     "name": "stdout",
     "output_type": "stream",
     "text": [
      "(2678, 88)\n",
      "(244, 88)\n"
     ]
    }
   ],
   "source": [
    "print(train.shape)\n",
    "print(test.shape)"
   ]
  },
  {
   "cell_type": "code",
   "execution_count": 116,
   "metadata": {},
   "outputs": [
    {
     "data": {
      "text/plain": [
       "Index(['Day', 'Date', 'team', 'team_opp', 'season', 'score', 'score_opp',\n",
       "       'home', 'result', '# Pl', 'Age', 'MP', 'Starts', 'Gls', 'Ast', 'G+A',\n",
       "       'G-PK', 'PK', 'PKatt', 'Gls90', 'Ast90', 'G+A90', 'G-PK90', 'G+A-PK',\n",
       "       'Min%', 'Subs', 'Mn/Sub', 'PPM', 'onG', 'onGA', '+/-', '# Pl.1', 'Min',\n",
       "       'GA', 'GA90', 'SoTA', 'Saves', 'Save%', 'W', 'D', 'L', 'CS', 'CS%',\n",
       "       'SoT', 'SoT/90', 'G/SoT', 'Fls', '# Pl_opp', 'Age_opp', 'MP_opp',\n",
       "       'Starts_opp', 'Gls_opp', 'Ast_opp', 'G+A_opp', 'G-PK_opp', 'PK_opp',\n",
       "       'PKatt_opp', 'Gls90_opp', 'Ast90_opp', 'G+A90_opp', 'G-PK90_opp',\n",
       "       'G+A-PK_opp', 'season_opp', 'Min%_opp', 'Subs_opp', 'Mn/Sub_opp',\n",
       "       'PPM_opp', 'onG_opp', 'onGA_opp', '+/-_opp', '# Pl_opp.1', 'Min_opp',\n",
       "       'GA_opp', 'GA90_opp', 'SoTA_opp', 'Saves_opp', 'Save%_opp', 'W_opp',\n",
       "       'D_opp', 'L_opp', 'CS_opp', 'CS%_opp', 'SoT_opp', 'SoT/90_opp',\n",
       "       'G/SoT_opp', 'Fls_opp', 'opp_code', 'day_code'],\n",
       "      dtype='object')"
      ]
     },
     "execution_count": 116,
     "metadata": {},
     "output_type": "execute_result"
    }
   ],
   "source": [
    "df.columns"
   ]
  },
  {
   "attachments": {},
   "cell_type": "markdown",
   "metadata": {},
   "source": [
    "### Initial Predictor"
   ]
  },
  {
   "cell_type": "code",
   "execution_count": 117,
   "metadata": {},
   "outputs": [
    {
     "data": {
      "text/plain": [
       "0.45081967213114754"
      ]
     },
     "execution_count": 117,
     "metadata": {},
     "output_type": "execute_result"
    }
   ],
   "source": [
    "predictors = ['Age','day_code','home','opp_code']\n",
    "\n",
    "rf = RandomForestClassifier(n_estimators=200, min_samples_split=40, random_state=1)\n",
    "\n",
    "rf.fit(train[predictors], train[\"result\"])\n",
    "preds = rf.predict(test[predictors])\n",
    "accuracy = accuracy_score(test[\"result\"], preds)\n",
    "\n",
    "accuracy"
   ]
  },
  {
   "attachments": {},
   "cell_type": "markdown",
   "metadata": {},
   "source": [
    "This is terrible! We need to improve on this as it is below the benchmark. "
   ]
  },
  {
   "cell_type": "code",
   "execution_count": 118,
   "metadata": {},
   "outputs": [],
   "source": [
    "def get_acc (model, train, test, predictors):\n",
    "    model.fit(train[predictors], train[\"result\"])\n",
    "    preds = model.predict(test[predictors])\n",
    "\n",
    "    accuracy = accuracy_score(test[\"result\"], preds)\n",
    "    percision = precision_score(test[\"result\"], preds, average = 'weighted')\n",
    "    print(\"accuracy is: \", accuracy)\n",
    "    print(\"percision is: \", percision)\n",
    "    \n",
    "    return accuracy, percision"
   ]
  },
  {
   "cell_type": "code",
   "execution_count": 119,
   "metadata": {},
   "outputs": [],
   "source": [
    "predictors = ['score', 'score_opp',\n",
    "       'home', '# Pl', 'Age', 'MP', 'Starts', 'Gls', 'Ast', 'G+A',\n",
    "       'G-PK', 'PK', 'PKatt', 'Gls90', 'Ast90', 'G+A90', 'G-PK90', 'G+A-PK',\n",
    "       'Min%', 'Subs', 'Mn/Sub', 'PPM', 'onG', 'onGA', '+/-', '# Pl.1', 'Min',\n",
    "       'GA', 'GA90', 'SoTA', 'Saves', 'Save%', 'W', 'D', 'L', 'CS', 'CS%',\n",
    "       'SoT', 'SoT/90', 'G/SoT', 'Fls', '# Pl_opp', 'Age_opp', 'MP_opp',\n",
    "       'Starts_opp', 'Gls_opp', 'Ast_opp', 'G+A_opp', 'G-PK_opp', 'PK_opp',\n",
    "       'PKatt_opp', 'Gls90_opp', 'Ast90_opp', 'G+A90_opp', 'G-PK90_opp',\n",
    "       'G+A-PK_opp', 'season_opp', 'Min%_opp', 'Subs_opp', 'Mn/Sub_opp',\n",
    "       'PPM_opp', 'onG_opp', 'onGA_opp', '+/-_opp', '# Pl_opp.1', 'Min_opp',\n",
    "       'GA_opp', 'GA90_opp', 'SoTA_opp', 'Saves_opp', 'Save%_opp', 'W_opp',\n",
    "       'D_opp', 'L_opp', 'CS_opp', 'CS%_opp', 'SoT_opp', 'SoT/90_opp',\n",
    "       'G/SoT_opp', 'Fls_opp', 'opp_code', 'day_code'\n",
    "]"
   ]
  },
  {
   "cell_type": "code",
   "execution_count": null,
   "metadata": {},
   "outputs": [],
   "source": []
  },
  {
   "cell_type": "code",
   "execution_count": 120,
   "metadata": {},
   "outputs": [
    {
     "name": "stdout",
     "output_type": "stream",
     "text": [
      "accuracy is:  0.7950819672131147\n",
      "percision is:  0.7786063852286867\n"
     ]
    },
    {
     "data": {
      "text/plain": [
       "(0.7950819672131147, 0.7786063852286867)"
      ]
     },
     "execution_count": 120,
     "metadata": {},
     "output_type": "execute_result"
    }
   ],
   "source": [
    "get_acc(rf,train, test, predictors)\n"
   ]
  },
  {
   "attachments": {},
   "cell_type": "markdown",
   "metadata": {},
   "source": [
    "- Random Forest With Class Weighting\n",
    "\n",
    "- Random Forest With Bootstrap Class Weighting\n"
   ]
  },
  {
   "cell_type": "code",
   "execution_count": 121,
   "metadata": {},
   "outputs": [
    {
     "name": "stdout",
     "output_type": "stream",
     "text": [
      "accuracy is:  0.8360655737704918\n",
      "percision is:  0.8439694367338286\n"
     ]
    },
    {
     "data": {
      "text/plain": [
       "(0.8360655737704918, 0.8439694367338286)"
      ]
     },
     "execution_count": 121,
     "metadata": {},
     "output_type": "execute_result"
    }
   ],
   "source": [
    "rf_bal = RandomForestClassifier(n_estimators=200, min_samples_split=40, random_state=1, class_weight='balanced')\n",
    "\n",
    "\n",
    "get_acc(rf_bal,train, test, predictors)\n"
   ]
  },
  {
   "cell_type": "code",
   "execution_count": 122,
   "metadata": {},
   "outputs": [
    {
     "name": "stdout",
     "output_type": "stream",
     "text": [
      "accuracy is:  0.8442622950819673\n",
      "percision is:  0.8552885905011535\n"
     ]
    },
    {
     "data": {
      "text/plain": [
       "(0.8442622950819673, 0.8552885905011535)"
      ]
     },
     "execution_count": 122,
     "metadata": {},
     "output_type": "execute_result"
    }
   ],
   "source": [
    "rf_bal_sub = RandomForestClassifier(n_estimators=200, min_samples_split=40, random_state=1, class_weight='balanced_subsample')\n",
    "\n",
    "\n",
    "accuracy = get_acc(rf_bal_sub,train, test, predictors)\n",
    "accuracy\n",
    "\n"
   ]
  },
  {
   "attachments": {},
   "cell_type": "markdown",
   "metadata": {},
   "source": [
    "# Saving the data and the best model"
   ]
  },
  {
   "cell_type": "code",
   "execution_count": 123,
   "metadata": {},
   "outputs": [],
   "source": [
    "appData = [predictors, df, rf_bal_sub]\n",
    "pickle.dump(appData,open('appData.pkl','wb'))"
   ]
  },
  {
   "attachments": {},
   "cell_type": "markdown",
   "metadata": {},
   "source": [
    "### Using imbalanced learn! \n",
    "- Random Forest With Random Undersampling\n",
    "- Easy Ensemble for Imbalanced Classification\n"
   ]
  },
  {
   "cell_type": "code",
   "execution_count": 124,
   "metadata": {},
   "outputs": [
    {
     "data": {
      "text/plain": [
       "(0.8688524590163934, 0.8885888781742204)"
      ]
     },
     "execution_count": 124,
     "metadata": {},
     "output_type": "execute_result"
    }
   ],
   "source": [
    "%%capture --no-display output\n",
    "\n",
    "from imblearn.ensemble import BalancedRandomForestClassifier\n",
    "\n",
    "\n",
    "bal_rf = BalancedRandomForestClassifier(n_estimators=200, random_state=1)\n",
    "\n",
    "get_acc(bal_rf,train, test, predictors)\n"
   ]
  },
  {
   "cell_type": "code",
   "execution_count": 125,
   "metadata": {},
   "outputs": [
    {
     "name": "stdout",
     "output_type": "stream",
     "text": [
      "accuracy is:  0.680327868852459\n",
      "percision is:  0.8721311475409836\n"
     ]
    },
    {
     "data": {
      "text/plain": [
       "(0.680327868852459, 0.8721311475409836)"
      ]
     },
     "execution_count": 125,
     "metadata": {},
     "output_type": "execute_result"
    }
   ],
   "source": [
    "from imblearn.ensemble import EasyEnsembleClassifier\n",
    "\n",
    "\n",
    "bal_rf = EasyEnsembleClassifier(n_estimators=200, random_state=1)\n",
    "\n",
    "accuracy = get_acc(bal_rf,train, test, predictors)\n",
    "accuracy"
   ]
  },
  {
   "attachments": {},
   "cell_type": "markdown",
   "metadata": {},
   "source": [
    "Useful stuff:\n",
    "\n",
    "```df.groupby('home').apply(lambda x: x[x['result']==1].shape[0]/x.shape[0])```\n",
    "\n",
    " Using groupby and lambda function to see what percentage o the games are won, ost or draw based on the home value (0 or 1). To establish a baseline. "
   ]
  }
 ],
 "metadata": {
  "kernelspec": {
   "display_name": "football_proj",
   "language": "python",
   "name": "python3"
  },
  "language_info": {
   "codemirror_mode": {
    "name": "ipython",
    "version": 3
   },
   "file_extension": ".py",
   "mimetype": "text/x-python",
   "name": "python",
   "nbconvert_exporter": "python",
   "pygments_lexer": "ipython3",
   "version": "3.11.0"
  },
  "orig_nbformat": 4,
  "vscode": {
   "interpreter": {
    "hash": "3b2572b4a15cb33407f4fd5615f06488f520abed03bc861addd9f2796186c7a0"
   }
  }
 },
 "nbformat": 4,
 "nbformat_minor": 2
}
