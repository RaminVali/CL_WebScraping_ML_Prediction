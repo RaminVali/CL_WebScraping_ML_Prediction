{
 "cells": [
  {
   "cell_type": "code",
   "execution_count": 12,
   "metadata": {},
   "outputs": [],
   "source": [
    "import numpy as np\n",
    "import pandas as pd\n",
    "from matplotlib import animation\n",
    "from matplotlib import pyplot as plt\n",
    "\n",
    "from mplsoccer import Pitch"
   ]
  },
  {
   "attachments": {},
   "cell_type": "markdown",
   "metadata": {},
   "source": [
    "Load the data"
   ]
  },
  {
   "cell_type": "code",
   "execution_count": 13,
   "metadata": {},
   "outputs": [],
   "source": [
    "# load away data\n",
    "LINK1 = ('https://raw.githubusercontent.com/metrica-sports/sample-data/master/'\n",
    "         'data/Sample_Game_1/Sample_Game_1_RawTrackingData_Away_Team.csv')\n",
    "df_away = pd.read_csv(LINK1, skiprows=2)\n",
    "df_away.sort_values('Time [s]', inplace=True)\n",
    "\n",
    "# load home data\n",
    "LINK2 = ('https://raw.githubusercontent.com/metrica-sports/sample-data/master/'\n",
    "         'data/Sample_Game_1/Sample_Game_1_RawTrackingData_Home_Team.csv')\n",
    "df_home = pd.read_csv(LINK2, skiprows=2)\n",
    "df_home.sort_values('Time [s]', inplace=True)"
   ]
  },
  {
   "attachments": {},
   "cell_type": "markdown",
   "metadata": {},
   "source": [
    "Reset the column names"
   ]
  },
  {
   "cell_type": "code",
   "execution_count": 14,
   "metadata": {},
   "outputs": [],
   "source": [
    "# column names aren't great so this sets the player ones with _x and _y suffixes\n",
    "\n",
    "\n",
    "def set_col_names(df):\n",
    "    \"\"\" Renames the columns to have x and y suffixes.\"\"\"\n",
    "    cols = list(np.repeat(df.columns[3::2], 2))\n",
    "    cols = [col+'_x' if i % 2 == 0 else col+'_y' for i, col in enumerate(cols)]\n",
    "    cols = np.concatenate([df.columns[:3], cols])\n",
    "    df.columns = cols\n",
    "\n",
    "\n",
    "set_col_names(df_away)\n",
    "set_col_names(df_home)"
   ]
  },
  {
   "attachments": {},
   "cell_type": "markdown",
   "metadata": {},
   "source": [
    "Subset 10 seconds of data"
   ]
  },
  {
   "cell_type": "code",
   "execution_count": 15,
   "metadata": {},
   "outputs": [],
   "source": [
    "# get a subset of the data (10 seconds)\n",
    "df_away = df_away[(df_away['Time [s]'] >= 815) & (df_away['Time [s]'] < 825)].copy()\n",
    "df_home = df_home[(df_home['Time [s]'] >= 815) & (df_home['Time [s]'] < 825)].copy()"
   ]
  },
  {
   "attachments": {},
   "cell_type": "markdown",
   "metadata": {},
   "source": [
    "Split off the ball data, and drop the ball columns from the df_away/ df_home dataframes\n"
   ]
  },
  {
   "cell_type": "code",
   "execution_count": 16,
   "metadata": {},
   "outputs": [],
   "source": [
    "# split off a df_ball dataframe and drop the ball columns from the player dataframes\n",
    "df_ball = df_away[['Period', 'Frame', 'Time [s]', 'Ball_x', 'Ball_y']].copy()\n",
    "df_home.drop(['Ball_x', 'Ball_y'], axis=1, inplace=True)\n",
    "df_away.drop(['Ball_x', 'Ball_y'], axis=1, inplace=True)\n",
    "df_ball.rename({'Ball_x': 'x', 'Ball_y': 'y'}, axis=1, inplace=True)"
   ]
  },
  {
   "attachments": {},
   "cell_type": "markdown",
   "metadata": {},
   "source": [
    "Convert to long form. So each row is a single player’s coordinates for a single frame"
   ]
  },
  {
   "cell_type": "code",
   "execution_count": 17,
   "metadata": {},
   "outputs": [],
   "source": [
    "# convert to long form from wide form\n",
    "def to_long_form(df):\n",
    "    \"\"\" Pivots a dataframe from wide-form (each player as a separate column) to long form (rows)\"\"\"\n",
    "    df = pd.melt(df, id_vars=df.columns[:3], value_vars=df.columns[3:], var_name='player')\n",
    "    df.loc[df.player.str.contains('_x'), 'coordinate'] = 'x'\n",
    "    df.loc[df.player.str.contains('_y'), 'coordinate'] = 'y'\n",
    "    df = df.dropna(axis=0, how='any')\n",
    "    df['player'] = df.player.str[6:-2]\n",
    "    df = (df.set_index(['Period', 'Frame', 'Time [s]', 'player', 'coordinate'])['value']\n",
    "          .unstack()\n",
    "          .reset_index()\n",
    "          .rename_axis(None, axis=1))\n",
    "    return df\n",
    "\n",
    "\n",
    "df_away = to_long_form(df_away)\n",
    "df_home = to_long_form(df_home)"
   ]
  },
  {
   "cell_type": "code",
   "execution_count": 18,
   "metadata": {},
   "outputs": [
    {
     "data": {
      "text/html": [
       "<div>\n",
       "<style scoped>\n",
       "    .dataframe tbody tr th:only-of-type {\n",
       "        vertical-align: middle;\n",
       "    }\n",
       "\n",
       "    .dataframe tbody tr th {\n",
       "        vertical-align: top;\n",
       "    }\n",
       "\n",
       "    .dataframe thead th {\n",
       "        text-align: right;\n",
       "    }\n",
       "</style>\n",
       "<table border=\"1\" class=\"dataframe\">\n",
       "  <thead>\n",
       "    <tr style=\"text-align: right;\">\n",
       "      <th></th>\n",
       "      <th>Period</th>\n",
       "      <th>Frame</th>\n",
       "      <th>Time [s]</th>\n",
       "      <th>player</th>\n",
       "      <th>x</th>\n",
       "      <th>y</th>\n",
       "    </tr>\n",
       "  </thead>\n",
       "  <tbody>\n",
       "    <tr>\n",
       "      <th>0</th>\n",
       "      <td>1</td>\n",
       "      <td>20375</td>\n",
       "      <td>815.0</td>\n",
       "      <td>15</td>\n",
       "      <td>0.52333</td>\n",
       "      <td>0.15093</td>\n",
       "    </tr>\n",
       "    <tr>\n",
       "      <th>1</th>\n",
       "      <td>1</td>\n",
       "      <td>20375</td>\n",
       "      <td>815.0</td>\n",
       "      <td>16</td>\n",
       "      <td>0.52972</td>\n",
       "      <td>0.31205</td>\n",
       "    </tr>\n",
       "    <tr>\n",
       "      <th>2</th>\n",
       "      <td>1</td>\n",
       "      <td>20375</td>\n",
       "      <td>815.0</td>\n",
       "      <td>17</td>\n",
       "      <td>0.48127</td>\n",
       "      <td>0.45092</td>\n",
       "    </tr>\n",
       "    <tr>\n",
       "      <th>3</th>\n",
       "      <td>1</td>\n",
       "      <td>20375</td>\n",
       "      <td>815.0</td>\n",
       "      <td>18</td>\n",
       "      <td>0.38463</td>\n",
       "      <td>0.04628</td>\n",
       "    </tr>\n",
       "    <tr>\n",
       "      <th>4</th>\n",
       "      <td>1</td>\n",
       "      <td>20375</td>\n",
       "      <td>815.0</td>\n",
       "      <td>19</td>\n",
       "      <td>0.25890</td>\n",
       "      <td>0.07167</td>\n",
       "    </tr>\n",
       "  </tbody>\n",
       "</table>\n",
       "</div>"
      ],
      "text/plain": [
       "   Period  Frame  Time [s] player        x        y\n",
       "0       1  20375     815.0     15  0.52333  0.15093\n",
       "1       1  20375     815.0     16  0.52972  0.31205\n",
       "2       1  20375     815.0     17  0.48127  0.45092\n",
       "3       1  20375     815.0     18  0.38463  0.04628\n",
       "4       1  20375     815.0     19  0.25890  0.07167"
      ]
     },
     "execution_count": 18,
     "metadata": {},
     "output_type": "execute_result"
    }
   ],
   "source": [
    "df_away.head()"
   ]
  },
  {
   "cell_type": "code",
   "execution_count": 19,
   "metadata": {},
   "outputs": [
    {
     "data": {
      "text/html": [
       "<div>\n",
       "<style scoped>\n",
       "    .dataframe tbody tr th:only-of-type {\n",
       "        vertical-align: middle;\n",
       "    }\n",
       "\n",
       "    .dataframe tbody tr th {\n",
       "        vertical-align: top;\n",
       "    }\n",
       "\n",
       "    .dataframe thead th {\n",
       "        text-align: right;\n",
       "    }\n",
       "</style>\n",
       "<table border=\"1\" class=\"dataframe\">\n",
       "  <thead>\n",
       "    <tr style=\"text-align: right;\">\n",
       "      <th></th>\n",
       "      <th>Period</th>\n",
       "      <th>Frame</th>\n",
       "      <th>Time [s]</th>\n",
       "      <th>player</th>\n",
       "      <th>x</th>\n",
       "      <th>y</th>\n",
       "    </tr>\n",
       "  </thead>\n",
       "  <tbody>\n",
       "    <tr>\n",
       "      <th>0</th>\n",
       "      <td>1</td>\n",
       "      <td>20375</td>\n",
       "      <td>815.0</td>\n",
       "      <td>1</td>\n",
       "      <td>0.18914</td>\n",
       "      <td>0.51216</td>\n",
       "    </tr>\n",
       "    <tr>\n",
       "      <th>1</th>\n",
       "      <td>1</td>\n",
       "      <td>20375</td>\n",
       "      <td>815.0</td>\n",
       "      <td>10</td>\n",
       "      <td>0.39725</td>\n",
       "      <td>0.27164</td>\n",
       "    </tr>\n",
       "    <tr>\n",
       "      <th>2</th>\n",
       "      <td>1</td>\n",
       "      <td>20375</td>\n",
       "      <td>815.0</td>\n",
       "      <td>11</td>\n",
       "      <td>0.05056</td>\n",
       "      <td>0.44912</td>\n",
       "    </tr>\n",
       "    <tr>\n",
       "      <th>3</th>\n",
       "      <td>1</td>\n",
       "      <td>20375</td>\n",
       "      <td>815.0</td>\n",
       "      <td>2</td>\n",
       "      <td>0.18825</td>\n",
       "      <td>0.38918</td>\n",
       "    </tr>\n",
       "    <tr>\n",
       "      <th>4</th>\n",
       "      <td>1</td>\n",
       "      <td>20375</td>\n",
       "      <td>815.0</td>\n",
       "      <td>3</td>\n",
       "      <td>0.21617</td>\n",
       "      <td>0.21615</td>\n",
       "    </tr>\n",
       "  </tbody>\n",
       "</table>\n",
       "</div>"
      ],
      "text/plain": [
       "   Period  Frame  Time [s] player        x        y\n",
       "0       1  20375     815.0      1  0.18914  0.51216\n",
       "1       1  20375     815.0     10  0.39725  0.27164\n",
       "2       1  20375     815.0     11  0.05056  0.44912\n",
       "3       1  20375     815.0      2  0.18825  0.38918\n",
       "4       1  20375     815.0      3  0.21617  0.21615"
      ]
     },
     "execution_count": 19,
     "metadata": {},
     "output_type": "execute_result"
    }
   ],
   "source": [
    "df_home.head()"
   ]
  },
  {
   "cell_type": "code",
   "execution_count": 20,
   "metadata": {},
   "outputs": [
    {
     "data": {
      "text/html": [
       "<div>\n",
       "<style scoped>\n",
       "    .dataframe tbody tr th:only-of-type {\n",
       "        vertical-align: middle;\n",
       "    }\n",
       "\n",
       "    .dataframe tbody tr th {\n",
       "        vertical-align: top;\n",
       "    }\n",
       "\n",
       "    .dataframe thead th {\n",
       "        text-align: right;\n",
       "    }\n",
       "</style>\n",
       "<table border=\"1\" class=\"dataframe\">\n",
       "  <thead>\n",
       "    <tr style=\"text-align: right;\">\n",
       "      <th></th>\n",
       "      <th>Period</th>\n",
       "      <th>Frame</th>\n",
       "      <th>Time [s]</th>\n",
       "      <th>x</th>\n",
       "      <th>y</th>\n",
       "    </tr>\n",
       "  </thead>\n",
       "  <tbody>\n",
       "    <tr>\n",
       "      <th>20374</th>\n",
       "      <td>1</td>\n",
       "      <td>20375</td>\n",
       "      <td>815.00</td>\n",
       "      <td>0.24042</td>\n",
       "      <td>0.11311</td>\n",
       "    </tr>\n",
       "    <tr>\n",
       "      <th>20375</th>\n",
       "      <td>1</td>\n",
       "      <td>20376</td>\n",
       "      <td>815.04</td>\n",
       "      <td>0.23729</td>\n",
       "      <td>0.11115</td>\n",
       "    </tr>\n",
       "    <tr>\n",
       "      <th>20376</th>\n",
       "      <td>1</td>\n",
       "      <td>20377</td>\n",
       "      <td>815.08</td>\n",
       "      <td>0.23415</td>\n",
       "      <td>0.10919</td>\n",
       "    </tr>\n",
       "    <tr>\n",
       "      <th>20377</th>\n",
       "      <td>1</td>\n",
       "      <td>20378</td>\n",
       "      <td>815.12</td>\n",
       "      <td>0.23102</td>\n",
       "      <td>0.10723</td>\n",
       "    </tr>\n",
       "    <tr>\n",
       "      <th>20378</th>\n",
       "      <td>1</td>\n",
       "      <td>20379</td>\n",
       "      <td>815.16</td>\n",
       "      <td>0.22789</td>\n",
       "      <td>0.10528</td>\n",
       "    </tr>\n",
       "  </tbody>\n",
       "</table>\n",
       "</div>"
      ],
      "text/plain": [
       "       Period  Frame  Time [s]        x        y\n",
       "20374       1  20375    815.00  0.24042  0.11311\n",
       "20375       1  20376    815.04  0.23729  0.11115\n",
       "20376       1  20377    815.08  0.23415  0.10919\n",
       "20377       1  20378    815.12  0.23102  0.10723\n",
       "20378       1  20379    815.16  0.22789  0.10528"
      ]
     },
     "execution_count": 20,
     "metadata": {},
     "output_type": "execute_result"
    }
   ],
   "source": [
    "df_ball.head()"
   ]
  },
  {
   "attachments": {},
   "cell_type": "markdown",
   "metadata": {},
   "source": [
    "Plot the animation"
   ]
  },
  {
   "cell_type": "code",
   "execution_count": 21,
   "metadata": {},
   "outputs": [
    {
     "name": "stderr",
     "output_type": "stream",
     "text": [
      "C:\\Users\\Ramin\\AppData\\Local\\Temp\\ipykernel_20696\\3601642460.py:16: MatplotlibDeprecationWarning: Setting data with a non sequence type is deprecated since 3.7 and will be remove two minor releases later\n",
      "  ball.set_data(df_ball.iloc[i, 3], df_ball.iloc[i, 4])\n",
      "C:\\Users\\Ramin\\AppData\\Local\\Temp\\ipykernel_20696\\3601642460.py:16: MatplotlibDeprecationWarning: Setting data with a non sequence type is deprecated since 3.7 and will be remove two minor releases later\n",
      "  ball.set_data(df_ball.iloc[i, 3], df_ball.iloc[i, 4])\n"
     ]
    },
    {
     "data": {
      "image/png": "[encoded data removed]",
      "text/plain": [
       "<Figure size 1600x1040 with 1 Axes>"
      ]
     },
     "metadata": {},
     "output_type": "display_data"
    }
   ],
   "source": [
    "# First set up the figure, the axis\n",
    "pitch = Pitch(pitch_type='metricasports', goal_type='line', pitch_color='#52e84a', line_color='white', pitch_width=68, pitch_length=105)\n",
    "fig, ax = pitch.draw(figsize=(16, 10.4))\n",
    "\n",
    "# then setup the pitch plot markers we want to animate\n",
    "marker_kwargs = {'marker': 'o', 'markeredgecolor': 'black', 'linestyle': 'None'}\n",
    "ball, = ax.plot([], [], ms=6, markerfacecolor='w', zorder=3, **marker_kwargs)\n",
    "away, = ax.plot([], [], ms=10, markerfacecolor='b', **marker_kwargs)  # red/maroon\n",
    "home, = ax.plot([], [], ms=10, markerfacecolor='r', **marker_kwargs)  # purple\n",
    "\n",
    "\n",
    "# animation function\n",
    "def animate(i):\n",
    "    \"\"\" Function to animate the data. Each frame it sets the data for the players and the ball.\"\"\"\n",
    "    # set the ball data with the x and y positions for the ith frame\n",
    "    ball.set_data(df_ball.iloc[i, 3], df_ball.iloc[i, 4])\n",
    "    # get the frame id for the ith frame\n",
    "    frame = df_ball.iloc[i, 1]\n",
    "    # set the player data using the frame id\n",
    "    away.set_data(df_away.loc[df_away.Frame == frame, 'x'],\n",
    "                  df_away.loc[df_away.Frame == frame, 'y'])\n",
    "    home.set_data(df_home.loc[df_home.Frame == frame, 'x'],\n",
    "                  df_home.loc[df_home.Frame == frame, 'y'])\n",
    "    return ball, away, home\n",
    "\n",
    "\n",
    "# call the animator, animate so 25 frames per second\n",
    "anim = animation.FuncAnimation(fig, animate, frames=len(df_ball), interval=50, blit=True)\n",
    "f = r\"animation.gif\" \n",
    "writergif = animation.PillowWriter(fps=25) \n",
    "anim.save(f, writer=writergif)\n"
   ]
  }
 ],
 "metadata": {
  "kernelspec": {
   "display_name": "football_proj",
   "language": "python",
   "name": "python3"
  },
  "language_info": {
   "codemirror_mode": {
    "name": "ipython",
    "version": 3
   },
   "file_extension": ".py",
   "mimetype": "text/x-python",
   "name": "python",
   "nbconvert_exporter": "python",
   "pygments_lexer": "ipython3",
   "version": "3.11.0"
  },
  "orig_nbformat": 4
 },
 "nbformat": 4,
 "nbformat_minor": 2
}
