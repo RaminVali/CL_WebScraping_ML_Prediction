{
 "cells": [
  {
   "cell_type": "code",
   "execution_count": 1,
   "metadata": {},
   "outputs": [],
   "source": [
    "import pandas as pd\n",
    "import numpy as np\n",
    "import matplotlib.pyplot as plt\n",
    "import pickle"
   ]
  },
  {
   "attachments": {},
   "cell_type": "markdown",
   "metadata": {},
   "source": [
    "# Data Cleaning\n",
    "\n",
    "Need to remove the unusable and redundant columns"
   ]
  },
  {
   "cell_type": "code",
   "execution_count": 2,
   "metadata": {},
   "outputs": [
    {
     "data": {
      "text/plain": [
       "(4095, 236)"
      ]
     },
     "execution_count": 2,
     "metadata": {},
     "output_type": "execute_result"
    }
   ],
   "source": [
    "df = pd.read_csv('all_seasons.csv', index_col=0)\n",
    "df.reset_index(inplace=True, drop = True)\n",
    "df.shape"
   ]
  },
  {
   "attachments": {},
   "cell_type": "markdown",
   "metadata": {},
   "source": [
    "### Columns to delete:\n",
    "- gf = gols for\n",
    "- ga = goals against\n",
    "- gf_opp = goals or the opponent\n",
    "- ga_opp = goals against the opponent. \n",
    "- poss = possession, it has got x, y in the merging, will drop one and use the other. \n",
    "- Will remove ga and ga_opp as the columns are redundant. "
   ]
  },
  {
   "cell_type": "code",
   "execution_count": 3,
   "metadata": {},
   "outputs": [
    {
     "data": {
      "text/plain": [
       "(4095, 215)"
      ]
     },
     "execution_count": 3,
     "metadata": {},
     "output_type": "execute_result"
    }
   ],
   "source": [
    "cols_todel = ['ga','match report_x','match report_y','date_opp','time_opp','comp_opp','round_opp','day_opp','venue_opp','result_opp','ga_opp','opponent_opp','xg', 'xg_y', 'match report_opp','poss_y', 'captain','referee','notes', 'attendance','formation']\n",
    "df.drop(cols_todel, axis=1, inplace=True)\n",
    "df.shape"
   ]
  },
  {
   "attachments": {},
   "cell_type": "markdown",
   "metadata": {},
   "source": [
    "Some gf and gf_opp parts have \"()\" in them for aggregate score. I will have to ensure they are processed correctly, I will take the value outside of the parenthesis, as that is the match sore."
   ]
  },
  {
   "cell_type": "code",
   "execution_count": 4,
   "metadata": {},
   "outputs": [],
   "source": [
    "df.loc[df[\"gf\"].str.contains(\" \"),'gf'] = df[\"gf\"].str[0] # if the Score column starts with \"(\", then grab the first from left char.\n",
    "df.loc[df[\"gf_opp\"].str.contains(\" \"),'gf_opp'] = df[\"gf_opp\"].str[0]"
   ]
  },
  {
   "attachments": {},
   "cell_type": "markdown",
   "metadata": {},
   "source": [
    "## Encoding string columns\n",
    "\n",
    "- First clean the opponent column before encoding it, the namings are not consistent\n"
   ]
  },
  {
   "cell_type": "code",
   "execution_count": 5,
   "metadata": {},
   "outputs": [
    {
     "data": {
      "text/plain": [
       "523"
      ]
     },
     "execution_count": 5,
     "metadata": {},
     "output_type": "execute_result"
    }
   ],
   "source": [
    "len(df['opponent'].unique())"
   ]
  },
  {
   "cell_type": "code",
   "execution_count": 6,
   "metadata": {},
   "outputs": [
    {
     "data": {
      "text/plain": [
       "459"
      ]
     },
     "execution_count": 6,
     "metadata": {},
     "output_type": "execute_result"
    }
   ],
   "source": [
    "df['opponent'] = df['opponent'].apply(lambda x: x[3:].lstrip() if x[0].islower() else x)  # If the format of the name starts with small letters, that is the country code. \n",
    "len(df['opponent'].unique())"
   ]
  },
  {
   "attachments": {},
   "cell_type": "markdown",
   "metadata": {},
   "source": [
    "Making team names consistent. "
   ]
  },
  {
   "cell_type": "code",
   "execution_count": 7,
   "metadata": {},
   "outputs": [
    {
     "data": {
      "text/plain": [
       "459"
      ]
     },
     "execution_count": 7,
     "metadata": {},
     "output_type": "execute_result"
    }
   ],
   "source": [
    "df['opponent'] = df['opponent'].apply(lambda x:'Atletico Madrid' if x == 'Atlético Madrid' else x)\n",
    "df['opponent'] = df['opponent'].apply(lambda x:'Bayer Leverkusen' if x == 'Leverkusen' else x)\n",
    "df['opponent'] = df['opponent'].apply(lambda x:'Eintracht Frankfurt' if x == 'Eint Frankfurt' else x)\n",
    "df['opponent'] = df['opponent'].apply(lambda x:'Internazionale' if x == 'Inter' else x)\n",
    "df['opponent'] = df['opponent'].apply(lambda x:'Paris Saint Germain' if x == 'Paris S-G' else x)\n",
    "df['opponent'] = df['opponent'].apply(lambda x:'Red Bull Salzburg' if x == 'RB Salzburg' else x)\n",
    "df['opponent'] = df['opponent'].apply(lambda x:'Shakhtar Donetsk' if x == 'Shakhtar' else x)\n",
    "df['opponent'] = df['opponent'].apply(lambda x:'Tottenham Hotspur' if x == 'Tottenham' else x)\n",
    "df['opponent'] = df['opponent'].apply(lambda x:'Viktoria Plzen' if x == 'Viktoria Plzeň' else x)\n",
    "len(df['opponent'].unique())"
   ]
  },
  {
   "attachments": {},
   "cell_type": "markdown",
   "metadata": {},
   "source": [
    "Checking the \"team\" column, the way team and opponent names are written must be consistent. "
   ]
  },
  {
   "cell_type": "code",
   "execution_count": 8,
   "metadata": {},
   "outputs": [
    {
     "name": "stdout",
     "output_type": "stream",
     "text": [
      "52\n"
     ]
    },
    {
     "data": {
      "text/plain": [
       "array(['Chelsea', 'Manchester City', 'Real Madrid', 'Paris Saint Germain',\n",
       "       'Bayern Munich', 'Liverpool', 'Porto', 'Dortmund', 'Juventus',\n",
       "       'Barcelona', 'Sevilla', 'RB Leipzig', 'Atalanta', 'Lazio',\n",
       "       'Atletico Madrid', 'Monchengladbach', 'Manchester United',\n",
       "       'Club Brugge', 'Shakhtar Donetsk', 'Ajax', 'Internazionale',\n",
       "       'Krasnodar', 'Red Bull Salzburg', 'Dynamo Kyiv',\n",
       "       'Lokomotiv Moscow', 'Olympiacos', 'Istanbul Basaksehir',\n",
       "       'Marseille', 'Midtjylland', 'Rennes', 'Zenit', 'Ferencvaros',\n",
       "       'Villarreal', 'Benfica', 'Lille', 'Sporting CP',\n",
       "       'Sheriff Tiraspol', 'Young Boys', 'Wolfsburg', 'Milan', 'Malmo',\n",
       "       'Besiktas', 'Napoli', 'Tottenham Hotspur', 'Eintracht Frankfurt',\n",
       "       'Bayer Leverkusen', 'Dinamo Zagreb', 'FC Copenhagen',\n",
       "       'Maccabi Haifa', 'Celtic', 'Viktoria Plzen', 'Rangers'],\n",
       "      dtype=object)"
      ]
     },
     "execution_count": 8,
     "metadata": {},
     "output_type": "execute_result"
    }
   ],
   "source": [
    "print(len(df['team'].unique()))\n",
    "df['team'].unique()"
   ]
  },
  {
   "attachments": {},
   "cell_type": "markdown",
   "metadata": {},
   "source": [
    "Now encode the rest of the information rich categorical columns."
   ]
  },
  {
   "cell_type": "code",
   "execution_count": 9,
   "metadata": {},
   "outputs": [
    {
     "data": {
      "text/html": [
       "<div>\n",
       "<style scoped>\n",
       "    .dataframe tbody tr th:only-of-type {\n",
       "        vertical-align: middle;\n",
       "    }\n",
       "\n",
       "    .dataframe tbody tr th {\n",
       "        vertical-align: top;\n",
       "    }\n",
       "\n",
       "    .dataframe thead th {\n",
       "        text-align: right;\n",
       "    }\n",
       "</style>\n",
       "<table border=\"1\" class=\"dataframe\">\n",
       "  <thead>\n",
       "    <tr style=\"text-align: right;\">\n",
       "      <th></th>\n",
       "      <th>date</th>\n",
       "      <th>time</th>\n",
       "      <th>comp</th>\n",
       "      <th>round</th>\n",
       "      <th>day</th>\n",
       "      <th>venue</th>\n",
       "      <th>result</th>\n",
       "      <th>gf</th>\n",
       "      <th>opponent</th>\n",
       "      <th>gls</th>\n",
       "      <th>...</th>\n",
       "      <th>won%_opp</th>\n",
       "      <th>xga</th>\n",
       "      <th>team</th>\n",
       "      <th>season</th>\n",
       "      <th>venue_code</th>\n",
       "      <th>opp_code</th>\n",
       "      <th>round_code</th>\n",
       "      <th>comp_code</th>\n",
       "      <th>hour</th>\n",
       "      <th>day_code</th>\n",
       "    </tr>\n",
       "  </thead>\n",
       "  <tbody>\n",
       "    <tr>\n",
       "      <th>0</th>\n",
       "      <td>2020-09-14</td>\n",
       "      <td>20:15</td>\n",
       "      <td>Premier League</td>\n",
       "      <td>Matchweek 1</td>\n",
       "      <td>Mon</td>\n",
       "      <td>Away</td>\n",
       "      <td>W</td>\n",
       "      <td>3</td>\n",
       "      <td>Brighton</td>\n",
       "      <td>3.0</td>\n",
       "      <td>...</td>\n",
       "      <td>43.5</td>\n",
       "      <td>1.1</td>\n",
       "      <td>Chelsea</td>\n",
       "      <td>2020-2021</td>\n",
       "      <td>0</td>\n",
       "      <td>73</td>\n",
       "      <td>12</td>\n",
       "      <td>19</td>\n",
       "      <td>20</td>\n",
       "      <td>0</td>\n",
       "    </tr>\n",
       "    <tr>\n",
       "      <th>1</th>\n",
       "      <td>2020-09-20</td>\n",
       "      <td>16:30</td>\n",
       "      <td>Premier League</td>\n",
       "      <td>Matchweek 2</td>\n",
       "      <td>Sun</td>\n",
       "      <td>Home</td>\n",
       "      <td>L</td>\n",
       "      <td>0</td>\n",
       "      <td>Liverpool</td>\n",
       "      <td>0.0</td>\n",
       "      <td>...</td>\n",
       "      <td>21.4</td>\n",
       "      <td>2.1</td>\n",
       "      <td>Chelsea</td>\n",
       "      <td>2020-2021</td>\n",
       "      <td>1</td>\n",
       "      <td>229</td>\n",
       "      <td>23</td>\n",
       "      <td>19</td>\n",
       "      <td>16</td>\n",
       "      <td>6</td>\n",
       "    </tr>\n",
       "    <tr>\n",
       "      <th>2</th>\n",
       "      <td>2020-09-23</td>\n",
       "      <td>19:45</td>\n",
       "      <td>EFL Cup</td>\n",
       "      <td>Third round</td>\n",
       "      <td>Wed</td>\n",
       "      <td>Home</td>\n",
       "      <td>W</td>\n",
       "      <td>6</td>\n",
       "      <td>Barnsley</td>\n",
       "      <td>6.0</td>\n",
       "      <td>...</td>\n",
       "      <td>NaN</td>\n",
       "      <td>NaN</td>\n",
       "      <td>Chelsea</td>\n",
       "      <td>2020-2021</td>\n",
       "      <td>1</td>\n",
       "      <td>50</td>\n",
       "      <td>66</td>\n",
       "      <td>10</td>\n",
       "      <td>19</td>\n",
       "      <td>2</td>\n",
       "    </tr>\n",
       "    <tr>\n",
       "      <th>3</th>\n",
       "      <td>2020-09-26</td>\n",
       "      <td>17:30</td>\n",
       "      <td>Premier League</td>\n",
       "      <td>Matchweek 3</td>\n",
       "      <td>Sat</td>\n",
       "      <td>Away</td>\n",
       "      <td>D</td>\n",
       "      <td>3</td>\n",
       "      <td>West Brom</td>\n",
       "      <td>3.0</td>\n",
       "      <td>...</td>\n",
       "      <td>39.3</td>\n",
       "      <td>0.6</td>\n",
       "      <td>Chelsea</td>\n",
       "      <td>2020-2021</td>\n",
       "      <td>0</td>\n",
       "      <td>435</td>\n",
       "      <td>34</td>\n",
       "      <td>19</td>\n",
       "      <td>17</td>\n",
       "      <td>5</td>\n",
       "    </tr>\n",
       "    <tr>\n",
       "      <th>4</th>\n",
       "      <td>2020-09-29</td>\n",
       "      <td>19:45</td>\n",
       "      <td>EFL Cup</td>\n",
       "      <td>Fourth round</td>\n",
       "      <td>Tue</td>\n",
       "      <td>Away</td>\n",
       "      <td>D</td>\n",
       "      <td>1</td>\n",
       "      <td>Tottenham Hotspur</td>\n",
       "      <td>1.0</td>\n",
       "      <td>...</td>\n",
       "      <td>NaN</td>\n",
       "      <td>NaN</td>\n",
       "      <td>Chelsea</td>\n",
       "      <td>2020-2021</td>\n",
       "      <td>0</td>\n",
       "      <td>395</td>\n",
       "      <td>8</td>\n",
       "      <td>10</td>\n",
       "      <td>19</td>\n",
       "      <td>1</td>\n",
       "    </tr>\n",
       "  </tbody>\n",
       "</table>\n",
       "<p>5 rows × 221 columns</p>\n",
       "</div>"
      ],
      "text/plain": [
       "        date   time            comp         round  day venue result gf  \\\n",
       "0 2020-09-14  20:15  Premier League   Matchweek 1  Mon  Away      W  3   \n",
       "1 2020-09-20  16:30  Premier League   Matchweek 2  Sun  Home      L  0   \n",
       "2 2020-09-23  19:45         EFL Cup   Third round  Wed  Home      W  6   \n",
       "3 2020-09-26  17:30  Premier League   Matchweek 3  Sat  Away      D  3   \n",
       "4 2020-09-29  19:45         EFL Cup  Fourth round  Tue  Away      D  1   \n",
       "\n",
       "            opponent  gls  ...  won%_opp  xga     team     season  venue_code  \\\n",
       "0           Brighton  3.0  ...      43.5  1.1  Chelsea  2020-2021           0   \n",
       "1          Liverpool  0.0  ...      21.4  2.1  Chelsea  2020-2021           1   \n",
       "2           Barnsley  6.0  ...       NaN  NaN  Chelsea  2020-2021           1   \n",
       "3          West Brom  3.0  ...      39.3  0.6  Chelsea  2020-2021           0   \n",
       "4  Tottenham Hotspur  1.0  ...       NaN  NaN  Chelsea  2020-2021           0   \n",
       "\n",
       "   opp_code  round_code  comp_code  hour  day_code  \n",
       "0        73          12         19    20         0  \n",
       "1       229          23         19    16         6  \n",
       "2        50          66         10    19         2  \n",
       "3       435          34         19    17         5  \n",
       "4       395           8         10    19         1  \n",
       "\n",
       "[5 rows x 221 columns]"
      ]
     },
     "execution_count": 9,
     "metadata": {},
     "output_type": "execute_result"
    }
   ],
   "source": [
    "df['date'] = pd.to_datetime(df['date'],dayfirst=True)\n",
    "df[\"venue_code\"] = df[\"venue\"].astype(\"category\").cat.codes\n",
    "df[\"opp_code\"] = df[\"opponent\"].astype(\"category\").cat.codes #\n",
    "df['round_code'] = df['round'].astype('category').cat.codes\n",
    "df['comp_code'] = df['comp'].astype('category').cat.codes\n",
    "#df['formation_code'] = df['formation'].astype('category').cat.codes decided not to use it as we won't have concrete information on it.\n",
    "\n",
    "\n",
    "df[\"hour\"] = df[\"time\"].str.replace(\":.+\", \"\", regex=True).astype(\"int\")\n",
    "df[\"day_code\"] = df[\"date\"].dt.dayofweek\n",
    "\n",
    "df.head()"
   ]
  },
  {
   "attachments": {},
   "cell_type": "markdown",
   "metadata": {},
   "source": [
    "## Missing Data\n",
    "Deleting rows that are missing a lot of stats. Already have very high dimensionality, and not enough data or this many dimensions, so wil remove some of the stat columns. Let us have a visual on the missing values in all the columns. "
   ]
  },
  {
   "cell_type": "code",
   "execution_count": 10,
   "metadata": {},
   "outputs": [
    {
     "data": {
      "text/plain": [
       "(4095, 221)"
      ]
     },
     "execution_count": 10,
     "metadata": {},
     "output_type": "execute_result"
    },
    {
     "data": {
      "image/png": "[encoded data removed]",
      "text/plain": [
       "<Figure size 640x480 with 1 Axes>"
      ]
     },
     "metadata": {},
     "output_type": "display_data"
    }
   ],
   "source": [
    "missing = pd.DataFrame(df.isnull().sum().sort_values(ascending=False))\n",
    "missing.rename(columns={0:'missing_val'}, inplace=True)\n",
    "missing[missing['missing_val']>0].plot.bar()\n",
    "\n",
    "df.shape"
   ]
  },
  {
   "attachments": {},
   "cell_type": "markdown",
   "metadata": {},
   "source": [
    "We can see that the number of missing values drops down in a step function. So we delete the columns that have over 300 missing values and the rows for anything less than that. This is the sweet spot as deleting more columns or rows will impact the quality of our data. \n",
    "Also, the relationship between various features in football matches is highly (e.g the opponent team) so imputation is not the answer here as it may affect the quality of the data too much."
   ]
  },
  {
   "cell_type": "code",
   "execution_count": 11,
   "metadata": {},
   "outputs": [
    {
     "data": {
      "text/plain": [
       "(4095, 67)"
      ]
     },
     "execution_count": 11,
     "metadata": {},
     "output_type": "execute_result"
    }
   ],
   "source": [
    "cols_todel2 = missing[missing['missing_val']>300].index\n",
    "df.drop(list(cols_todel2), axis=1, inplace=True)\n",
    "df.shape"
   ]
  },
  {
   "attachments": {},
   "cell_type": "markdown",
   "metadata": {},
   "source": [
    "Of course if one is interested, one can use these columns with the rows that have them, but I choose to have lower dimensionality and more data rows. "
   ]
  },
  {
   "cell_type": "code",
   "execution_count": 12,
   "metadata": {},
   "outputs": [
    {
     "data": {
      "text/plain": [
       "(3714, 67)"
      ]
     },
     "execution_count": 12,
     "metadata": {},
     "output_type": "execute_result"
    }
   ],
   "source": [
    "df = df.dropna(axis = 0) #drop rows with missing values\n",
    "# df = df.reset_index(drop=True)\n",
    "df.shape # and no missing values."
   ]
  },
  {
   "cell_type": "code",
   "execution_count": 13,
   "metadata": {},
   "outputs": [],
   "source": [
    "clean_df = [df]\n",
    "pickle.dump(df,open('clean_df.pkl','wb'))"
   ]
  },
  {
   "attachments": {},
   "cell_type": "markdown",
   "metadata": {},
   "source": [
    "Everything that has to be numeric is already numeric. Let us make a target variable first (please the prediction notebook)"
   ]
  }
 ],
 "metadata": {
  "kernelspec": {
   "display_name": "football_proj",
   "language": "python",
   "name": "python3"
  },
  "language_info": {
   "codemirror_mode": {
    "name": "ipython",
    "version": 3
   },
   "file_extension": ".py",
   "mimetype": "text/x-python",
   "name": "python",
   "nbconvert_exporter": "python",
   "pygments_lexer": "ipython3",
   "version": "3.11.0"
  },
  "orig_nbformat": 4,
  "vscode": {
   "interpreter": {
    "hash": "3b2572b4a15cb33407f4fd5615f06488f520abed03bc861addd9f2796186c7a0"
   }
  }
 },
 "nbformat": 4,
 "nbformat_minor": 2
}
