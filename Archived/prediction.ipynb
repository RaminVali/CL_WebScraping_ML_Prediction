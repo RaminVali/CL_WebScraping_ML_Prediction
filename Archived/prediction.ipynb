{
 "cells": [
  {
   "cell_type": "code",
   "execution_count": 1,
   "metadata": {},
   "outputs": [],
   "source": [
    "import pandas as pd\n",
    "import numpy as np\n",
    "import matplotlib.pyplot as plt\n",
    "from sklearn.metrics import confusion_matrix, ConfusionMatrixDisplay\n",
    "import pickle"
   ]
  },
  {
   "attachments": {},
   "cell_type": "markdown",
   "metadata": {},
   "source": [
    "# Prediction Using Machine Learning\n",
    "## Setting up the target column"
   ]
  },
  {
   "cell_type": "code",
   "execution_count": 2,
   "metadata": {},
   "outputs": [
    {
     "data": {
      "text/plain": [
       "W    1950\n",
       "L     828\n",
       "D     711\n",
       "Name: result, dtype: int64"
      ]
     },
     "execution_count": 2,
     "metadata": {},
     "output_type": "execute_result"
    }
   ],
   "source": [
    "df = pickle.load(open('clean_df.pkl', 'rb'))\n",
    "df['result'].value_counts()"
   ]
  },
  {
   "cell_type": "markdown",
   "metadata": {},
   "source": []
  },
  {
   "cell_type": "markdown",
   "metadata": {},
   "source": [
    "As can be seen from above, the result column is not balanced. Also, according to our brief of predicting if the game is going ot be a win or \"not\", we will have a binary target column, the result is either a win or loss. Te reason the number of wins is a lot higher than the losses and draws is that these tea have qualified for the Champions League. The qualifying teams win the majority of their games in the domestic leagues as well. "
   ]
  },
  {
   "cell_type": "code",
   "execution_count": 3,
   "metadata": {},
   "outputs": [
    {
     "data": {
      "text/plain": [
       "venue\n",
       "Away       0.508752\n",
       "Home       0.612751\n",
       "Neutral    0.458333\n",
       "dtype: float64"
      ]
     },
     "execution_count": 3,
     "metadata": {},
     "output_type": "execute_result"
    }
   ],
   "source": [
    "df = df.sort_values(\"date\")\n",
    "df=df.reset_index(drop=True)\n",
    "df.groupby([\"venue\"]).apply(lambda x: x[x[\"result\"] == 'W'].shape[0]/ x.shape[0])"
   ]
  },
  {
   "cell_type": "code",
   "execution_count": 4,
   "metadata": {},
   "outputs": [
    {
     "data": {
      "text/plain": [
       "Away       1771\n",
       "Home       1694\n",
       "Neutral      24\n",
       "Name: venue, dtype: int64"
      ]
     },
     "execution_count": 4,
     "metadata": {},
     "output_type": "execute_result"
    }
   ],
   "source": [
    "df.venue.value_counts() # this is not balanced. Have to drop the venues that are neutral. It is only 24 rows. "
   ]
  },
  {
   "cell_type": "code",
   "execution_count": 5,
   "metadata": {},
   "outputs": [
    {
     "data": {
      "text/plain": [
       "venue\n",
       "Away    0.508752\n",
       "Home    0.612751\n",
       "dtype: float64"
      ]
     },
     "execution_count": 5,
     "metadata": {},
     "output_type": "execute_result"
    }
   ],
   "source": [
    "df = df.loc[df['venue']!='Neutral'] # dropping venue = neutral. \n",
    "df.groupby([\"venue\"]).apply(lambda x: x[x[\"result\"] == 'W'].shape[0]/ x.shape[0]) # So in %62 of the cases, the team wins their home games, as opposed to onl 52% of their away games. \n",
    "# This is our benchmark."
   ]
  },
  {
   "cell_type": "code",
   "execution_count": 6,
   "metadata": {},
   "outputs": [],
   "source": [
    "df['target'] = (df['result'] == \"W\").astype(\"int\")"
   ]
  },
  {
   "attachments": {},
   "cell_type": "markdown",
   "metadata": {},
   "source": [
    "## Using a Random Forrest Classifier"
   ]
  },
  {
   "cell_type": "code",
   "execution_count": 7,
   "metadata": {},
   "outputs": [],
   "source": [
    "from sklearn.ensemble import RandomForestClassifier\n",
    "from sklearn.metrics import accuracy_score"
   ]
  },
  {
   "attachments": {},
   "cell_type": "markdown",
   "metadata": {},
   "source": [
    "### Just the initial predictors"
   ]
  },
  {
   "cell_type": "code",
   "execution_count": 8,
   "metadata": {},
   "outputs": [
    {
     "name": "stdout",
     "output_type": "stream",
     "text": [
      "(2599, 71)\n",
      "(863, 71)\n",
      "accuracy_score = 0.5770567786790266\n"
     ]
    }
   ],
   "source": [
    "predictors = [\"venue_code\", \"opp_code\", \"hour\", \"day_code\", 'round_code', 'comp_code'] # initial predictors \n",
    "rf = RandomForestClassifier(n_estimators=500, min_samples_split=2, random_state=1, class_weight='balanced')\n",
    "train = df[df['date']< \"2022-08-15\"] # Using 70% of the rows for training and 30% for testing. cannot do splits since we cannot use future data to predict past games. \n",
    "test = df[df['date']> \"2022-08-15\"]\n",
    "rf.fit(train[predictors],train['target'])\n",
    "predictions = rf.predict(test[predictors])\n",
    "print(train.shape)\n",
    "print(test.shape)\n",
    "accuracy_score(test[\"target\"],predictions)\n",
    "print('accuracy_score =' ,accuracy_score(test[\"target\"],predictions))"
   ]
  },
  {
   "cell_type": "code",
   "execution_count": 9,
   "metadata": {},
   "outputs": [
    {
     "data": {
      "text/html": [
       "<div>\n",
       "<style scoped>\n",
       "    .dataframe tbody tr th:only-of-type {\n",
       "        vertical-align: middle;\n",
       "    }\n",
       "\n",
       "    .dataframe tbody tr th {\n",
       "        vertical-align: top;\n",
       "    }\n",
       "\n",
       "    .dataframe thead th {\n",
       "        text-align: right;\n",
       "    }\n",
       "</style>\n",
       "<table border=\"1\" class=\"dataframe\">\n",
       "  <thead>\n",
       "    <tr style=\"text-align: right;\">\n",
       "      <th>predicted</th>\n",
       "      <th>0</th>\n",
       "      <th>1</th>\n",
       "    </tr>\n",
       "    <tr>\n",
       "      <th>actual</th>\n",
       "      <th></th>\n",
       "      <th></th>\n",
       "    </tr>\n",
       "  </thead>\n",
       "  <tbody>\n",
       "    <tr>\n",
       "      <th>0</th>\n",
       "      <td>177</td>\n",
       "      <td>200</td>\n",
       "    </tr>\n",
       "    <tr>\n",
       "      <th>1</th>\n",
       "      <td>165</td>\n",
       "      <td>321</td>\n",
       "    </tr>\n",
       "  </tbody>\n",
       "</table>\n",
       "</div>"
      ],
      "text/plain": [
       "predicted    0    1\n",
       "actual             \n",
       "0          177  200\n",
       "1          165  321"
      ]
     },
     "execution_count": 9,
     "metadata": {},
     "output_type": "execute_result"
    }
   ],
   "source": [
    "combined = pd.DataFrame(dict(actual=test[\"target\"], predicted=predictions))\n",
    "pd.crosstab(index=combined[\"actual\"], columns=combined[\"predicted\"])"
   ]
  },
  {
   "cell_type": "markdown",
   "metadata": {},
   "source": [
    "Accuracy score here is not a good measure, we use precision score as we have false positives and false negatives. 0 is a loss and 1 is a win. "
   ]
  },
  {
   "cell_type": "code",
   "execution_count": 10,
   "metadata": {},
   "outputs": [
    {
     "data": {
      "text/plain": [
       "array([0.51754386, 0.61612284])"
      ]
     },
     "execution_count": 10,
     "metadata": {},
     "output_type": "execute_result"
    }
   ],
   "source": [
    "from sklearn.metrics import precision_score\n",
    "precision_score(test[\"target\"], predictions, average = None) # this shows that we predict %46 for away games and %62 for home games. We need to improve on this."
   ]
  },
  {
   "cell_type": "code",
   "execution_count": 11,
   "metadata": {},
   "outputs": [
    {
     "data": {
      "text/plain": [
       "0.573058789876634"
      ]
     },
     "execution_count": 11,
     "metadata": {},
     "output_type": "execute_result"
    }
   ],
   "source": [
    "precision_score(test[\"target\"], predictions, average = 'weighted')"
   ]
  },
  {
   "attachments": {},
   "cell_type": "markdown",
   "metadata": {},
   "source": [
    "As we can see we do not beat the home/way benchmark only using these features. we will need more features. \n",
    "\n",
    "## Feature Engineering\n",
    "We need to use the rest of the statistics we have to see if we can improve our model. Hence we introduce rolling averages of statistics from previous games as prediction metrics. We have to be careful not to feed any information to the model for predicting a game when we won't have the information. Yu cannot have goals for in the predictors, as that information is known after the game! "
   ]
  },
  {
   "cell_type": "code",
   "execution_count": 12,
   "metadata": {},
   "outputs": [],
   "source": [
    "def rolling_averages(group, cols, new_cols):\n",
    "    group = group.sort_values(\"date\")\n",
    "    rolling_stats = group[cols].rolling(5,closed=\"left\").mean() # closed = left -> to avoid data leakage from future matches\n",
    "    group[new_cols] = rolling_stats\n",
    "    group = group.dropna(subset = new_cols)\n",
    "    return group"
   ]
  },
  {
   "cell_type": "code",
   "execution_count": 13,
   "metadata": {},
   "outputs": [],
   "source": [
    "def make_predictions(data, predictors):\n",
    "    rf = RandomForestClassifier(n_estimators=1000, min_samples_split=10, random_state=1)\n",
    "    train = data[data['date']< \"2022-8-15\"] # Data in order of date use 70% for training\n",
    "    test = data[data['date']> \"2022-8-15\"]\n",
    "    rf.fit(train[predictors],train['target'])\n",
    "    predictions = rf.predict(test[predictors])\n",
    "    combined = pd.DataFrame(dict(actual=test[\"target\"], predicted=predictions))\n",
    "    precision_weight = precision_score(test[\"target\"], predictions, average = 'weighted')\n",
    "    precision_raw = precision_score(test[\"target\"], predictions, average = None)\n",
    "    ConfusionMatrixDisplay.from_estimator(rf, test[predictors], test[\"target\"], display_labels=['won','not won'], cmap=plt.cm.Blues, normalize='true')\n",
    "    return combined, precision_weight, precision_raw, rf.feature_importances_, rf"
   ]
  },
  {
   "cell_type": "markdown",
   "metadata": {},
   "source": [
    "### Trying some features based on domain knowledge."
   ]
  },
  {
   "cell_type": "code",
   "execution_count": 14,
   "metadata": {},
   "outputs": [
    {
     "name": "stdout",
     "output_type": "stream",
     "text": [
      "The raw precision [Away, Home] is: [0.5795053  0.64259928]\n",
      "The weighted precision is: 0.6153113211082752\n"
     ]
    },
    {
     "data": {
      "image/png": "[encoded data removed]",
      "text/plain": [
       "<Figure size 640x480 with 2 Axes>"
      ]
     },
     "metadata": {},
     "output_type": "display_data"
    }
   ],
   "source": [
    "cols = ['gls','gls_opp','gf','gf_opp','sh', 'sot','g/sh','save%_opp','tkl+int','poss_x'] # Choosing based on domain knowledge.\n",
    "new_cols = [f\"{c}_rolling\" for c in cols] # add_rolling to column names\n",
    "\n",
    "df_rolling = df.groupby('team').apply(lambda x: rolling_averages(x,cols,new_cols))\n",
    "df_rolling = df_rolling.droplevel('team')\n",
    "\n",
    "combined, precision_weight, precision_raw, importances, rf = make_predictions (df_rolling, predictors+new_cols)\n",
    "\n",
    "print(\"The raw precision [Away, Home] is:\",precision_raw)\n",
    "print(\"The weighted precision is:\", precision_weight)"
   ]
  },
  {
   "cell_type": "code",
   "execution_count": 15,
   "metadata": {},
   "outputs": [
    {
     "data": {
      "text/plain": [
       "venue\n",
       "Away    0.508752\n",
       "Home    0.612751\n",
       "dtype: float64"
      ]
     },
     "execution_count": 15,
     "metadata": {},
     "output_type": "execute_result"
    }
   ],
   "source": [
    "df.groupby([\"venue\"]).apply(lambda x: x[x[\"result\"] == 'W'].shape[0]/ x.shape[0]) # What we get by predicting home wins, i.e. %62 of the home games are won and %52 of the away games. "
   ]
  },
  {
   "cell_type": "markdown",
   "metadata": {},
   "source": [
    "We are already over the benchmark with the above stats, but we will try and improve. "
   ]
  },
  {
   "cell_type": "code",
   "execution_count": 16,
   "metadata": {},
   "outputs": [
    {
     "data": {
      "text/html": [
       "<div>\n",
       "<style scoped>\n",
       "    .dataframe tbody tr th:only-of-type {\n",
       "        vertical-align: middle;\n",
       "    }\n",
       "\n",
       "    .dataframe tbody tr th {\n",
       "        vertical-align: top;\n",
       "    }\n",
       "\n",
       "    .dataframe thead th {\n",
       "        text-align: right;\n",
       "    }\n",
       "</style>\n",
       "<table border=\"1\" class=\"dataframe\">\n",
       "  <thead>\n",
       "    <tr style=\"text-align: right;\">\n",
       "      <th>predicted</th>\n",
       "      <th>0</th>\n",
       "      <th>1</th>\n",
       "    </tr>\n",
       "    <tr>\n",
       "      <th>actual</th>\n",
       "      <th></th>\n",
       "      <th></th>\n",
       "    </tr>\n",
       "  </thead>\n",
       "  <tbody>\n",
       "    <tr>\n",
       "      <th>0</th>\n",
       "      <td>164</td>\n",
       "      <td>198</td>\n",
       "    </tr>\n",
       "    <tr>\n",
       "      <th>1</th>\n",
       "      <td>119</td>\n",
       "      <td>356</td>\n",
       "    </tr>\n",
       "  </tbody>\n",
       "</table>\n",
       "</div>"
      ],
      "text/plain": [
       "predicted    0    1\n",
       "actual             \n",
       "0          164  198\n",
       "1          119  356"
      ]
     },
     "execution_count": 16,
     "metadata": {},
     "output_type": "execute_result"
    }
   ],
   "source": [
    "pd.crosstab(index=combined[\"actual\"], columns=combined[\"predicted\"])"
   ]
  },
  {
   "cell_type": "code",
   "execution_count": 17,
   "metadata": {},
   "outputs": [
    {
     "data": {
      "image/png": "[encoded data removed]",
      "text/plain": [
       "<Figure size 640x480 with 1 Axes>"
      ]
     },
     "metadata": {},
     "output_type": "display_data"
    }
   ],
   "source": [
    "importance = pd.Series(data=importances,\n",
    "                        index=  predictors+new_cols)\n",
    "# Sort importances\n",
    "importances_sorted = importance.sort_values()\n",
    "# Draw a horizontal barplot of importances_sorted\n",
    "importances_sorted.plot(kind='barh', color='blue')\n",
    "plt.title('Features Importances')\n",
    "plt.show()"
   ]
  },
  {
   "cell_type": "markdown",
   "metadata": {},
   "source": [
    "### Using all the columns by getting a rolling average for them. "
   ]
  },
  {
   "cell_type": "code",
   "execution_count": 18,
   "metadata": {},
   "outputs": [
    {
     "data": {
      "text/plain": [
       "['venue_code', 'opp_code', 'hour', 'day_code', 'round_code', 'comp_code']"
      ]
     },
     "execution_count": 18,
     "metadata": {},
     "output_type": "execute_result"
    }
   ],
   "source": [
    "predictors"
   ]
  },
  {
   "cell_type": "code",
   "execution_count": 19,
   "metadata": {},
   "outputs": [
    {
     "data": {
      "text/plain": [
       "(3465, 71)"
      ]
     },
     "execution_count": 19,
     "metadata": {},
     "output_type": "execute_result"
    }
   ],
   "source": [
    "df.shape"
   ]
  },
  {
   "cell_type": "code",
   "execution_count": 20,
   "metadata": {},
   "outputs": [
    {
     "name": "stdout",
     "output_type": "stream",
     "text": [
      "[0.59090909 0.63193277]\n",
      "0.6141901530895838\n"
     ]
    },
    {
     "data": {
      "image/png": "[encoded data removed]",
      "text/plain": [
       "<Figure size 640x480 with 2 Axes>"
      ]
     },
     "metadata": {},
     "output_type": "display_data"
    }
   ],
   "source": [
    "cols = ['gf',\n",
    "       'gls', 'sh', 'sot', 'sot%', 'g/sh', 'pk', 'pkatt', 'gf_opp', 'gls_opp',\n",
    "       'sh_opp', 'sot_opp', 'sot%_opp', 'g/sh_opp', 'pk_opp', 'pkatt_opp',\n",
    "       'sota', 'saves', 'cs', 'pka', 'pksv', 'pkm', 'sota_opp', 'saves_opp',\n",
    "       'save%_opp', 'cs_opp', 'pka_opp', 'pksv_opp', 'pkm_opp', 'ast',\n",
    "       'ast_opp', 'crs', 'crs_opp', 'tklw', 'int', 'tkl+int', 'tklw_opp',\n",
    "       'int_opp', 'tkl+int_opp', 'poss_x', 'poss_opp', 'crdy', 'crdr', '2crdy',\n",
    "       'fls', 'og', 'crdy_opp', 'crdr_opp', '2crdy_opp', 'fls_opp', 'og_opp',\n",
    "       ]\n",
    "\n",
    "rolling_cols = [f\"{c}_rolling\" for c in cols] # add_rolling to column names\n",
    "\n",
    "df_rolling = df.groupby('team').apply(lambda x: rolling_averages(x,cols,rolling_cols))\n",
    "df_rolling = df_rolling.droplevel('team')\n",
    "\n",
    "all_cols = rolling_cols+predictors\n",
    "\n",
    "combined, precision_weight, precision_raw, importances, rf = make_predictions (df_rolling, all_cols)\n",
    "\n",
    "print(precision_raw)\n",
    "print(precision_weight)"
   ]
  },
  {
   "cell_type": "code",
   "execution_count": 21,
   "metadata": {},
   "outputs": [
    {
     "data": {
      "image/png": "[encoded data removed]",
      "text/plain": [
       "<Figure size 500x1000 with 1 Axes>"
      ]
     },
     "metadata": {},
     "output_type": "display_data"
    }
   ],
   "source": [
    "importance = pd.Series(data=importances, index=  all_cols)\n",
    "# Sort importances\n",
    "importances_sorted = importance.sort_values()\n",
    "# Draw a horizontal barplot of importances_sorted\n",
    "importances_sorted.plot(kind='barh', color='blue', figsize = (5,10), grid = True, xlabel = 'Feature Importances')\n",
    "plt.title('Feature Importances for Random Forrest Classifier')\n",
    "plt.show()"
   ]
  },
  {
   "attachments": {},
   "cell_type": "markdown",
   "metadata": {},
   "source": [
    "We rank the features based on their importance, and then we prune the least important ones. "
   ]
  },
  {
   "cell_type": "code",
   "execution_count": 22,
   "metadata": {},
   "outputs": [
    {
     "data": {
      "text/html": [
       "<div>\n",
       "<style scoped>\n",
       "    .dataframe tbody tr th:only-of-type {\n",
       "        vertical-align: middle;\n",
       "    }\n",
       "\n",
       "    .dataframe tbody tr th {\n",
       "        vertical-align: top;\n",
       "    }\n",
       "\n",
       "    .dataframe thead th {\n",
       "        text-align: right;\n",
       "    }\n",
       "</style>\n",
       "<table border=\"1\" class=\"dataframe\">\n",
       "  <thead>\n",
       "    <tr style=\"text-align: right;\">\n",
       "      <th></th>\n",
       "      <th>imp_vals</th>\n",
       "    </tr>\n",
       "  </thead>\n",
       "  <tbody>\n",
       "    <tr>\n",
       "      <th>pkm_rolling</th>\n",
       "      <td>0.001305</td>\n",
       "    </tr>\n",
       "    <tr>\n",
       "      <th>pkm_opp_rolling</th>\n",
       "      <td>0.002032</td>\n",
       "    </tr>\n",
       "    <tr>\n",
       "      <th>pksv_rolling</th>\n",
       "      <td>0.003013</td>\n",
       "    </tr>\n",
       "    <tr>\n",
       "      <th>og_rolling</th>\n",
       "      <td>0.003258</td>\n",
       "    </tr>\n",
       "    <tr>\n",
       "      <th>2crdy_opp_rolling</th>\n",
       "      <td>0.003432</td>\n",
       "    </tr>\n",
       "    <tr>\n",
       "      <th>2crdy_rolling</th>\n",
       "      <td>0.003560</td>\n",
       "    </tr>\n",
       "    <tr>\n",
       "      <th>og_opp_rolling</th>\n",
       "      <td>0.003860</td>\n",
       "    </tr>\n",
       "    <tr>\n",
       "      <th>pksv_opp_rolling</th>\n",
       "      <td>0.004050</td>\n",
       "    </tr>\n",
       "    <tr>\n",
       "      <th>pk_opp_rolling</th>\n",
       "      <td>0.004766</td>\n",
       "    </tr>\n",
       "    <tr>\n",
       "      <th>pka_rolling</th>\n",
       "      <td>0.004790</td>\n",
       "    </tr>\n",
       "    <tr>\n",
       "      <th>crdr_rolling</th>\n",
       "      <td>0.004822</td>\n",
       "    </tr>\n",
       "    <tr>\n",
       "      <th>crdr_opp_rolling</th>\n",
       "      <td>0.005136</td>\n",
       "    </tr>\n",
       "    <tr>\n",
       "      <th>pkatt_opp_rolling</th>\n",
       "      <td>0.005571</td>\n",
       "    </tr>\n",
       "    <tr>\n",
       "      <th>cs_opp_rolling</th>\n",
       "      <td>0.005601</td>\n",
       "    </tr>\n",
       "    <tr>\n",
       "      <th>pk_rolling</th>\n",
       "      <td>0.006192</td>\n",
       "    </tr>\n",
       "    <tr>\n",
       "      <th>pka_opp_rolling</th>\n",
       "      <td>0.006329</td>\n",
       "    </tr>\n",
       "    <tr>\n",
       "      <th>pkatt_rolling</th>\n",
       "      <td>0.008193</td>\n",
       "    </tr>\n",
       "    <tr>\n",
       "      <th>venue_code</th>\n",
       "      <td>0.008516</td>\n",
       "    </tr>\n",
       "    <tr>\n",
       "      <th>cs_rolling</th>\n",
       "      <td>0.009028</td>\n",
       "    </tr>\n",
       "    <tr>\n",
       "      <th>ast_opp_rolling</th>\n",
       "      <td>0.014187</td>\n",
       "    </tr>\n",
       "    <tr>\n",
       "      <th>gls_opp_rolling</th>\n",
       "      <td>0.014260</td>\n",
       "    </tr>\n",
       "    <tr>\n",
       "      <th>day_code</th>\n",
       "      <td>0.014985</td>\n",
       "    </tr>\n",
       "    <tr>\n",
       "      <th>gls_rolling</th>\n",
       "      <td>0.015484</td>\n",
       "    </tr>\n",
       "    <tr>\n",
       "      <th>ast_rolling</th>\n",
       "      <td>0.015557</td>\n",
       "    </tr>\n",
       "    <tr>\n",
       "      <th>gf_opp_rolling</th>\n",
       "      <td>0.015656</td>\n",
       "    </tr>\n",
       "    <tr>\n",
       "      <th>gf_rolling</th>\n",
       "      <td>0.016068</td>\n",
       "    </tr>\n",
       "    <tr>\n",
       "      <th>hour</th>\n",
       "      <td>0.016889</td>\n",
       "    </tr>\n",
       "    <tr>\n",
       "      <th>saves_rolling</th>\n",
       "      <td>0.018076</td>\n",
       "    </tr>\n",
       "    <tr>\n",
       "      <th>saves_opp_rolling</th>\n",
       "      <td>0.018751</td>\n",
       "    </tr>\n",
       "    <tr>\n",
       "      <th>sota_rolling</th>\n",
       "      <td>0.018804</td>\n",
       "    </tr>\n",
       "    <tr>\n",
       "      <th>sot_opp_rolling</th>\n",
       "      <td>0.019212</td>\n",
       "    </tr>\n",
       "    <tr>\n",
       "      <th>crdy_opp_rolling</th>\n",
       "      <td>0.020029</td>\n",
       "    </tr>\n",
       "    <tr>\n",
       "      <th>sot_rolling</th>\n",
       "      <td>0.021050</td>\n",
       "    </tr>\n",
       "    <tr>\n",
       "      <th>sota_opp_rolling</th>\n",
       "      <td>0.021888</td>\n",
       "    </tr>\n",
       "    <tr>\n",
       "      <th>crdy_rolling</th>\n",
       "      <td>0.021908</td>\n",
       "    </tr>\n",
       "    <tr>\n",
       "      <th>comp_code</th>\n",
       "      <td>0.022301</td>\n",
       "    </tr>\n",
       "    <tr>\n",
       "      <th>tklw_rolling</th>\n",
       "      <td>0.023568</td>\n",
       "    </tr>\n",
       "    <tr>\n",
       "      <th>tkl+int_rolling</th>\n",
       "      <td>0.025139</td>\n",
       "    </tr>\n",
       "    <tr>\n",
       "      <th>tklw_opp_rolling</th>\n",
       "      <td>0.025289</td>\n",
       "    </tr>\n",
       "    <tr>\n",
       "      <th>sh_rolling</th>\n",
       "      <td>0.025486</td>\n",
       "    </tr>\n",
       "    <tr>\n",
       "      <th>g/sh_rolling</th>\n",
       "      <td>0.025932</td>\n",
       "    </tr>\n",
       "    <tr>\n",
       "      <th>fls_opp_rolling</th>\n",
       "      <td>0.026903</td>\n",
       "    </tr>\n",
       "    <tr>\n",
       "      <th>crs_opp_rolling</th>\n",
       "      <td>0.027525</td>\n",
       "    </tr>\n",
       "    <tr>\n",
       "      <th>g/sh_opp_rolling</th>\n",
       "      <td>0.027582</td>\n",
       "    </tr>\n",
       "    <tr>\n",
       "      <th>crs_rolling</th>\n",
       "      <td>0.027650</td>\n",
       "    </tr>\n",
       "    <tr>\n",
       "      <th>round_code</th>\n",
       "      <td>0.028035</td>\n",
       "    </tr>\n",
       "    <tr>\n",
       "      <th>int_rolling</th>\n",
       "      <td>0.028087</td>\n",
       "    </tr>\n",
       "    <tr>\n",
       "      <th>tkl+int_opp_rolling</th>\n",
       "      <td>0.028264</td>\n",
       "    </tr>\n",
       "    <tr>\n",
       "      <th>poss_x_rolling</th>\n",
       "      <td>0.028307</td>\n",
       "    </tr>\n",
       "    <tr>\n",
       "      <th>poss_opp_rolling</th>\n",
       "      <td>0.028888</td>\n",
       "    </tr>\n",
       "    <tr>\n",
       "      <th>sh_opp_rolling</th>\n",
       "      <td>0.029048</td>\n",
       "    </tr>\n",
       "    <tr>\n",
       "      <th>int_opp_rolling</th>\n",
       "      <td>0.029130</td>\n",
       "    </tr>\n",
       "    <tr>\n",
       "      <th>save%_opp_rolling</th>\n",
       "      <td>0.030054</td>\n",
       "    </tr>\n",
       "    <tr>\n",
       "      <th>fls_rolling</th>\n",
       "      <td>0.030810</td>\n",
       "    </tr>\n",
       "    <tr>\n",
       "      <th>sot%_rolling</th>\n",
       "      <td>0.033022</td>\n",
       "    </tr>\n",
       "    <tr>\n",
       "      <th>sot%_opp_rolling</th>\n",
       "      <td>0.034522</td>\n",
       "    </tr>\n",
       "    <tr>\n",
       "      <th>opp_code</th>\n",
       "      <td>0.038203</td>\n",
       "    </tr>\n",
       "  </tbody>\n",
       "</table>\n",
       "</div>"
      ],
      "text/plain": [
       "                     imp_vals\n",
       "pkm_rolling          0.001305\n",
       "pkm_opp_rolling      0.002032\n",
       "pksv_rolling         0.003013\n",
       "og_rolling           0.003258\n",
       "2crdy_opp_rolling    0.003432\n",
       "2crdy_rolling        0.003560\n",
       "og_opp_rolling       0.003860\n",
       "pksv_opp_rolling     0.004050\n",
       "pk_opp_rolling       0.004766\n",
       "pka_rolling          0.004790\n",
       "crdr_rolling         0.004822\n",
       "crdr_opp_rolling     0.005136\n",
       "pkatt_opp_rolling    0.005571\n",
       "cs_opp_rolling       0.005601\n",
       "pk_rolling           0.006192\n",
       "pka_opp_rolling      0.006329\n",
       "pkatt_rolling        0.008193\n",
       "venue_code           0.008516\n",
       "cs_rolling           0.009028\n",
       "ast_opp_rolling      0.014187\n",
       "gls_opp_rolling      0.014260\n",
       "day_code             0.014985\n",
       "gls_rolling          0.015484\n",
       "ast_rolling          0.015557\n",
       "gf_opp_rolling       0.015656\n",
       "gf_rolling           0.016068\n",
       "hour                 0.016889\n",
       "saves_rolling        0.018076\n",
       "saves_opp_rolling    0.018751\n",
       "sota_rolling         0.018804\n",
       "sot_opp_rolling      0.019212\n",
       "crdy_opp_rolling     0.020029\n",
       "sot_rolling          0.021050\n",
       "sota_opp_rolling     0.021888\n",
       "crdy_rolling         0.021908\n",
       "comp_code            0.022301\n",
       "tklw_rolling         0.023568\n",
       "tkl+int_rolling      0.025139\n",
       "tklw_opp_rolling     0.025289\n",
       "sh_rolling           0.025486\n",
       "g/sh_rolling         0.025932\n",
       "fls_opp_rolling      0.026903\n",
       "crs_opp_rolling      0.027525\n",
       "g/sh_opp_rolling     0.027582\n",
       "crs_rolling          0.027650\n",
       "round_code           0.028035\n",
       "int_rolling          0.028087\n",
       "tkl+int_opp_rolling  0.028264\n",
       "poss_x_rolling       0.028307\n",
       "poss_opp_rolling     0.028888\n",
       "sh_opp_rolling       0.029048\n",
       "int_opp_rolling      0.029130\n",
       "save%_opp_rolling    0.030054\n",
       "fls_rolling          0.030810\n",
       "sot%_rolling         0.033022\n",
       "sot%_opp_rolling     0.034522\n",
       "opp_code             0.038203"
      ]
     },
     "execution_count": 22,
     "metadata": {},
     "output_type": "execute_result"
    }
   ],
   "source": [
    "data ={'imp_vals':importances}\n",
    "imp_df = pd.DataFrame(data=data, index=all_cols)\n",
    "imp_df.sort_values(by = 'imp_vals')"
   ]
  },
  {
   "cell_type": "code",
   "execution_count": 23,
   "metadata": {},
   "outputs": [
    {
     "name": "stdout",
     "output_type": "stream",
     "text": [
      "[0.5814978  0.62295082]\n",
      "0.6050225113350468\n"
     ]
    },
    {
     "data": {
      "text/html": [
       "<div>\n",
       "<style scoped>\n",
       "    .dataframe tbody tr th:only-of-type {\n",
       "        vertical-align: middle;\n",
       "    }\n",
       "\n",
       "    .dataframe tbody tr th {\n",
       "        vertical-align: top;\n",
       "    }\n",
       "\n",
       "    .dataframe thead th {\n",
       "        text-align: right;\n",
       "    }\n",
       "</style>\n",
       "<table border=\"1\" class=\"dataframe\">\n",
       "  <thead>\n",
       "    <tr style=\"text-align: right;\">\n",
       "      <th>predicted</th>\n",
       "      <th>0</th>\n",
       "      <th>1</th>\n",
       "    </tr>\n",
       "    <tr>\n",
       "      <th>actual</th>\n",
       "      <th></th>\n",
       "      <th></th>\n",
       "    </tr>\n",
       "  </thead>\n",
       "  <tbody>\n",
       "    <tr>\n",
       "      <th>0</th>\n",
       "      <td>132</td>\n",
       "      <td>230</td>\n",
       "    </tr>\n",
       "    <tr>\n",
       "      <th>1</th>\n",
       "      <td>95</td>\n",
       "      <td>380</td>\n",
       "    </tr>\n",
       "  </tbody>\n",
       "</table>\n",
       "</div>"
      ],
      "text/plain": [
       "predicted    0    1\n",
       "actual             \n",
       "0          132  230\n",
       "1           95  380"
      ]
     },
     "execution_count": 23,
     "metadata": {},
     "output_type": "execute_result"
    },
    {
     "data": {
      "image/png": "[encoded data removed]",
      "text/plain": [
       "<Figure size 640x480 with 2 Axes>"
      ]
     },
     "metadata": {},
     "output_type": "display_data"
    }
   ],
   "source": [
    "predictors3 = imp_df.loc[imp_df['imp_vals']>0.015].index # Selecting from the chosen features, and removing the east important ones. \n",
    "combined, precision_weight, precision_raw, importances,rf = make_predictions (df_rolling, predictors3)\n",
    "\n",
    "print(precision_raw)\n",
    "print(precision_weight)\n",
    "\n",
    "pd.crosstab(index=combined[\"actual\"], columns=combined[\"predicted\"])"
   ]
  },
  {
   "cell_type": "code",
   "execution_count": 24,
   "metadata": {},
   "outputs": [
    {
     "data": {
      "image/png": "[encoded data removed]",
      "text/plain": [
       "<Figure size 500x1000 with 1 Axes>"
      ]
     },
     "metadata": {},
     "output_type": "display_data"
    }
   ],
   "source": [
    "importance = pd.Series(data=importances, index=  predictors3)\n",
    "# Sort importances\n",
    "importances_sorted = importance.sort_values()\n",
    "# Draw a horizontal barplot of importances_sorted\n",
    "\n",
    "importances_sorted.plot(kind='barh', color='blue',figsize = (5,10), grid = True, xlabel = 'Feature Importances')\n",
    "plt.title('Feature Importances for Random Forrest Classifier')\n",
    "plt.show()"
   ]
  },
  {
   "cell_type": "markdown",
   "metadata": {},
   "source": [
    "## More feature Engineering with summation. "
   ]
  },
  {
   "cell_type": "code",
   "execution_count": 25,
   "metadata": {},
   "outputs": [
    {
     "name": "stdout",
     "output_type": "stream",
     "text": [
      "[0.5625     0.61976549]\n",
      "0.5949983389668374\n"
     ]
    },
    {
     "data": {
      "text/html": [
       "<div>\n",
       "<style scoped>\n",
       "    .dataframe tbody tr th:only-of-type {\n",
       "        vertical-align: middle;\n",
       "    }\n",
       "\n",
       "    .dataframe tbody tr th {\n",
       "        vertical-align: top;\n",
       "    }\n",
       "\n",
       "    .dataframe thead th {\n",
       "        text-align: right;\n",
       "    }\n",
       "</style>\n",
       "<table border=\"1\" class=\"dataframe\">\n",
       "  <thead>\n",
       "    <tr style=\"text-align: right;\">\n",
       "      <th>predicted</th>\n",
       "      <th>0</th>\n",
       "      <th>1</th>\n",
       "    </tr>\n",
       "    <tr>\n",
       "      <th>actual</th>\n",
       "      <th></th>\n",
       "      <th></th>\n",
       "    </tr>\n",
       "  </thead>\n",
       "  <tbody>\n",
       "    <tr>\n",
       "      <th>0</th>\n",
       "      <td>135</td>\n",
       "      <td>227</td>\n",
       "    </tr>\n",
       "    <tr>\n",
       "      <th>1</th>\n",
       "      <td>105</td>\n",
       "      <td>370</td>\n",
       "    </tr>\n",
       "  </tbody>\n",
       "</table>\n",
       "</div>"
      ],
      "text/plain": [
       "predicted    0    1\n",
       "actual             \n",
       "0          135  227\n",
       "1          105  370"
      ]
     },
     "execution_count": 25,
     "metadata": {},
     "output_type": "execute_result"
    },
    {
     "data": {
      "image/png": "[encoded data removed]",
      "text/plain": [
       "<Figure size 640x480 with 2 Axes>"
      ]
     },
     "metadata": {},
     "output_type": "display_data"
    }
   ],
   "source": [
    "df_rolling[\"fls_rolling+sot%_rolling\"] = df_rolling[\"fls_rolling\"]+df_rolling['sot%_rolling']\n",
    "predictors3 = list(predictors3) + [\"fls_rolling+sot%_rolling\"] # Adding two columns together\n",
    "combined, precision_weight, precision_raw, importances,rf = make_predictions (df_rolling, predictors3)\n",
    "print(precision_raw)\n",
    "print(precision_weight)\n",
    "pd.crosstab(index=combined[\"actual\"], columns=combined[\"predicted\"])\n"
   ]
  },
  {
   "attachments": {},
   "cell_type": "markdown",
   "metadata": {},
   "source": [
    "No improvement"
   ]
  },
  {
   "cell_type": "code",
   "execution_count": 26,
   "metadata": {},
   "outputs": [
    {
     "data": {
      "text/plain": [
       "32"
      ]
     },
     "execution_count": 26,
     "metadata": {},
     "output_type": "execute_result"
    }
   ],
   "source": [
    "len(df[df['season']=='2022-2023']['team'].unique()) #32 teams checks out"
   ]
  },
  {
   "cell_type": "code",
   "execution_count": 27,
   "metadata": {},
   "outputs": [
    {
     "data": {
      "text/plain": [
       "1    1939\n",
       "0    1526\n",
       "Name: target, dtype: int64"
      ]
     },
     "execution_count": 27,
     "metadata": {},
     "output_type": "execute_result"
    }
   ],
   "source": [
    "df.target.value_counts()"
   ]
  },
  {
   "attachments": {},
   "cell_type": "markdown",
   "metadata": {},
   "source": [
    "## Prediction Using XGBoost"
   ]
  },
  {
   "cell_type": "code",
   "execution_count": 28,
   "metadata": {},
   "outputs": [
    {
     "data": {
      "text/html": [
       "<div>\n",
       "<style scoped>\n",
       "    .dataframe tbody tr th:only-of-type {\n",
       "        vertical-align: middle;\n",
       "    }\n",
       "\n",
       "    .dataframe tbody tr th {\n",
       "        vertical-align: top;\n",
       "    }\n",
       "\n",
       "    .dataframe thead th {\n",
       "        text-align: right;\n",
       "    }\n",
       "</style>\n",
       "<table border=\"1\" class=\"dataframe\">\n",
       "  <thead>\n",
       "    <tr style=\"text-align: right;\">\n",
       "      <th></th>\n",
       "      <th>date</th>\n",
       "      <th>time</th>\n",
       "      <th>comp</th>\n",
       "      <th>round</th>\n",
       "      <th>day</th>\n",
       "      <th>venue</th>\n",
       "      <th>result</th>\n",
       "      <th>gf</th>\n",
       "      <th>opponent</th>\n",
       "      <th>gls</th>\n",
       "      <th>...</th>\n",
       "      <th>crdr_rolling</th>\n",
       "      <th>2crdy_rolling</th>\n",
       "      <th>fls_rolling</th>\n",
       "      <th>og_rolling</th>\n",
       "      <th>crdy_opp_rolling</th>\n",
       "      <th>crdr_opp_rolling</th>\n",
       "      <th>2crdy_opp_rolling</th>\n",
       "      <th>fls_opp_rolling</th>\n",
       "      <th>og_opp_rolling</th>\n",
       "      <th>fls_rolling+sot%_rolling</th>\n",
       "    </tr>\n",
       "  </thead>\n",
       "  <tbody>\n",
       "    <tr>\n",
       "      <th>193</th>\n",
       "      <td>2020-10-21</td>\n",
       "      <td>21:00</td>\n",
       "      <td>Champions Lg</td>\n",
       "      <td>Group stage</td>\n",
       "      <td>Wed</td>\n",
       "      <td>Home</td>\n",
       "      <td>L</td>\n",
       "      <td>0</td>\n",
       "      <td>Liverpool</td>\n",
       "      <td>0.0</td>\n",
       "      <td>...</td>\n",
       "      <td>0.50</td>\n",
       "      <td>0.0</td>\n",
       "      <td>0.376812</td>\n",
       "      <td>0.000000</td>\n",
       "      <td>0.28</td>\n",
       "      <td>0.2</td>\n",
       "      <td>0.0</td>\n",
       "      <td>0.421053</td>\n",
       "      <td>0.0</td>\n",
       "      <td>39.12</td>\n",
       "    </tr>\n",
       "    <tr>\n",
       "      <th>224</th>\n",
       "      <td>2020-10-27</td>\n",
       "      <td>21:00</td>\n",
       "      <td>Champions Lg</td>\n",
       "      <td>Group stage</td>\n",
       "      <td>Tue</td>\n",
       "      <td>Away</td>\n",
       "      <td>D</td>\n",
       "      <td>2</td>\n",
       "      <td>Atalanta</td>\n",
       "      <td>2.0</td>\n",
       "      <td>...</td>\n",
       "      <td>0.25</td>\n",
       "      <td>0.0</td>\n",
       "      <td>0.333333</td>\n",
       "      <td>0.333333</td>\n",
       "      <td>0.28</td>\n",
       "      <td>0.2</td>\n",
       "      <td>0.0</td>\n",
       "      <td>0.368421</td>\n",
       "      <td>0.0</td>\n",
       "      <td>36.30</td>\n",
       "    </tr>\n",
       "    <tr>\n",
       "      <th>252</th>\n",
       "      <td>2020-10-31</td>\n",
       "      <td>20:00</td>\n",
       "      <td>Eredivisie</td>\n",
       "      <td>Regular season</td>\n",
       "      <td>Sat</td>\n",
       "      <td>Home</td>\n",
       "      <td>W</td>\n",
       "      <td>5</td>\n",
       "      <td>Fortuna Sittard</td>\n",
       "      <td>5.0</td>\n",
       "      <td>...</td>\n",
       "      <td>0.25</td>\n",
       "      <td>0.0</td>\n",
       "      <td>0.449275</td>\n",
       "      <td>0.333333</td>\n",
       "      <td>0.40</td>\n",
       "      <td>0.0</td>\n",
       "      <td>0.0</td>\n",
       "      <td>0.447368</td>\n",
       "      <td>0.0</td>\n",
       "      <td>39.20</td>\n",
       "    </tr>\n",
       "    <tr>\n",
       "      <th>283</th>\n",
       "      <td>2020-11-03</td>\n",
       "      <td>21:00</td>\n",
       "      <td>Champions Lg</td>\n",
       "      <td>Group stage</td>\n",
       "      <td>Tue</td>\n",
       "      <td>Away</td>\n",
       "      <td>W</td>\n",
       "      <td>2</td>\n",
       "      <td>Midtjylland</td>\n",
       "      <td>2.0</td>\n",
       "      <td>...</td>\n",
       "      <td>0.00</td>\n",
       "      <td>0.0</td>\n",
       "      <td>0.434783</td>\n",
       "      <td>0.333333</td>\n",
       "      <td>0.28</td>\n",
       "      <td>0.0</td>\n",
       "      <td>0.0</td>\n",
       "      <td>0.394737</td>\n",
       "      <td>0.0</td>\n",
       "      <td>39.74</td>\n",
       "    </tr>\n",
       "    <tr>\n",
       "      <th>324</th>\n",
       "      <td>2020-11-08</td>\n",
       "      <td>12:15</td>\n",
       "      <td>Eredivisie</td>\n",
       "      <td>Regular season</td>\n",
       "      <td>Sun</td>\n",
       "      <td>Away</td>\n",
       "      <td>W</td>\n",
       "      <td>3</td>\n",
       "      <td>Utrecht</td>\n",
       "      <td>3.0</td>\n",
       "      <td>...</td>\n",
       "      <td>0.00</td>\n",
       "      <td>0.0</td>\n",
       "      <td>0.579710</td>\n",
       "      <td>0.333333</td>\n",
       "      <td>0.32</td>\n",
       "      <td>0.0</td>\n",
       "      <td>0.0</td>\n",
       "      <td>0.500000</td>\n",
       "      <td>0.0</td>\n",
       "      <td>55.52</td>\n",
       "    </tr>\n",
       "  </tbody>\n",
       "</table>\n",
       "<p>5 rows × 123 columns</p>\n",
       "</div>"
      ],
      "text/plain": [
       "          date   time          comp           round  day venue result gf  \\\n",
       "193 2020-10-21  21:00  Champions Lg     Group stage  Wed  Home      L  0   \n",
       "224 2020-10-27  21:00  Champions Lg     Group stage  Tue  Away      D  2   \n",
       "252 2020-10-31  20:00    Eredivisie  Regular season  Sat  Home      W  5   \n",
       "283 2020-11-03  21:00  Champions Lg     Group stage  Tue  Away      W  2   \n",
       "324 2020-11-08  12:15    Eredivisie  Regular season  Sun  Away      W  3   \n",
       "\n",
       "            opponent  gls  ...  crdr_rolling  2crdy_rolling  fls_rolling  \\\n",
       "193        Liverpool  0.0  ...          0.50            0.0     0.376812   \n",
       "224         Atalanta  2.0  ...          0.25            0.0     0.333333   \n",
       "252  Fortuna Sittard  5.0  ...          0.25            0.0     0.449275   \n",
       "283      Midtjylland  2.0  ...          0.00            0.0     0.434783   \n",
       "324          Utrecht  3.0  ...          0.00            0.0     0.579710   \n",
       "\n",
       "     og_rolling  crdy_opp_rolling  crdr_opp_rolling  2crdy_opp_rolling  \\\n",
       "193    0.000000              0.28               0.2                0.0   \n",
       "224    0.333333              0.28               0.2                0.0   \n",
       "252    0.333333              0.40               0.0                0.0   \n",
       "283    0.333333              0.28               0.0                0.0   \n",
       "324    0.333333              0.32               0.0                0.0   \n",
       "\n",
       "    fls_opp_rolling  og_opp_rolling  fls_rolling+sot%_rolling  \n",
       "193        0.421053             0.0                     39.12  \n",
       "224        0.368421             0.0                     36.30  \n",
       "252        0.447368             0.0                     39.20  \n",
       "283        0.394737             0.0                     39.74  \n",
       "324        0.500000             0.0                     55.52  \n",
       "\n",
       "[5 rows x 123 columns]"
      ]
     },
     "execution_count": 28,
     "metadata": {},
     "output_type": "execute_result"
    }
   ],
   "source": [
    "#Using minmax scaling to prepare for XG boost. \n",
    "df_rolling[rolling_cols] = (df_rolling[rolling_cols]-df_rolling[rolling_cols].min())/(df_rolling[rolling_cols].max()-df_rolling[rolling_cols].min())\n",
    "df_rolling.head() # Normalised now (range between 0,1)"
   ]
  },
  {
   "cell_type": "code",
   "execution_count": 29,
   "metadata": {},
   "outputs": [],
   "source": [
    "def make_xgb_predictions(XGB_model, data, predictors):\n",
    "    train = data[data['date']< \"2022-8-15\"] # Data in order of date use 70% for training\n",
    "    test = data[data['date']> \"2022-8-15\"]\n",
    "    \n",
    "    eval_set = [(train[predictors], train['target']), (test[predictors], test['target'])]\n",
    "\n",
    "    XGB_model.fit(train[predictors],train['target'], eval_set=eval_set, verbose=True)\n",
    "\n",
    "    predictions = XGB_model.predict(test[predictors])\n",
    "\n",
    "    combined = pd.DataFrame(dict(actual=test[\"target\"], predicted=predictions))\n",
    "\n",
    "    precision_weight = precision_score(test[\"target\"], predictions, average = 'weighted')\n",
    "    precision_raw = precision_score(test[\"target\"], predictions, average = None)\n",
    "\n",
    "    return combined, precision_weight, precision_raw, XGB_model.feature_importances_, XGB_model"
   ]
  },
  {
   "cell_type": "code",
   "execution_count": 30,
   "metadata": {},
   "outputs": [
    {
     "name": "stdout",
     "output_type": "stream",
     "text": [
      "[0]\tvalidation_0-auc:0.46915\tvalidation_1-auc:0.46654\n",
      "[1]\tvalidation_0-auc:0.52374\tvalidation_1-auc:0.52078\n",
      "[2]\tvalidation_0-auc:0.55666\tvalidation_1-auc:0.56215\n",
      "[3]\tvalidation_0-auc:0.57179\tvalidation_1-auc:0.56691\n",
      "[4]\tvalidation_0-auc:0.58453\tvalidation_1-auc:0.57663\n",
      "[5]\tvalidation_0-auc:0.58638\tvalidation_1-auc:0.57249\n",
      "[6]\tvalidation_0-auc:0.59164\tvalidation_1-auc:0.57277\n",
      "[7]\tvalidation_0-auc:0.58995\tvalidation_1-auc:0.57107\n",
      "[8]\tvalidation_0-auc:0.59072\tvalidation_1-auc:0.58104\n",
      "[9]\tvalidation_0-auc:0.60073\tvalidation_1-auc:0.59464\n",
      "[10]\tvalidation_0-auc:0.60931\tvalidation_1-auc:0.60056\n",
      "[11]\tvalidation_0-auc:0.60916\tvalidation_1-auc:0.60014\n",
      "[12]\tvalidation_0-auc:0.61183\tvalidation_1-auc:0.60263\n",
      "[13]\tvalidation_0-auc:0.61215\tvalidation_1-auc:0.60716\n",
      "[14]\tvalidation_0-auc:0.61375\tvalidation_1-auc:0.61079\n",
      "[15]\tvalidation_0-auc:0.61610\tvalidation_1-auc:0.61235\n",
      "[16]\tvalidation_0-auc:0.62094\tvalidation_1-auc:0.60753\n",
      "[17]\tvalidation_0-auc:0.62279\tvalidation_1-auc:0.61242\n",
      "[18]\tvalidation_0-auc:0.62438\tvalidation_1-auc:0.61108\n",
      "[19]\tvalidation_0-auc:0.62589\tvalidation_1-auc:0.61617\n",
      "[20]\tvalidation_0-auc:0.63075\tvalidation_1-auc:0.61440\n",
      "[21]\tvalidation_0-auc:0.63207\tvalidation_1-auc:0.61568\n",
      "[22]\tvalidation_0-auc:0.63367\tvalidation_1-auc:0.61468\n",
      "[23]\tvalidation_0-auc:0.63374\tvalidation_1-auc:0.61436\n",
      "[24]\tvalidation_0-auc:0.63351\tvalidation_1-auc:0.61635\n",
      "[25]\tvalidation_0-auc:0.63574\tvalidation_1-auc:0.62175\n",
      "[26]\tvalidation_0-auc:0.63706\tvalidation_1-auc:0.62231\n",
      "[27]\tvalidation_0-auc:0.63599\tvalidation_1-auc:0.62099\n",
      "[28]\tvalidation_0-auc:0.63639\tvalidation_1-auc:0.62354\n",
      "[29]\tvalidation_0-auc:0.63712\tvalidation_1-auc:0.62130\n",
      "[30]\tvalidation_0-auc:0.63684\tvalidation_1-auc:0.62272\n",
      "[31]\tvalidation_0-auc:0.63681\tvalidation_1-auc:0.62255\n",
      "[32]\tvalidation_0-auc:0.63680\tvalidation_1-auc:0.62742\n",
      "[33]\tvalidation_0-auc:0.63602\tvalidation_1-auc:0.62836\n",
      "[34]\tvalidation_0-auc:0.63506\tvalidation_1-auc:0.62838\n",
      "[35]\tvalidation_0-auc:0.63619\tvalidation_1-auc:0.62797\n",
      "[36]\tvalidation_0-auc:0.63646\tvalidation_1-auc:0.62644\n",
      "[37]\tvalidation_0-auc:0.63706\tvalidation_1-auc:0.62752\n",
      "[38]\tvalidation_0-auc:0.63580\tvalidation_1-auc:0.63102\n",
      "[39]\tvalidation_0-auc:0.63559\tvalidation_1-auc:0.63321\n",
      "[40]\tvalidation_0-auc:0.63485\tvalidation_1-auc:0.63189\n",
      "[41]\tvalidation_0-auc:0.63537\tvalidation_1-auc:0.63372\n",
      "[42]\tvalidation_0-auc:0.63527\tvalidation_1-auc:0.63682\n",
      "[43]\tvalidation_0-auc:0.63599\tvalidation_1-auc:0.63732\n",
      "[44]\tvalidation_0-auc:0.63619\tvalidation_1-auc:0.63778\n",
      "[45]\tvalidation_0-auc:0.63837\tvalidation_1-auc:0.64164\n",
      "[46]\tvalidation_0-auc:0.63810\tvalidation_1-auc:0.64336\n",
      "[47]\tvalidation_0-auc:0.63796\tvalidation_1-auc:0.64342\n",
      "[48]\tvalidation_0-auc:0.63836\tvalidation_1-auc:0.64354\n",
      "[49]\tvalidation_0-auc:0.63977\tvalidation_1-auc:0.64290\n",
      "[50]\tvalidation_0-auc:0.64045\tvalidation_1-auc:0.64249\n",
      "[51]\tvalidation_0-auc:0.63991\tvalidation_1-auc:0.64233\n",
      "[52]\tvalidation_0-auc:0.64160\tvalidation_1-auc:0.64514\n",
      "[53]\tvalidation_0-auc:0.64183\tvalidation_1-auc:0.64483\n",
      "[54]\tvalidation_0-auc:0.64170\tvalidation_1-auc:0.64401\n",
      "[55]\tvalidation_0-auc:0.64098\tvalidation_1-auc:0.64323\n",
      "[56]\tvalidation_0-auc:0.64093\tvalidation_1-auc:0.64313\n",
      "[57]\tvalidation_0-auc:0.64028\tvalidation_1-auc:0.64464\n",
      "[58]\tvalidation_0-auc:0.64023\tvalidation_1-auc:0.64362\n",
      "[59]\tvalidation_0-auc:0.63991\tvalidation_1-auc:0.64367\n",
      "[60]\tvalidation_0-auc:0.63910\tvalidation_1-auc:0.64199\n",
      "[61]\tvalidation_0-auc:0.63853\tvalidation_1-auc:0.64173\n",
      "[62]\tvalidation_0-auc:0.63814\tvalidation_1-auc:0.64138\n",
      "[63]\tvalidation_0-auc:0.63845\tvalidation_1-auc:0.64098\n",
      "[64]\tvalidation_0-auc:0.63800\tvalidation_1-auc:0.63927\n",
      "[65]\tvalidation_0-auc:0.63813\tvalidation_1-auc:0.63859\n",
      "[66]\tvalidation_0-auc:0.63797\tvalidation_1-auc:0.63867\n",
      "[67]\tvalidation_0-auc:0.63741\tvalidation_1-auc:0.63753\n",
      "[68]\tvalidation_0-auc:0.63907\tvalidation_1-auc:0.64196\n",
      "[69]\tvalidation_0-auc:0.63899\tvalidation_1-auc:0.64297\n",
      "[70]\tvalidation_0-auc:0.64014\tvalidation_1-auc:0.64322\n",
      "[71]\tvalidation_0-auc:0.64039\tvalidation_1-auc:0.64372\n",
      "[72]\tvalidation_0-auc:0.64068\tvalidation_1-auc:0.64454\n",
      "[73]\tvalidation_0-auc:0.64101\tvalidation_1-auc:0.64404\n",
      "[74]\tvalidation_0-auc:0.63978\tvalidation_1-auc:0.64465\n",
      "[75]\tvalidation_0-auc:0.63966\tvalidation_1-auc:0.64482\n",
      "[76]\tvalidation_0-auc:0.64044\tvalidation_1-auc:0.64527\n",
      "[77]\tvalidation_0-auc:0.64037\tvalidation_1-auc:0.64487\n",
      "[78]\tvalidation_0-auc:0.64040\tvalidation_1-auc:0.64572\n",
      "[79]\tvalidation_0-auc:0.64138\tvalidation_1-auc:0.64775\n",
      "[80]\tvalidation_0-auc:0.64192\tvalidation_1-auc:0.64733\n",
      "[81]\tvalidation_0-auc:0.64247\tvalidation_1-auc:0.64682\n",
      "[82]\tvalidation_0-auc:0.64218\tvalidation_1-auc:0.64728\n",
      "[83]\tvalidation_0-auc:0.64262\tvalidation_1-auc:0.64841\n",
      "[84]\tvalidation_0-auc:0.64473\tvalidation_1-auc:0.64857\n",
      "[85]\tvalidation_0-auc:0.64446\tvalidation_1-auc:0.64843\n",
      "[86]\tvalidation_0-auc:0.64407\tvalidation_1-auc:0.64882\n",
      "[87]\tvalidation_0-auc:0.64457\tvalidation_1-auc:0.65003\n",
      "[88]\tvalidation_0-auc:0.64481\tvalidation_1-auc:0.65067\n",
      "[89]\tvalidation_0-auc:0.64470\tvalidation_1-auc:0.65153\n",
      "[90]\tvalidation_0-auc:0.64508\tvalidation_1-auc:0.65286\n",
      "[91]\tvalidation_0-auc:0.64529\tvalidation_1-auc:0.65217\n",
      "[92]\tvalidation_0-auc:0.64506\tvalidation_1-auc:0.65050\n",
      "[93]\tvalidation_0-auc:0.64477\tvalidation_1-auc:0.65157\n",
      "[94]\tvalidation_0-auc:0.64505\tvalidation_1-auc:0.65072\n",
      "[95]\tvalidation_0-auc:0.64493\tvalidation_1-auc:0.65058\n",
      "[96]\tvalidation_0-auc:0.64567\tvalidation_1-auc:0.65224\n",
      "[97]\tvalidation_0-auc:0.64577\tvalidation_1-auc:0.65224\n",
      "[98]\tvalidation_0-auc:0.64493\tvalidation_1-auc:0.65352\n",
      "[99]\tvalidation_0-auc:0.64522\tvalidation_1-auc:0.65309\n",
      "[0.50104822 0.65833333]\n",
      "0.5903079907526381\n"
     ]
    },
    {
     "data": {
      "application/vnd.plotly.v1+json": {
       "config": {
        "plotlyServerURL": "https://plot.ly"
       },
       "data": [
        {
         "coloraxis": "coloraxis",
         "hovertemplate": "predicted: %{x}<br>actual: %{y}<br>color: %{z}<extra></extra>",
         "name": "0",
         "texttemplate": "%{z}",
         "type": "heatmap",
         "x": [
          "won",
          "not won"
         ],
         "xaxis": "x",
         "y": [
          "won",
          "not won"
         ],
         "yaxis": "y",
         "z": [
          [
           0.6602209944751382,
           0.3397790055248619
          ],
          [
           0.5010526315789474,
           0.49894736842105264
          ]
         ]
        }
       ],
       "layout": {
        "coloraxis": {
         "colorscale": [
          [
           0,
           "rgb(247,251,255)"
          ],
          [
           0.125,
           "rgb(222,235,247)"
          ],
          [
           0.25,
           "rgb(198,219,239)"
          ],
          [
           0.375,
           "rgb(158,202,225)"
          ],
          [
           0.5,
           "rgb(107,174,214)"
          ],
          [
           0.625,
           "rgb(66,146,198)"
          ],
          [
           0.75,
           "rgb(33,113,181)"
          ],
          [
           0.875,
           "rgb(8,81,156)"
          ],
          [
           1,
           "rgb(8,48,107)"
          ]
         ]
        },
        "margin": {
         "t": 60
        },
        "template": {
         "data": {
          "bar": [
           {
            "error_x": {
             "color": "#2a3f5f"
            },
            "error_y": {
             "color": "#2a3f5f"
            },
            "marker": {
             "line": {
              "color": "#E5ECF6",
              "width": 0.5
             },
             "pattern": {
              "fillmode": "overlay",
              "size": 10,
              "solidity": 0.2
             }
            },
            "type": "bar"
           }
          ],
          "barpolar": [
           {
            "marker": {
             "line": {
              "color": "#E5ECF6",
              "width": 0.5
             },
             "pattern": {
              "fillmode": "overlay",
              "size": 10,
              "solidity": 0.2
             }
            },
            "type": "barpolar"
           }
          ],
          "carpet": [
           {
            "aaxis": {
             "endlinecolor": "#2a3f5f",
             "gridcolor": "white",
             "linecolor": "white",
             "minorgridcolor": "white",
             "startlinecolor": "#2a3f5f"
            },
            "baxis": {
             "endlinecolor": "#2a3f5f",
             "gridcolor": "white",
             "linecolor": "white",
             "minorgridcolor": "white",
             "startlinecolor": "#2a3f5f"
            },
            "type": "carpet"
           }
          ],
          "choropleth": [
           {
            "colorbar": {
             "outlinewidth": 0,
             "ticks": ""
            },
            "type": "choropleth"
           }
          ],
          "contour": [
           {
            "colorbar": {
             "outlinewidth": 0,
             "ticks": ""
            },
            "colorscale": [
             [
              0,
              "#0d0887"
             ],
             [
              0.1111111111111111,
              "#46039f"
             ],
             [
              0.2222222222222222,
              "#7201a8"
             ],
             [
              0.3333333333333333,
              "#9c179e"
             ],
             [
              0.4444444444444444,
              "#bd3786"
             ],
             [
              0.5555555555555556,
              "#d8576b"
             ],
             [
              0.6666666666666666,
              "#ed7953"
             ],
             [
              0.7777777777777778,
              "#fb9f3a"
             ],
             [
              0.8888888888888888,
              "#fdca26"
             ],
             [
              1,
              "#f0f921"
             ]
            ],
            "type": "contour"
           }
          ],
          "contourcarpet": [
           {
            "colorbar": {
             "outlinewidth": 0,
             "ticks": ""
            },
            "type": "contourcarpet"
           }
          ],
          "heatmap": [
           {
            "colorbar": {
             "outlinewidth": 0,
             "ticks": ""
            },
            "colorscale": [
             [
              0,
              "#0d0887"
             ],
             [
              0.1111111111111111,
              "#46039f"
             ],
             [
              0.2222222222222222,
              "#7201a8"
             ],
             [
              0.3333333333333333,
              "#9c179e"
             ],
             [
              0.4444444444444444,
              "#bd3786"
             ],
             [
              0.5555555555555556,
              "#d8576b"
             ],
             [
              0.6666666666666666,
              "#ed7953"
             ],
             [
              0.7777777777777778,
              "#fb9f3a"
             ],
             [
              0.8888888888888888,
              "#fdca26"
             ],
             [
              1,
              "#f0f921"
             ]
            ],
            "type": "heatmap"
           }
          ],
          "heatmapgl": [
           {
            "colorbar": {
             "outlinewidth": 0,
             "ticks": ""
            },
            "colorscale": [
             [
              0,
              "#0d0887"
             ],
             [
              0.1111111111111111,
              "#46039f"
             ],
             [
              0.2222222222222222,
              "#7201a8"
             ],
             [
              0.3333333333333333,
              "#9c179e"
             ],
             [
              0.4444444444444444,
              "#bd3786"
             ],
             [
              0.5555555555555556,
              "#d8576b"
             ],
             [
              0.6666666666666666,
              "#ed7953"
             ],
             [
              0.7777777777777778,
              "#fb9f3a"
             ],
             [
              0.8888888888888888,
              "#fdca26"
             ],
             [
              1,
              "#f0f921"
             ]
            ],
            "type": "heatmapgl"
           }
          ],
          "histogram": [
           {
            "marker": {
             "pattern": {
              "fillmode": "overlay",
              "size": 10,
              "solidity": 0.2
             }
            },
            "type": "histogram"
           }
          ],
          "histogram2d": [
           {
            "colorbar": {
             "outlinewidth": 0,
             "ticks": ""
            },
            "colorscale": [
             [
              0,
              "#0d0887"
             ],
             [
              0.1111111111111111,
              "#46039f"
             ],
             [
              0.2222222222222222,
              "#7201a8"
             ],
             [
              0.3333333333333333,
              "#9c179e"
             ],
             [
              0.4444444444444444,
              "#bd3786"
             ],
             [
              0.5555555555555556,
              "#d8576b"
             ],
             [
              0.6666666666666666,
              "#ed7953"
             ],
             [
              0.7777777777777778,
              "#fb9f3a"
             ],
             [
              0.8888888888888888,
              "#fdca26"
             ],
             [
              1,
              "#f0f921"
             ]
            ],
            "type": "histogram2d"
           }
          ],
          "histogram2dcontour": [
           {
            "colorbar": {
             "outlinewidth": 0,
             "ticks": ""
            },
            "colorscale": [
             [
              0,
              "#0d0887"
             ],
             [
              0.1111111111111111,
              "#46039f"
             ],
             [
              0.2222222222222222,
              "#7201a8"
             ],
             [
              0.3333333333333333,
              "#9c179e"
             ],
             [
              0.4444444444444444,
              "#bd3786"
             ],
             [
              0.5555555555555556,
              "#d8576b"
             ],
             [
              0.6666666666666666,
              "#ed7953"
             ],
             [
              0.7777777777777778,
              "#fb9f3a"
             ],
             [
              0.8888888888888888,
              "#fdca26"
             ],
             [
              1,
              "#f0f921"
             ]
            ],
            "type": "histogram2dcontour"
           }
          ],
          "mesh3d": [
           {
            "colorbar": {
             "outlinewidth": 0,
             "ticks": ""
            },
            "type": "mesh3d"
           }
          ],
          "parcoords": [
           {
            "line": {
             "colorbar": {
              "outlinewidth": 0,
              "ticks": ""
             }
            },
            "type": "parcoords"
           }
          ],
          "pie": [
           {
            "automargin": true,
            "type": "pie"
           }
          ],
          "scatter": [
           {
            "fillpattern": {
             "fillmode": "overlay",
             "size": 10,
             "solidity": 0.2
            },
            "type": "scatter"
           }
          ],
          "scatter3d": [
           {
            "line": {
             "colorbar": {
              "outlinewidth": 0,
              "ticks": ""
             }
            },
            "marker": {
             "colorbar": {
              "outlinewidth": 0,
              "ticks": ""
             }
            },
            "type": "scatter3d"
           }
          ],
          "scattercarpet": [
           {
            "marker": {
             "colorbar": {
              "outlinewidth": 0,
              "ticks": ""
             }
            },
            "type": "scattercarpet"
           }
          ],
          "scattergeo": [
           {
            "marker": {
             "colorbar": {
              "outlinewidth": 0,
              "ticks": ""
             }
            },
            "type": "scattergeo"
           }
          ],
          "scattergl": [
           {
            "marker": {
             "colorbar": {
              "outlinewidth": 0,
              "ticks": ""
             }
            },
            "type": "scattergl"
           }
          ],
          "scattermapbox": [
           {
            "marker": {
             "colorbar": {
              "outlinewidth": 0,
              "ticks": ""
             }
            },
            "type": "scattermapbox"
           }
          ],
          "scatterpolar": [
           {
            "marker": {
             "colorbar": {
              "outlinewidth": 0,
              "ticks": ""
             }
            },
            "type": "scatterpolar"
           }
          ],
          "scatterpolargl": [
           {
            "marker": {
             "colorbar": {
              "outlinewidth": 0,
              "ticks": ""
             }
            },
            "type": "scatterpolargl"
           }
          ],
          "scatterternary": [
           {
            "marker": {
             "colorbar": {
              "outlinewidth": 0,
              "ticks": ""
             }
            },
            "type": "scatterternary"
           }
          ],
          "surface": [
           {
            "colorbar": {
             "outlinewidth": 0,
             "ticks": ""
            },
            "colorscale": [
             [
              0,
              "#0d0887"
             ],
             [
              0.1111111111111111,
              "#46039f"
             ],
             [
              0.2222222222222222,
              "#7201a8"
             ],
             [
              0.3333333333333333,
              "#9c179e"
             ],
             [
              0.4444444444444444,
              "#bd3786"
             ],
             [
              0.5555555555555556,
              "#d8576b"
             ],
             [
              0.6666666666666666,
              "#ed7953"
             ],
             [
              0.7777777777777778,
              "#fb9f3a"
             ],
             [
              0.8888888888888888,
              "#fdca26"
             ],
             [
              1,
              "#f0f921"
             ]
            ],
            "type": "surface"
           }
          ],
          "table": [
           {
            "cells": {
             "fill": {
              "color": "#EBF0F8"
             },
             "line": {
              "color": "white"
             }
            },
            "header": {
             "fill": {
              "color": "#C8D4E3"
             },
             "line": {
              "color": "white"
             }
            },
            "type": "table"
           }
          ]
         },
         "layout": {
          "annotationdefaults": {
           "arrowcolor": "#2a3f5f",
           "arrowhead": 0,
           "arrowwidth": 1
          },
          "autotypenumbers": "strict",
          "coloraxis": {
           "colorbar": {
            "outlinewidth": 0,
            "ticks": ""
           }
          },
          "colorscale": {
           "diverging": [
            [
             0,
             "#8e0152"
            ],
            [
             0.1,
             "#c51b7d"
            ],
            [
             0.2,
             "#de77ae"
            ],
            [
             0.3,
             "#f1b6da"
            ],
            [
             0.4,
             "#fde0ef"
            ],
            [
             0.5,
             "#f7f7f7"
            ],
            [
             0.6,
             "#e6f5d0"
            ],
            [
             0.7,
             "#b8e186"
            ],
            [
             0.8,
             "#7fbc41"
            ],
            [
             0.9,
             "#4d9221"
            ],
            [
             1,
             "#276419"
            ]
           ],
           "sequential": [
            [
             0,
             "#0d0887"
            ],
            [
             0.1111111111111111,
             "#46039f"
            ],
            [
             0.2222222222222222,
             "#7201a8"
            ],
            [
             0.3333333333333333,
             "#9c179e"
            ],
            [
             0.4444444444444444,
             "#bd3786"
            ],
            [
             0.5555555555555556,
             "#d8576b"
            ],
            [
             0.6666666666666666,
             "#ed7953"
            ],
            [
             0.7777777777777778,
             "#fb9f3a"
            ],
            [
             0.8888888888888888,
             "#fdca26"
            ],
            [
             1,
             "#f0f921"
            ]
           ],
           "sequentialminus": [
            [
             0,
             "#0d0887"
            ],
            [
             0.1111111111111111,
             "#46039f"
            ],
            [
             0.2222222222222222,
             "#7201a8"
            ],
            [
             0.3333333333333333,
             "#9c179e"
            ],
            [
             0.4444444444444444,
             "#bd3786"
            ],
            [
             0.5555555555555556,
             "#d8576b"
            ],
            [
             0.6666666666666666,
             "#ed7953"
            ],
            [
             0.7777777777777778,
             "#fb9f3a"
            ],
            [
             0.8888888888888888,
             "#fdca26"
            ],
            [
             1,
             "#f0f921"
            ]
           ]
          },
          "colorway": [
           "#636efa",
           "#EF553B",
           "#00cc96",
           "#ab63fa",
           "#FFA15A",
           "#19d3f3",
           "#FF6692",
           "#B6E880",
           "#FF97FF",
           "#FECB52"
          ],
          "font": {
           "color": "#2a3f5f"
          },
          "geo": {
           "bgcolor": "white",
           "lakecolor": "white",
           "landcolor": "#E5ECF6",
           "showlakes": true,
           "showland": true,
           "subunitcolor": "white"
          },
          "hoverlabel": {
           "align": "left"
          },
          "hovermode": "closest",
          "mapbox": {
           "style": "light"
          },
          "paper_bgcolor": "white",
          "plot_bgcolor": "#E5ECF6",
          "polar": {
           "angularaxis": {
            "gridcolor": "white",
            "linecolor": "white",
            "ticks": ""
           },
           "bgcolor": "#E5ECF6",
           "radialaxis": {
            "gridcolor": "white",
            "linecolor": "white",
            "ticks": ""
           }
          },
          "scene": {
           "xaxis": {
            "backgroundcolor": "#E5ECF6",
            "gridcolor": "white",
            "gridwidth": 2,
            "linecolor": "white",
            "showbackground": true,
            "ticks": "",
            "zerolinecolor": "white"
           },
           "yaxis": {
            "backgroundcolor": "#E5ECF6",
            "gridcolor": "white",
            "gridwidth": 2,
            "linecolor": "white",
            "showbackground": true,
            "ticks": "",
            "zerolinecolor": "white"
           },
           "zaxis": {
            "backgroundcolor": "#E5ECF6",
            "gridcolor": "white",
            "gridwidth": 2,
            "linecolor": "white",
            "showbackground": true,
            "ticks": "",
            "zerolinecolor": "white"
           }
          },
          "shapedefaults": {
           "line": {
            "color": "#2a3f5f"
           }
          },
          "ternary": {
           "aaxis": {
            "gridcolor": "white",
            "linecolor": "white",
            "ticks": ""
           },
           "baxis": {
            "gridcolor": "white",
            "linecolor": "white",
            "ticks": ""
           },
           "bgcolor": "#E5ECF6",
           "caxis": {
            "gridcolor": "white",
            "linecolor": "white",
            "ticks": ""
           }
          },
          "title": {
           "x": 0.05
          },
          "xaxis": {
           "automargin": true,
           "gridcolor": "white",
           "linecolor": "white",
           "ticks": "",
           "title": {
            "standoff": 15
           },
           "zerolinecolor": "white",
           "zerolinewidth": 2
          },
          "yaxis": {
           "automargin": true,
           "gridcolor": "white",
           "linecolor": "white",
           "ticks": "",
           "title": {
            "standoff": 15
           },
           "zerolinecolor": "white",
           "zerolinewidth": 2
          }
         }
        },
        "xaxis": {
         "anchor": "y",
         "constrain": "domain",
         "domain": [
          0,
          1
         ],
         "scaleanchor": "y",
         "title": {
          "text": "predicted"
         }
        },
        "yaxis": {
         "anchor": "x",
         "autorange": "reversed",
         "constrain": "domain",
         "domain": [
          0,
          1
         ],
         "title": {
          "text": "actual"
         }
        }
       }
      }
     },
     "metadata": {},
     "output_type": "display_data"
    }
   ],
   "source": [
    "import xgboost as xgb\n",
    "\n",
    "#XGBClassifier default parameters are not available without fitting the model\n",
    "XGB_model = xgb.XGBClassifier(verbosity = 0,\n",
    "                              objective='binary:logistic',\n",
    "                              booster='gbtree',\n",
    "                              eta = 0.01,\n",
    "                              eval_metric='auc',\n",
    "                              max_depth = 2,\n",
    "                              max_delta_step = 10,\n",
    "                              subsample = 0.1,\n",
    "                              reg_lambda = 1.1,\n",
    "                              reg_alpha = 0.6,\n",
    "                              tree_method = 'exact',\n",
    "                              scale_pos_weight = 0.76,\n",
    "                              )\n",
    "#XGB_model.get_params()\n",
    "combined, precision_weight, precision_raw, importances,XGB_model = make_xgb_predictions (XGB_model,df_rolling, predictors+new_cols)\n",
    "print(precision_raw)\n",
    "print(precision_weight)\n",
    "a = pd.crosstab(index=combined[\"actual\"], columns=combined[\"predicted\"])\n",
    "#Have to divide by the sum of each row to maintain consistancy with the random forrest confusion matrix plots. \n",
    "a = a.div(a.sum(axis=1), axis = 0)\n",
    "import plotly.express as px\n",
    "fig = px.imshow(a, color_continuous_scale='blues', text_auto=True, x = ['won', 'not won'], y = ['won','not won'])\n",
    "fig.show()"
   ]
  },
  {
   "cell_type": "code",
   "execution_count": 31,
   "metadata": {},
   "outputs": [
    {
     "data": {
      "text/html": [
       "<div>\n",
       "<style scoped>\n",
       "    .dataframe tbody tr th:only-of-type {\n",
       "        vertical-align: middle;\n",
       "    }\n",
       "\n",
       "    .dataframe tbody tr th {\n",
       "        vertical-align: top;\n",
       "    }\n",
       "\n",
       "    .dataframe thead th {\n",
       "        text-align: right;\n",
       "    }\n",
       "</style>\n",
       "<table border=\"1\" class=\"dataframe\">\n",
       "  <thead>\n",
       "    <tr style=\"text-align: right;\">\n",
       "      <th></th>\n",
       "      <th>actual</th>\n",
       "      <th>predicted</th>\n",
       "    </tr>\n",
       "  </thead>\n",
       "  <tbody>\n",
       "    <tr>\n",
       "      <th>2645</th>\n",
       "      <td>1</td>\n",
       "      <td>1</td>\n",
       "    </tr>\n",
       "    <tr>\n",
       "      <th>2680</th>\n",
       "      <td>1</td>\n",
       "      <td>1</td>\n",
       "    </tr>\n",
       "    <tr>\n",
       "      <th>2708</th>\n",
       "      <td>1</td>\n",
       "      <td>1</td>\n",
       "    </tr>\n",
       "    <tr>\n",
       "      <th>2748</th>\n",
       "      <td>1</td>\n",
       "      <td>1</td>\n",
       "    </tr>\n",
       "    <tr>\n",
       "      <th>2769</th>\n",
       "      <td>1</td>\n",
       "      <td>1</td>\n",
       "    </tr>\n",
       "    <tr>\n",
       "      <th>...</th>\n",
       "      <td>...</td>\n",
       "      <td>...</td>\n",
       "    </tr>\n",
       "    <tr>\n",
       "      <th>3462</th>\n",
       "      <td>0</td>\n",
       "      <td>0</td>\n",
       "    </tr>\n",
       "    <tr>\n",
       "      <th>2869</th>\n",
       "      <td>0</td>\n",
       "      <td>0</td>\n",
       "    </tr>\n",
       "    <tr>\n",
       "      <th>2942</th>\n",
       "      <td>0</td>\n",
       "      <td>0</td>\n",
       "    </tr>\n",
       "    <tr>\n",
       "      <th>3035</th>\n",
       "      <td>0</td>\n",
       "      <td>0</td>\n",
       "    </tr>\n",
       "    <tr>\n",
       "      <th>3074</th>\n",
       "      <td>0</td>\n",
       "      <td>0</td>\n",
       "    </tr>\n",
       "  </tbody>\n",
       "</table>\n",
       "<p>837 rows × 2 columns</p>\n",
       "</div>"
      ],
      "text/plain": [
       "      actual  predicted\n",
       "2645       1          1\n",
       "2680       1          1\n",
       "2708       1          1\n",
       "2748       1          1\n",
       "2769       1          1\n",
       "...      ...        ...\n",
       "3462       0          0\n",
       "2869       0          0\n",
       "2942       0          0\n",
       "3035       0          0\n",
       "3074       0          0\n",
       "\n",
       "[837 rows x 2 columns]"
      ]
     },
     "execution_count": 31,
     "metadata": {},
     "output_type": "execute_result"
    }
   ],
   "source": [
    "combined"
   ]
  },
  {
   "cell_type": "code",
   "execution_count": 32,
   "metadata": {},
   "outputs": [
    {
     "name": "stderr",
     "output_type": "stream",
     "text": [
      "Warning: Could not load \"C:\\ProgramData\\Anaconda3\\envs\\football_proj\\Library\\bin\\gvplugin_pango.dll\" - It was found, so perhaps one of its dependents was not.  Try ldd.\n"
     ]
    },
    {
     "data": {
      "image/svg+xml": [
       "<?xml version=\"1.0\" encoding=\"UTF-8\" standalone=\"no\"?>\n",
       "<!DOCTYPE svg PUBLIC \"-//W3C//DTD SVG 1.1//EN\"\n",
       " \"http://www.w3.org/Graphics/SVG/1.1/DTD/svg11.dtd\">\n",
       "<!-- Generated by graphviz version 6.0.2 (0)\n",
       " -->\n",
       "<!-- Pages: 1 -->\n",
       "<svg width=\"694pt\" height=\"222pt\"\n",
       " viewBox=\"0.00 0.00 694.31 221.60\" xmlns=\"http://www.w3.org/2000/svg\" xmlns:xlink=\"http://www.w3.org/1999/xlink\">\n",
       "<g id=\"graph0\" class=\"graph\" transform=\"scale(1 1) rotate(0) translate(4 217.6)\">\n",
       "<polygon fill=\"white\" stroke=\"none\" points=\"-4,4 -4,-217.6 690.31,-217.6 690.31,4 -4,4\"/>\n",
       "<!-- 0 -->\n",
       "<g id=\"node1\" class=\"node\">\n",
       "<title>0</title>\n",
       "<ellipse fill=\"none\" stroke=\"black\" cx=\"289\" cy=\"-195.6\" rx=\"125.24\" ry=\"18\"/>\n",
       "<text text-anchor=\"middle\" x=\"289\" y=\"-191.4\" font-family=\"Times New Roman,serif\" font-size=\"14.00\">gf_opp_rolling&lt;0.324999988</text>\n",
       "</g>\n",
       "<!-- 1 -->\n",
       "<g id=\"node2\" class=\"node\">\n",
       "<title>1</title>\n",
       "<ellipse fill=\"none\" stroke=\"black\" cx=\"187\" cy=\"-106.8\" rx=\"78.94\" ry=\"18\"/>\n",
       "<text text-anchor=\"middle\" x=\"187\" y=\"-102.6\" font-family=\"Times New Roman,serif\" font-size=\"14.00\">round_code&lt;52.5</text>\n",
       "</g>\n",
       "<!-- 0&#45;&gt;1 -->\n",
       "<g id=\"edge1\" class=\"edge\">\n",
       "<title>0&#45;&gt;1</title>\n",
       "<path fill=\"none\" stroke=\"#0000ff\" d=\"M268.85,-177.45C253.28,-164.2 231.57,-145.73 214.42,-131.14\"/>\n",
       "<polygon fill=\"#0000ff\" stroke=\"#0000ff\" points=\"216.3,-128.14 206.42,-124.32 211.76,-133.47 216.3,-128.14\"/>\n",
       "<text text-anchor=\"middle\" x=\"282.61\" y=\"-147\" font-family=\"Times New Roman,serif\" font-size=\"14.00\">yes, missing</text>\n",
       "</g>\n",
       "<!-- 2 -->\n",
       "<g id=\"node3\" class=\"node\">\n",
       "<title>2</title>\n",
       "<ellipse fill=\"none\" stroke=\"black\" cx=\"391\" cy=\"-106.8\" rx=\"105.61\" ry=\"18\"/>\n",
       "<text text-anchor=\"middle\" x=\"391\" y=\"-102.6\" font-family=\"Times New Roman,serif\" font-size=\"14.00\">gf_rolling&lt;0.410714269</text>\n",
       "</g>\n",
       "<!-- 0&#45;&gt;2 -->\n",
       "<g id=\"edge2\" class=\"edge\">\n",
       "<title>0&#45;&gt;2</title>\n",
       "<path fill=\"none\" stroke=\"#ff0000\" d=\"M309.15,-177.45C324.62,-164.29 346.15,-145.97 363.24,-131.42\"/>\n",
       "<polygon fill=\"#ff0000\" stroke=\"#ff0000\" points=\"365.89,-133.76 371.24,-124.62 361.35,-128.43 365.89,-133.76\"/>\n",
       "<text text-anchor=\"middle\" x=\"357\" y=\"-147\" font-family=\"Times New Roman,serif\" font-size=\"14.00\">no</text>\n",
       "</g>\n",
       "<!-- 3 -->\n",
       "<g id=\"node4\" class=\"node\">\n",
       "<title>3</title>\n",
       "<ellipse fill=\"none\" stroke=\"black\" cx=\"39\" cy=\"-18\" rx=\"39\" ry=\"18\"/>\n",
       "<text text-anchor=\"middle\" x=\"39\" y=\"-13.8\" font-family=\"Times New Roman,serif\" font-size=\"14.00\">leaf=&#45;0</text>\n",
       "</g>\n",
       "<!-- 1&#45;&gt;3 -->\n",
       "<g id=\"edge3\" class=\"edge\">\n",
       "<title>1&#45;&gt;3</title>\n",
       "<path fill=\"none\" stroke=\"#0000ff\" d=\"M152.14,-90.53C139.8,-84.76 125.96,-77.87 113.77,-70.8 97.6,-61.41 80.39,-49.63 66.56,-39.67\"/>\n",
       "<polygon fill=\"#0000ff\" stroke=\"#0000ff\" points=\"68.57,-36.8 58.43,-33.74 64.45,-42.46 68.57,-36.8\"/>\n",
       "<text text-anchor=\"middle\" x=\"148.61\" y=\"-58.2\" font-family=\"Times New Roman,serif\" font-size=\"14.00\">yes, missing</text>\n",
       "</g>\n",
       "<!-- 4 -->\n",
       "<g id=\"node5\" class=\"node\">\n",
       "<title>4</title>\n",
       "<ellipse fill=\"none\" stroke=\"black\" cx=\"187\" cy=\"-18\" rx=\"91.12\" ry=\"18\"/>\n",
       "<text text-anchor=\"middle\" x=\"187\" y=\"-13.8\" font-family=\"Times New Roman,serif\" font-size=\"14.00\">leaf=0.00777068082</text>\n",
       "</g>\n",
       "<!-- 1&#45;&gt;4 -->\n",
       "<g id=\"edge4\" class=\"edge\">\n",
       "<title>1&#45;&gt;4</title>\n",
       "<path fill=\"none\" stroke=\"#ff0000\" d=\"M187,-88.65C187,-76.52 187,-60.02 187,-46.12\"/>\n",
       "<polygon fill=\"#ff0000\" stroke=\"#ff0000\" points=\"190.5,-46.11 187,-36.11 183.5,-46.11 190.5,-46.11\"/>\n",
       "<text text-anchor=\"middle\" x=\"194\" y=\"-58.2\" font-family=\"Times New Roman,serif\" font-size=\"14.00\">no</text>\n",
       "</g>\n",
       "<!-- 5 -->\n",
       "<g id=\"node6\" class=\"node\">\n",
       "<title>5</title>\n",
       "<ellipse fill=\"none\" stroke=\"black\" cx=\"391\" cy=\"-18\" rx=\"94.55\" ry=\"18\"/>\n",
       "<text text-anchor=\"middle\" x=\"391\" y=\"-13.8\" font-family=\"Times New Roman,serif\" font-size=\"14.00\">leaf=&#45;0.00717399223</text>\n",
       "</g>\n",
       "<!-- 2&#45;&gt;5 -->\n",
       "<g id=\"edge5\" class=\"edge\">\n",
       "<title>2&#45;&gt;5</title>\n",
       "<path fill=\"none\" stroke=\"#0000ff\" d=\"M391,-88.65C391,-76.52 391,-60.02 391,-46.12\"/>\n",
       "<polygon fill=\"#0000ff\" stroke=\"#0000ff\" points=\"394.5,-46.11 391,-36.11 387.5,-46.11 394.5,-46.11\"/>\n",
       "<text text-anchor=\"middle\" x=\"425.61\" y=\"-58.2\" font-family=\"Times New Roman,serif\" font-size=\"14.00\">yes, missing</text>\n",
       "</g>\n",
       "<!-- 6 -->\n",
       "<g id=\"node7\" class=\"node\">\n",
       "<title>6</title>\n",
       "<ellipse fill=\"none\" stroke=\"black\" cx=\"595\" cy=\"-18\" rx=\"91.12\" ry=\"18\"/>\n",
       "<text text-anchor=\"middle\" x=\"595\" y=\"-13.8\" font-family=\"Times New Roman,serif\" font-size=\"14.00\">leaf=0.00513934204</text>\n",
       "</g>\n",
       "<!-- 2&#45;&gt;6 -->\n",
       "<g id=\"edge6\" class=\"edge\">\n",
       "<title>2&#45;&gt;6</title>\n",
       "<path fill=\"none\" stroke=\"#ff0000\" d=\"M428.42,-89.88C462.41,-75.41 512.68,-54.03 549.1,-38.53\"/>\n",
       "<polygon fill=\"#ff0000\" stroke=\"#ff0000\" points=\"550.67,-41.66 558.51,-34.53 547.93,-35.22 550.67,-41.66\"/>\n",
       "<text text-anchor=\"middle\" x=\"518\" y=\"-58.2\" font-family=\"Times New Roman,serif\" font-size=\"14.00\">no</text>\n",
       "</g>\n",
       "</g>\n",
       "</svg>\n"
      ],
      "text/plain": [
       "<graphviz.sources.Source at 0x2878ff48110>"
      ]
     },
     "execution_count": 32,
     "metadata": {},
     "output_type": "execute_result"
    }
   ],
   "source": []
  },
  {
   "cell_type": "code",
   "execution_count": 33,
   "metadata": {},
   "outputs": [],
   "source": [
    "#Available importance_types = ['weight', 'gain', 'cover', 'total_gain', 'total_cover']\n",
    "\n",
    "f = 'gain'\n",
    "# print(len(XGB_model.get_booster().get_score(importance_type= f)))\n",
    "# XGB_model.get_booster().get_score(importance_type= f)\n",
    "\n",
    "xgb_imp = pd.Series(XGB_model.get_booster().get_score(importance_type= f))\n",
    "xgb_imp = xgb_imp/len(predictors3)\n",
    "\n"
   ]
  },
  {
   "cell_type": "code",
   "execution_count": 34,
   "metadata": {},
   "outputs": [
    {
     "data": {
      "image/png": "[encoded data removed]",
      "text/plain": [
       "<Figure size 500x1000 with 1 Axes>"
      ]
     },
     "metadata": {},
     "output_type": "display_data"
    }
   ],
   "source": [
    "# Sort importances\n",
    "xgb_imp_sorted = xgb_imp.sort_values()\n",
    "# Draw a horizontal barplot of importances_sorted\n",
    "xgb_imp_sorted.plot(kind='barh', color='blue', figsize = (5,10), grid = True, xlabel = 'Feature Importances')\n",
    "plt.title('Feature Importance for XGB')\n",
    "plt.show()"
   ]
  },
  {
   "attachments": {},
   "cell_type": "markdown",
   "metadata": {},
   "source": [
    "Overall we have performance improvement\n",
    "\n",
    "We note that these Random Forrest and XGBoost are similar but not models not same ( Random forest uses bagging ensemble model while XGBoost uses boosting ensemble model), so it may differ sometimes in results. Now let me tell you why this happens.\n",
    "\n",
    "When the correlation between the variables are high, XGBoost will pick one feature and may use it while breaking down the tree further(if required) and it will ignore some/all the other remaining correlated features(because we will not be able to learn different aspects of the model by using these correlated feature because it is already highly correlated with the chosen feature).\n",
    "\n",
    "But in random forest , the tree is not built from specific features, rather there is random selection of features (by using row sampling and column sampling), and then the model in whole learn different correlations of different features. So you can see the procedure of two methods are different so you can expect them to behave little differently."
   ]
  },
  {
   "cell_type": "code",
   "execution_count": 35,
   "metadata": {},
   "outputs": [],
   "source": [
    "# Adding the best model to Pickle\n",
    "\n",
    "file = open('appData.pickle', 'wb')\n",
    "data = [combined, precision_weight, precision_raw, XGB_model, all_cols, df_rolling]\n",
    "# dump information to that file\n",
    "pickle.dump(data, file)\n",
    "file.close()"
   ]
  },
  {
   "cell_type": "code",
   "execution_count": 36,
   "metadata": {},
   "outputs": [
    {
     "data": {
      "text/plain": [
       "57"
      ]
     },
     "execution_count": 36,
     "metadata": {},
     "output_type": "execute_result"
    }
   ],
   "source": [
    "len(all_cols)"
   ]
  },
  {
   "cell_type": "code",
   "execution_count": 37,
   "metadata": {},
   "outputs": [],
   "source": [
    "\n",
    "graph = xgb.to_graphviz(XGB_model, num_trees=2)\n",
    "#st.graphviz_chart(g)\n",
    "#g = graph.render(view=False)\n"
   ]
  },
  {
   "cell_type": "code",
   "execution_count": 38,
   "metadata": {},
   "outputs": [],
   "source": [
    "from PIL import Image\n",
    "image = Image.open('Deploy1.png')\n",
    "#st.image(image, caption='XGBoost Tree')"
   ]
  },
  {
   "cell_type": "code",
   "execution_count": 39,
   "metadata": {},
   "outputs": [],
   "source": [
    "selected_team = 'Celtic' #input(\"Select Team \")\n",
    "selected_opponent = 'Ajax' # input(\"Select Op_Team \")\n",
    "v_code = 1 #input('v code 1 or 0')\n",
    "\n",
    "## Setting up the data to be fed into the model.\n",
    "tm_df = df_rolling[df_rolling['team'] == selected_team].tail(1) # get the last game row for the team. It has the latest rolling stats.\n",
    "tm_df = tm_df[predictors+new_cols]\n",
    "tm_df['opp_code'] = int(df_rolling[df_rolling['opponent']==selected_opponent]['opp_code'].head(1))\n",
    "tm_df['opponent'] = selected_opponent\n",
    "#tm_df['venue'] = selected_venue\n",
    "tm_df['venue_code'] = v_code"
   ]
  },
  {
   "cell_type": "code",
   "execution_count": 40,
   "metadata": {},
   "outputs": [
    {
     "data": {
      "text/plain": [
       "array([1])"
      ]
     },
     "execution_count": 40,
     "metadata": {},
     "output_type": "execute_result"
    }
   ],
   "source": [
    "prediction = XGB_model.predict(tm_df[predictors+new_cols])\n",
    "prediction\n",
    "# if prediction == 1:\n",
    "#     print(selected_team ,\"\"\" will **WIN** the match\"\"\")\n",
    "# else:\n",
    "#    print(selected_team ,\"\"\"  will **NOT WIN** the match\"\"\")\n"
   ]
  },
  {
   "cell_type": "code",
   "execution_count": 41,
   "metadata": {},
   "outputs": [
    {
     "ename": "KeyError",
     "evalue": "\"['sot%_rolling', 'pk_rolling', 'pkatt_rolling', 'sh_opp_rolling', 'sot_opp_rolling', 'sot%_opp_rolling', 'g/sh_opp_rolling', 'pk_opp_rolling', 'pkatt_opp_rolling', 'sota_rolling', 'saves_rolling', 'cs_rolling', 'pka_rolling', 'pksv_rolling', 'pkm_rolling', 'sota_opp_rolling', 'saves_opp_rolling', 'cs_opp_rolling', 'pka_opp_rolling', 'pksv_opp_rolling', 'pkm_opp_rolling', 'ast_rolling', 'ast_opp_rolling', 'crs_rolling', 'crs_opp_rolling', 'tklw_rolling', 'int_rolling', 'tklw_opp_rolling', 'int_opp_rolling', 'tkl+int_opp_rolling', 'poss_opp_rolling', 'crdy_rolling', 'crdr_rolling', '2crdy_rolling', 'fls_rolling', 'og_rolling', 'crdy_opp_rolling', 'crdr_opp_rolling', '2crdy_opp_rolling', 'fls_opp_rolling', 'og_opp_rolling'] not in index\"",
     "output_type": "error",
     "traceback": [
      "\u001b[1;31m---------------------------------------------------------------------------\u001b[0m",
      "\u001b[1;31mKeyError\u001b[0m                                  Traceback (most recent call last)",
      "Cell \u001b[1;32mIn[41], line 1\u001b[0m\n\u001b[1;32m----> 1\u001b[0m prediction \u001b[39m=\u001b[39m rf\u001b[39m.\u001b[39mpredict(tm_df[all_cols])\n\u001b[0;32m      2\u001b[0m prediction\n",
      "File \u001b[1;32mc:\\ProgramData\\Anaconda3\\envs\\football_proj\\Lib\\site-packages\\pandas\\core\\frame.py:3813\u001b[0m, in \u001b[0;36mDataFrame.__getitem__\u001b[1;34m(self, key)\u001b[0m\n\u001b[0;32m   3811\u001b[0m     \u001b[39mif\u001b[39;00m is_iterator(key):\n\u001b[0;32m   3812\u001b[0m         key \u001b[39m=\u001b[39m \u001b[39mlist\u001b[39m(key)\n\u001b[1;32m-> 3813\u001b[0m     indexer \u001b[39m=\u001b[39m \u001b[39mself\u001b[39;49m\u001b[39m.\u001b[39;49mcolumns\u001b[39m.\u001b[39;49m_get_indexer_strict(key, \u001b[39m\"\u001b[39;49m\u001b[39mcolumns\u001b[39;49m\u001b[39m\"\u001b[39;49m)[\u001b[39m1\u001b[39m]\n\u001b[0;32m   3815\u001b[0m \u001b[39m# take() does not accept boolean indexers\u001b[39;00m\n\u001b[0;32m   3816\u001b[0m \u001b[39mif\u001b[39;00m \u001b[39mgetattr\u001b[39m(indexer, \u001b[39m\"\u001b[39m\u001b[39mdtype\u001b[39m\u001b[39m\"\u001b[39m, \u001b[39mNone\u001b[39;00m) \u001b[39m==\u001b[39m \u001b[39mbool\u001b[39m:\n",
      "File \u001b[1;32mc:\\ProgramData\\Anaconda3\\envs\\football_proj\\Lib\\site-packages\\pandas\\core\\indexes\\base.py:6070\u001b[0m, in \u001b[0;36mIndex._get_indexer_strict\u001b[1;34m(self, key, axis_name)\u001b[0m\n\u001b[0;32m   6067\u001b[0m \u001b[39melse\u001b[39;00m:\n\u001b[0;32m   6068\u001b[0m     keyarr, indexer, new_indexer \u001b[39m=\u001b[39m \u001b[39mself\u001b[39m\u001b[39m.\u001b[39m_reindex_non_unique(keyarr)\n\u001b[1;32m-> 6070\u001b[0m \u001b[39mself\u001b[39;49m\u001b[39m.\u001b[39;49m_raise_if_missing(keyarr, indexer, axis_name)\n\u001b[0;32m   6072\u001b[0m keyarr \u001b[39m=\u001b[39m \u001b[39mself\u001b[39m\u001b[39m.\u001b[39mtake(indexer)\n\u001b[0;32m   6073\u001b[0m \u001b[39mif\u001b[39;00m \u001b[39misinstance\u001b[39m(key, Index):\n\u001b[0;32m   6074\u001b[0m     \u001b[39m# GH 42790 - Preserve name from an Index\u001b[39;00m\n",
      "File \u001b[1;32mc:\\ProgramData\\Anaconda3\\envs\\football_proj\\Lib\\site-packages\\pandas\\core\\indexes\\base.py:6133\u001b[0m, in \u001b[0;36mIndex._raise_if_missing\u001b[1;34m(self, key, indexer, axis_name)\u001b[0m\n\u001b[0;32m   6130\u001b[0m     \u001b[39mraise\u001b[39;00m \u001b[39mKeyError\u001b[39;00m(\u001b[39mf\u001b[39m\u001b[39m\"\u001b[39m\u001b[39mNone of [\u001b[39m\u001b[39m{\u001b[39;00mkey\u001b[39m}\u001b[39;00m\u001b[39m] are in the [\u001b[39m\u001b[39m{\u001b[39;00maxis_name\u001b[39m}\u001b[39;00m\u001b[39m]\u001b[39m\u001b[39m\"\u001b[39m)\n\u001b[0;32m   6132\u001b[0m not_found \u001b[39m=\u001b[39m \u001b[39mlist\u001b[39m(ensure_index(key)[missing_mask\u001b[39m.\u001b[39mnonzero()[\u001b[39m0\u001b[39m]]\u001b[39m.\u001b[39munique())\n\u001b[1;32m-> 6133\u001b[0m \u001b[39mraise\u001b[39;00m \u001b[39mKeyError\u001b[39;00m(\u001b[39mf\u001b[39m\u001b[39m\"\u001b[39m\u001b[39m{\u001b[39;00mnot_found\u001b[39m}\u001b[39;00m\u001b[39m not in index\u001b[39m\u001b[39m\"\u001b[39m)\n",
      "\u001b[1;31mKeyError\u001b[0m: \"['sot%_rolling', 'pk_rolling', 'pkatt_rolling', 'sh_opp_rolling', 'sot_opp_rolling', 'sot%_opp_rolling', 'g/sh_opp_rolling', 'pk_opp_rolling', 'pkatt_opp_rolling', 'sota_rolling', 'saves_rolling', 'cs_rolling', 'pka_rolling', 'pksv_rolling', 'pkm_rolling', 'sota_opp_rolling', 'saves_opp_rolling', 'cs_opp_rolling', 'pka_opp_rolling', 'pksv_opp_rolling', 'pkm_opp_rolling', 'ast_rolling', 'ast_opp_rolling', 'crs_rolling', 'crs_opp_rolling', 'tklw_rolling', 'int_rolling', 'tklw_opp_rolling', 'int_opp_rolling', 'tkl+int_opp_rolling', 'poss_opp_rolling', 'crdy_rolling', 'crdr_rolling', '2crdy_rolling', 'fls_rolling', 'og_rolling', 'crdy_opp_rolling', 'crdr_opp_rolling', '2crdy_opp_rolling', 'fls_opp_rolling', 'og_opp_rolling'] not in index\""
     ]
    }
   ],
   "source": [
    "prediction = rf.predict(tm_df[all_cols])\n",
    "prediction"
   ]
  },
  {
   "cell_type": "code",
   "execution_count": null,
   "metadata": {},
   "outputs": [
    {
     "data": {
      "text/html": [
       "<div>\n",
       "<style scoped>\n",
       "    .dataframe tbody tr th:only-of-type {\n",
       "        vertical-align: middle;\n",
       "    }\n",
       "\n",
       "    .dataframe tbody tr th {\n",
       "        vertical-align: top;\n",
       "    }\n",
       "\n",
       "    .dataframe thead th {\n",
       "        text-align: right;\n",
       "    }\n",
       "</style>\n",
       "<table border=\"1\" class=\"dataframe\">\n",
       "  <thead>\n",
       "    <tr style=\"text-align: right;\">\n",
       "      <th></th>\n",
       "      <th>venue_code</th>\n",
       "      <th>opp_code</th>\n",
       "      <th>hour</th>\n",
       "      <th>day_code</th>\n",
       "      <th>round_code</th>\n",
       "      <th>comp_code</th>\n",
       "      <th>gls_rolling</th>\n",
       "      <th>gls_opp_rolling</th>\n",
       "      <th>gf_rolling</th>\n",
       "      <th>gf_opp_rolling</th>\n",
       "      <th>sh_rolling</th>\n",
       "      <th>sot_rolling</th>\n",
       "      <th>g/sh_rolling</th>\n",
       "      <th>save%_opp_rolling</th>\n",
       "      <th>tkl+int_rolling</th>\n",
       "      <th>poss_x_rolling</th>\n",
       "      <th>opponent</th>\n",
       "    </tr>\n",
       "  </thead>\n",
       "  <tbody>\n",
       "    <tr>\n",
       "      <th>3706</th>\n",
       "      <td>1</td>\n",
       "      <td>14</td>\n",
       "      <td>12</td>\n",
       "      <td>6</td>\n",
       "      <td>57</td>\n",
       "      <td>20</td>\n",
       "      <td>0.535714</td>\n",
       "      <td>0.05</td>\n",
       "      <td>0.533333</td>\n",
       "      <td>0.05</td>\n",
       "      <td>0.534653</td>\n",
       "      <td>0.389831</td>\n",
       "      <td>0.6</td>\n",
       "      <td>0.342147</td>\n",
       "      <td>0.0</td>\n",
       "      <td>0.979253</td>\n",
       "      <td>Ajax</td>\n",
       "    </tr>\n",
       "  </tbody>\n",
       "</table>\n",
       "</div>"
      ],
      "text/plain": [
       "      venue_code  opp_code  hour  day_code  round_code  comp_code  \\\n",
       "3706           1        14    12         6          57         20   \n",
       "\n",
       "      gls_rolling  gls_opp_rolling  gf_rolling  gf_opp_rolling  sh_rolling  \\\n",
       "3706     0.535714             0.05    0.533333            0.05    0.534653   \n",
       "\n",
       "      sot_rolling  g/sh_rolling  save%_opp_rolling  tkl+int_rolling  \\\n",
       "3706     0.389831           0.6           0.342147              0.0   \n",
       "\n",
       "      poss_x_rolling opponent  \n",
       "3706        0.979253     Ajax  "
      ]
     },
     "execution_count": 86,
     "metadata": {},
     "output_type": "execute_result"
    }
   ],
   "source": [
    "tm_df"
   ]
  },
  {
   "cell_type": "code",
   "execution_count": null,
   "metadata": {},
   "outputs": [
    {
     "data": {
      "text/html": [
       "<div>\n",
       "<style scoped>\n",
       "    .dataframe tbody tr th:only-of-type {\n",
       "        vertical-align: middle;\n",
       "    }\n",
       "\n",
       "    .dataframe tbody tr th {\n",
       "        vertical-align: top;\n",
       "    }\n",
       "\n",
       "    .dataframe thead th {\n",
       "        text-align: right;\n",
       "    }\n",
       "</style>\n",
       "<table border=\"1\" class=\"dataframe\">\n",
       "  <thead>\n",
       "    <tr style=\"text-align: right;\">\n",
       "      <th></th>\n",
       "      <th>date</th>\n",
       "      <th>time</th>\n",
       "      <th>comp</th>\n",
       "      <th>round</th>\n",
       "      <th>day</th>\n",
       "      <th>venue</th>\n",
       "      <th>result</th>\n",
       "      <th>gf</th>\n",
       "      <th>opponent</th>\n",
       "      <th>gls</th>\n",
       "      <th>...</th>\n",
       "      <th>crdr_rolling</th>\n",
       "      <th>2crdy_rolling</th>\n",
       "      <th>fls_rolling</th>\n",
       "      <th>og_rolling</th>\n",
       "      <th>crdy_opp_rolling</th>\n",
       "      <th>crdr_opp_rolling</th>\n",
       "      <th>2crdy_opp_rolling</th>\n",
       "      <th>fls_opp_rolling</th>\n",
       "      <th>og_opp_rolling</th>\n",
       "      <th>fls_rolling+sot%_rolling</th>\n",
       "    </tr>\n",
       "  </thead>\n",
       "  <tbody>\n",
       "    <tr>\n",
       "      <th>193</th>\n",
       "      <td>2020-10-21</td>\n",
       "      <td>21:00</td>\n",
       "      <td>Champions Lg</td>\n",
       "      <td>Group stage</td>\n",
       "      <td>Wed</td>\n",
       "      <td>Home</td>\n",
       "      <td>L</td>\n",
       "      <td>0</td>\n",
       "      <td>Liverpool</td>\n",
       "      <td>0.0</td>\n",
       "      <td>...</td>\n",
       "      <td>0.50</td>\n",
       "      <td>0.0</td>\n",
       "      <td>0.351351</td>\n",
       "      <td>0.000000</td>\n",
       "      <td>0.269231</td>\n",
       "      <td>0.2</td>\n",
       "      <td>0.0</td>\n",
       "      <td>0.421053</td>\n",
       "      <td>0.0</td>\n",
       "      <td>39.12</td>\n",
       "    </tr>\n",
       "    <tr>\n",
       "      <th>222</th>\n",
       "      <td>2020-10-24</td>\n",
       "      <td>16:30</td>\n",
       "      <td>Eredivisie</td>\n",
       "      <td>Regular season</td>\n",
       "      <td>Sat</td>\n",
       "      <td>Away</td>\n",
       "      <td>W</td>\n",
       "      <td>13</td>\n",
       "      <td>VVV-Venlo</td>\n",
       "      <td>13.0</td>\n",
       "      <td>...</td>\n",
       "      <td>0.25</td>\n",
       "      <td>0.0</td>\n",
       "      <td>0.310811</td>\n",
       "      <td>0.333333</td>\n",
       "      <td>0.269231</td>\n",
       "      <td>0.2</td>\n",
       "      <td>0.0</td>\n",
       "      <td>0.368421</td>\n",
       "      <td>0.0</td>\n",
       "      <td>36.30</td>\n",
       "    </tr>\n",
       "    <tr>\n",
       "      <th>241</th>\n",
       "      <td>2020-10-27</td>\n",
       "      <td>21:00</td>\n",
       "      <td>Champions Lg</td>\n",
       "      <td>Group stage</td>\n",
       "      <td>Tue</td>\n",
       "      <td>Away</td>\n",
       "      <td>D</td>\n",
       "      <td>2</td>\n",
       "      <td>Atalanta</td>\n",
       "      <td>2.0</td>\n",
       "      <td>...</td>\n",
       "      <td>0.25</td>\n",
       "      <td>0.0</td>\n",
       "      <td>0.324324</td>\n",
       "      <td>0.333333</td>\n",
       "      <td>0.307692</td>\n",
       "      <td>0.2</td>\n",
       "      <td>0.0</td>\n",
       "      <td>0.447368</td>\n",
       "      <td>0.0</td>\n",
       "      <td>37.80</td>\n",
       "    </tr>\n",
       "    <tr>\n",
       "      <th>266</th>\n",
       "      <td>2020-10-31</td>\n",
       "      <td>20:00</td>\n",
       "      <td>Eredivisie</td>\n",
       "      <td>Regular season</td>\n",
       "      <td>Sat</td>\n",
       "      <td>Home</td>\n",
       "      <td>W</td>\n",
       "      <td>5</td>\n",
       "      <td>Fortuna Sittard</td>\n",
       "      <td>5.0</td>\n",
       "      <td>...</td>\n",
       "      <td>0.00</td>\n",
       "      <td>0.0</td>\n",
       "      <td>0.364865</td>\n",
       "      <td>0.333333</td>\n",
       "      <td>0.269231</td>\n",
       "      <td>0.2</td>\n",
       "      <td>0.0</td>\n",
       "      <td>0.407895</td>\n",
       "      <td>0.0</td>\n",
       "      <td>43.96</td>\n",
       "    </tr>\n",
       "    <tr>\n",
       "      <th>291</th>\n",
       "      <td>2020-11-03</td>\n",
       "      <td>21:00</td>\n",
       "      <td>Champions Lg</td>\n",
       "      <td>Group stage</td>\n",
       "      <td>Tue</td>\n",
       "      <td>Away</td>\n",
       "      <td>W</td>\n",
       "      <td>2</td>\n",
       "      <td>Midtjylland</td>\n",
       "      <td>2.0</td>\n",
       "      <td>...</td>\n",
       "      <td>0.00</td>\n",
       "      <td>0.0</td>\n",
       "      <td>0.405405</td>\n",
       "      <td>0.333333</td>\n",
       "      <td>0.307692</td>\n",
       "      <td>0.2</td>\n",
       "      <td>0.0</td>\n",
       "      <td>0.421053</td>\n",
       "      <td>0.0</td>\n",
       "      <td>47.52</td>\n",
       "    </tr>\n",
       "    <tr>\n",
       "      <th>...</th>\n",
       "      <td>...</td>\n",
       "      <td>...</td>\n",
       "      <td>...</td>\n",
       "      <td>...</td>\n",
       "      <td>...</td>\n",
       "      <td>...</td>\n",
       "      <td>...</td>\n",
       "      <td>...</td>\n",
       "      <td>...</td>\n",
       "      <td>...</td>\n",
       "      <td>...</td>\n",
       "      <td>...</td>\n",
       "      <td>...</td>\n",
       "      <td>...</td>\n",
       "      <td>...</td>\n",
       "      <td>...</td>\n",
       "      <td>...</td>\n",
       "      <td>...</td>\n",
       "      <td>...</td>\n",
       "      <td>...</td>\n",
       "      <td>...</td>\n",
       "    </tr>\n",
       "    <tr>\n",
       "      <th>2582</th>\n",
       "      <td>2022-04-25</td>\n",
       "      <td>19:00</td>\n",
       "      <td>Premier League</td>\n",
       "      <td>Matchweek 26</td>\n",
       "      <td>Mon</td>\n",
       "      <td>Away</td>\n",
       "      <td>W</td>\n",
       "      <td>3</td>\n",
       "      <td>Krasnodar</td>\n",
       "      <td>3.0</td>\n",
       "      <td>...</td>\n",
       "      <td>0.25</td>\n",
       "      <td>0.5</td>\n",
       "      <td>0.297297</td>\n",
       "      <td>0.000000</td>\n",
       "      <td>0.653846</td>\n",
       "      <td>0.0</td>\n",
       "      <td>0.0</td>\n",
       "      <td>0.565789</td>\n",
       "      <td>0.0</td>\n",
       "      <td>45.62</td>\n",
       "    </tr>\n",
       "    <tr>\n",
       "      <th>2599</th>\n",
       "      <td>2022-04-30</td>\n",
       "      <td>19:30</td>\n",
       "      <td>Premier League</td>\n",
       "      <td>Matchweek 27</td>\n",
       "      <td>Sat</td>\n",
       "      <td>Home</td>\n",
       "      <td>W</td>\n",
       "      <td>3</td>\n",
       "      <td>Loko Moscow</td>\n",
       "      <td>3.0</td>\n",
       "      <td>...</td>\n",
       "      <td>0.00</td>\n",
       "      <td>0.0</td>\n",
       "      <td>0.216216</td>\n",
       "      <td>0.000000</td>\n",
       "      <td>0.615385</td>\n",
       "      <td>0.0</td>\n",
       "      <td>0.0</td>\n",
       "      <td>0.500000</td>\n",
       "      <td>0.0</td>\n",
       "      <td>46.04</td>\n",
       "    </tr>\n",
       "    <tr>\n",
       "      <th>2641</th>\n",
       "      <td>2022-05-07</td>\n",
       "      <td>16:30</td>\n",
       "      <td>Premier League</td>\n",
       "      <td>Matchweek 28</td>\n",
       "      <td>Sat</td>\n",
       "      <td>Home</td>\n",
       "      <td>W</td>\n",
       "      <td>1</td>\n",
       "      <td>FC Khimki</td>\n",
       "      <td>1.0</td>\n",
       "      <td>...</td>\n",
       "      <td>0.00</td>\n",
       "      <td>0.0</td>\n",
       "      <td>0.148649</td>\n",
       "      <td>0.000000</td>\n",
       "      <td>0.576923</td>\n",
       "      <td>0.0</td>\n",
       "      <td>0.0</td>\n",
       "      <td>0.447368</td>\n",
       "      <td>0.0</td>\n",
       "      <td>46.86</td>\n",
       "    </tr>\n",
       "    <tr>\n",
       "      <th>2691</th>\n",
       "      <td>2022-05-15</td>\n",
       "      <td>16:30</td>\n",
       "      <td>Premier League</td>\n",
       "      <td>Matchweek 29</td>\n",
       "      <td>Sun</td>\n",
       "      <td>Away</td>\n",
       "      <td>D</td>\n",
       "      <td>1</td>\n",
       "      <td>Spartak Moscow</td>\n",
       "      <td>1.0</td>\n",
       "      <td>...</td>\n",
       "      <td>0.00</td>\n",
       "      <td>0.0</td>\n",
       "      <td>0.324324</td>\n",
       "      <td>0.000000</td>\n",
       "      <td>0.500000</td>\n",
       "      <td>0.0</td>\n",
       "      <td>0.0</td>\n",
       "      <td>0.381579</td>\n",
       "      <td>0.0</td>\n",
       "      <td>56.96</td>\n",
       "    </tr>\n",
       "    <tr>\n",
       "      <th>2699</th>\n",
       "      <td>2022-05-21</td>\n",
       "      <td>17:00</td>\n",
       "      <td>Premier League</td>\n",
       "      <td>Matchweek 30</td>\n",
       "      <td>Sat</td>\n",
       "      <td>Away</td>\n",
       "      <td>L</td>\n",
       "      <td>0</td>\n",
       "      <td>Nizhny Novgorod</td>\n",
       "      <td>0.0</td>\n",
       "      <td>...</td>\n",
       "      <td>0.00</td>\n",
       "      <td>0.0</td>\n",
       "      <td>0.148649</td>\n",
       "      <td>0.000000</td>\n",
       "      <td>0.461538</td>\n",
       "      <td>0.0</td>\n",
       "      <td>0.0</td>\n",
       "      <td>0.302632</td>\n",
       "      <td>0.0</td>\n",
       "      <td>45.22</td>\n",
       "    </tr>\n",
       "  </tbody>\n",
       "</table>\n",
       "<p>3435 rows × 120 columns</p>\n",
       "</div>"
      ],
      "text/plain": [
       "           date   time            comp           round  day venue result  gf  \\\n",
       "193  2020-10-21  21:00    Champions Lg     Group stage  Wed  Home      L   0   \n",
       "222  2020-10-24  16:30      Eredivisie  Regular season  Sat  Away      W  13   \n",
       "241  2020-10-27  21:00    Champions Lg     Group stage  Tue  Away      D   2   \n",
       "266  2020-10-31  20:00      Eredivisie  Regular season  Sat  Home      W   5   \n",
       "291  2020-11-03  21:00    Champions Lg     Group stage  Tue  Away      W   2   \n",
       "...         ...    ...             ...             ...  ...   ...    ...  ..   \n",
       "2582 2022-04-25  19:00  Premier League    Matchweek 26  Mon  Away      W   3   \n",
       "2599 2022-04-30  19:30  Premier League    Matchweek 27  Sat  Home      W   3   \n",
       "2641 2022-05-07  16:30  Premier League    Matchweek 28  Sat  Home      W   1   \n",
       "2691 2022-05-15  16:30  Premier League    Matchweek 29  Sun  Away      D   1   \n",
       "2699 2022-05-21  17:00  Premier League    Matchweek 30  Sat  Away      L   0   \n",
       "\n",
       "             opponent   gls  ...  crdr_rolling  2crdy_rolling  fls_rolling  \\\n",
       "193         Liverpool   0.0  ...          0.50            0.0     0.351351   \n",
       "222         VVV-Venlo  13.0  ...          0.25            0.0     0.310811   \n",
       "241          Atalanta   2.0  ...          0.25            0.0     0.324324   \n",
       "266   Fortuna Sittard   5.0  ...          0.00            0.0     0.364865   \n",
       "291       Midtjylland   2.0  ...          0.00            0.0     0.405405   \n",
       "...               ...   ...  ...           ...            ...          ...   \n",
       "2582        Krasnodar   3.0  ...          0.25            0.5     0.297297   \n",
       "2599      Loko Moscow   3.0  ...          0.00            0.0     0.216216   \n",
       "2641        FC Khimki   1.0  ...          0.00            0.0     0.148649   \n",
       "2691   Spartak Moscow   1.0  ...          0.00            0.0     0.324324   \n",
       "2699  Nizhny Novgorod   0.0  ...          0.00            0.0     0.148649   \n",
       "\n",
       "      og_rolling  crdy_opp_rolling  crdr_opp_rolling 2crdy_opp_rolling  \\\n",
       "193     0.000000          0.269231               0.2               0.0   \n",
       "222     0.333333          0.269231               0.2               0.0   \n",
       "241     0.333333          0.307692               0.2               0.0   \n",
       "266     0.333333          0.269231               0.2               0.0   \n",
       "291     0.333333          0.307692               0.2               0.0   \n",
       "...          ...               ...               ...               ...   \n",
       "2582    0.000000          0.653846               0.0               0.0   \n",
       "2599    0.000000          0.615385               0.0               0.0   \n",
       "2641    0.000000          0.576923               0.0               0.0   \n",
       "2691    0.000000          0.500000               0.0               0.0   \n",
       "2699    0.000000          0.461538               0.0               0.0   \n",
       "\n",
       "      fls_opp_rolling  og_opp_rolling  fls_rolling+sot%_rolling  \n",
       "193          0.421053             0.0                     39.12  \n",
       "222          0.368421             0.0                     36.30  \n",
       "241          0.447368             0.0                     37.80  \n",
       "266          0.407895             0.0                     43.96  \n",
       "291          0.421053             0.0                     47.52  \n",
       "...               ...             ...                       ...  \n",
       "2582         0.565789             0.0                     45.62  \n",
       "2599         0.500000             0.0                     46.04  \n",
       "2641         0.447368             0.0                     46.86  \n",
       "2691         0.381579             0.0                     56.96  \n",
       "2699         0.302632             0.0                     45.22  \n",
       "\n",
       "[3435 rows x 120 columns]"
      ]
     },
     "execution_count": 53,
     "metadata": {},
     "output_type": "execute_result"
    }
   ],
   "source": [
    "df_rolling"
   ]
  }
 ],
 "metadata": {
  "kernelspec": {
   "display_name": "football_proj",
   "language": "python",
   "name": "python3"
  },
  "language_info": {
   "codemirror_mode": {
    "name": "ipython",
    "version": 3
   },
   "file_extension": ".py",
   "mimetype": "text/x-python",
   "name": "python",
   "nbconvert_exporter": "python",
   "pygments_lexer": "ipython3",
   "version": "3.11.0"
  },
  "orig_nbformat": 4
 },
 "nbformat": 4,
 "nbformat_minor": 2
}
